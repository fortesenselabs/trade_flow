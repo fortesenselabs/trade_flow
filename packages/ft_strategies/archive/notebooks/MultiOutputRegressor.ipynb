{
 "cells": [
  {
   "cell_type": "code",
   "execution_count": 69,
   "id": "2c8107c6",
   "metadata": {},
   "outputs": [],
   "source": [
    "from sklearn.pipeline import Pipeline\n",
    "import numpy as np\n",
    "import pandas as pd\n",
    "from sklearn.multioutput import MultiOutputRegressor\n",
    "from sklearn.linear_model import LinearRegression\n",
    "from sklearn.datasets import make_regression\n",
    "from sklearn.ensemble import RandomForestRegressor, HistGradientBoostingRegressor\n",
    "from sklearn.feature_selection import RFE\n",
    "from catboost import CatBoostRegressor"
   ]
  },
  {
   "cell_type": "code",
   "execution_count": 48,
   "id": "7842677c",
   "metadata": {},
   "outputs": [],
   "source": [
    "X, y = make_regression(n_samples=3000, n_features=1000, n_targets=3, n_informative=250)"
   ]
  },
  {
   "cell_type": "code",
   "execution_count": 81,
   "id": "f43f2646",
   "metadata": {},
   "outputs": [
    {
     "data": {
      "text/plain": [
       "array([-1.38663094, -1.39473964, -1.11871211, ..., -0.17257963,\n",
       "       -1.6368848 ,  0.52534067])"
      ]
     },
     "execution_count": 81,
     "metadata": {},
     "output_type": "execute_result"
    }
   ],
   "source": [
    "X[:, :1].flatten()"
   ]
  },
  {
   "cell_type": "code",
   "execution_count": 82,
   "id": "4ac0de60",
   "metadata": {},
   "outputs": [],
   "source": [
    "# Latest\n",
    "\n",
    "\"\"\"fs_est = CatBoostRegressor(n_estimators=500, verbose=0,\n",
    "                           early_stopping_rounds=20, loss_function=\"RMSE\",\n",
    "                           allow_writing_files=False)\"\"\"\n",
    "fs_est = LinearRegression(n_jobs=-1)\n",
    "fs = RFE(fs_est, n_features_to_select=500, step=0.2, verbose=1)\n",
    "estimator = HistGradientBoostingRegressor(early_stopping=True, validation_fraction=0.1, verbose=1)\n",
    "\n",
    "pipe = Pipeline([\n",
    "    (\"feature_selection\", fs),\n",
    "    (\"estimator\", estimator),\n",
    "])\n",
    "\n",
    "eval_set = (X[:400], y[:400])\n",
    "fit_params = {\"estimator__sample_weight\": X[:, :1].flatten()}\n",
    "\n",
    "mo_estimator = MultiOutputRegressor(pipe, n_jobs=-1)"
   ]
  },
  {
   "cell_type": "code",
   "execution_count": 83,
   "id": "9173487e",
   "metadata": {},
   "outputs": [
    {
     "name": "stdout",
     "output_type": "stream",
     "text": [
      "Fitting estimator with 1000 features.\n",
      "Fitting estimator with 800 features.\n",
      "Fitting estimator with 600 features.\n",
      "Binning 0.011 GB of training data: Fitting estimator with 1000 features.\n",
      "Fitting estimator with 800 features.\n",
      "Fitting estimator with 600 features.\n",
      "Binning 0.011 GB of training data: Fitting estimator with 1000 features.\n",
      "Fitting estimator with 800 features.\n",
      "Fitting estimator with 600 features.\n",
      "Binning 0.011 GB of training data: 0.229 s\n",
      "Binning 0.001 GB of validation data: 0.003 s\n",
      "Fitting gradient boosted rounds:\n",
      "[1/100] 1 tree, 16 leaves, max depth = 13, train loss: -4786220332.37802, val loss: 9016006126511.31445, in 0.017s\n",
      "[2/100] 0.227 s\n",
      "Binning 0.001 GB of validation data: 0.227 s\n",
      "Binning 0.001 GB of validation data: 0.003 s\n",
      "Fitting gradient boosted rounds:\n",
      "[1/100] 0.003 s\n",
      "Fitting gradient boosted rounds:\n",
      "[1/100] 1 tree, 22 leaves, max depth = 16, train loss: -25625259512048096.00000, val loss: 27288120574440579072.00000, in 0.018s\n",
      "[3/100] 1 tree, 15 leaves, max depth = 12, train loss: -7715911128.34407, val loss: 167480654525400.62500, in 0.014s\n",
      "[2/100] 1 tree, 18 leaves, max depth = 13, train loss: -231045171437767267188736.00000, val loss: 510807085403243286257205248.00000, in 0.017s\n",
      "[4/100] 1 tree, 20 leaves, max depth = 19, train loss: -1550238923.92965, val loss: -1956987413657.38721, in 0.021s\n",
      "[2/100] 1 tree, 20 leaves, max depth = 16, train loss: -29178518579313028.00000, val loss: -17833664182792314880.00000, in 0.017s\n",
      "[3/100] 1 tree, 21 leaves, max depth = 13, train loss: -2222962920138921230709351776256.00000, val loss: 3922985495386299500461642517315584.00000, in 0.019s\n",
      "[5/100] 1 tree, 30 leaves, max depth = 20, train loss: -4259697497615833.50000, val loss: 113380328007785856.00000, in 0.026s\n",
      "[3/100] 1 tree, 22 leaves, max depth = 16, train loss: -50516265298107752775680.00000, val loss: 885463941631652965350637568.00000, in 0.020s\n",
      "[4/100] 1 tree, 18 leaves, max depth = 15, train loss: -22177305249210250325131856892317925376.00000, val loss: 53016608784761986314780765613015378690048.00000, in 0.018s\n",
      "[6/100] 1 tree, 24 leaves, max depth = 16, train loss: -15124294861030688817152.00000, val loss: -33853174597648365763166208.00000, in 0.022s\n",
      "[4/100] 1 tree, 25 leaves, max depth = 17, train loss: -195899773581137516927628869632.00000, val loss: -6434272396647307188585831642169344.00000, in 0.020s\n",
      "[5/100] 1 tree, 26 leaves, max depth = 15, train loss: -208875826548849344001363258611451829378088960.00000, val loss: 223151083239888593811819459526998636025580879872.00000, in 0.023s\n",
      "[7/100] 1 tree, 15 leaves, max depth = 13, train loss: -34556276572035704516184637440.00000, val loss: -352949167096134157908419018752.00000, in 0.016s\n",
      "[5/100] 1 tree, 24 leaves, max depth = 15, train loss: -1680323904093557722547952851190022144.00000, val loss: 11971936487887933959935653318982876790784.00000, in 0.020s\n",
      "[6/100] 1 tree, 17 leaves, max depth = 14, train loss: -1968492062849971087426204792037895222985601581056000.00000, val loss: 4779410297326825447566810131498629456318010276752392192.00000, in 0.017s\n",
      "[8/100] 1 tree, 21 leaves, max depth = 18, train loss: -93221403837883378721278047666831360.00000, val loss: -231030851125145336552808735086116601856.00000, in 0.021s\n",
      "[6/100] 1 tree, 17 leaves, max depth = 13, train loss: -1774544509373786879841895926032624718446592.00000, val loss: 2385009263712432037309819469580452160956530688.00000, in 0.015s\n",
      "[7/100] 1 tree, 26 leaves, max depth = 15, train loss: -18554098219618664474552852625787313444617105239060229652480.00000, val loss: 19812459551283968952353801667814865427342404678599367312015360.00000, in 0.023s\n",
      "[9/100] 1 tree, 15 leaves, max depth = 13, train loss: -252163407083310779161569771931230837669888.00000, val loss: -10024561436209624663358770703764087522721792.00000, in 0.016s\n",
      "[7/100] 1 tree, 25 leaves, max depth = 18, train loss: -4085471839235203550684074507215397466231892082688.00000, val loss: 26832309351222702355427619224008037890240691702857728.00000, in 0.022s\n",
      "[8/100] 1 tree, 17 leaves, max depth = 14, train loss: -174862945793908972715556753500279426449144479694180167945400877056.00000, val loss: 424529970349898776191776452354270879591204759382534388167108299063296.00000, in 0.018s\n",
      "[10/100] 1 tree, 19 leaves, max depth = 16, train loss: -684442187475210551150523707936822765592787288064.00000, val loss: -1679647205262452299063015658829907493853133115752448.00000, in 0.020s\n",
      "[8/100] 1 tree, 17 leaves, max depth = 13, train loss: -10230347727593885297214059189906890554721009096275787776.00000, val loss: 3923056573960802290013050703680135245087705499927217963008.00000, in 0.015s\n",
      "[9/100] 1 tree, 15 leaves, max depth = 13, train loss: -1857918150231870628928118993761384367088520066624389120.00000, val loss: -80398252921191568602939854581585777768518148677905154048.00000, in 0.015s\n",
      "[9/100] 1 tree, 24 leaves, max depth = 14, train loss: -26407170004259092934987752736236034983509316722515559244103680.00000, val loss: 127186466063467699175415699747228138609092591903756611159832133632.00000, in 0.019s\n",
      "[10/100] 1 tree, 19 leaves, max depth = 16, train loss: -5043124651798049085922429178592165384662207798533388928811008.00000, val loss: -12364645486371104819898399586831061513189257137000481942170238976.00000, in 0.021s\n",
      "[10/100] 1 tree, 17 leaves, max depth = 13, train loss: -68293350752625189517808108223571356853802083315575318337791224446976.00000, val loss: 18962284004797294363362555001693495609177023082748268204146322281857024.00000, in 0.017s\n",
      "[11/100] 1 tree, 15 leaves, max depth = 13, train loss: -13689611877737492795435341236353087565678402395266061622245398151168.00000, val loss: -600271879667782393832203227314507614988851089790989348934989182402560.00000, in 0.016s\n",
      "[11/100] 1 tree, 24 leaves, max depth = 14, train loss: -176691615578002211816379006015662311140751437328767181149728814672486858752.00000, val loss: 796348717870812687322082197170722313336956960725359241881839469421637912231936.00000, in 0.019s\n",
      "[12/100] 1 tree, 1 leaves, max depth = 0, train loss: -176691615578002211816379006015662311140751437328767181149728814672486858752.00000, val loss: 796348717870812687322082197170722313336956960725359241881839469421637912231936.00000, in 0.002s\n",
      "[13/100] 1 tree, 1 leaves, max depth = 0, train loss: -176691615578002211816379006015662311140751437328767181149728814672486858752.00000, val loss: 796348717870812687322082197170722313336956960725359241881839469421637912231936.00000, in 0.002s\n",
      "[14/100] 1 tree, 19 leaves, max depth = 16, train loss: -37159037571523863485017686550692237574612319185678262590201473310528634880.00000, val loss: -91096491884251893901297897739655496359948368574128269332873199387894354018304.00000, in 0.018s\n",
      "[12/100] 1 tree, 1 leaves, max depth = 0, train loss: -37159037571523863485017686550692237574612319185678262590201473310528634880.00000, val loss: -91096491884251893901297897739655496359948368574128269332873199387894354018304.00000, in 0.002s\n",
      "[13/100] 1 tree, 1 leaves, max depth = 0, train loss: -37159037571523863485017686550692237574612319185678262590201473310528634880.00000, val loss: -91096491884251893901297897739655496359948368574128269332873199387894354018304.00000, in 0.002s\n",
      "[14/100] 1 tree, 1 leaves, max depth = 0, train loss: -37159037571523863485017686550692237574612319185678262590201473310528634880.00000, val loss: -91096491884251893901297897739655496359948368574128269332873199387894354018304.00000, in 0.002s\n",
      "[15/100] 1 tree, 1 leaves, max depth = 0, train loss: -37159037571523863485017686550692237574612319185678262590201473310528634880.00000, val loss: -91096491884251893901297897739655496359948368574128269332873199387894354018304.00000, in 0.001s\n",
      "[16/100] 1 tree, 1 leaves, max depth = 0, train loss: -37159037571523863485017686550692237574612319185678262590201473310528634880.00000, val loss: -91096491884251893901297897739655496359948368574128269332873199387894354018304.00000, in 0.001s\n",
      "[17/100] 1 tree, 1 leaves, max depth = 0, train loss: -37159037571523863485017686550692237574612319185678262590201473310528634880.00000, val loss: -91096491884251893901297897739655496359948368574128269332873199387894354018304.00000, in 0.001s\n",
      "[18/100] 1 tree, 1 leaves, max depth = 0, train loss: -37159037571523863485017686550692237574612319185678262590201473310528634880.00000, val loss: -91096491884251893901297897739655496359948368574128269332873199387894354018304.00000, in 0.002s\n",
      "[19/100] 1 tree, 1 leaves, max depth = 0, train loss: -37159037571523863485017686550692237574612319185678262590201473310528634880.00000, val loss: -91096491884251893901297897739655496359948368574128269332873199387894354018304.00000, in 0.001s\n",
      "[20/100] 1 tree, 1 leaves, max depth = 0, train loss: -37159037571523863485017686550692237574612319185678262590201473310528634880.00000, val loss: -91096491884251893901297897739655496359948368574128269332873199387894354018304.00000, in 0.001s\n",
      "[21/100] "
     ]
    },
    {
     "data": {
      "text/html": [
       "<style>#sk-container-id-14 {color: black;background-color: white;}#sk-container-id-14 pre{padding: 0;}#sk-container-id-14 div.sk-toggleable {background-color: white;}#sk-container-id-14 label.sk-toggleable__label {cursor: pointer;display: block;width: 100%;margin-bottom: 0;padding: 0.3em;box-sizing: border-box;text-align: center;}#sk-container-id-14 label.sk-toggleable__label-arrow:before {content: \"▸\";float: left;margin-right: 0.25em;color: #696969;}#sk-container-id-14 label.sk-toggleable__label-arrow:hover:before {color: black;}#sk-container-id-14 div.sk-estimator:hover label.sk-toggleable__label-arrow:before {color: black;}#sk-container-id-14 div.sk-toggleable__content {max-height: 0;max-width: 0;overflow: hidden;text-align: left;background-color: #f0f8ff;}#sk-container-id-14 div.sk-toggleable__content pre {margin: 0.2em;color: black;border-radius: 0.25em;background-color: #f0f8ff;}#sk-container-id-14 input.sk-toggleable__control:checked~div.sk-toggleable__content {max-height: 200px;max-width: 100%;overflow: auto;}#sk-container-id-14 input.sk-toggleable__control:checked~label.sk-toggleable__label-arrow:before {content: \"▾\";}#sk-container-id-14 div.sk-estimator input.sk-toggleable__control:checked~label.sk-toggleable__label {background-color: #d4ebff;}#sk-container-id-14 div.sk-label input.sk-toggleable__control:checked~label.sk-toggleable__label {background-color: #d4ebff;}#sk-container-id-14 input.sk-hidden--visually {border: 0;clip: rect(1px 1px 1px 1px);clip: rect(1px, 1px, 1px, 1px);height: 1px;margin: -1px;overflow: hidden;padding: 0;position: absolute;width: 1px;}#sk-container-id-14 div.sk-estimator {font-family: monospace;background-color: #f0f8ff;border: 1px dotted black;border-radius: 0.25em;box-sizing: border-box;margin-bottom: 0.5em;}#sk-container-id-14 div.sk-estimator:hover {background-color: #d4ebff;}#sk-container-id-14 div.sk-parallel-item::after {content: \"\";width: 100%;border-bottom: 1px solid gray;flex-grow: 1;}#sk-container-id-14 div.sk-label:hover label.sk-toggleable__label {background-color: #d4ebff;}#sk-container-id-14 div.sk-serial::before {content: \"\";position: absolute;border-left: 1px solid gray;box-sizing: border-box;top: 0;bottom: 0;left: 50%;z-index: 0;}#sk-container-id-14 div.sk-serial {display: flex;flex-direction: column;align-items: center;background-color: white;padding-right: 0.2em;padding-left: 0.2em;position: relative;}#sk-container-id-14 div.sk-item {position: relative;z-index: 1;}#sk-container-id-14 div.sk-parallel {display: flex;align-items: stretch;justify-content: center;background-color: white;position: relative;}#sk-container-id-14 div.sk-item::before, #sk-container-id-14 div.sk-parallel-item::before {content: \"\";position: absolute;border-left: 1px solid gray;box-sizing: border-box;top: 0;bottom: 0;left: 50%;z-index: -1;}#sk-container-id-14 div.sk-parallel-item {display: flex;flex-direction: column;z-index: 1;position: relative;background-color: white;}#sk-container-id-14 div.sk-parallel-item:first-child::after {align-self: flex-end;width: 50%;}#sk-container-id-14 div.sk-parallel-item:last-child::after {align-self: flex-start;width: 50%;}#sk-container-id-14 div.sk-parallel-item:only-child::after {width: 0;}#sk-container-id-14 div.sk-dashed-wrapped {border: 1px dashed gray;margin: 0 0.4em 0.5em 0.4em;box-sizing: border-box;padding-bottom: 0.4em;background-color: white;}#sk-container-id-14 div.sk-label label {font-family: monospace;font-weight: bold;display: inline-block;line-height: 1.2em;}#sk-container-id-14 div.sk-label-container {text-align: center;}#sk-container-id-14 div.sk-container {/* jupyter's `normalize.less` sets `[hidden] { display: none; }` but bootstrap.min.css set `[hidden] { display: none !important; }` so we also need the `!important` here to be able to override the default hidden behavior on the sphinx rendered scikit-learn.org. See: https://github.com/scikit-learn/scikit-learn/issues/21755 */display: inline-block !important;position: relative;}#sk-container-id-14 div.sk-text-repr-fallback {display: none;}</style><div id=\"sk-container-id-14\" class=\"sk-top-container\"><div class=\"sk-text-repr-fallback\"><pre>MultiOutputRegressor(estimator=Pipeline(steps=[(&#x27;feature_selection&#x27;,\n",
       "                                                RFE(estimator=LinearRegression(n_jobs=-1),\n",
       "                                                    n_features_to_select=500,\n",
       "                                                    step=0.2, verbose=1)),\n",
       "                                               (&#x27;estimator&#x27;,\n",
       "                                                HistGradientBoostingRegressor(early_stopping=True,\n",
       "                                                                              verbose=1))]),\n",
       "                     n_jobs=-1)</pre><b>In a Jupyter environment, please rerun this cell to show the HTML representation or trust the notebook. <br />On GitHub, the HTML representation is unable to render, please try loading this page with nbviewer.org.</b></div><div class=\"sk-container\" hidden><div class=\"sk-item sk-dashed-wrapped\"><div class=\"sk-label-container\"><div class=\"sk-label sk-toggleable\"><input class=\"sk-toggleable__control sk-hidden--visually\" id=\"sk-estimator-id-60\" type=\"checkbox\" ><label for=\"sk-estimator-id-60\" class=\"sk-toggleable__label sk-toggleable__label-arrow\">MultiOutputRegressor</label><div class=\"sk-toggleable__content\"><pre>MultiOutputRegressor(estimator=Pipeline(steps=[(&#x27;feature_selection&#x27;,\n",
       "                                                RFE(estimator=LinearRegression(n_jobs=-1),\n",
       "                                                    n_features_to_select=500,\n",
       "                                                    step=0.2, verbose=1)),\n",
       "                                               (&#x27;estimator&#x27;,\n",
       "                                                HistGradientBoostingRegressor(early_stopping=True,\n",
       "                                                                              verbose=1))]),\n",
       "                     n_jobs=-1)</pre></div></div></div><div class=\"sk-parallel\"><div class=\"sk-parallel-item\"><div class=\"sk-item\"><div class=\"sk-label-container\"><div class=\"sk-label sk-toggleable\"><input class=\"sk-toggleable__control sk-hidden--visually\" id=\"sk-estimator-id-61\" type=\"checkbox\" ><label for=\"sk-estimator-id-61\" class=\"sk-toggleable__label sk-toggleable__label-arrow\">estimator: Pipeline</label><div class=\"sk-toggleable__content\"><pre>Pipeline(steps=[(&#x27;feature_selection&#x27;,\n",
       "                 RFE(estimator=LinearRegression(n_jobs=-1),\n",
       "                     n_features_to_select=500, step=0.2, verbose=1)),\n",
       "                (&#x27;estimator&#x27;,\n",
       "                 HistGradientBoostingRegressor(early_stopping=True,\n",
       "                                               verbose=1))])</pre></div></div></div><div class=\"sk-serial\"><div class=\"sk-item\"><div class=\"sk-serial\"><div class=\"sk-item sk-dashed-wrapped\"><div class=\"sk-label-container\"><div class=\"sk-label sk-toggleable\"><input class=\"sk-toggleable__control sk-hidden--visually\" id=\"sk-estimator-id-62\" type=\"checkbox\" ><label for=\"sk-estimator-id-62\" class=\"sk-toggleable__label sk-toggleable__label-arrow\">feature_selection: RFE</label><div class=\"sk-toggleable__content\"><pre>RFE(estimator=LinearRegression(n_jobs=-1), n_features_to_select=500, step=0.2,\n",
       "    verbose=1)</pre></div></div></div><div class=\"sk-parallel\"><div class=\"sk-parallel-item\"><div class=\"sk-item\"><div class=\"sk-label-container\"><div class=\"sk-label sk-toggleable\"><input class=\"sk-toggleable__control sk-hidden--visually\" id=\"sk-estimator-id-63\" type=\"checkbox\" ><label for=\"sk-estimator-id-63\" class=\"sk-toggleable__label sk-toggleable__label-arrow\">estimator: LinearRegression</label><div class=\"sk-toggleable__content\"><pre>LinearRegression(n_jobs=-1)</pre></div></div></div><div class=\"sk-serial\"><div class=\"sk-item\"><div class=\"sk-estimator sk-toggleable\"><input class=\"sk-toggleable__control sk-hidden--visually\" id=\"sk-estimator-id-64\" type=\"checkbox\" ><label for=\"sk-estimator-id-64\" class=\"sk-toggleable__label sk-toggleable__label-arrow\">LinearRegression</label><div class=\"sk-toggleable__content\"><pre>LinearRegression(n_jobs=-1)</pre></div></div></div></div></div></div></div></div><div class=\"sk-item\"><div class=\"sk-estimator sk-toggleable\"><input class=\"sk-toggleable__control sk-hidden--visually\" id=\"sk-estimator-id-65\" type=\"checkbox\" ><label for=\"sk-estimator-id-65\" class=\"sk-toggleable__label sk-toggleable__label-arrow\">HistGradientBoostingRegressor</label><div class=\"sk-toggleable__content\"><pre>HistGradientBoostingRegressor(early_stopping=True, verbose=1)</pre></div></div></div></div></div></div></div></div></div></div></div></div>"
      ],
      "text/plain": [
       "MultiOutputRegressor(estimator=Pipeline(steps=[('feature_selection',\n",
       "                                                RFE(estimator=LinearRegression(n_jobs=-1),\n",
       "                                                    n_features_to_select=500,\n",
       "                                                    step=0.2, verbose=1)),\n",
       "                                               ('estimator',\n",
       "                                                HistGradientBoostingRegressor(early_stopping=True,\n",
       "                                                                              verbose=1))]),\n",
       "                     n_jobs=-1)"
      ]
     },
     "execution_count": 83,
     "metadata": {},
     "output_type": "execute_result"
    }
   ],
   "source": [
    "mo_estimator.fit(X, y, **fit_params)"
   ]
  },
  {
   "cell_type": "code",
   "execution_count": 85,
   "id": "062727f7",
   "metadata": {},
   "outputs": [
    {
     "data": {
      "text/plain": [
       "500"
      ]
     },
     "execution_count": 85,
     "metadata": {},
     "output_type": "execute_result"
    },
    {
     "name": "stdout",
     "output_type": "stream",
     "text": [
      "1 tree, 26 leaves, max depth = 15, train loss: -1648178288852615262065634420612085365244529611706458816467826530332966912.00000, val loss: 1759693174978142885129472552315756164267347377167697021757692884301161431040.00000, in 0.022s\n",
      "Fit 10 trees in 0.429 s, (207 total leaves)\n",
      "Time spent computing histograms: 0.086s\n",
      "Time spent finding best splits:  0.066s\n",
      "Time spent applying splits:      0.003s\n",
      "Time spent predicting:           0.000s\n",
      "1 tree, 1 leaves, max depth = 0, train loss: -176691615578002211816379006015662311140751437328767181149728814672486858752.00000, val loss: 796348717870812687322082197170722313336956960725359241881839469421637912231936.00000, in 0.001s\n",
      "Fit 14 trees in 0.439 s, (233 total leaves)\n",
      "Time spent computing histograms: 0.094s\n",
      "Time spent finding best splits:  0.070s\n",
      "Time spent applying splits:      0.002s\n",
      "Time spent predicting:           0.000s\n",
      "1 tree, 1 leaves, max depth = 0, train loss: -37159037571523863485017686550692237574612319185678262590201473310528634880.00000, val loss: -91096491884251893901297897739655496359948368574128269332873199387894354018304.00000, in 0.001s\n",
      "Fit 21 trees in 0.462 s, (222 total leaves)\n",
      "Time spent computing histograms: 0.090s\n",
      "Time spent finding best splits:  0.078s\n",
      "Time spent applying splits:      0.003s\n",
      "Time spent predicting:           0.000s\n"
     ]
    }
   ],
   "source": [
    "len(mo_estimator.estimators_[1].named_steps.feature_selection.get_feature_names_out())"
   ]
  },
  {
   "cell_type": "code",
   "execution_count": 93,
   "id": "912e5a48",
   "metadata": {},
   "outputs": [
    {
     "data": {
      "text/plain": [
       "14"
      ]
     },
     "execution_count": 93,
     "metadata": {},
     "output_type": "execute_result"
    }
   ],
   "source": [
    "mo_estimator.estimators_[0].named_steps.estimator.n_iter_"
   ]
  },
  {
   "cell_type": "code",
   "execution_count": 47,
   "id": "1b5ac200",
   "metadata": {},
   "outputs": [
    {
     "data": {
      "text/plain": [
       "array([3, 5, 1, ..., 1, 4, 3])"
      ]
     },
     "execution_count": 47,
     "metadata": {},
     "output_type": "execute_result"
    }
   ],
   "source": [
    "fs."
   ]
  },
  {
   "cell_type": "code",
   "execution_count": 22,
   "id": "cc089983",
   "metadata": {},
   "outputs": [
    {
     "data": {
      "text/plain": [
       "[Pipeline(steps=[('feature_selection',\n",
       "                  RFE(estimator=RandomForestRegressor(n_estimators=500,\n",
       "                                                      n_jobs=-1),\n",
       "                      n_features_to_select=500, step=50, verbose=2)),\n",
       "                 ('clf_model',\n",
       "                  <catboost.core.CatBoostRegressor object at 0x16e3e5df0>)]),\n",
       " Pipeline(steps=[('feature_selection',\n",
       "                  RFE(estimator=RandomForestRegressor(n_estimators=500,\n",
       "                                                      n_jobs=-1),\n",
       "                      n_features_to_select=500, step=50, verbose=2)),\n",
       "                 ('clf_model',\n",
       "                  <catboost.core.CatBoostRegressor object at 0x154a60b20>)]),\n",
       " Pipeline(steps=[('feature_selection',\n",
       "                  RFE(estimator=RandomForestRegressor(n_estimators=500,\n",
       "                                                      n_jobs=-1),\n",
       "                      n_features_to_select=500, step=50, verbose=2)),\n",
       "                 ('clf_model',\n",
       "                  <catboost.core.CatBoostRegressor object at 0x16e387e20>)])]"
      ]
     },
     "execution_count": 22,
     "metadata": {},
     "output_type": "execute_result"
    }
   ],
   "source": [
    "mo_estimator.estimators_"
   ]
  },
  {
   "cell_type": "code",
   "execution_count": 23,
   "id": "6e7653cf",
   "metadata": {},
   "outputs": [
    {
     "data": {
      "text/plain": [
       "array([1, 1, 1, 1, 1, 1, 1, 1, 1, 1, 1, 1, 1, 1, 1, 1, 1, 1, 1, 1, 1, 1,\n",
       "       1, 1, 1, 1, 1, 1, 1, 1, 1, 1, 1, 1, 1, 1, 1, 1, 1, 1, 1, 1, 1, 1,\n",
       "       1, 1, 1, 1, 1, 1, 1, 1, 1, 1, 1, 1, 1, 1, 1, 1, 1, 1, 1, 1, 1, 1,\n",
       "       1, 1, 1, 1, 1, 1, 1, 1, 1, 1, 1, 1, 1, 1, 1, 1, 1, 1, 1, 1, 1, 1,\n",
       "       1, 1, 1, 1, 1, 1, 1, 1, 1, 1, 1, 1, 1, 1, 1, 1, 1, 1, 1, 1, 1, 1,\n",
       "       1, 1, 1, 1, 1, 1, 1, 1, 1, 1, 1, 1, 1, 1, 1, 1, 1, 1, 1, 1, 1, 1,\n",
       "       1, 1, 1, 1, 1, 1, 1, 1, 1, 1, 1, 1, 1, 1, 1, 1, 1, 1, 1, 1, 1, 1,\n",
       "       1, 1, 1, 1, 1, 1, 1, 1, 1, 1, 1, 1, 1, 1, 1, 1, 1, 1, 1, 1, 1, 1,\n",
       "       1, 1, 1, 1, 1, 1, 1, 1, 1, 1, 1, 1, 1, 1, 1, 1, 1, 1, 1, 1, 1, 1,\n",
       "       1, 1, 1, 1, 1, 1, 1, 1, 1, 1, 1, 1, 1, 1, 1, 1, 1, 1, 1, 1, 1, 1,\n",
       "       1, 1, 1, 1, 1, 1, 1, 1, 1, 1, 1, 1, 1, 1, 1, 1, 1, 1, 1, 1, 1, 1,\n",
       "       1, 1, 1, 1, 1, 1, 1, 1, 1, 1, 1, 1, 1, 1, 1, 1, 1, 1, 1, 1, 1, 1,\n",
       "       1, 1, 1, 1, 1, 1, 1, 1, 1, 1, 1, 1, 1, 1, 1, 1, 1, 1, 1, 1, 1, 1,\n",
       "       1, 1, 1, 1, 1, 1, 1, 1, 1, 1, 1, 1, 1, 1, 1, 1, 1, 1, 1, 1, 1, 1,\n",
       "       1, 1, 1, 1, 1, 1, 1, 1, 1, 1, 1, 1, 1, 1, 1, 1, 1, 1, 1, 1, 1, 1,\n",
       "       1, 1, 1, 1, 1, 1, 1, 1, 1, 1, 1, 1, 1, 1, 1, 1, 1, 1, 1, 1, 1, 1,\n",
       "       1, 1, 1, 1, 1, 1, 1, 1, 1, 1, 1, 1, 1, 1, 1, 1, 1, 1, 1, 1, 1, 1,\n",
       "       1, 1, 1, 1, 1, 1, 1, 1, 1, 1, 1, 1, 1, 1, 1, 1, 1, 1, 1, 1, 1, 1,\n",
       "       1, 1, 1, 1, 1, 1, 1, 1, 1, 1, 1, 1, 1, 1, 1, 1, 1, 1, 1, 1, 1, 1,\n",
       "       1, 1, 1, 1, 1, 1, 1, 1, 1, 1, 1, 1, 1, 1, 1, 1, 1, 1, 1, 1, 1, 1,\n",
       "       1, 1, 1, 1, 1, 1, 1, 1, 1, 1, 1, 1, 1, 1, 1, 1, 1, 1, 1, 1, 1, 1,\n",
       "       1, 1, 1, 1, 1, 1, 1, 1, 1, 1, 1, 1, 1, 1, 1, 1, 1, 1, 1, 1, 1, 1,\n",
       "       1, 1, 1, 1, 1, 1, 1, 1, 1, 1, 1, 1, 1, 1, 1, 1])"
      ]
     },
     "execution_count": 23,
     "metadata": {},
     "output_type": "execute_result"
    }
   ],
   "source": []
  },
  {
   "cell_type": "code",
   "execution_count": null,
   "id": "aeda1fd7",
   "metadata": {},
   "outputs": [],
   "source": [
    "cb_estimator = CatBoostRegressor(iterations=1000, loss_function='MultiRMSE')"
   ]
  },
  {
   "cell_type": "code",
   "execution_count": null,
   "id": "7538b1a9",
   "metadata": {},
   "outputs": [],
   "source": [
    "cb_estimator.fit(X, y)"
   ]
  },
  {
   "cell_type": "code",
   "execution_count": null,
   "id": "959f3568",
   "metadata": {},
   "outputs": [],
   "source": [
    "cb_estimator.predict(X[:2])"
   ]
  },
  {
   "cell_type": "code",
   "execution_count": null,
   "id": "ed336dd9",
   "metadata": {},
   "outputs": [],
   "source": []
  },
  {
   "cell_type": "code",
   "execution_count": null,
   "id": "8f9f3d5d",
   "metadata": {},
   "outputs": [],
   "source": [
    "x = np.random.randint(0,2, 1000)\n",
    "X = pd.Series(data=x)"
   ]
  },
  {
   "cell_type": "code",
   "execution_count": null,
   "id": "c2170392",
   "metadata": {},
   "outputs": [],
   "source": [
    "X.shift(1).rolling(5).max()"
   ]
  },
  {
   "cell_type": "code",
   "execution_count": null,
   "id": "ea4254b8",
   "metadata": {},
   "outputs": [],
   "source": [
    "def contains_str(df):\n",
    "    if df."
   ]
  },
  {
   "cell_type": "code",
   "execution_count": null,
   "id": "620991aa",
   "metadata": {},
   "outputs": [],
   "source": [
    "y = pd.Series(['test', 'no_test', 'test', 'no_test', 'test', 'no_test', 'test', 'no_test', 'test', 'no_test', 'test', 'no_test'])"
   ]
  },
  {
   "cell_type": "code",
   "execution_count": null,
   "id": "df4e9df0",
   "metadata": {},
   "outputs": [],
   "source": [
    "y.shift(1).rolling(5).apply(contains_str)"
   ]
  },
  {
   "cell_type": "code",
   "execution_count": null,
   "id": "12e1af4b",
   "metadata": {},
   "outputs": [],
   "source": [
    "s = 'hello'"
   ]
  },
  {
   "cell_type": "code",
   "execution_count": null,
   "id": "5235b844",
   "metadata": {},
   "outputs": [],
   "source": [
    "s.find('hoe')"
   ]
  },
  {
   "cell_type": "code",
   "execution_count": null,
   "id": "a41c3771",
   "metadata": {},
   "outputs": [],
   "source": []
  }
 ],
 "metadata": {
  "kernelspec": {
   "display_name": ".env",
   "language": "python",
   "name": ".env"
  },
  "language_info": {
   "codemirror_mode": {
    "name": "ipython",
    "version": 3
   },
   "file_extension": ".py",
   "mimetype": "text/x-python",
   "name": "python",
   "nbconvert_exporter": "python",
   "pygments_lexer": "ipython3",
   "version": "3.9.13"
  }
 },
 "nbformat": 4,
 "nbformat_minor": 5
}
