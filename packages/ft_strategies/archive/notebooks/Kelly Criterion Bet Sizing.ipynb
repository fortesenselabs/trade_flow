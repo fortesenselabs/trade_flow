{
 "cells": [
  {
   "cell_type": "code",
   "execution_count": 1,
   "id": "1b60e389",
   "metadata": {},
   "outputs": [],
   "source": [
    "import pandas as pd\n",
    "import numpy as np"
   ]
  },
  {
   "cell_type": "code",
   "execution_count": 22,
   "id": "3bfc271d",
   "metadata": {},
   "outputs": [],
   "source": [
    "def clip_kelly(b):\n",
    "    return np.min([np.max([b, 0]), 1])\n",
    "\n",
    "def kelly_bet_size(p, win, loss, kelly_fraction):\n",
    "\n",
    "    raw_kelly =  (p / abs(loss)) - ((1-p)/win)\n",
    "    clipped_kelly = clip_kelly(raw_kelly)\n",
    "\n",
    "    return kelly_fraction * clipped_kelly"
   ]
  },
  {
   "cell_type": "code",
   "execution_count": 24,
   "id": "f805311a",
   "metadata": {},
   "outputs": [
    {
     "data": {
      "text/plain": [
       "0.3"
      ]
     },
     "execution_count": 24,
     "metadata": {},
     "output_type": "execute_result"
    }
   ],
   "source": [
    "kelly_bet_size(0.45336406760444076, 0.00529928515157731, -0.0029523825701136316, .3)"
   ]
  },
  {
   "cell_type": "code",
   "execution_count": null,
   "id": "a30b7a71",
   "metadata": {},
   "outputs": [],
   "source": []
  }
 ],
 "metadata": {
  "kernelspec": {
   "display_name": ".env",
   "language": "python",
   "name": ".env"
  },
  "language_info": {
   "codemirror_mode": {
    "name": "ipython",
    "version": 3
   },
   "file_extension": ".py",
   "mimetype": "text/x-python",
   "name": "python",
   "nbconvert_exporter": "python",
   "pygments_lexer": "ipython3",
   "version": "3.10.9"
  }
 },
 "nbformat": 4,
 "nbformat_minor": 5
}
