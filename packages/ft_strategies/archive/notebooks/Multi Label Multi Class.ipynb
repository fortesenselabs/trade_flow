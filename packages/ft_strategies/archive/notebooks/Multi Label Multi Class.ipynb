{
 "cells": [
  {
   "cell_type": "code",
   "execution_count": 1,
   "id": "3ab46ce3",
   "metadata": {},
   "outputs": [],
   "source": [
    "from catboost import CatBoostClassifier\n",
    "from sklearn.multiclass import OneVsRestClassifier\n",
    "from sklearn.preprocessing import MultiLabelBinarizer\n",
    "import pandas as pd"
   ]
  },
  {
   "cell_type": "code",
   "execution_count": 2,
   "id": "9a68b373",
   "metadata": {},
   "outputs": [],
   "source": [
    "from catboost import CatBoostClassifier, Pool, EShapCalcType, EFeaturesSelectionAlgorithm, EFstrType, cv\n",
    "from user_data.litmus.onevsrest_catboost import OneVsRestClassifierCatboost\n",
    "from sklearn.datasets import make_classification, make_multilabel_classification\n",
    "from sklearn.model_selection import train_test_split"
   ]
  },
  {
   "cell_type": "code",
   "execution_count": 27,
   "id": "2c3b8e9e",
   "metadata": {},
   "outputs": [],
   "source": [
    "X, y = make_multilabel_classification(n_samples=3000, n_classes=2, n_labels=10, n_features=800)\n",
    "X_train, X_test, y_train, y_test = train_test_split(X, y, test_size=0.5)"
   ]
  },
  {
   "cell_type": "code",
   "execution_count": 28,
   "id": "4dc6aca5",
   "metadata": {},
   "outputs": [
    {
     "data": {
      "text/plain": [
       "array([[1, 1],\n",
       "       [1, 1],\n",
       "       [1, 1],\n",
       "       ...,\n",
       "       [1, 1],\n",
       "       [1, 0],\n",
       "       [1, 1]])"
      ]
     },
     "execution_count": 28,
     "metadata": {},
     "output_type": "execute_result"
    }
   ],
   "source": [
    "y_train"
   ]
  },
  {
   "cell_type": "code",
   "execution_count": null,
   "id": "c6d137c2",
   "metadata": {},
   "outputs": [],
   "source": [
    "###### \"\"\"X, y = make_classification(n_samples=3000, n_clusters_per_class=10, n_classes=2, n_informative=500, n_features=800)\n",
    "X_train, X_test, y_train, y_test = train_test_split(X, y, test_size=0.5)\n",
    "train_pool = Pool(X_train, y_train)\n",
    "test_pool = Pool(X_test, y_test)\"\"\""
   ]
  },
  {
   "cell_type": "code",
   "execution_count": null,
   "id": "b833ae98",
   "metadata": {},
   "outputs": [],
   "source": [
    "\"\"\"ovr_new = OneVsRestClassifierCatboost(estimator=CatBoostClassifier(iterations=10, random_state=1, loss_function=\"MultiLogloss\"))\n",
    "ovr_new.fit(X=X_train, y=y_train)\"\"\""
   ]
  },
  {
   "cell_type": "code",
   "execution_count": null,
   "id": "52cc3f21",
   "metadata": {},
   "outputs": [],
   "source": [
    "clf = CatBoostClassifier(iterations=10, random_state=1, loss_function=\"MultiLogloss\")"
   ]
  },
  {
   "cell_type": "code",
   "execution_count": null,
   "id": "b7c96e9b",
   "metadata": {},
   "outputs": [],
   "source": [
    "clf.fit(X=X_train, y=y_train)"
   ]
  },
  {
   "cell_type": "code",
   "execution_count": null,
   "id": "a6bb47ae",
   "metadata": {},
   "outputs": [],
   "source": [
    "clf.predict_proba(X_test)"
   ]
  },
  {
   "cell_type": "code",
   "execution_count": null,
   "id": "d06cc8f1",
   "metadata": {},
   "outputs": [],
   "source": [
    "clf.classes_"
   ]
  },
  {
   "cell_type": "code",
   "execution_count": null,
   "id": "8033397d",
   "metadata": {},
   "outputs": [],
   "source": [
    "y_train"
   ]
  },
  {
   "cell_type": "code",
   "execution_count": null,
   "id": "9fd9aeeb",
   "metadata": {},
   "outputs": [],
   "source": [
    "# Using your example data \n",
    "\n",
    "X = [[1, 2, 3, 4], [2, 3, 5, 1], [4, 5, 1, 3]]\n",
    "\n",
    "y = [[\"hot\", \"not\"], [\"peach\", \"plumb\"], [\"chair\", \"table\"]]\n",
    "\n",
    "mlb = MultiLabelBinarizer()\n",
    "mlb.fit(y)\n",
    "y_k_hot = mlb.transform(y)\n",
    "y_k_hot"
   ]
  },
  {
   "cell_type": "code",
   "execution_count": null,
   "id": "3e0afe39",
   "metadata": {},
   "outputs": [],
   "source": [
    "import pandas as pd\n",
    "import numpy as np\n",
    "df = pd.DataFrame([1,2,3,4,5,6,7])\n",
    "df"
   ]
  },
  {
   "cell_type": "code",
   "execution_count": null,
   "id": "853af6d1",
   "metadata": {},
   "outputs": [],
   "source": [
    "df[\"labels\"] = np.empty((len(df), 0)).tolist()\n",
    "df"
   ]
  },
  {
   "cell_type": "code",
   "execution_count": null,
   "id": "679c34e6",
   "metadata": {},
   "outputs": [],
   "source": [
    "df.replace([5,4,3], np.nan)"
   ]
  },
  {
   "cell_type": "code",
   "execution_count": null,
   "id": "22db249a",
   "metadata": {},
   "outputs": [],
   "source": [
    "df.at[0, \"labels\"]"
   ]
  },
  {
   "cell_type": "code",
   "execution_count": null,
   "id": "c26af8e1",
   "metadata": {},
   "outputs": [],
   "source": [
    "df[\"labels2\"] = []*len(df[\"labels\"])"
   ]
  },
  {
   "cell_type": "code",
   "execution_count": null,
   "id": "24f12928",
   "metadata": {},
   "outputs": [],
   "source": [
    "np.random.random()"
   ]
  },
  {
   "cell_type": "code",
   "execution_count": null,
   "id": "d23e7461",
   "metadata": {},
   "outputs": [],
   "source": []
  }
 ],
 "metadata": {
  "kernelspec": {
   "display_name": ".env",
   "language": "python",
   "name": ".env"
  },
  "language_info": {
   "codemirror_mode": {
    "name": "ipython",
    "version": 3
   },
   "file_extension": ".py",
   "mimetype": "text/x-python",
   "name": "python",
   "nbconvert_exporter": "python",
   "pygments_lexer": "ipython3",
   "version": "3.9.13"
  }
 },
 "nbformat": 4,
 "nbformat_minor": 5
}
