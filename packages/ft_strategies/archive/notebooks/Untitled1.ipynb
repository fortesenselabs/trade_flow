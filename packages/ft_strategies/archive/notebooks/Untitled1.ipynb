{
 "cells": [
  {
   "cell_type": "code",
   "execution_count": 1,
   "id": "0e5e0392",
   "metadata": {},
   "outputs": [],
   "source": [
    "import numpy as np\n",
    "import optuna\n",
    "from optuna.integration import CatBoostPruningCallback\n",
    "import logging\n",
    "import sys\n",
    "\n",
    "import catboost as cb\n",
    "from sklearn.datasets import load_breast_cancer\n",
    "from sklearn.metrics import accuracy_score, log_loss, make_scorer, classification_report\n",
    "from sklearn.model_selection import train_test_split\n",
    "from sklearn.datasets import make_classification\n",
    "\n",
    "import warnings\n",
    "from optuna.exceptions import ExperimentalWarning\n",
    "\n",
    "warnings.filterwarnings(\"ignore\", category=ExperimentalWarning)"
   ]
  },
  {
   "cell_type": "code",
   "execution_count": 2,
   "id": "73c84e9f",
   "metadata": {},
   "outputs": [],
   "source": [
    "optuna.logging.get_logger(\"optuna\").addHandler(logging.StreamHandler(sys.stdout))\n",
    "study_name = \"Test11\" \n",
    "storage_name = \"sqlite:///LitmusOptunaTest.sqlite\""
   ]
  },
  {
   "cell_type": "code",
   "execution_count": 3,
   "id": "21b85109",
   "metadata": {},
   "outputs": [
    {
     "name": "stderr",
     "output_type": "stream",
     "text": [
      "\u001b[32m[I 2023-04-06 17:20:04,014]\u001b[0m A new study created in RDB with name: Test11\u001b[0m\n"
     ]
    },
    {
     "name": "stdout",
     "output_type": "stream",
     "text": [
      "A new study created in RDB with name: Test11\n"
     ]
    }
   ],
   "source": [
    "study = optuna.create_study(\n",
    "    pruner=optuna.pruners.MedianPruner(n_warmup_steps=5), \n",
    "    direction=\"minimize\",\n",
    "    study_name=study_name, \n",
    "    storage=storage_name,\n",
    "    load_if_exists=True\n",
    "    )"
   ]
  },
  {
   "cell_type": "code",
   "execution_count": 4,
   "id": "ea3e0b41",
   "metadata": {},
   "outputs": [],
   "source": [
    "X, y = make_classification(\n",
    "    n_samples=5000, # 1000 observations \n",
    "    n_features=500, # 5 total features\n",
    "    n_informative=100, # 3 'useful' features\n",
    "    n_classes=2, # binary target/label \n",
    "    random_state=999 # if you want the same results as mine\n",
    ")\n",
    "\n",
    "X_train, X_test, y_train, y_test = train_test_split(X, y, test_size=0.25)"
   ]
  },
  {
   "cell_type": "code",
   "execution_count": 5,
   "id": "ee1af6d6",
   "metadata": {},
   "outputs": [],
   "source": [
    "y_train = np.where(y_train == 1, \"yes\", \"no\")\n",
    "y_test = np.where(y_test == 1, \"yes\", \"no\")"
   ]
  },
  {
   "cell_type": "code",
   "execution_count": 6,
   "id": "902d781b",
   "metadata": {},
   "outputs": [
    {
     "name": "stdout",
     "output_type": "stream",
     "text": [
      "              precision    recall  f1-score   support\n",
      "\n",
      "          no       0.91      0.91      0.91       630\n",
      "         yes       0.91      0.91      0.91       620\n",
      "\n",
      "    accuracy                           0.91      1250\n",
      "   macro avg       0.91      0.91      0.91      1250\n",
      "weighted avg       0.91      0.91      0.91      1250\n",
      "\n"
     ]
    }
   ],
   "source": [
    "# Default params\n",
    "clf2 = cb.CatBoostClassifier(verbose=False)\n",
    "clf2.fit(X_train, y_train)\n",
    "y_pred2 = clf2.predict(X_test)\n",
    "print(classification_report(y_test, y_pred2))"
   ]
  },
  {
   "cell_type": "code",
   "execution_count": 8,
   "id": "c3287bca",
   "metadata": {},
   "outputs": [],
   "source": [
    "# CV with pruning approach\n",
    "\n",
    "ho_objective = lambda trial: get_ho_objective(trial, X_train, y_train, X_test, y_test)\n",
    "\n",
    "def get_ho_objective(trial: optuna.Trial, X_train, y_train, X_test, y_test) -> float:\n",
    "\n",
    "    params = {\n",
    "        \"objective\": \"Logloss\",\n",
    "        \"iterations\": 1000,\n",
    "        \"learning_rate\": trial.suggest_float(\"learning_rate\", 1e-3, 1.0, log=True),\n",
    "        \"l2_leaf_reg\": trial.suggest_float(\"l2_leaf_reg\", 1e-8, 100.0, log=True),\n",
    "        \"colsample_bylevel\": trial.suggest_float(\"colsample_bylevel\", 0.01, 0.1, log=True),\n",
    "        \"depth\": trial.suggest_int(\"depth\", 1, 12),\n",
    "        \"random_strength\": trial.suggest_float(\"random_strength\", 1e-8, 10.0, log=True),\n",
    "        \"bootstrap_type\": trial.suggest_categorical(\n",
    "            \"bootstrap_type\", [\"Bayesian\", \"Bernoulli\", \"MVS\"]\n",
    "        ),\n",
    "        \"grow_policy\": trial.suggest_categorical(\n",
    "            \"grow_policy\", [\"SymmetricTree\", \"Depthwise\", \"Lossguide\"]),\n",
    "        \"od_type\": trial.suggest_categorical(\"od_type\", [\"IncToDec\", \"Iter\"]),\n",
    "        \"od_wait\": trial.suggest_int(\"od_wait\", 10, 50),\n",
    "        \"eval_metric\": \"Logloss\"\n",
    "    }\n",
    "    \n",
    "    if params[\"bootstrap_type\"] == \"Bayesian\":\n",
    "        params[\"bagging_temperature\"] = trial.suggest_float(\"bagging_temperature\", 0, 10)\n",
    "    elif params[\"bootstrap_type\"] == \"Bernoulli\":\n",
    "        params[\"subsample\"] = trial.suggest_float(\"subsample\", 0.1, 1, log=True)\n",
    "\n",
    "    gbm = cb.CatBoostClassifier(**params)\n",
    "\n",
    "    pruning_callback = CatBoostPruningCallback(trial, \"Logloss\")\n",
    "    \n",
    "    gbm.fit(\n",
    "        X_train,\n",
    "        y_train,\n",
    "        eval_set=[(X_test, y_test)],\n",
    "        verbose=0,\n",
    "        early_stopping_rounds=10,\n",
    "        callbacks=[pruning_callback]\n",
    "    )\n",
    "\n",
    "    # evoke pruning manually.\n",
    "    pruning_callback.check_pruned()\n",
    "\n",
    "    pred_proba = gbm.predict_proba(X_test)\n",
    "\n",
    "    return log_loss(y_test, pred_proba)"
   ]
  },
  {
   "cell_type": "code",
   "execution_count": 13,
   "id": "a9044030",
   "metadata": {},
   "outputs": [
    {
     "name": "stderr",
     "output_type": "stream",
     "text": [
      "\u001b[32m[I 2023-04-06 17:27:44,209]\u001b[0m Trial 40 pruned. Trial was pruned at iteration 5.\u001b[0m\n"
     ]
    },
    {
     "name": "stdout",
     "output_type": "stream",
     "text": [
      "Trial 40 pruned. Trial was pruned at iteration 5.\n"
     ]
    },
    {
     "name": "stderr",
     "output_type": "stream",
     "text": [
      "\u001b[32m[I 2023-04-06 17:27:46,143]\u001b[0m Trial 41 finished with value: 0.3051886953261671 and parameters: {'learning_rate': 0.2583383324547179, 'l2_leaf_reg': 0.48903961314219996, 'colsample_bylevel': 0.09912435428891214, 'depth': 5, 'random_strength': 0.002432338763021007, 'bootstrap_type': 'MVS', 'grow_policy': 'Lossguide', 'od_type': 'Iter', 'od_wait': 44}. Best is trial 41 with value: 0.3051886953261671.\u001b[0m\n"
     ]
    },
    {
     "name": "stdout",
     "output_type": "stream",
     "text": [
      "Trial 41 finished with value: 0.3051886953261671 and parameters: {'learning_rate': 0.2583383324547179, 'l2_leaf_reg': 0.48903961314219996, 'colsample_bylevel': 0.09912435428891214, 'depth': 5, 'random_strength': 0.002432338763021007, 'bootstrap_type': 'MVS', 'grow_policy': 'Lossguide', 'od_type': 'Iter', 'od_wait': 44}. Best is trial 41 with value: 0.3051886953261671.\n"
     ]
    },
    {
     "name": "stderr",
     "output_type": "stream",
     "text": [
      "\u001b[32m[I 2023-04-06 17:27:47,867]\u001b[0m Trial 42 finished with value: 0.3300489120187404 and parameters: {'learning_rate': 0.3359171233907206, 'l2_leaf_reg': 1.596292208363456, 'colsample_bylevel': 0.09989064303010434, 'depth': 5, 'random_strength': 0.0050648440598956524, 'bootstrap_type': 'MVS', 'grow_policy': 'Lossguide', 'od_type': 'Iter', 'od_wait': 48}. Best is trial 41 with value: 0.3051886953261671.\u001b[0m\n"
     ]
    },
    {
     "name": "stdout",
     "output_type": "stream",
     "text": [
      "Trial 42 finished with value: 0.3300489120187404 and parameters: {'learning_rate': 0.3359171233907206, 'l2_leaf_reg': 1.596292208363456, 'colsample_bylevel': 0.09989064303010434, 'depth': 5, 'random_strength': 0.0050648440598956524, 'bootstrap_type': 'MVS', 'grow_policy': 'Lossguide', 'od_type': 'Iter', 'od_wait': 48}. Best is trial 41 with value: 0.3051886953261671.\n"
     ]
    },
    {
     "name": "stderr",
     "output_type": "stream",
     "text": [
      "\u001b[32m[I 2023-04-06 17:27:49,718]\u001b[0m Trial 43 finished with value: 0.3205735403668498 and parameters: {'learning_rate': 0.21026845231879437, 'l2_leaf_reg': 0.15903102871316951, 'colsample_bylevel': 0.0846734500441729, 'depth': 6, 'random_strength': 0.0006045201667099682, 'bootstrap_type': 'MVS', 'grow_policy': 'Lossguide', 'od_type': 'Iter', 'od_wait': 44}. Best is trial 41 with value: 0.3051886953261671.\u001b[0m\n"
     ]
    },
    {
     "name": "stdout",
     "output_type": "stream",
     "text": [
      "Trial 43 finished with value: 0.3205735403668498 and parameters: {'learning_rate': 0.21026845231879437, 'l2_leaf_reg': 0.15903102871316951, 'colsample_bylevel': 0.0846734500441729, 'depth': 6, 'random_strength': 0.0006045201667099682, 'bootstrap_type': 'MVS', 'grow_policy': 'Lossguide', 'od_type': 'Iter', 'od_wait': 44}. Best is trial 41 with value: 0.3051886953261671.\n"
     ]
    },
    {
     "name": "stderr",
     "output_type": "stream",
     "text": [
      "\u001b[32m[I 2023-04-06 17:27:50,169]\u001b[0m Trial 44 pruned. Trial was pruned at iteration 5.\u001b[0m\n"
     ]
    },
    {
     "name": "stdout",
     "output_type": "stream",
     "text": [
      "Trial 44 pruned. Trial was pruned at iteration 5.\n"
     ]
    },
    {
     "name": "stderr",
     "output_type": "stream",
     "text": [
      "\u001b[32m[I 2023-04-06 17:27:50,855]\u001b[0m Trial 45 pruned. Trial was pruned at iteration 56.\u001b[0m\n"
     ]
    },
    {
     "name": "stdout",
     "output_type": "stream",
     "text": [
      "Trial 45 pruned. Trial was pruned at iteration 56.\n"
     ]
    },
    {
     "name": "stderr",
     "output_type": "stream",
     "text": [
      "\u001b[32m[I 2023-04-06 17:27:51,287]\u001b[0m Trial 46 pruned. Trial was pruned at iteration 5.\u001b[0m\n"
     ]
    },
    {
     "name": "stdout",
     "output_type": "stream",
     "text": [
      "Trial 46 pruned. Trial was pruned at iteration 5.\n"
     ]
    },
    {
     "name": "stderr",
     "output_type": "stream",
     "text": [
      "\u001b[32m[I 2023-04-06 17:27:51,988]\u001b[0m Trial 47 pruned. Trial was pruned at iteration 38.\u001b[0m\n"
     ]
    },
    {
     "name": "stdout",
     "output_type": "stream",
     "text": [
      "Trial 47 pruned. Trial was pruned at iteration 38.\n"
     ]
    },
    {
     "name": "stderr",
     "output_type": "stream",
     "text": [
      "\u001b[32m[I 2023-04-06 17:27:52,414]\u001b[0m Trial 48 pruned. Trial was pruned at iteration 5.\u001b[0m\n"
     ]
    },
    {
     "name": "stdout",
     "output_type": "stream",
     "text": [
      "Trial 48 pruned. Trial was pruned at iteration 5.\n"
     ]
    },
    {
     "name": "stderr",
     "output_type": "stream",
     "text": [
      "\u001b[32m[I 2023-04-06 17:27:52,942]\u001b[0m Trial 49 pruned. Trial was pruned at iteration 30.\u001b[0m\n"
     ]
    },
    {
     "name": "stdout",
     "output_type": "stream",
     "text": [
      "Trial 49 pruned. Trial was pruned at iteration 30.\n"
     ]
    },
    {
     "name": "stderr",
     "output_type": "stream",
     "text": [
      "\u001b[32m[I 2023-04-06 17:27:53,395]\u001b[0m Trial 50 pruned. Trial was pruned at iteration 5.\u001b[0m\n"
     ]
    },
    {
     "name": "stdout",
     "output_type": "stream",
     "text": [
      "Trial 50 pruned. Trial was pruned at iteration 5.\n"
     ]
    },
    {
     "name": "stderr",
     "output_type": "stream",
     "text": [
      "\u001b[32m[I 2023-04-06 17:27:54,714]\u001b[0m Trial 51 pruned. Trial was pruned at iteration 124.\u001b[0m\n"
     ]
    },
    {
     "name": "stdout",
     "output_type": "stream",
     "text": [
      "Trial 51 pruned. Trial was pruned at iteration 124.\n"
     ]
    },
    {
     "name": "stderr",
     "output_type": "stream",
     "text": [
      "\u001b[32m[I 2023-04-06 17:27:56,763]\u001b[0m Trial 52 finished with value: 0.29719934113512864 and parameters: {'learning_rate': 0.18455759521997997, 'l2_leaf_reg': 0.28571180257777, 'colsample_bylevel': 0.09648188035500745, 'depth': 5, 'random_strength': 0.0016371839885351422, 'bootstrap_type': 'MVS', 'grow_policy': 'Lossguide', 'od_type': 'Iter', 'od_wait': 44}. Best is trial 52 with value: 0.29719934113512864.\u001b[0m\n"
     ]
    },
    {
     "name": "stdout",
     "output_type": "stream",
     "text": [
      "Trial 52 finished with value: 0.29719934113512864 and parameters: {'learning_rate': 0.18455759521997997, 'l2_leaf_reg': 0.28571180257777, 'colsample_bylevel': 0.09648188035500745, 'depth': 5, 'random_strength': 0.0016371839885351422, 'bootstrap_type': 'MVS', 'grow_policy': 'Lossguide', 'od_type': 'Iter', 'od_wait': 44}. Best is trial 52 with value: 0.29719934113512864.\n"
     ]
    },
    {
     "name": "stderr",
     "output_type": "stream",
     "text": [
      "\u001b[32m[I 2023-04-06 17:27:59,031]\u001b[0m Trial 53 finished with value: 0.298021022486473 and parameters: {'learning_rate': 0.18019723220436862, 'l2_leaf_reg': 0.25477304480371643, 'colsample_bylevel': 0.09955793943703921, 'depth': 6, 'random_strength': 0.0006924333653523341, 'bootstrap_type': 'MVS', 'grow_policy': 'Lossguide', 'od_type': 'Iter', 'od_wait': 44}. Best is trial 52 with value: 0.29719934113512864.\u001b[0m\n"
     ]
    },
    {
     "name": "stdout",
     "output_type": "stream",
     "text": [
      "Trial 53 finished with value: 0.298021022486473 and parameters: {'learning_rate': 0.18019723220436862, 'l2_leaf_reg': 0.25477304480371643, 'colsample_bylevel': 0.09955793943703921, 'depth': 6, 'random_strength': 0.0006924333653523341, 'bootstrap_type': 'MVS', 'grow_policy': 'Lossguide', 'od_type': 'Iter', 'od_wait': 44}. Best is trial 52 with value: 0.29719934113512864.\n"
     ]
    },
    {
     "name": "stderr",
     "output_type": "stream",
     "text": [
      "\u001b[32m[I 2023-04-06 17:27:59,648]\u001b[0m Trial 54 pruned. Trial was pruned at iteration 23.\u001b[0m\n"
     ]
    },
    {
     "name": "stdout",
     "output_type": "stream",
     "text": [
      "Trial 54 pruned. Trial was pruned at iteration 23.\n"
     ]
    },
    {
     "name": "stderr",
     "output_type": "stream",
     "text": [
      "\u001b[32m[I 2023-04-06 17:28:00,103]\u001b[0m Trial 55 pruned. Trial was pruned at iteration 5.\u001b[0m\n"
     ]
    },
    {
     "name": "stdout",
     "output_type": "stream",
     "text": [
      "Trial 55 pruned. Trial was pruned at iteration 5.\n"
     ]
    },
    {
     "name": "stderr",
     "output_type": "stream",
     "text": [
      "\u001b[32m[I 2023-04-06 17:28:00,561]\u001b[0m Trial 56 pruned. Trial was pruned at iteration 5.\u001b[0m\n"
     ]
    },
    {
     "name": "stdout",
     "output_type": "stream",
     "text": [
      "Trial 56 pruned. Trial was pruned at iteration 5.\n"
     ]
    },
    {
     "name": "stderr",
     "output_type": "stream",
     "text": [
      "\u001b[32m[I 2023-04-06 17:28:01,589]\u001b[0m Trial 57 pruned. Trial was pruned at iteration 83.\u001b[0m\n"
     ]
    },
    {
     "name": "stdout",
     "output_type": "stream",
     "text": [
      "Trial 57 pruned. Trial was pruned at iteration 83.\n"
     ]
    },
    {
     "name": "stderr",
     "output_type": "stream",
     "text": [
      "\u001b[32m[I 2023-04-06 17:28:02,034]\u001b[0m Trial 58 pruned. Trial was pruned at iteration 5.\u001b[0m\n"
     ]
    },
    {
     "name": "stdout",
     "output_type": "stream",
     "text": [
      "Trial 58 pruned. Trial was pruned at iteration 5.\n"
     ]
    },
    {
     "name": "stderr",
     "output_type": "stream",
     "text": [
      "\u001b[32m[I 2023-04-06 17:28:02,495]\u001b[0m Trial 59 pruned. Trial was pruned at iteration 5.\u001b[0m\n"
     ]
    },
    {
     "name": "stdout",
     "output_type": "stream",
     "text": [
      "Trial 59 pruned. Trial was pruned at iteration 5.\n"
     ]
    }
   ],
   "source": [
    "study.optimize(ho_objective, n_trials=20, timeout=600)"
   ]
  },
  {
   "cell_type": "code",
   "execution_count": 55,
   "id": "e694597a",
   "metadata": {},
   "outputs": [
    {
     "data": {
      "text/plain": [
       "Timestamp('2023-04-06 17:28:02.036938')"
      ]
     },
     "execution_count": 55,
     "metadata": {},
     "output_type": "execute_result"
    }
   ],
   "source": [
    "study.trials_dataframe()[\"datetime_start\"].max()"
   ]
  },
  {
   "cell_type": "code",
   "execution_count": 18,
   "id": "b82795b3",
   "metadata": {},
   "outputs": [],
   "source": []
  },
  {
   "cell_type": "code",
   "execution_count": 19,
   "id": "4c40d1d0",
   "metadata": {},
   "outputs": [],
   "source": []
  },
  {
   "cell_type": "code",
   "execution_count": 51,
   "id": "161afece",
   "metadata": {},
   "outputs": [
    {
     "name": "stdout",
     "output_type": "stream",
     "text": [
      "True True\n"
     ]
    }
   ],
   "source": [
    "a = np.random.random() > 0.9\n",
    "b = True\n",
    "\n",
    "if b & a:\n",
    "    print(a, b)"
   ]
  },
  {
   "cell_type": "code",
   "execution_count": 52,
   "id": "5ad60884",
   "metadata": {},
   "outputs": [
    {
     "data": {
      "text/plain": [
       "array([1, 2, 3, 5, 6, 7])"
      ]
     },
     "execution_count": 52,
     "metadata": {},
     "output_type": "execute_result"
    }
   ],
   "source": [
    "a = [1,2,3]\n",
    "b = [5,6,7]\n",
    "\n",
    "np.concatenate([a, b])"
   ]
  },
  {
   "cell_type": "code",
   "execution_count": 1,
   "id": "952a54a6",
   "metadata": {},
   "outputs": [],
   "source": [
    "%load_ext autoreload\n",
    "%autoreload 2"
   ]
  },
  {
   "cell_type": "code",
   "execution_count": 2,
   "id": "c4a07750",
   "metadata": {},
   "outputs": [],
   "source": [
    "from freqtrade.litmus import feature_selection_helper"
   ]
  },
  {
   "cell_type": "code",
   "execution_count": 7,
   "id": "4c55ec91",
   "metadata": {},
   "outputs": [
    {
     "data": {
      "text/plain": [
       "array(['%-adx_128_SOL/USDTUSDT_3m', '%-adx_24_BTC/USDTUSDT_30m',\n",
       "       '%-adx_24_SOL/USDTUSDT_3m', '%-adx_64_SOL/USDTUSDT_30m',\n",
       "       '%-adx_64_SOL/USDTUSDT_3m', '%-adx_8_BTC/USDTUSDT_30m',\n",
       "       '%-adx_8_SOL/USDTUSDT_30m', '%-adx_8_SOL/USDTUSDT_3m',\n",
       "       '%-adx_8_shift-2_BTC/USDTUSDT_30m',\n",
       "       '%-adx_8_shift-2_BTC/USDTUSDT_3m',\n",
       "       '%-adx_8_shift-2_SOL/USDTUSDT_30m',\n",
       "       '%-adx_8_shift-2_SOL/USDTUSDT_3m',\n",
       "       '%-adx_8_shift-4_BTC/USDTUSDT_30m',\n",
       "       '%-adx_8_shift-4_SOL/USDTUSDT_30m', '%-apo_128_BTC/USDTUSDT_3m',\n",
       "       '%-apo_24_BTC/USDTUSDT_30m', '%-apo_64_BTC/USDTUSDT_30m',\n",
       "       '%-apo_64_shift-4_SOL/USDTUSDT_30m',\n",
       "       '%-apo_64_shift-4_SOL/USDTUSDT_3m', '%-apo_8_BTC/USDTUSDT_30m',\n",
       "       '%-apo_8_BTC/USDTUSDT_3m', '%-apo_8_shift-1_BTC/USDTUSDT_30m',\n",
       "       '%-apo_8_shift-1_BTC/USDTUSDT_3m',\n",
       "       '%-apo_8_shift-2_BTC/USDTUSDT_30m',\n",
       "       '%-apo_8_shift-3_BTC/USDTUSDT_3m', '%-atr_128_SOL/USDTUSDT_30m',\n",
       "       '%-atr_24_SOL/USDTUSDT_3m', '%-atr_64_BTC/USDTUSDT_30m',\n",
       "       '%-atr_64_SOL/USDTUSDT_30m', '%-atr_64_SOL/USDTUSDT_3m',\n",
       "       '%-atr_8_shift-3_SOL/USDTUSDT_3m',\n",
       "       '%-bb_width_128_BTC/USDTUSDT_3m', '%-bb_width_128_SOL/USDTUSDT_3m',\n",
       "       '%-bb_width_64_BTC/USDTUSDT_30m', '%-bb_width_64_SOL/USDTUSDT_30m',\n",
       "       '%-bb_width_64_SOL/USDTUSDT_3m', '%-bb_width_8_BTC/USDTUSDT_30m',\n",
       "       '%-bb_width_8_SOL/USDTUSDT_30m',\n",
       "       '%-bb_width_8_shift-1_BTC/USDTUSDT_30m',\n",
       "       '%-bb_width_8_shift-1_SOL/USDTUSDT_3m',\n",
       "       '%-bb_width_8_shift-2_BTC/USDTUSDT_30m',\n",
       "       '%-bb_width_8_shift-2_SOL/USDTUSDT_3m',\n",
       "       '%-bb_width_8_shift-4_BTC/USDTUSDT_30m',\n",
       "       '%-cci_128_BTC/USDTUSDT_30m', '%-cci_128_SOL/USDTUSDT_30m',\n",
       "       '%-cci_128_SOL/USDTUSDT_3m', '%-cci_128_shift-2_SOL/USDTUSDT_30m',\n",
       "       '%-cci_128_shift-2_SOL/USDTUSDT_3m',\n",
       "       '%-cci_128_shift-4_BTC/USDTUSDT_30m',\n",
       "       '%-cci_128_shift-4_SOL/USDTUSDT_3m', '%-cci_24_BTC/USDTUSDT_30m',\n",
       "       '%-cci_24_SOL/USDTUSDT_30m', '%-cci_24_SOL/USDTUSDT_3m',\n",
       "       '%-cci_24_shift-1_BTC/USDTUSDT_3m',\n",
       "       '%-cci_24_shift-1_SOL/USDTUSDT_30m',\n",
       "       '%-cci_24_shift-1_SOL/USDTUSDT_3m',\n",
       "       '%-cci_24_shift-2_SOL/USDTUSDT_30m',\n",
       "       '%-cci_24_shift-2_SOL/USDTUSDT_3m',\n",
       "       '%-cci_24_shift-3_BTC/USDTUSDT_3m',\n",
       "       '%-cci_24_shift-3_SOL/USDTUSDT_30m',\n",
       "       '%-cci_24_shift-4_BTC/USDTUSDT_30m',\n",
       "       '%-cci_24_shift-4_BTC/USDTUSDT_3m',\n",
       "       '%-cci_24_shift-4_SOL/USDTUSDT_30m', '%-cci_64_BTC/USDTUSDT_30m',\n",
       "       '%-cci_64_SOL/USDTUSDT_30m', '%-cci_64_shift-1_BTC/USDTUSDT_30m',\n",
       "       '%-cci_64_shift-1_BTC/USDTUSDT_3m',\n",
       "       '%-cci_64_shift-1_SOL/USDTUSDT_30m',\n",
       "       '%-cci_64_shift-1_SOL/USDTUSDT_3m',\n",
       "       '%-cci_64_shift-2_BTC/USDTUSDT_30m',\n",
       "       '%-cci_64_shift-2_SOL/USDTUSDT_3m',\n",
       "       '%-cci_64_shift-3_SOL/USDTUSDT_3m',\n",
       "       '%-cci_64_shift-4_SOL/USDTUSDT_30m', '%-cci_8_BTC/USDTUSDT_30m',\n",
       "       '%-cci_8_SOL/USDTUSDT_30m', '%-cci_8_SOL/USDTUSDT_3m',\n",
       "       '%-cci_8_shift-1_BTC/USDTUSDT_3m',\n",
       "       '%-cci_8_shift-1_SOL/USDTUSDT_30m',\n",
       "       '%-cci_8_shift-1_SOL/USDTUSDT_3m',\n",
       "       '%-cci_8_shift-2_BTC/USDTUSDT_30m',\n",
       "       '%-cci_8_shift-2_BTC/USDTUSDT_3m',\n",
       "       '%-cci_8_shift-2_SOL/USDTUSDT_30m',\n",
       "       '%-cci_8_shift-2_SOL/USDTUSDT_3m',\n",
       "       '%-cci_8_shift-3_BTC/USDTUSDT_30m',\n",
       "       '%-cci_8_shift-3_BTC/USDTUSDT_3m',\n",
       "       '%-cci_8_shift-3_SOL/USDTUSDT_30m',\n",
       "       '%-cci_8_shift-3_SOL/USDTUSDT_3m',\n",
       "       '%-cci_8_shift-4_BTC/USDTUSDT_30m',\n",
       "       '%-cci_8_shift-4_SOL/USDTUSDT_3m', '%-chop_128_BTC/USDTUSDT_3m',\n",
       "       '%-chop_128_SOL/USDTUSDT_3m', '%-chop_128_shift-4_BTC/USDTUSDT_3m',\n",
       "       '%-chop_128_shift-4_SOL/USDTUSDT_30m',\n",
       "       '%-chop_128_shift-4_SOL/USDTUSDT_3m', '%-chop_24_BTC/USDTUSDT_3m',\n",
       "       '%-chop_24_SOL/USDTUSDT_30m', '%-chop_24_SOL/USDTUSDT_3m',\n",
       "       '%-chop_24_shift-1_SOL/USDTUSDT_30m',\n",
       "       '%-chop_24_shift-2_BTC/USDTUSDT_3m',\n",
       "       '%-chop_24_shift-2_SOL/USDTUSDT_30m',\n",
       "       '%-chop_24_shift-3_BTC/USDTUSDT_3m',\n",
       "       '%-chop_24_shift-3_SOL/USDTUSDT_30m',\n",
       "       '%-chop_24_shift-3_SOL/USDTUSDT_3m',\n",
       "       '%-chop_24_shift-4_SOL/USDTUSDT_30m', '%-chop_64_BTC/USDTUSDT_3m',\n",
       "       '%-chop_64_shift-2_SOL/USDTUSDT_30m',\n",
       "       '%-chop_64_shift-2_SOL/USDTUSDT_3m',\n",
       "       '%-chop_64_shift-4_BTC/USDTUSDT_3m',\n",
       "       '%-chop_64_shift-4_SOL/USDTUSDT_3m', '%-chop_8_BTC/USDTUSDT_30m',\n",
       "       '%-chop_8_BTC/USDTUSDT_3m', '%-chop_8_SOL/USDTUSDT_30m',\n",
       "       '%-chop_8_SOL/USDTUSDT_3m', '%-chop_8_shift-1_BTC/USDTUSDT_30m',\n",
       "       '%-chop_8_shift-1_BTC/USDTUSDT_3m',\n",
       "       '%-chop_8_shift-1_SOL/USDTUSDT_3m',\n",
       "       '%-chop_8_shift-2_BTC/USDTUSDT_30m',\n",
       "       '%-chop_8_shift-2_BTC/USDTUSDT_3m',\n",
       "       '%-chop_8_shift-2_SOL/USDTUSDT_30m',\n",
       "       '%-chop_8_shift-2_SOL/USDTUSDT_3m',\n",
       "       '%-chop_8_shift-3_BTC/USDTUSDT_30m',\n",
       "       '%-chop_8_shift-3_BTC/USDTUSDT_3m',\n",
       "       '%-chop_8_shift-3_SOL/USDTUSDT_30m',\n",
       "       '%-chop_8_shift-3_SOL/USDTUSDT_3m',\n",
       "       '%-chop_8_shift-4_BTC/USDTUSDT_30m',\n",
       "       '%-chop_8_shift-4_BTC/USDTUSDT_3m',\n",
       "       '%-chop_8_shift-4_SOL/USDTUSDT_30m',\n",
       "       '%-chop_8_shift-4_SOL/USDTUSDT_3m',\n",
       "       '%-close-bb_lower_128_SOL/USDTUSDT_30m',\n",
       "       '%-close-bb_lower_128_shift-4_SOL/USDTUSDT_30m',\n",
       "       '%-close-bb_lower_24_SOL/USDTUSDT_3m',\n",
       "       '%-close-bb_lower_24_shift-1_SOL/USDTUSDT_3m',\n",
       "       '%-close-bb_lower_24_shift-2_BTC/USDTUSDT_3m',\n",
       "       '%-close-bb_lower_24_shift-2_SOL/USDTUSDT_3m',\n",
       "       '%-close-bb_lower_24_shift-4_BTC/USDTUSDT_3m',\n",
       "       '%-close-bb_lower_24_shift-4_SOL/USDTUSDT_30m',\n",
       "       '%-close-bb_lower_24_shift-4_SOL/USDTUSDT_3m',\n",
       "       '%-close-bb_lower_64_BTC/USDTUSDT_3m',\n",
       "       '%-close-bb_lower_64_shift-2_SOL/USDTUSDT_30m',\n",
       "       '%-close-bb_lower_64_shift-3_SOL/USDTUSDT_3m',\n",
       "       '%-close-bb_lower_64_shift-4_BTC/USDTUSDT_30m',\n",
       "       '%-close-bb_lower_64_shift-4_BTC/USDTUSDT_3m',\n",
       "       '%-close-bb_lower_8_BTC/USDTUSDT_30m',\n",
       "       '%-close-bb_lower_8_SOL/USDTUSDT_30m',\n",
       "       '%-close-bb_lower_8_SOL/USDTUSDT_3m',\n",
       "       '%-close-bb_lower_8_shift-1_BTC/USDTUSDT_3m',\n",
       "       '%-close-bb_lower_8_shift-1_SOL/USDTUSDT_30m',\n",
       "       '%-close-bb_lower_8_shift-2_BTC/USDTUSDT_30m',\n",
       "       '%-close-bb_lower_8_shift-2_BTC/USDTUSDT_3m',\n",
       "       '%-close-bb_lower_8_shift-2_SOL/USDTUSDT_3m',\n",
       "       '%-close-bb_lower_8_shift-3_BTC/USDTUSDT_30m',\n",
       "       '%-close-bb_lower_8_shift-3_BTC/USDTUSDT_3m',\n",
       "       '%-close-bb_lower_8_shift-3_SOL/USDTUSDT_3m',\n",
       "       '%-close-bb_lower_8_shift-4_BTC/USDTUSDT_3m',\n",
       "       '%-close-bb_lower_8_shift-4_SOL/USDTUSDT_30m',\n",
       "       '%-close-bb_lower_8_shift-4_SOL/USDTUSDT_3m',\n",
       "       '%-cmf_128_BTC/USDTUSDT_30m', '%-cmf_128_SOL/USDTUSDT_30m',\n",
       "       '%-cmf_128_SOL/USDTUSDT_3m', '%-cmf_128_shift-3_SOL/USDTUSDT_30m',\n",
       "       '%-cmf_128_shift-4_BTC/USDTUSDT_30m', '%-cmf_24_BTC/USDTUSDT_3m',\n",
       "       '%-cmf_24_shift-1_BTC/USDTUSDT_3m',\n",
       "       '%-cmf_24_shift-1_SOL/USDTUSDT_3m',\n",
       "       '%-cmf_24_shift-2_BTC/USDTUSDT_30m',\n",
       "       '%-cmf_24_shift-2_BTC/USDTUSDT_3m',\n",
       "       '%-cmf_24_shift-2_SOL/USDTUSDT_3m',\n",
       "       '%-cmf_24_shift-3_BTC/USDTUSDT_3m',\n",
       "       '%-cmf_24_shift-3_SOL/USDTUSDT_30m',\n",
       "       '%-cmf_24_shift-3_SOL/USDTUSDT_3m',\n",
       "       '%-cmf_24_shift-4_BTC/USDTUSDT_3m',\n",
       "       '%-cmf_24_shift-4_SOL/USDTUSDT_3m', '%-cmf_64_BTC/USDTUSDT_30m',\n",
       "       '%-cmf_64_shift-1_BTC/USDTUSDT_3m',\n",
       "       '%-cmf_64_shift-2_BTC/USDTUSDT_3m',\n",
       "       '%-cmf_64_shift-2_SOL/USDTUSDT_3m',\n",
       "       '%-cmf_64_shift-3_BTC/USDTUSDT_3m', '%-cmf_8_BTC/USDTUSDT_3m',\n",
       "       '%-cmf_8_SOL/USDTUSDT_30m', '%-cmf_8_SOL/USDTUSDT_3m',\n",
       "       '%-cmf_8_shift-1_BTC/USDTUSDT_3m',\n",
       "       '%-cmf_8_shift-2_BTC/USDTUSDT_3m',\n",
       "       '%-cmf_8_shift-2_SOL/USDTUSDT_30m',\n",
       "       '%-cmf_8_shift-2_SOL/USDTUSDT_3m',\n",
       "       '%-cmf_8_shift-3_BTC/USDTUSDT_30m',\n",
       "       '%-cmf_8_shift-3_BTC/USDTUSDT_3m',\n",
       "       '%-cmf_8_shift-3_SOL/USDTUSDT_30m',\n",
       "       '%-cmf_8_shift-3_SOL/USDTUSDT_3m',\n",
       "       '%-cmf_8_shift-4_BTC/USDTUSDT_3m',\n",
       "       '%-cmf_8_shift-4_SOL/USDTUSDT_30m',\n",
       "       '%-cmf_8_shift-4_SOL/USDTUSDT_3m', '%-cti_128_BTC/USDTUSDT_3m',\n",
       "       '%-cti_128_SOL/USDTUSDT_3m', '%-cti_24_BTC/USDTUSDT_3m',\n",
       "       '%-cti_24_SOL/USDTUSDT_30m', '%-cti_24_SOL/USDTUSDT_3m',\n",
       "       '%-cti_24_shift-2_BTC/USDTUSDT_30m',\n",
       "       '%-cti_24_shift-2_SOL/USDTUSDT_30m',\n",
       "       '%-cti_24_shift-4_BTC/USDTUSDT_30m',\n",
       "       '%-cti_24_shift-4_SOL/USDTUSDT_3m', '%-cti_64_SOL/USDTUSDT_3m',\n",
       "       '%-cti_8_BTC/USDTUSDT_3m', '%-cti_8_SOL/USDTUSDT_3m',\n",
       "       '%-cti_8_shift-1_BTC/USDTUSDT_3m',\n",
       "       '%-cti_8_shift-1_SOL/USDTUSDT_30m',\n",
       "       '%-cti_8_shift-2_BTC/USDTUSDT_30m',\n",
       "       '%-cti_8_shift-2_BTC/USDTUSDT_3m',\n",
       "       '%-cti_8_shift-2_SOL/USDTUSDT_30m',\n",
       "       '%-cti_8_shift-2_SOL/USDTUSDT_3m',\n",
       "       '%-cti_8_shift-3_BTC/USDTUSDT_30m',\n",
       "       '%-cti_8_shift-4_BTC/USDTUSDT_30m',\n",
       "       '%-cti_8_shift-4_SOL/USDTUSDT_3m', '%-day_of_week_cos',\n",
       "       '%-day_of_week_sin', '%-er_128_BTC/USDTUSDT_3m',\n",
       "       '%-er_128_shift-1_SOL/USDTUSDT_3m',\n",
       "       '%-er_128_shift-2_BTC/USDTUSDT_3m',\n",
       "       '%-er_128_shift-3_BTC/USDTUSDT_30m',\n",
       "       '%-er_128_shift-3_SOL/USDTUSDT_3m',\n",
       "       '%-er_128_shift-4_BTC/USDTUSDT_3m', '%-er_24_SOL/USDTUSDT_30m',\n",
       "       '%-er_24_shift-1_BTC/USDTUSDT_3m',\n",
       "       '%-er_24_shift-1_SOL/USDTUSDT_3m',\n",
       "       '%-er_24_shift-2_BTC/USDTUSDT_30m',\n",
       "       '%-er_24_shift-2_BTC/USDTUSDT_3m',\n",
       "       '%-er_24_shift-2_SOL/USDTUSDT_30m',\n",
       "       '%-er_24_shift-2_SOL/USDTUSDT_3m',\n",
       "       '%-er_24_shift-3_BTC/USDTUSDT_30m',\n",
       "       '%-er_24_shift-3_BTC/USDTUSDT_3m',\n",
       "       '%-er_24_shift-3_SOL/USDTUSDT_3m',\n",
       "       '%-er_24_shift-4_BTC/USDTUSDT_3m', '%-er_64_BTC/USDTUSDT_30m',\n",
       "       '%-er_64_BTC/USDTUSDT_3m', '%-er_64_SOL/USDTUSDT_30m',\n",
       "       '%-er_64_SOL/USDTUSDT_3m', '%-er_64_shift-1_BTC/USDTUSDT_3m',\n",
       "       '%-er_64_shift-1_SOL/USDTUSDT_30m',\n",
       "       '%-er_64_shift-1_SOL/USDTUSDT_3m',\n",
       "       '%-er_64_shift-2_BTC/USDTUSDT_3m',\n",
       "       '%-er_64_shift-2_SOL/USDTUSDT_3m',\n",
       "       '%-er_64_shift-4_BTC/USDTUSDT_30m',\n",
       "       '%-er_64_shift-4_SOL/USDTUSDT_30m', '%-er_8_BTC/USDTUSDT_30m',\n",
       "       '%-er_8_BTC/USDTUSDT_3m', '%-er_8_SOL/USDTUSDT_30m',\n",
       "       '%-er_8_SOL/USDTUSDT_3m', '%-er_8_shift-1_BTC/USDTUSDT_30m',\n",
       "       '%-er_8_shift-1_BTC/USDTUSDT_3m',\n",
       "       '%-er_8_shift-1_SOL/USDTUSDT_30m',\n",
       "       '%-er_8_shift-2_BTC/USDTUSDT_30m',\n",
       "       '%-er_8_shift-2_BTC/USDTUSDT_3m',\n",
       "       '%-er_8_shift-2_SOL/USDTUSDT_30m',\n",
       "       '%-er_8_shift-2_SOL/USDTUSDT_3m',\n",
       "       '%-er_8_shift-3_BTC/USDTUSDT_30m',\n",
       "       '%-er_8_shift-3_BTC/USDTUSDT_3m', '%-er_8_shift-3_SOL/USDTUSDT_3m',\n",
       "       '%-er_8_shift-4_BTC/USDTUSDT_30m',\n",
       "       '%-er_8_shift-4_BTC/USDTUSDT_3m',\n",
       "       '%-er_8_shift-4_SOL/USDTUSDT_30m',\n",
       "       '%-er_8_shift-4_SOL/USDTUSDT_3m', '%-hour_of_day_cos',\n",
       "       '%-hour_of_day_sin', '%-linear_128_shift-3_BTC/USDTUSDT_3m',\n",
       "       '%-linear_24_BTC/USDTUSDT_30m', '%-linear_24_SOL/USDTUSDT_30m',\n",
       "       '%-linear_24_SOL/USDTUSDT_3m',\n",
       "       '%-linear_24_shift-4_SOL/USDTUSDT_30m',\n",
       "       '%-linear_24_shift-4_SOL/USDTUSDT_3m',\n",
       "       '%-linear_64_BTC/USDTUSDT_30m', '%-linear_64_SOL/USDTUSDT_30m',\n",
       "       '%-linear_8_BTC/USDTUSDT_30m', '%-linear_8_SOL/USDTUSDT_30m',\n",
       "       '%-linear_8_shift-1_BTC/USDTUSDT_30m',\n",
       "       '%-linear_8_shift-1_BTC/USDTUSDT_3m',\n",
       "       '%-linear_8_shift-1_SOL/USDTUSDT_3m',\n",
       "       '%-linear_8_shift-2_BTC/USDTUSDT_30m',\n",
       "       '%-linear_8_shift-2_SOL/USDTUSDT_30m',\n",
       "       '%-linear_8_shift-2_SOL/USDTUSDT_3m',\n",
       "       '%-linear_8_shift-3_BTC/USDTUSDT_3m',\n",
       "       '%-linear_8_shift-3_SOL/USDTUSDT_30m',\n",
       "       '%-linear_8_shift-3_SOL/USDTUSDT_3m',\n",
       "       '%-linear_8_shift-4_BTC/USDTUSDT_30m',\n",
       "       '%-macdhist_24_BTC/USDTUSDT_30m',\n",
       "       '%-macdhist_24_shift-4_BTC/USDTUSDT_30m',\n",
       "       '%-macdhist_24_shift-4_BTC/USDTUSDT_3m',\n",
       "       '%-macdhist_64_shift-4_BTC/USDTUSDT_3m',\n",
       "       '%-macdhist_64_shift-4_SOL/USDTUSDT_30m',\n",
       "       '%-macdhist_64_shift-4_SOL/USDTUSDT_3m',\n",
       "       '%-macdhist_8_BTC/USDTUSDT_3m', '%-macdhist_8_SOL/USDTUSDT_3m',\n",
       "       '%-macdhist_8_shift-1_BTC/USDTUSDT_30m',\n",
       "       '%-macdhist_8_shift-1_BTC/USDTUSDT_3m',\n",
       "       '%-macdhist_8_shift-1_SOL/USDTUSDT_30m',\n",
       "       '%-macdhist_8_shift-1_SOL/USDTUSDT_3m',\n",
       "       '%-macdhist_8_shift-2_BTC/USDTUSDT_30m',\n",
       "       '%-macdhist_8_shift-2_BTC/USDTUSDT_3m',\n",
       "       '%-macdhist_8_shift-2_SOL/USDTUSDT_30m',\n",
       "       '%-macdhist_8_shift-3_BTC/USDTUSDT_30m',\n",
       "       '%-macdhist_8_shift-4_BTC/USDTUSDT_30m',\n",
       "       '%-macdhist_8_shift-4_BTC/USDTUSDT_3m',\n",
       "       '%-mfi_128_BTC/USDTUSDT_30m', '%-mfi_128_SOL/USDTUSDT_30m',\n",
       "       '%-mfi_128_shift-3_SOL/USDTUSDT_30m',\n",
       "       '%-mfi_128_shift-4_BTC/USDTUSDT_3m',\n",
       "       '%-mfi_128_shift-4_SOL/USDTUSDT_3m', '%-mfi_24_BTC/USDTUSDT_3m',\n",
       "       '%-mfi_24_SOL/USDTUSDT_30m', '%-mfi_24_shift-1_BTC/USDTUSDT_30m',\n",
       "       '%-mfi_24_shift-1_SOL/USDTUSDT_3m',\n",
       "       '%-mfi_24_shift-2_BTC/USDTUSDT_30m',\n",
       "       '%-mfi_24_shift-2_BTC/USDTUSDT_3m',\n",
       "       '%-mfi_24_shift-2_SOL/USDTUSDT_3m',\n",
       "       '%-mfi_24_shift-3_BTC/USDTUSDT_30m',\n",
       "       '%-mfi_24_shift-3_SOL/USDTUSDT_30m',\n",
       "       '%-mfi_24_shift-3_SOL/USDTUSDT_3m',\n",
       "       '%-mfi_24_shift-4_BTC/USDTUSDT_30m',\n",
       "       '%-mfi_24_shift-4_SOL/USDTUSDT_30m',\n",
       "       '%-mfi_24_shift-4_SOL/USDTUSDT_3m', '%-mfi_64_SOL/USDTUSDT_30m',\n",
       "       '%-mfi_64_SOL/USDTUSDT_3m', '%-mfi_64_shift-2_BTC/USDTUSDT_3m',\n",
       "       '%-mfi_64_shift-2_SOL/USDTUSDT_3m',\n",
       "       '%-mfi_64_shift-3_BTC/USDTUSDT_30m',\n",
       "       '%-mfi_64_shift-4_BTC/USDTUSDT_3m',\n",
       "       '%-mfi_64_shift-4_SOL/USDTUSDT_30m',\n",
       "       '%-mfi_64_shift-4_SOL/USDTUSDT_3m', '%-mfi_8_BTC/USDTUSDT_3m',\n",
       "       '%-mfi_8_SOL/USDTUSDT_3m', '%-mfi_8_shift-1_BTC/USDTUSDT_30m',\n",
       "       '%-mfi_8_shift-1_BTC/USDTUSDT_3m',\n",
       "       '%-mfi_8_shift-1_SOL/USDTUSDT_30m',\n",
       "       '%-mfi_8_shift-1_SOL/USDTUSDT_3m',\n",
       "       '%-mfi_8_shift-2_SOL/USDTUSDT_30m',\n",
       "       '%-mfi_8_shift-2_SOL/USDTUSDT_3m',\n",
       "       '%-mfi_8_shift-3_BTC/USDTUSDT_30m',\n",
       "       '%-mfi_8_shift-3_SOL/USDTUSDT_30m',\n",
       "       '%-mfi_8_shift-3_SOL/USDTUSDT_3m',\n",
       "       '%-mfi_8_shift-4_BTC/USDTUSDT_3m',\n",
       "       '%-mfi_8_shift-4_SOL/USDTUSDT_30m',\n",
       "       '%-pct-change_gen_BTC/USDTUSDT_30m',\n",
       "       '%-pct-change_gen_SOL/USDTUSDT_30m',\n",
       "       '%-pct-change_gen_shift-1_SOL/USDTUSDT_3m',\n",
       "       '%-pct-change_gen_shift-2_BTC/USDTUSDT_30m',\n",
       "       '%-pct-change_gen_shift-2_BTC/USDTUSDT_3m',\n",
       "       '%-pct-change_gen_shift-2_SOL/USDTUSDT_30m',\n",
       "       '%-pct-change_gen_shift-3_SOL/USDTUSDT_30m',\n",
       "       '%-pct-change_gen_shift-4_BTC/USDTUSDT_30m',\n",
       "       '%-pct-change_gen_shift-4_BTC/USDTUSDT_3m',\n",
       "       '%-pct-change_gen_shift-4_SOL/USDTUSDT_3m',\n",
       "       '%-primary_long_perf_count', '%-primary_long_perf_mean',\n",
       "       '%-primary_long_perf_std', '%-primary_short_perf_count',\n",
       "       '%-primary_short_perf_std',\n",
       "       '%-raw_volume_gen_shift-1_BTC/USDTUSDT_3m',\n",
       "       '%-raw_volume_gen_shift-1_SOL/USDTUSDT_3m',\n",
       "       '%-raw_volume_gen_shift-2_SOL/USDTUSDT_30m',\n",
       "       '%-raw_volume_gen_shift-2_SOL/USDTUSDT_3m',\n",
       "       '%-raw_volume_gen_shift-3_BTC/USDTUSDT_30m',\n",
       "       '%-raw_volume_gen_shift-4_BTC/USDTUSDT_30m',\n",
       "       '%-raw_volume_gen_shift-4_SOL/USDTUSDT_3m',\n",
       "       '%-relative_volume_128_shift-1_BTC/USDTUSDT_3m',\n",
       "       '%-relative_volume_128_shift-1_SOL/USDTUSDT_30m',\n",
       "       '%-relative_volume_128_shift-2_BTC/USDTUSDT_3m',\n",
       "       '%-relative_volume_128_shift-2_SOL/USDTUSDT_30m',\n",
       "       '%-relative_volume_128_shift-2_SOL/USDTUSDT_3m',\n",
       "       '%-relative_volume_128_shift-3_BTC/USDTUSDT_30m',\n",
       "       '%-relative_volume_128_shift-3_SOL/USDTUSDT_30m',\n",
       "       '%-relative_volume_128_shift-3_SOL/USDTUSDT_3m',\n",
       "       '%-relative_volume_24_BTC/USDTUSDT_3m',\n",
       "       '%-relative_volume_24_SOL/USDTUSDT_3m',\n",
       "       '%-relative_volume_24_shift-1_BTC/USDTUSDT_3m',\n",
       "       '%-relative_volume_24_shift-1_SOL/USDTUSDT_3m',\n",
       "       '%-relative_volume_24_shift-2_BTC/USDTUSDT_30m',\n",
       "       '%-relative_volume_24_shift-2_BTC/USDTUSDT_3m',\n",
       "       '%-relative_volume_24_shift-2_SOL/USDTUSDT_3m',\n",
       "       '%-relative_volume_24_shift-3_SOL/USDTUSDT_3m',\n",
       "       '%-relative_volume_24_shift-4_SOL/USDTUSDT_3m',\n",
       "       '%-relative_volume_64_BTC/USDTUSDT_30m',\n",
       "       '%-relative_volume_64_SOL/USDTUSDT_3m',\n",
       "       '%-relative_volume_64_shift-1_BTC/USDTUSDT_30m',\n",
       "       '%-relative_volume_64_shift-1_BTC/USDTUSDT_3m',\n",
       "       '%-relative_volume_64_shift-2_BTC/USDTUSDT_30m',\n",
       "       '%-relative_volume_64_shift-2_SOL/USDTUSDT_30m',\n",
       "       '%-relative_volume_64_shift-2_SOL/USDTUSDT_3m',\n",
       "       '%-relative_volume_64_shift-3_BTC/USDTUSDT_30m',\n",
       "       '%-relative_volume_64_shift-3_SOL/USDTUSDT_30m',\n",
       "       '%-relative_volume_64_shift-3_SOL/USDTUSDT_3m',\n",
       "       '%-relative_volume_64_shift-4_SOL/USDTUSDT_3m',\n",
       "       '%-relative_volume_8_shift-1_SOL/USDTUSDT_30m',\n",
       "       '%-relative_volume_8_shift-1_SOL/USDTUSDT_3m',\n",
       "       '%-relative_volume_8_shift-2_BTC/USDTUSDT_30m',\n",
       "       '%-relative_volume_8_shift-2_BTC/USDTUSDT_3m',\n",
       "       '%-relative_volume_8_shift-2_SOL/USDTUSDT_30m',\n",
       "       '%-relative_volume_8_shift-2_SOL/USDTUSDT_3m',\n",
       "       '%-relative_volume_8_shift-3_BTC/USDTUSDT_30m',\n",
       "       '%-relative_volume_8_shift-3_BTC/USDTUSDT_3m',\n",
       "       '%-relative_volume_8_shift-3_SOL/USDTUSDT_30m',\n",
       "       '%-relative_volume_8_shift-3_SOL/USDTUSDT_3m',\n",
       "       '%-relative_volume_8_shift-4_BTC/USDTUSDT_30m',\n",
       "       '%-relative_volume_8_shift-4_BTC/USDTUSDT_3m',\n",
       "       '%-relative_volume_8_shift-4_SOL/USDTUSDT_30m',\n",
       "       '%-relative_volume_8_shift-4_SOL/USDTUSDT_3m',\n",
       "       '%-rocr_128_BTC/USDTUSDT_3m', '%-rocr_128_shift-4_SOL/USDTUSDT_3m',\n",
       "       '%-rocr_24_BTC/USDTUSDT_30m', '%-rocr_24_SOL/USDTUSDT_30m',\n",
       "       '%-rocr_24_shift-1_BTC/USDTUSDT_30m',\n",
       "       '%-rocr_24_shift-1_SOL/USDTUSDT_30m',\n",
       "       '%-rocr_24_shift-1_SOL/USDTUSDT_3m',\n",
       "       '%-rocr_24_shift-2_BTC/USDTUSDT_30m',\n",
       "       '%-rocr_24_shift-2_BTC/USDTUSDT_3m',\n",
       "       '%-rocr_24_shift-2_SOL/USDTUSDT_30m',\n",
       "       '%-rocr_24_shift-2_SOL/USDTUSDT_3m',\n",
       "       '%-rocr_24_shift-3_BTC/USDTUSDT_3m',\n",
       "       '%-rocr_24_shift-3_SOL/USDTUSDT_30m',\n",
       "       '%-rocr_24_shift-3_SOL/USDTUSDT_3m',\n",
       "       '%-rocr_24_shift-4_SOL/USDTUSDT_30m', '%-rocr_64_SOL/USDTUSDT_30m',\n",
       "       '%-rocr_64_SOL/USDTUSDT_3m', '%-rocr_64_shift-2_SOL/USDTUSDT_30m',\n",
       "       '%-rocr_64_shift-2_SOL/USDTUSDT_3m',\n",
       "       '%-rocr_64_shift-4_SOL/USDTUSDT_30m',\n",
       "       '%-rocr_64_shift-4_SOL/USDTUSDT_3m', '%-rocr_8_BTC/USDTUSDT_30m',\n",
       "       '%-rocr_8_SOL/USDTUSDT_30m', '%-rocr_8_shift-1_SOL/USDTUSDT_30m',\n",
       "       '%-rocr_8_shift-2_BTC/USDTUSDT_3m',\n",
       "       '%-rocr_8_shift-2_SOL/USDTUSDT_3m',\n",
       "       '%-rocr_8_shift-3_BTC/USDTUSDT_30m',\n",
       "       '%-rocr_8_shift-3_SOL/USDTUSDT_30m',\n",
       "       '%-rocr_8_shift-4_BTC/USDTUSDT_30m',\n",
       "       '%-rocr_8_shift-4_BTC/USDTUSDT_3m', '%-rsi_128_BTC/USDTUSDT_3m',\n",
       "       '%-rsi_128_SOL/USDTUSDT_30m', '%-rsi_128_SOL/USDTUSDT_3m',\n",
       "       '%-rsi_128_shift-3_SOL/USDTUSDT_3m',\n",
       "       '%-rsi_128_shift-4_BTC/USDTUSDT_3m', '%-rsi_24_BTC/USDTUSDT_30m',\n",
       "       '%-rsi_24_BTC/USDTUSDT_3m', '%-rsi_24_shift-1_SOL/USDTUSDT_30m',\n",
       "       '%-rsi_24_shift-2_BTC/USDTUSDT_30m',\n",
       "       '%-rsi_24_shift-2_SOL/USDTUSDT_30m',\n",
       "       '%-rsi_24_shift-3_BTC/USDTUSDT_30m',\n",
       "       '%-rsi_24_shift-3_BTC/USDTUSDT_3m',\n",
       "       '%-rsi_24_shift-3_SOL/USDTUSDT_3m',\n",
       "       '%-rsi_24_shift-4_BTC/USDTUSDT_30m',\n",
       "       '%-rsi_24_shift-4_BTC/USDTUSDT_3m', '%-rsi_64_BTC/USDTUSDT_3m',\n",
       "       '%-rsi_64_SOL/USDTUSDT_30m', '%-rsi_64_SOL/USDTUSDT_3m',\n",
       "       '%-rsi_64_shift-2_BTC/USDTUSDT_3m',\n",
       "       '%-rsi_64_shift-4_BTC/USDTUSDT_3m',\n",
       "       '%-rsi_64_shift-4_SOL/USDTUSDT_30m',\n",
       "       '%-rsi_64_shift-4_SOL/USDTUSDT_3m', '%-rsi_8_BTC/USDTUSDT_3m',\n",
       "       '%-rsi_8_SOL/USDTUSDT_30m', '%-rsi_8_SOL/USDTUSDT_3m',\n",
       "       '%-rsi_8_shift-1_BTC/USDTUSDT_30m',\n",
       "       '%-rsi_8_shift-1_SOL/USDTUSDT_30m',\n",
       "       '%-rsi_8_shift-2_BTC/USDTUSDT_30m',\n",
       "       '%-rsi_8_shift-2_BTC/USDTUSDT_3m',\n",
       "       '%-rsi_8_shift-2_SOL/USDTUSDT_30m',\n",
       "       '%-rsi_8_shift-2_SOL/USDTUSDT_3m',\n",
       "       '%-rsi_8_shift-3_BTC/USDTUSDT_30m',\n",
       "       '%-rsi_8_shift-3_BTC/USDTUSDT_3m',\n",
       "       '%-rsi_8_shift-3_SOL/USDTUSDT_30m',\n",
       "       '%-rsi_8_shift-4_BTC/USDTUSDT_3m',\n",
       "       '%-rsi_8_shift-4_SOL/USDTUSDT_30m', '%-sma_24_SOL/USDTUSDT_30m',\n",
       "       '%-tcp_128_BTC/USDTUSDT_30m', '%-tcp_128_SOL/USDTUSDT_30m',\n",
       "       '%-tcp_24_BTC/USDTUSDT_30m', '%-tcp_24_SOL/USDTUSDT_30m',\n",
       "       '%-tcp_24_shift-1_BTC/USDTUSDT_30m',\n",
       "       '%-tcp_24_shift-1_BTC/USDTUSDT_3m',\n",
       "       '%-tcp_24_shift-2_BTC/USDTUSDT_30m',\n",
       "       '%-tcp_24_shift-2_SOL/USDTUSDT_3m',\n",
       "       '%-tcp_24_shift-3_SOL/USDTUSDT_30m',\n",
       "       '%-tcp_24_shift-4_BTC/USDTUSDT_30m',\n",
       "       '%-tcp_24_shift-4_BTC/USDTUSDT_3m',\n",
       "       '%-tcp_24_shift-4_SOL/USDTUSDT_30m', '%-tcp_64_BTC/USDTUSDT_30m',\n",
       "       '%-tcp_64_SOL/USDTUSDT_30m', '%-tcp_64_SOL/USDTUSDT_3m',\n",
       "       '%-tcp_64_shift-1_BTC/USDTUSDT_30m',\n",
       "       '%-tcp_64_shift-1_SOL/USDTUSDT_30m',\n",
       "       '%-tcp_64_shift-2_BTC/USDTUSDT_30m',\n",
       "       '%-tcp_64_shift-2_SOL/USDTUSDT_30m',\n",
       "       '%-tcp_64_shift-2_SOL/USDTUSDT_3m',\n",
       "       '%-tcp_64_shift-3_SOL/USDTUSDT_30m',\n",
       "       '%-tcp_64_shift-4_BTC/USDTUSDT_30m',\n",
       "       '%-tcp_64_shift-4_SOL/USDTUSDT_30m', '%-tcp_8_BTC/USDTUSDT_30m',\n",
       "       '%-tcp_8_SOL/USDTUSDT_30m', '%-tcp_8_shift-1_BTC/USDTUSDT_3m',\n",
       "       '%-tcp_8_shift-1_SOL/USDTUSDT_30m',\n",
       "       '%-tcp_8_shift-2_SOL/USDTUSDT_30m',\n",
       "       '%-tcp_8_shift-2_SOL/USDTUSDT_3m',\n",
       "       '%-tcp_8_shift-3_BTC/USDTUSDT_30m',\n",
       "       '%-tcp_8_shift-4_BTC/USDTUSDT_30m',\n",
       "       '%-tcp_8_shift-4_SOL/USDTUSDT_3m',\n",
       "       '%-mfi_128_shift-4_SOL/USDTUSDT_30m', '%-primary_short_perf_mean',\n",
       "       '%-linear_128_BTC/USDTUSDT_30m', '%-atr_8_BTC/USDTUSDT_3m',\n",
       "       '%-cmf_24_shift-4_BTC/USDTUSDT_30m',\n",
       "       '%-rocr_8_shift-3_BTC/USDTUSDT_3m',\n",
       "       '%-pct-change_gen_shift-3_BTC/USDTUSDT_3m',\n",
       "       '%-atr_24_BTC/USDTUSDT_3m', '%-apo_8_shift-4_BTC/USDTUSDT_3m',\n",
       "       '%-linear_128_SOL/USDTUSDT_30m', '%-rocr_8_BTC/USDTUSDT_3m',\n",
       "       '%-chop_24_shift-4_BTC/USDTUSDT_30m',\n",
       "       '%-linear_24_shift-3_BTC/USDTUSDT_3m',\n",
       "       '%-raw_volume_gen_shift-3_BTC/USDTUSDT_3m',\n",
       "       '%-atr_8_shift-3_BTC/USDTUSDT_3m',\n",
       "       '%-relative_volume_64_shift-3_BTC/USDTUSDT_3m',\n",
       "       '%-tcp_24_SOL/USDTUSDT_3m', '%-rocr_24_BTC/USDTUSDT_3m',\n",
       "       '%-apo_24_shift-4_BTC/USDTUSDT_3m',\n",
       "       '%-raw_volume_gen_SOL/USDTUSDT_30m', '%-atr_64_BTC/USDTUSDT_3m',\n",
       "       '%-bb_width_24_SOL/USDTUSDT_3m', '%-adx_8_BTC/USDTUSDT_3m',\n",
       "       '%-cti_128_SOL/USDTUSDT_30m', '%-linear_8_shift-2_BTC/USDTUSDT_3m',\n",
       "       '%-tcp_8_BTC/USDTUSDT_3m', '%-rsi_24_shift-1_SOL/USDTUSDT_3m',\n",
       "       '%-relative_volume_24_shift-4_SOL/USDTUSDT_30m',\n",
       "       '%-bb_width_24_shift-3_SOL/USDTUSDT_3m',\n",
       "       '%-apo_128_BTC/USDTUSDT_30m',\n",
       "       '%-relative_volume_8_BTC/USDTUSDT_30m',\n",
       "       '%-relative_volume_128_shift-3_BTC/USDTUSDT_3m',\n",
       "       '%-cti_128_BTC/USDTUSDT_30m', '%-rsi_8_shift-1_SOL/USDTUSDT_3m',\n",
       "       '%-cci_8_shift-1_BTC/USDTUSDT_30m',\n",
       "       '%-relative_volume_8_BTC/USDTUSDT_3m',\n",
       "       '%-tcp_8_shift-3_BTC/USDTUSDT_3m',\n",
       "       '%-mfi_8_shift-4_SOL/USDTUSDT_3m',\n",
       "       '%-linear_24_shift-1_BTC/USDTUSDT_3m',\n",
       "       '%-bb_width_24_BTC/USDTUSDT_30m',\n",
       "       '%-raw_volume_gen_shift-4_BTC/USDTUSDT_3m',\n",
       "       '%-cmf_8_shift-4_BTC/USDTUSDT_30m', '%-linear_8_BTC/USDTUSDT_3m',\n",
       "       '%-cti_64_BTC/USDTUSDT_3m', '%-apo_24_shift-2_BTC/USDTUSDT_3m',\n",
       "       '%-bb_width_8_shift-1_BTC/USDTUSDT_3m',\n",
       "       '%-er_128_BTC/USDTUSDT_30m', '%-linear_8_shift-4_BTC/USDTUSDT_3m',\n",
       "       '%-bb_width_8_SOL/USDTUSDT_3m',\n",
       "       '%-close-bb_lower_8_shift-1_BTC/USDTUSDT_30m',\n",
       "       '%-linear_64_shift-2_BTC/USDTUSDT_3m',\n",
       "       '%-raw_volume_gen_BTC/USDTUSDT_30m',\n",
       "       '%-tcp_24_shift-1_SOL/USDTUSDT_3m',\n",
       "       '%-bb_width_8_shift-3_BTC/USDTUSDT_3m',\n",
       "       '%-rsi_128_BTC/USDTUSDT_30m', '%-cci_64_shift-4_BTC/USDTUSDT_30m',\n",
       "       '%-sma_8_BTC/USDTUSDT_3m', '%-cmf_64_shift-2_SOL/USDTUSDT_30m',\n",
       "       '%-tcp_128_SOL/USDTUSDT_3m', '%-rocr_8_shift-3_SOL/USDTUSDT_3m',\n",
       "       '%-rocr_24_SOL/USDTUSDT_3m', '%-tcp_8_shift-3_SOL/USDTUSDT_3m',\n",
       "       '%-bb_width_8_shift-2_BTC/USDTUSDT_3m',\n",
       "       '%-cmf_24_shift-4_SOL/USDTUSDT_30m',\n",
       "       '%-rsi_24_shift-1_BTC/USDTUSDT_3m',\n",
       "       '%-relative_volume_128_SOL/USDTUSDT_30m',\n",
       "       '%-chop_24_shift-2_BTC/USDTUSDT_30m',\n",
       "       '%-rsi_24_shift-2_SOL/USDTUSDT_3m',\n",
       "       '%-adx_8_shift-4_BTC/USDTUSDT_3m', '%-adx_128_BTC/USDTUSDT_3m',\n",
       "       '%-tcp_24_BTC/USDTUSDT_3m', '%-tcp_8_SOL/USDTUSDT_3m',\n",
       "       '%-rocr_64_shift-3_BTC/USDTUSDT_3m',\n",
       "       '%-cti_24_shift-4_BTC/USDTUSDT_3m',\n",
       "       '%-close-bb_lower_24_BTC/USDTUSDT_3m', '%-rocr_8_SOL/USDTUSDT_3m',\n",
       "       '%-er_24_shift-4_SOL/USDTUSDT_30m',\n",
       "       '%-cci_64_shift-3_BTC/USDTUSDT_3m', '%-chop_64_SOL/USDTUSDT_30m',\n",
       "       '%-adx_128_BTC/USDTUSDT_30m',\n",
       "       '%-relative_volume_24_shift-3_BTC/USDTUSDT_3m',\n",
       "       '%-tcp_8_shift-1_SOL/USDTUSDT_3m', '%-obv_8_SOL/USDTUSDT_3m',\n",
       "       '%-tcp_64_shift-2_BTC/USDTUSDT_3m', '%-linear_8_SOL/USDTUSDT_3m',\n",
       "       '%-close-bb_lower_8_shift-3_SOL/USDTUSDT_30m'], dtype=object)"
      ]
     },
     "execution_count": 7,
     "metadata": {},
     "output_type": "execute_result"
    }
   ],
   "source": [
    "feature_selection_helper.get_important_features(model=\"&-primary_enter_long\", pair=\"SOL/USDT:USDT\", pct_additional_features=0.2)"
   ]
  },
  {
   "cell_type": "code",
   "execution_count": 8,
   "id": "804eda89",
   "metadata": {},
   "outputs": [
    {
     "data": {
      "text/plain": [
       "588"
      ]
     },
     "execution_count": 8,
     "metadata": {},
     "output_type": "execute_result"
    }
   ],
   "source": [
    "len(feature_selection_helper.get_important_features(model=\"&-primary_enter_long\", pair=\"SOL/USDT:USDT\", pct_additional_features=0.2))"
   ]
  },
  {
   "cell_type": "code",
   "execution_count": 8,
   "id": "51a5aafe",
   "metadata": {},
   "outputs": [],
   "source": [
    "import time\n",
    "import pandas as pd\n",
    "\n",
    "model=\"&-primary_enter_long\"\n",
    "pair=\"SOL/USDT:USDT\"\n",
    "pct_additional_features=\"0.2\"\n",
    "\n",
    "connection_string = \"sqlite:///litmus.sqlite\"\n",
    "timestamp_in_past = time.time() - 10 * 24 * 60 * 60\n",
    "sql = f\"\"\"\n",
    "    SELECT feature_id, important_feature, train_time\n",
    "    FROM feature_shuffle_selection\n",
    "    WHERE model = '{model}'\n",
    "    AND pair = '{pair}'\n",
    "    AND train_time > '{timestamp_in_past}'\"\"\"\n",
    "\n",
    "try:\n",
    "    data = pd.read_sql_query(sql=sql, con=connection_string)\n",
    "except Exception as e:\n",
    "    logger.info(f\"Issue reading from SQL to exclude features {e}\")"
   ]
  },
  {
   "cell_type": "code",
   "execution_count": null,
   "id": "7a2f1890",
   "metadata": {},
   "outputs": [],
   "source": []
  }
 ],
 "metadata": {
  "kernelspec": {
   "display_name": ".env",
   "language": "python",
   "name": ".env"
  },
  "language_info": {
   "codemirror_mode": {
    "name": "ipython",
    "version": 3
   },
   "file_extension": ".py",
   "mimetype": "text/x-python",
   "name": "python",
   "nbconvert_exporter": "python",
   "pygments_lexer": "ipython3",
   "version": "3.10.9"
  }
 },
 "nbformat": 4,
 "nbformat_minor": 5
}
