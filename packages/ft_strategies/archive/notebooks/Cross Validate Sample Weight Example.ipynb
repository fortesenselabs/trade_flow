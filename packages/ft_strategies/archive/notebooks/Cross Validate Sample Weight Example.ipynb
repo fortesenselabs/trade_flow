{
 "cells": [
  {
   "cell_type": "code",
   "execution_count": 22,
   "id": "eba0edba",
   "metadata": {},
   "outputs": [],
   "source": [
    "import numpy as np\n",
    "import pandas as pd\n",
    "\n",
    "from sklearn.datasets import make_classification\n",
    "from sklearn.model_selection import cross_validate\n",
    "from sklearn.ensemble import RandomForestClassifier"
   ]
  },
  {
   "cell_type": "code",
   "execution_count": 23,
   "id": "4bce1c39",
   "metadata": {},
   "outputs": [],
   "source": [
    "X, y = make_classification(n_samples=8000, random_state=42)\n",
    "sample_weight = np.random.random(size=len(y))"
   ]
  },
  {
   "cell_type": "code",
   "execution_count": 24,
   "id": "00db0aea",
   "metadata": {},
   "outputs": [
    {
     "data": {
      "text/plain": [
       "((8000, 20), (8000,), (8000,))"
      ]
     },
     "execution_count": 24,
     "metadata": {},
     "output_type": "execute_result"
    }
   ],
   "source": [
    "# Check shapes correct\n",
    "X.shape, y.shape, sample_weight.shape"
   ]
  },
  {
   "cell_type": "code",
   "execution_count": 25,
   "id": "c0949f29",
   "metadata": {},
   "outputs": [],
   "source": [
    "fit_params = {\"sample_weight\": sample_weight}\n",
    "clf = RandomForestClassifier()"
   ]
  },
  {
   "cell_type": "code",
   "execution_count": 26,
   "id": "fd11cdf8",
   "metadata": {},
   "outputs": [
    {
     "data": {
      "text/plain": [
       "{'fit_time': array([0.97482705, 0.97045994, 0.96013904]),\n",
       " 'score_time': array([0.02118683, 0.02132034, 0.02217603]),\n",
       " 'test_score': array([0.88376453, 0.87964004, 0.89497374])}"
      ]
     },
     "execution_count": 26,
     "metadata": {},
     "output_type": "execute_result"
    }
   ],
   "source": [
    "# Without sample weight\n",
    "cross_validate(estimator=clf, X=X, y=y, cv=3)"
   ]
  },
  {
   "cell_type": "code",
   "execution_count": 27,
   "id": "93a0a515",
   "metadata": {},
   "outputs": [
    {
     "data": {
      "text/plain": [
       "{'fit_time': array([0.99206781, 0.9943552 , 0.91308808]),\n",
       " 'score_time': array([0.02191925, 0.02182889, 0.02078176]),\n",
       " 'test_score': array([0.88826397, 0.87851519, 0.89722431])}"
      ]
     },
     "execution_count": 27,
     "metadata": {},
     "output_type": "execute_result"
    }
   ],
   "source": [
    "# With sample weight\n",
    "cross_validate(estimator=clf, X=X, y=y, cv=3, fit_params=fit_params)"
   ]
  },
  {
   "cell_type": "code",
   "execution_count": null,
   "id": "6817d280",
   "metadata": {},
   "outputs": [],
   "source": []
  }
 ],
 "metadata": {
  "kernelspec": {
   "display_name": ".env",
   "language": "python",
   "name": ".env"
  },
  "language_info": {
   "codemirror_mode": {
    "name": "ipython",
    "version": 3
   },
   "file_extension": ".py",
   "mimetype": "text/x-python",
   "name": "python",
   "nbconvert_exporter": "python",
   "pygments_lexer": "ipython3",
   "version": "3.10.9"
  }
 },
 "nbformat": 4,
 "nbformat_minor": 5
}
