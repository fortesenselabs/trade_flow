{
 "cells": [
  {
   "cell_type": "code",
   "execution_count": 7,
   "id": "0e77bbaf",
   "metadata": {},
   "outputs": [],
   "source": [
    "from freqtrade.litmus import feature_selection_helper as f"
   ]
  },
  {
   "cell_type": "code",
   "execution_count": 11,
   "id": "c01b8684",
   "metadata": {},
   "outputs": [
    {
     "data": {
      "text/plain": [
       "434"
      ]
     },
     "execution_count": 11,
     "metadata": {},
     "output_type": "execute_result"
    }
   ],
   "source": [
    "len(f.get_unimportant_features(\"&-primary_enter_long\", \"SOL/USDT:USDT\", 0))"
   ]
  },
  {
   "cell_type": "code",
   "execution_count": null,
   "id": "73d3035b",
   "metadata": {},
   "outputs": [],
   "source": []
  }
 ],
 "metadata": {
  "kernelspec": {
   "display_name": ".env",
   "language": "python",
   "name": ".env"
  },
  "language_info": {
   "codemirror_mode": {
    "name": "ipython",
    "version": 3
   },
   "file_extension": ".py",
   "mimetype": "text/x-python",
   "name": "python",
   "nbconvert_exporter": "python",
   "pygments_lexer": "ipython3",
   "version": "3.10.9"
  }
 },
 "nbformat": 4,
 "nbformat_minor": 5
}
