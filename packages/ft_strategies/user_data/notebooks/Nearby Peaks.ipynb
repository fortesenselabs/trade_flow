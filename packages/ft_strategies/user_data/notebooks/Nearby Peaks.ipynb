{
 "cells": [
  {
   "cell_type": "code",
   "execution_count": 1,
   "id": "1c8ba32d",
   "metadata": {},
   "outputs": [],
   "source": [
    "import numpy as np\n",
    "import pandas as pd\n",
    "from scipy.spatial.distance import pdist, squareform\n",
    "from scipy.signal import argrelextrema"
   ]
  },
  {
   "cell_type": "code",
   "execution_count": 65,
   "id": "5f4ababc",
   "metadata": {},
   "outputs": [],
   "source": [
    "df = pd.DataFrame({\n",
    "    \"vals\":[2,4,5,6,5,4,2,6,5],\n",
    "    \"extremes\":[-1,0,0,1,0,0,-1,1,0],\n",
    "})"
   ]
  },
  {
   "cell_type": "code",
   "execution_count": 22,
   "id": "66665394",
   "metadata": {},
   "outputs": [
    {
     "data": {
      "text/html": [
       "<div>\n",
       "<style scoped>\n",
       "    .dataframe tbody tr th:only-of-type {\n",
       "        vertical-align: middle;\n",
       "    }\n",
       "\n",
       "    .dataframe tbody tr th {\n",
       "        vertical-align: top;\n",
       "    }\n",
       "\n",
       "    .dataframe thead th {\n",
       "        text-align: right;\n",
       "    }\n",
       "</style>\n",
       "<table border=\"1\" class=\"dataframe\">\n",
       "  <thead>\n",
       "    <tr style=\"text-align: right;\">\n",
       "      <th></th>\n",
       "      <th>vals</th>\n",
       "      <th>extremes</th>\n",
       "    </tr>\n",
       "  </thead>\n",
       "  <tbody>\n",
       "    <tr>\n",
       "      <th>0</th>\n",
       "      <td>2</td>\n",
       "      <td>-1</td>\n",
       "    </tr>\n",
       "    <tr>\n",
       "      <th>1</th>\n",
       "      <td>4</td>\n",
       "      <td>0</td>\n",
       "    </tr>\n",
       "    <tr>\n",
       "      <th>2</th>\n",
       "      <td>5</td>\n",
       "      <td>0</td>\n",
       "    </tr>\n",
       "    <tr>\n",
       "      <th>3</th>\n",
       "      <td>6</td>\n",
       "      <td>1</td>\n",
       "    </tr>\n",
       "    <tr>\n",
       "      <th>4</th>\n",
       "      <td>5</td>\n",
       "      <td>0</td>\n",
       "    </tr>\n",
       "    <tr>\n",
       "      <th>5</th>\n",
       "      <td>4</td>\n",
       "      <td>0</td>\n",
       "    </tr>\n",
       "    <tr>\n",
       "      <th>6</th>\n",
       "      <td>2</td>\n",
       "      <td>-1</td>\n",
       "    </tr>\n",
       "    <tr>\n",
       "      <th>7</th>\n",
       "      <td>6</td>\n",
       "      <td>1</td>\n",
       "    </tr>\n",
       "    <tr>\n",
       "      <th>8</th>\n",
       "      <td>5</td>\n",
       "      <td>0</td>\n",
       "    </tr>\n",
       "  </tbody>\n",
       "</table>\n",
       "</div>"
      ],
      "text/plain": [
       "   vals  extremes\n",
       "0     2        -1\n",
       "1     4         0\n",
       "2     5         0\n",
       "3     6         1\n",
       "4     5         0\n",
       "5     4         0\n",
       "6     2        -1\n",
       "7     6         1\n",
       "8     5         0"
      ]
     },
     "execution_count": 22,
     "metadata": {},
     "output_type": "execute_result"
    }
   ],
   "source": [
    "df"
   ]
  },
  {
   "cell_type": "code",
   "execution_count": 67,
   "id": "38d30584",
   "metadata": {},
   "outputs": [
    {
     "data": {
      "text/plain": [
       "0   -1\n",
       "1    0\n",
       "2    0\n",
       "3    1\n",
       "4    1\n",
       "5    0\n",
       "6   -1\n",
       "7    1\n",
       "8    1\n",
       "Name: new_extremes, dtype: int64"
      ]
     },
     "execution_count": 67,
     "metadata": {},
     "output_type": "execute_result"
    }
   ],
   "source": [
    "threshold = 0.3\n",
    "\n",
    "def update_extremes(df):\n",
    "    return (\n",
    "        pd.concat(\n",
    "            [\n",
    "                df,\n",
    "                df.mask(df[\"extremes\"] == 0).fillna(method=\"ffill\").rename(columns=lambda n: \"prev_\"+n),\n",
    "            ],\n",
    "            axis=1\n",
    "        )\n",
    "        .eval(\"within_threshold = abs(vals-prev_vals)/prev_vals < @threshold\")\n",
    "        .eval(\"mask = within_threshold and extremes == 0\")\n",
    "        .eval(\"is_new_extreme = within_threshold.mask(mask).fillna(method='ffill')\")\n",
    "        .eval(\"new_extremes = prev_extremes.where(is_new_extreme).fillna(0)\")\n",
    "        [\"new_extremes\"]  # comment out this to get all columns (which may help in understanding what is going on)\n",
    "        .astype(int)\n",
    "    )\n",
    "\n",
    "df2 = update_extremes(df)\n",
    "df2"
   ]
  },
  {
   "cell_type": "code",
   "execution_count": 69,
   "id": "2c208f86",
   "metadata": {},
   "outputs": [
    {
     "data": {
      "text/plain": [
       "0   -1\n",
       "1    0\n",
       "2    1\n",
       "3    1\n",
       "4    0\n",
       "5    0\n",
       "6   -1\n",
       "7    1\n",
       "8    0\n",
       "Name: new_extremes, dtype: int64"
      ]
     },
     "execution_count": 69,
     "metadata": {},
     "output_type": "execute_result"
    }
   ],
   "source": [
    "df3 = update_extremes(df.sort_index(ascending=False)).sort_index()\n",
    "df3"
   ]
  },
  {
   "cell_type": "code",
   "execution_count": 59,
   "id": "648163c1",
   "metadata": {},
   "outputs": [
    {
     "ename": "KeyError",
     "evalue": "'vals'",
     "output_type": "error",
     "traceback": [
      "\u001b[0;31m---------------------------------------------------------------------------\u001b[0m",
      "\u001b[0;31mKeyError\u001b[0m                                  Traceback (most recent call last)",
      "Cell \u001b[0;32mIn [59], line 1\u001b[0m\n\u001b[0;32m----> 1\u001b[0m \u001b[43mdf2\u001b[49m\u001b[43m[\u001b[49m\u001b[38;5;124;43m\"\u001b[39;49m\u001b[38;5;124;43mvals\u001b[39;49m\u001b[38;5;124;43m\"\u001b[39;49m\u001b[43m]\u001b[49m\u001b[38;5;241m.\u001b[39mplot()\n\u001b[1;32m      2\u001b[0m df2[\u001b[38;5;124m\"\u001b[39m\u001b[38;5;124mextremes\u001b[39m\u001b[38;5;124m\"\u001b[39m]\u001b[38;5;241m.\u001b[39mplot()\n\u001b[1;32m      3\u001b[0m df2[\u001b[38;5;124m\"\u001b[39m\u001b[38;5;124mnew_extremes\u001b[39m\u001b[38;5;124m\"\u001b[39m]\u001b[38;5;241m.\u001b[39mplot()\n",
      "File \u001b[0;32m~/Dev/litmus-04/freqtrade/.env/lib/python3.10/site-packages/pandas/core/series.py:982\u001b[0m, in \u001b[0;36mSeries.__getitem__\u001b[0;34m(self, key)\u001b[0m\n\u001b[1;32m    979\u001b[0m     \u001b[38;5;28;01mreturn\u001b[39;00m \u001b[38;5;28mself\u001b[39m\u001b[38;5;241m.\u001b[39m_values[key]\n\u001b[1;32m    981\u001b[0m \u001b[38;5;28;01melif\u001b[39;00m key_is_scalar:\n\u001b[0;32m--> 982\u001b[0m     \u001b[38;5;28;01mreturn\u001b[39;00m \u001b[38;5;28;43mself\u001b[39;49m\u001b[38;5;241;43m.\u001b[39;49m\u001b[43m_get_value\u001b[49m\u001b[43m(\u001b[49m\u001b[43mkey\u001b[49m\u001b[43m)\u001b[49m\n\u001b[1;32m    984\u001b[0m \u001b[38;5;28;01mif\u001b[39;00m is_hashable(key):\n\u001b[1;32m    985\u001b[0m     \u001b[38;5;66;03m# Otherwise index.get_value will raise InvalidIndexError\u001b[39;00m\n\u001b[1;32m    986\u001b[0m     \u001b[38;5;28;01mtry\u001b[39;00m:\n\u001b[1;32m    987\u001b[0m         \u001b[38;5;66;03m# For labels that don't resolve as scalars like tuples and frozensets\u001b[39;00m\n",
      "File \u001b[0;32m~/Dev/litmus-04/freqtrade/.env/lib/python3.10/site-packages/pandas/core/series.py:1092\u001b[0m, in \u001b[0;36mSeries._get_value\u001b[0;34m(self, label, takeable)\u001b[0m\n\u001b[1;32m   1089\u001b[0m     \u001b[38;5;28;01mreturn\u001b[39;00m \u001b[38;5;28mself\u001b[39m\u001b[38;5;241m.\u001b[39m_values[label]\n\u001b[1;32m   1091\u001b[0m \u001b[38;5;66;03m# Similar to Index.get_value, but we do not fall back to positional\u001b[39;00m\n\u001b[0;32m-> 1092\u001b[0m loc \u001b[38;5;241m=\u001b[39m \u001b[38;5;28;43mself\u001b[39;49m\u001b[38;5;241;43m.\u001b[39;49m\u001b[43mindex\u001b[49m\u001b[38;5;241;43m.\u001b[39;49m\u001b[43mget_loc\u001b[49m\u001b[43m(\u001b[49m\u001b[43mlabel\u001b[49m\u001b[43m)\u001b[49m\n\u001b[1;32m   1093\u001b[0m \u001b[38;5;28;01mreturn\u001b[39;00m \u001b[38;5;28mself\u001b[39m\u001b[38;5;241m.\u001b[39mindex\u001b[38;5;241m.\u001b[39m_get_values_for_loc(\u001b[38;5;28mself\u001b[39m, loc, label)\n",
      "File \u001b[0;32m~/Dev/litmus-04/freqtrade/.env/lib/python3.10/site-packages/pandas/core/indexes/range.py:396\u001b[0m, in \u001b[0;36mRangeIndex.get_loc\u001b[0;34m(self, key, method, tolerance)\u001b[0m\n\u001b[1;32m    394\u001b[0m             \u001b[38;5;28;01mraise\u001b[39;00m \u001b[38;5;167;01mKeyError\u001b[39;00m(key) \u001b[38;5;28;01mfrom\u001b[39;00m \u001b[38;5;21;01merr\u001b[39;00m\n\u001b[1;32m    395\u001b[0m     \u001b[38;5;28mself\u001b[39m\u001b[38;5;241m.\u001b[39m_check_indexing_error(key)\n\u001b[0;32m--> 396\u001b[0m     \u001b[38;5;28;01mraise\u001b[39;00m \u001b[38;5;167;01mKeyError\u001b[39;00m(key)\n\u001b[1;32m    397\u001b[0m \u001b[38;5;28;01mreturn\u001b[39;00m \u001b[38;5;28msuper\u001b[39m()\u001b[38;5;241m.\u001b[39mget_loc(key, method\u001b[38;5;241m=\u001b[39mmethod, tolerance\u001b[38;5;241m=\u001b[39mtolerance)\n",
      "\u001b[0;31mKeyError\u001b[0m: 'vals'"
     ]
    }
   ],
   "source": [
    "df2[\"vals\"].plot()\n",
    "df2[\"extremes\"].plot()\n",
    "df2[\"new_extremes\"].plot()\n",
    "df3[\"new_extremes\"].plot()"
   ]
  },
  {
   "cell_type": "code",
   "execution_count": 89,
   "id": "12e86ae9",
   "metadata": {},
   "outputs": [],
   "source": [
    "def nearby_extremes(df, threshold):\n",
    "    \n",
    "    # Forward Pass\n",
    "    forward_df = (pd.concat(\n",
    "            [\n",
    "                df,\n",
    "                df.mask(df[\"extremes\"] == 0).fillna(method=\"ffill\").rename(columns=lambda n: \"prev_\"+n),\n",
    "            ],\n",
    "            axis=1\n",
    "        )\n",
    "        .eval(\"within_threshold = abs(vals-prev_vals)/prev_vals < @threshold\")\n",
    "        .eval(\"mask = within_threshold and extremes == 0\")\n",
    "        .eval(\"is_new_extreme = within_threshold.mask(mask).fillna(method='ffill')\")\n",
    "        .eval(\"forward_extremes = prev_extremes.where(is_new_extreme).fillna(0)\")\n",
    "        [\"forward_extremes\"]  # comment out this to get all columns (which may help in understanding what is going on)\n",
    "        .astype(int))\n",
    "\n",
    "    # Reverse Pass\n",
    "    df = df.sort_index(ascending=False)\n",
    "    reverse_df = (pd.concat(\n",
    "            [\n",
    "                df,\n",
    "                df.mask(df[\"extremes\"] == 0).fillna(method=\"ffill\").rename(columns=lambda n: \"prev_\"+n),\n",
    "            ],\n",
    "            axis=1\n",
    "        )\n",
    "        .eval(\"within_threshold = abs(vals-prev_vals)/prev_vals < @threshold\")\n",
    "        .eval(\"mask = within_threshold and extremes == 0\")\n",
    "        .eval(\"is_new_extreme = within_threshold.mask(mask).fillna(method='ffill')\")\n",
    "        .eval(\"reverse_extremes = prev_extremes.where(is_new_extreme).fillna(0)\")\n",
    "        [\"reverse_extremes\"]  # comment out this to get all columns (which may help in understanding what is going on)\n",
    "        .astype(int)).sort_index()\n",
    "        \n",
    "    # Merging\n",
    "    merged_df = pd.concat([df[\"extremes\"].sort_index(), forward_df, reverse_df], axis=1)\n",
    "    final_df = merged_df.sum(axis=1).clip(lower=-1, upper=1)\n",
    "    \n",
    "    return final_df\n",
    "    "
   ]
  },
  {
   "cell_type": "code",
   "execution_count": 91,
   "id": "4b88196f",
   "metadata": {},
   "outputs": [
    {
     "data": {
      "text/plain": [
       "0   -1\n",
       "1    0\n",
       "2    1\n",
       "3    1\n",
       "4    1\n",
       "5    0\n",
       "6   -1\n",
       "7    1\n",
       "8    1\n",
       "dtype: int64"
      ]
     },
     "execution_count": 91,
     "metadata": {},
     "output_type": "execute_result"
    }
   ],
   "source": [
    "nb = nearby_extremes(df, threshold=0.2)\n",
    "nb"
   ]
  },
  {
   "cell_type": "code",
   "execution_count": 92,
   "id": "13aeddbe",
   "metadata": {},
   "outputs": [],
   "source": [
    "def nearby_extremes(df, threshold):\n",
    "    \"\"\"Identify values beside peaks/valleys that are within a threshold distance and re-label them\"\"\"\n",
    "    \n",
    "    # Forward Pass\n",
    "    forward_df = (pd.concat(\n",
    "        [\n",
    "            df,\n",
    "            df.mask(df[\"raw_peaks\"] == 0).fillna(method=\"ffill\").rename(columns=lambda n: \"prev_\" + n),\n",
    "        ],\n",
    "        axis=1\n",
    "    )\n",
    "                  .eval(\"within_threshold = abs(close-prev_close)/prev_close < @threshold\")\n",
    "                  .eval(\"mask = within_threshold and raw_peaks == 0\")\n",
    "                  .eval(\"is_new_extreme = within_threshold.mask(mask).fillna(method='ffill')\")\n",
    "                  .eval(\"forward_extremes = prev_raw_peaks.where(is_new_extreme).fillna(0)\")\n",
    "                  [\"forward_extremes\"]\n",
    "                  .astype(int))\n",
    "\n",
    "    # Reverse Pass\n",
    "    df = df.sort_index(ascending=False)\n",
    "    reverse_df = (pd.concat(\n",
    "        [\n",
    "            df,\n",
    "            df.mask(df[\"raw_peaks\"] == 0).fillna(method=\"ffill\").rename(columns=lambda n: \"prev_\" + n),\n",
    "        ],\n",
    "        axis=1\n",
    "    )\n",
    "                  .eval(\"within_threshold = abs(close-prev_close)/prev_close < @threshold\")\n",
    "                  .eval(\"mask = within_threshold and raw_peaks == 0\")\n",
    "                  .eval(\"is_new_extreme = within_threshold.mask(mask).fillna(method='ffill')\")\n",
    "                  .eval(\"reverse_extremes = prev_raw_peaks.where(is_new_extreme).fillna(0)\")\n",
    "                  [\"reverse_extremes\"]  # comment out this to get all columns (which may help in understanding what is going on)\n",
    "                  .astype(int)).sort_index()\n",
    "\n",
    "    # Merging\n",
    "    merged_df = pd.concat([df[\"raw_peaks\"].sort_index(), forward_df, reverse_df], axis=1)\n",
    "    final_df = merged_df.sum(axis=1).clip(lower=-1, upper=1)\n",
    "\n",
    "    return final_df"
   ]
  },
  {
   "cell_type": "code",
   "execution_count": 94,
   "id": "0fa96f98",
   "metadata": {},
   "outputs": [
    {
     "data": {
      "text/plain": [
       "0   -1\n",
       "1    0\n",
       "2    1\n",
       "3    1\n",
       "4    1\n",
       "5    0\n",
       "6   -1\n",
       "7    1\n",
       "8    1\n",
       "dtype: int64"
      ]
     },
     "execution_count": 94,
     "metadata": {},
     "output_type": "execute_result"
    }
   ],
   "source": [
    "df = pd.DataFrame({\n",
    "    \"close\":[2,4,5,6,5,4,2,6,5],\n",
    "    \"raw_peaks\":[-1,0,0,1,0,0,-1,1,0],\n",
    "})\n",
    "\n",
    "nb = nearby_extremes(df, threshold=0.2)\n",
    "nb"
   ]
  },
  {
   "cell_type": "code",
   "execution_count": 98,
   "id": "80c8f1aa",
   "metadata": {},
   "outputs": [
    {
     "data": {
      "text/html": [
       "<div>\n",
       "<style scoped>\n",
       "    .dataframe tbody tr th:only-of-type {\n",
       "        vertical-align: middle;\n",
       "    }\n",
       "\n",
       "    .dataframe tbody tr th {\n",
       "        vertical-align: top;\n",
       "    }\n",
       "\n",
       "    .dataframe thead th {\n",
       "        text-align: right;\n",
       "    }\n",
       "</style>\n",
       "<table border=\"1\" class=\"dataframe\">\n",
       "  <thead>\n",
       "    <tr style=\"text-align: right;\">\n",
       "      <th></th>\n",
       "      <th>close</th>\n",
       "      <th>raw_peaks</th>\n",
       "    </tr>\n",
       "  </thead>\n",
       "  <tbody>\n",
       "    <tr>\n",
       "      <th>0</th>\n",
       "      <td>2</td>\n",
       "      <td>-1</td>\n",
       "    </tr>\n",
       "    <tr>\n",
       "      <th>1</th>\n",
       "      <td>4</td>\n",
       "      <td>0</td>\n",
       "    </tr>\n",
       "    <tr>\n",
       "      <th>2</th>\n",
       "      <td>5</td>\n",
       "      <td>0</td>\n",
       "    </tr>\n",
       "    <tr>\n",
       "      <th>3</th>\n",
       "      <td>6</td>\n",
       "      <td>1</td>\n",
       "    </tr>\n",
       "    <tr>\n",
       "      <th>4</th>\n",
       "      <td>5</td>\n",
       "      <td>0</td>\n",
       "    </tr>\n",
       "    <tr>\n",
       "      <th>5</th>\n",
       "      <td>4</td>\n",
       "      <td>0</td>\n",
       "    </tr>\n",
       "    <tr>\n",
       "      <th>6</th>\n",
       "      <td>2</td>\n",
       "      <td>-1</td>\n",
       "    </tr>\n",
       "    <tr>\n",
       "      <th>7</th>\n",
       "      <td>6</td>\n",
       "      <td>1</td>\n",
       "    </tr>\n",
       "    <tr>\n",
       "      <th>8</th>\n",
       "      <td>5</td>\n",
       "      <td>0</td>\n",
       "    </tr>\n",
       "  </tbody>\n",
       "</table>\n",
       "</div>"
      ],
      "text/plain": [
       "   close  raw_peaks\n",
       "0      2         -1\n",
       "1      4          0\n",
       "2      5          0\n",
       "3      6          1\n",
       "4      5          0\n",
       "5      4          0\n",
       "6      2         -1\n",
       "7      6          1\n",
       "8      5          0"
      ]
     },
     "execution_count": 98,
     "metadata": {},
     "output_type": "execute_result"
    }
   ],
   "source": [
    "df"
   ]
  },
  {
   "cell_type": "code",
   "execution_count": 112,
   "id": "39c326d1",
   "metadata": {},
   "outputs": [
    {
     "data": {
      "text/plain": [
       "7"
      ]
     },
     "execution_count": 112,
     "metadata": {},
     "output_type": "execute_result"
    }
   ],
   "source": [
    "df[df[\"raw_peaks\"] != 0].last_valid_index()"
   ]
  },
  {
   "cell_type": "code",
   "execution_count": 113,
   "id": "cb0b663d",
   "metadata": {},
   "outputs": [
    {
     "data": {
      "text/plain": [
       "9"
      ]
     },
     "execution_count": 113,
     "metadata": {},
     "output_type": "execute_result"
    }
   ],
   "source": [
    "len(df)"
   ]
  },
  {
   "cell_type": "code",
   "execution_count": 115,
   "id": "f9bf0a0c",
   "metadata": {},
   "outputs": [
    {
     "data": {
      "text/plain": [
       "3"
      ]
     },
     "execution_count": 115,
     "metadata": {},
     "output_type": "execute_result"
    }
   ],
   "source": [
    "len(df[3:6])"
   ]
  },
  {
   "cell_type": "code",
   "execution_count": null,
   "id": "0ea5ac26",
   "metadata": {},
   "outputs": [],
   "source": []
  }
 ],
 "metadata": {
  "kernelspec": {
   "display_name": ".env",
   "language": "python",
   "name": ".env"
  },
  "language_info": {
   "codemirror_mode": {
    "name": "ipython",
    "version": 3
   },
   "file_extension": ".py",
   "mimetype": "text/x-python",
   "name": "python",
   "nbconvert_exporter": "python",
   "pygments_lexer": "ipython3",
   "version": "3.10.8"
  }
 },
 "nbformat": 4,
 "nbformat_minor": 5
}
