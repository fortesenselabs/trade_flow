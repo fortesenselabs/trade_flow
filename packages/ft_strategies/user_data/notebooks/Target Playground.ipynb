{
 "cells": [
  {
   "cell_type": "code",
   "execution_count": 1,
   "id": "49de3cab",
   "metadata": {},
   "outputs": [],
   "source": [
    "from scipy.signal import argrelextrema, find_peaks\n",
    "from scipy.spatial.distance import cdist, squareform, pdist\n",
    "import numpy as np\n",
    "import pandas as pd\n",
    "import matplotlib.pyplot as plt\n",
    "\n",
    "%load_ext autoreload\n",
    "%autoreload 2"
   ]
  },
  {
   "cell_type": "markdown",
   "id": "e426fa66",
   "metadata": {},
   "source": [
    "### Create function for apply\n",
    "- merge code into function\n",
    "- takes df and returns df with same index and more columsn"
   ]
  },
  {
   "cell_type": "code",
   "execution_count": 2,
   "id": "896185e3",
   "metadata": {},
   "outputs": [],
   "source": [
    "from user_data.litmus.label_helpers import entry_exit_labeler"
   ]
  },
  {
   "cell_type": "code",
   "execution_count": 18,
   "id": "e604962d",
   "metadata": {},
   "outputs": [
    {
     "data": {
      "text/plain": [
       "array([501.1, 494.2, 502.3, 492.4, 482.5, 477.6, 473.7, 469.8, 472.9,\n",
       "       472. , 470.1, 478.2, 472.3, 464.4, 459.5, 462.6, 459.7, 454.8,\n",
       "       463.9, 458. , 461.1, 455.2, 449.3, 453.4, 450.5, 458.6, 455.7,\n",
       "       457.8, 449.9, 442. , 433.1, 434.2, 443.3, 433.4, 432.5, 427.6,\n",
       "       435.7, 428.8, 427.9, 427. , 429.1, 438.2, 440.3, 440.4, 439.5,\n",
       "       445.6, 444.7, 453.8, 459.9, 451. , 456.1, 446.2, 439.3, 433.4,\n",
       "       426.5, 422.6, 423.7, 420.8, 419.9, 428. , 420.1, 421.2, 412.3,\n",
       "       414.4, 406.5, 404.6, 396.7, 399.8, 406.9, 413. , 404.1, 399.2,\n",
       "       405.3, 412.4, 408.5, 403.6, 404.7, 403.8, 403.9, 394. , 396.1,\n",
       "       392.2, 394.3, 400.4, 396.5, 401.6, 407.7, 410.8, 408.9, 402. ,\n",
       "       410.1, 412.2, 405.3, 401.4, 404.5, 402.6, 392.7, 401.8, 410.9,\n",
       "       418. ])"
      ]
     },
     "execution_count": 18,
     "metadata": {},
     "output_type": "execute_result"
    }
   ],
   "source": [
    "close_ = 500 + np.cumsum(0.1 + np.random.randint(-10, 10, 100))\n",
    "close_"
   ]
  },
  {
   "cell_type": "code",
   "execution_count": 21,
   "id": "a1ebe51e",
   "metadata": {
    "scrolled": false
   },
   "outputs": [
    {
     "data": {
      "text/html": [
       "<div>\n",
       "<style scoped>\n",
       "    .dataframe tbody tr th:only-of-type {\n",
       "        vertical-align: middle;\n",
       "    }\n",
       "\n",
       "    .dataframe tbody tr th {\n",
       "        vertical-align: top;\n",
       "    }\n",
       "\n",
       "    .dataframe thead th {\n",
       "        text-align: right;\n",
       "    }\n",
       "</style>\n",
       "<table border=\"1\" class=\"dataframe\">\n",
       "  <thead>\n",
       "    <tr style=\"text-align: right;\">\n",
       "      <th></th>\n",
       "      <th>close</th>\n",
       "      <th>&amp;target</th>\n",
       "    </tr>\n",
       "  </thead>\n",
       "  <tbody>\n",
       "    <tr>\n",
       "      <th>0</th>\n",
       "      <td>501.1</td>\n",
       "      <td>transition</td>\n",
       "    </tr>\n",
       "    <tr>\n",
       "      <th>1</th>\n",
       "      <td>494.2</td>\n",
       "      <td>bad_entry</td>\n",
       "    </tr>\n",
       "    <tr>\n",
       "      <th>2</th>\n",
       "      <td>502.3</td>\n",
       "      <td>bad_exit</td>\n",
       "    </tr>\n",
       "    <tr>\n",
       "      <th>3</th>\n",
       "      <td>492.4</td>\n",
       "      <td>transition</td>\n",
       "    </tr>\n",
       "    <tr>\n",
       "      <th>4</th>\n",
       "      <td>482.5</td>\n",
       "      <td>transition</td>\n",
       "    </tr>\n",
       "    <tr>\n",
       "      <th>...</th>\n",
       "      <td>...</td>\n",
       "      <td>...</td>\n",
       "    </tr>\n",
       "    <tr>\n",
       "      <th>95</th>\n",
       "      <td>402.6</td>\n",
       "      <td>transition</td>\n",
       "    </tr>\n",
       "    <tr>\n",
       "      <th>96</th>\n",
       "      <td>392.7</td>\n",
       "      <td>good_entry</td>\n",
       "    </tr>\n",
       "    <tr>\n",
       "      <th>97</th>\n",
       "      <td>401.8</td>\n",
       "      <td>transition</td>\n",
       "    </tr>\n",
       "    <tr>\n",
       "      <th>98</th>\n",
       "      <td>410.9</td>\n",
       "      <td>transition</td>\n",
       "    </tr>\n",
       "    <tr>\n",
       "      <th>99</th>\n",
       "      <td>418.0</td>\n",
       "      <td>transition</td>\n",
       "    </tr>\n",
       "  </tbody>\n",
       "</table>\n",
       "<p>100 rows × 2 columns</p>\n",
       "</div>"
      ],
      "text/plain": [
       "    close     &target\n",
       "0   501.1  transition\n",
       "1   494.2   bad_entry\n",
       "2   502.3    bad_exit\n",
       "3   492.4  transition\n",
       "4   482.5  transition\n",
       "..    ...         ...\n",
       "95  402.6  transition\n",
       "96  392.7  good_entry\n",
       "97  401.8  transition\n",
       "98  410.9  transition\n",
       "99  418.0  transition\n",
       "\n",
       "[100 rows x 2 columns]"
      ]
     },
     "execution_count": 21,
     "metadata": {},
     "output_type": "execute_result"
    }
   ],
   "source": [
    "test_df = pd.DataFrame(close_, columns=[\"close\"], index=np.arange(len(close_)))\n",
    "results = entry_exit_labeler(test_df[\"close\"], min_growth=0.04, max_duration=5)\n",
    "results = pd.concat([test_df, results], axis=1)\n",
    "results"
   ]
  },
  {
   "cell_type": "code",
   "execution_count": 24,
   "id": "13a7a327",
   "metadata": {},
   "outputs": [
    {
     "data": {
      "text/plain": [
       "<AxesSubplot:>"
      ]
     },
     "execution_count": 24,
     "metadata": {},
     "output_type": "execute_result"
    },
    {
     "data": {
      "image/png": "[encoded data removed]",
      "text/plain": [
       "<Figure size 1080x432 with 2 Axes>"
      ]
     },
     "metadata": {
      "needs_background": "light"
     },
     "output_type": "display_data"
    }
   ],
   "source": [
    "results[\"good_entry\"] = np.where(results[\"&target\"] == \"good_entry\", 1, 0)\n",
    "results[\"good_exit\"] = np.where(results[\"&target\"] == \"good_exit\", 1, 0)\n",
    "results[\"bad_entry\"] = np.where(results[\"&target\"] == \"bad_entry\", 1, 0)\n",
    "results[\"bad_exit\"] = np.where(results[\"&target\"] == \"bad_exit\", 1, 0)\n",
    "\n",
    "ax = results[\"close\"].plot(figsize=(15,6))\n",
    "results[\"good_entry\"].plot(ax=ax, secondary_y=True, kind=\"bar\", alpha=0.2, color=\"green\")\n",
    "results[\"good_exit\"].plot(ax=ax, secondary_y=True, kind=\"bar\", alpha=0.2, color=\"red\")\n",
    "\n",
    "results[\"bad_entry\"].plot(ax=ax, secondary_y=True, kind=\"bar\", alpha=0.2, color=\"black\")\n",
    "results[\"bad_exit\"].plot(ax=ax, secondary_y=True, kind=\"bar\", alpha=0.2, color=\"black\")"
   ]
  },
  {
   "cell_type": "code",
   "execution_count": 26,
   "id": "19cd4f34",
   "metadata": {},
   "outputs": [
    {
     "data": {
      "text/html": [
       "<div>\n",
       "<style scoped>\n",
       "    .dataframe tbody tr th:only-of-type {\n",
       "        vertical-align: middle;\n",
       "    }\n",
       "\n",
       "    .dataframe tbody tr th {\n",
       "        vertical-align: top;\n",
       "    }\n",
       "\n",
       "    .dataframe thead th {\n",
       "        text-align: right;\n",
       "    }\n",
       "</style>\n",
       "<table border=\"1\" class=\"dataframe\">\n",
       "  <thead>\n",
       "    <tr style=\"text-align: right;\">\n",
       "      <th></th>\n",
       "      <th>close</th>\n",
       "      <th>&amp;target</th>\n",
       "      <th>good_entry</th>\n",
       "      <th>good_exit</th>\n",
       "      <th>bad_entry</th>\n",
       "      <th>bad_exit</th>\n",
       "    </tr>\n",
       "  </thead>\n",
       "  <tbody>\n",
       "    <tr>\n",
       "      <th>36</th>\n",
       "      <td>435.7</td>\n",
       "      <td>bad_exit</td>\n",
       "      <td>0</td>\n",
       "      <td>0</td>\n",
       "      <td>0</td>\n",
       "      <td>1</td>\n",
       "    </tr>\n",
       "    <tr>\n",
       "      <th>37</th>\n",
       "      <td>428.8</td>\n",
       "      <td>transition</td>\n",
       "      <td>0</td>\n",
       "      <td>0</td>\n",
       "      <td>0</td>\n",
       "      <td>0</td>\n",
       "    </tr>\n",
       "    <tr>\n",
       "      <th>38</th>\n",
       "      <td>427.9</td>\n",
       "      <td>transition</td>\n",
       "      <td>0</td>\n",
       "      <td>0</td>\n",
       "      <td>0</td>\n",
       "      <td>0</td>\n",
       "    </tr>\n",
       "    <tr>\n",
       "      <th>39</th>\n",
       "      <td>427.0</td>\n",
       "      <td>bad_entry</td>\n",
       "      <td>0</td>\n",
       "      <td>0</td>\n",
       "      <td>1</td>\n",
       "      <td>0</td>\n",
       "    </tr>\n",
       "    <tr>\n",
       "      <th>40</th>\n",
       "      <td>429.1</td>\n",
       "      <td>transition</td>\n",
       "      <td>0</td>\n",
       "      <td>0</td>\n",
       "      <td>0</td>\n",
       "      <td>0</td>\n",
       "    </tr>\n",
       "    <tr>\n",
       "      <th>41</th>\n",
       "      <td>438.2</td>\n",
       "      <td>transition</td>\n",
       "      <td>0</td>\n",
       "      <td>0</td>\n",
       "      <td>0</td>\n",
       "      <td>0</td>\n",
       "    </tr>\n",
       "    <tr>\n",
       "      <th>42</th>\n",
       "      <td>440.3</td>\n",
       "      <td>transition</td>\n",
       "      <td>0</td>\n",
       "      <td>0</td>\n",
       "      <td>0</td>\n",
       "      <td>0</td>\n",
       "    </tr>\n",
       "    <tr>\n",
       "      <th>43</th>\n",
       "      <td>440.4</td>\n",
       "      <td>bad_exit</td>\n",
       "      <td>0</td>\n",
       "      <td>0</td>\n",
       "      <td>0</td>\n",
       "      <td>1</td>\n",
       "    </tr>\n",
       "    <tr>\n",
       "      <th>44</th>\n",
       "      <td>439.5</td>\n",
       "      <td>good_entry</td>\n",
       "      <td>1</td>\n",
       "      <td>0</td>\n",
       "      <td>0</td>\n",
       "      <td>0</td>\n",
       "    </tr>\n",
       "    <tr>\n",
       "      <th>45</th>\n",
       "      <td>445.6</td>\n",
       "      <td>bad_exit</td>\n",
       "      <td>0</td>\n",
       "      <td>0</td>\n",
       "      <td>0</td>\n",
       "      <td>1</td>\n",
       "    </tr>\n",
       "    <tr>\n",
       "      <th>46</th>\n",
       "      <td>444.7</td>\n",
       "      <td>bad_entry</td>\n",
       "      <td>0</td>\n",
       "      <td>0</td>\n",
       "      <td>1</td>\n",
       "      <td>0</td>\n",
       "    </tr>\n",
       "    <tr>\n",
       "      <th>47</th>\n",
       "      <td>453.8</td>\n",
       "      <td>transition</td>\n",
       "      <td>0</td>\n",
       "      <td>0</td>\n",
       "      <td>0</td>\n",
       "      <td>0</td>\n",
       "    </tr>\n",
       "    <tr>\n",
       "      <th>48</th>\n",
       "      <td>459.9</td>\n",
       "      <td>good_exit</td>\n",
       "      <td>0</td>\n",
       "      <td>1</td>\n",
       "      <td>0</td>\n",
       "      <td>0</td>\n",
       "    </tr>\n",
       "    <tr>\n",
       "      <th>49</th>\n",
       "      <td>451.0</td>\n",
       "      <td>bad_entry</td>\n",
       "      <td>0</td>\n",
       "      <td>0</td>\n",
       "      <td>1</td>\n",
       "      <td>0</td>\n",
       "    </tr>\n",
       "  </tbody>\n",
       "</table>\n",
       "</div>"
      ],
      "text/plain": [
       "    close     &target  good_entry  good_exit  bad_entry  bad_exit\n",
       "36  435.7    bad_exit           0          0          0         1\n",
       "37  428.8  transition           0          0          0         0\n",
       "38  427.9  transition           0          0          0         0\n",
       "39  427.0   bad_entry           0          0          1         0\n",
       "40  429.1  transition           0          0          0         0\n",
       "41  438.2  transition           0          0          0         0\n",
       "42  440.3  transition           0          0          0         0\n",
       "43  440.4    bad_exit           0          0          0         1\n",
       "44  439.5  good_entry           1          0          0         0\n",
       "45  445.6    bad_exit           0          0          0         1\n",
       "46  444.7   bad_entry           0          0          1         0\n",
       "47  453.8  transition           0          0          0         0\n",
       "48  459.9   good_exit           0          1          0         0\n",
       "49  451.0   bad_entry           0          0          1         0"
      ]
     },
     "execution_count": 26,
     "metadata": {},
     "output_type": "execute_result"
    }
   ],
   "source": [
    "results[36:50]"
   ]
  },
  {
   "cell_type": "code",
   "execution_count": null,
   "id": "db390fad",
   "metadata": {},
   "outputs": [],
   "source": [
    "# results[\"close\"].plot(figsize=(20, 6))\n",
    "results[\"&good_long_entry\"].plot(secondary_y=True, kind=\"bar\", alpha=0.2, color=\"green\")\n",
    "results[\"&good_long_exit\"].plot(secondary_y=True, kind=\"bar\", alpha=0.2, color=\"red\")\n",
    "results[\"&fake_long_entry\"].plot(secondary_y=True, kind=\"bar\", alpha=0.2, color=\"black\")\n",
    "results[\"&fake_long_exit\"].plot(secondary_y=True, kind=\"bar\", alpha=0.2, color=\"black\")"
   ]
  },
  {
   "cell_type": "code",
   "execution_count": null,
   "id": "024c3acd",
   "metadata": {},
   "outputs": [],
   "source": [
    "[\"&good_entry\", \"&good_exit\", \"&fake_entry\", \"&fake_exit\"]"
   ]
  },
  {
   "cell_type": "markdown",
   "id": "12ee6368",
   "metadata": {},
   "source": [
    "### Steps\n",
    "- identify all peaks and valleys for close\n",
    "- mask close to show just peaks and valleys\n",
    "- compute cdist for all points in close\n",
    "- mask dist that is > max_distance\n",
    "- identify distances that are > min_threshold\n",
    "- get idx for those points\n",
    "- label those points as good entries and exists\n",
    "- label all other peak/valleys as fake entries/exits"
   ]
  },
  {
   "cell_type": "code",
   "execution_count": null,
   "id": "964ef0cc",
   "metadata": {},
   "outputs": [],
   "source": [
    "close = 500 + np.cumsum(0.1 + np.random.randint(-10, 10, 20))\n",
    "close"
   ]
  },
  {
   "cell_type": "code",
   "execution_count": null,
   "id": "b42ce6b6",
   "metadata": {},
   "outputs": [],
   "source": [
    "# Find all peaks and valleys\n",
    "peak_idx = find_peaks(close)[0]\n",
    "valley_idx = find_peaks(-close)[0]\n",
    "valley_idx, peak_idx"
   ]
  },
  {
   "cell_type": "code",
   "execution_count": null,
   "id": "1c6ea62f",
   "metadata": {},
   "outputs": [],
   "source": [
    "# Mask valleys\n",
    "valley_mask = np.zeros(close.shape, dtype=bool)\n",
    "valley_mask[valley_idx] = True\n",
    "valley_mask"
   ]
  },
  {
   "cell_type": "code",
   "execution_count": null,
   "id": "79123875",
   "metadata": {},
   "outputs": [],
   "source": [
    "peak_mask = np.zeros(close.shape, dtype=bool)\n",
    "peak_mask[peak_idx] = True\n",
    "peak_mask"
   ]
  },
  {
   "cell_type": "code",
   "execution_count": null,
   "id": "40360b47",
   "metadata": {},
   "outputs": [],
   "source": [
    "peak_valley_mask = np.outer(valley_mask, peak_mask)\n",
    "peak_valley_mask"
   ]
  },
  {
   "cell_type": "code",
   "execution_count": null,
   "id": "c1956936",
   "metadata": {},
   "outputs": [],
   "source": [
    "# Check we're on track\n",
    "plt.plot(valley_mask*close)\n",
    "plt.plot(peak_mask*close)\n",
    "plt.plot(close)"
   ]
  },
  {
   "cell_type": "code",
   "execution_count": null,
   "id": "d31a0b76",
   "metadata": {},
   "outputs": [],
   "source": [
    "close_test = 500 + np.cumsum(0.1 + np.random.randint(-10, 10, 10))"
   ]
  },
  {
   "cell_type": "code",
   "execution_count": null,
   "id": "6316494a",
   "metadata": {},
   "outputs": [],
   "source": [
    "close_test"
   ]
  },
  {
   "cell_type": "code",
   "execution_count": null,
   "id": "35d2169d",
   "metadata": {},
   "outputs": [],
   "source": [
    "# Compute distance matrix\n",
    "def cdist_growth(a, b):\n",
    "    return np.divide(b - a, a)\n",
    "\n",
    "dist_matrix = cdist(close_test.reshape(-1, 1), close_test.reshape(-1, 1), metric=cdist_growth)\n",
    "dist_matrix"
   ]
  },
  {
   "cell_type": "code",
   "execution_count": null,
   "id": "4a14dd99",
   "metadata": {},
   "outputs": [],
   "source": [
    "# Compute distance matrix\n",
    "dist_matrix = cdist(close_test.reshape(-1, 1), close_test.reshape(-1, 1), metric=\"euclidean\")\n",
    "dist_matrix"
   ]
  },
  {
   "cell_type": "code",
   "execution_count": null,
   "id": "15eec68c",
   "metadata": {},
   "outputs": [],
   "source": [
    "dist_matrix / close_test.reshape(-1, 1)"
   ]
  },
  {
   "cell_type": "code",
   "execution_count": null,
   "id": "2a1b7038",
   "metadata": {},
   "outputs": [],
   "source": [
    "# Scope to distances > min_threshold\n",
    "min_growth = 0.02\n",
    "\n",
    "growth_mask = (dist_matrix - min_growth) > 0\n",
    "dist_matrix = dist_matrix*growth_mask\n",
    "\n",
    "dist_matrix"
   ]
  },
  {
   "cell_type": "code",
   "execution_count": null,
   "id": "b32f222d",
   "metadata": {},
   "outputs": [],
   "source": [
    "np.tril(dist_matrix, k=5)"
   ]
  },
  {
   "cell_type": "code",
   "execution_count": null,
   "id": "220e8f6b",
   "metadata": {},
   "outputs": [],
   "source": [
    "# Limit to max_duration\n",
    "max_duration = 5\n",
    "dist_matrix = np.tril(dist_matrix, k=max_duration)\n",
    "\n",
    "# Remove lower triangle\n",
    "dist_matrix = np.triu(dist_matrix)\n",
    "\n",
    "dist_matrix"
   ]
  },
  {
   "cell_type": "code",
   "execution_count": null,
   "id": "26bdc166",
   "metadata": {},
   "outputs": [],
   "source": [
    "# Scope using peak valley mask\n",
    "scoped_dist_matrix = peak_valley_mask*dist_matrix\n",
    "scoped_dist_matrix"
   ]
  },
  {
   "cell_type": "code",
   "execution_count": null,
   "id": "24863e13",
   "metadata": {},
   "outputs": [],
   "source": [
    "# Get idx for non zero distances\n",
    "v, p = np.where(scoped_dist_matrix > 0)\n",
    "v, p"
   ]
  },
  {
   "cell_type": "code",
   "execution_count": null,
   "id": "c134d638",
   "metadata": {},
   "outputs": [],
   "source": [
    "df = pd.DataFrame(close, columns=[\"close\"])\n",
    "df[[\"&long_entry\", \"&long_exit\", \"&fake_long_entry\", \"&fake_long_exit\"]] = \"No\"\n",
    "\n",
    "# Long Entries\n",
    "df.loc[[i for i in valley_idx if i not in v], \"&fake_long_entry\"] = \"Yes\"\n",
    "df.loc[v, \"&long_entry\"] = \"Yes\"\n",
    "\n",
    "# Long Exits\n",
    "df.loc[[i for i in peak_idx if i not in p], \"&fake_long_exit\"] = \"Yes\"\n",
    "df.loc[p, \"&long_exit\"] = \"Yes\"\n",
    "\n",
    "df"
   ]
  },
  {
   "cell_type": "code",
   "execution_count": null,
   "id": "ce5f2f5b",
   "metadata": {},
   "outputs": [],
   "source": [
    "# Check we're on track\n",
    "plt.plot(valley_mask*close)\n",
    "plt.plot(peak_mask*close)\n",
    "plt.plot(close)"
   ]
  },
  {
   "cell_type": "code",
   "execution_count": null,
   "id": "7a17bd6f",
   "metadata": {},
   "outputs": [],
   "source": [
    "test_df = pd.DataFrame(close, columns=[\"close\"])\n",
    "\n",
    "def test(df):\n",
    "    return df/2\n",
    "\n",
    "test_df[[\"close\"]].apply(test)"
   ]
  },
  {
   "cell_type": "markdown",
   "id": "e0747997",
   "metadata": {},
   "source": [
    "### Old way"
   ]
  },
  {
   "cell_type": "code",
   "execution_count": null,
   "id": "b3a6fb8f",
   "metadata": {},
   "outputs": [],
   "source": []
  },
  {
   "cell_type": "code",
   "execution_count": null,
   "id": "28637b90",
   "metadata": {},
   "outputs": [],
   "source": [
    "close = 500 + np.cumsum(0.1 + np.random.randint(-10, 10, 30))\n",
    "peak_idx = find_peaks(close)[0]\n",
    "valley_idx = find_peaks(-close)[0]\n",
    "\n",
    "plt.figure(figsize=(20,7))\n",
    "plt.plot(close)\n",
    "plt.bar(peak_idx, close[peak_idx], color=\"red\", alpha=0.2)\n",
    "plt.bar(valley_idx, close[valley_idx], color=\"green\", alpha=0.2)"
   ]
  },
  {
   "cell_type": "code",
   "execution_count": null,
   "id": "649229c0",
   "metadata": {},
   "outputs": [],
   "source": [
    "# Ensure no peak before valley\n",
    "print(peak_idx, valley_idx)\n",
    "\n",
    "peak_idx = np.array([i for i in peak_idx if i > valley_idx.min()])\n",
    "print(peak_idx)"
   ]
  },
  {
   "cell_type": "code",
   "execution_count": null,
   "id": "24bd8488",
   "metadata": {},
   "outputs": [],
   "source": [
    "def cdist_growth(a, b):\n",
    "    diff = b - a\n",
    "    return np.divide(diff, a)\n",
    "\n",
    "dist = cdist(close[valley_idx].reshape(-1, 1), close[peak_idx].reshape(-1, 1), metric=cdist_growth)\n",
    "dist"
   ]
  },
  {
   "cell_type": "code",
   "execution_count": null,
   "id": "c9f65ff3",
   "metadata": {},
   "outputs": [],
   "source": [
    "# Subtract min_threshold and go to upper triangle\n",
    "min_threshold = 0.02\n",
    "dist = dist - min_threshold\n",
    "dist = np.triu(dist, k=0)\n",
    "dist"
   ]
  },
  {
   "cell_type": "code",
   "execution_count": null,
   "id": "bf214a76",
   "metadata": {},
   "outputs": [],
   "source": [
    "# Compute index distance\n",
    "def simple_distance(a, b):\n",
    "    diff = b - a\n",
    "    return diff\n",
    "\n",
    "idx_dist = cdist(valley_idx.reshape(-1, 1), peak_idx.reshape(-1, 1), metric=simple_distance)\n",
    "idx_dist = np.triu(idx_dist, k=0)\n",
    "idx_dist"
   ]
  },
  {
   "cell_type": "code",
   "execution_count": null,
   "id": "b75f945f",
   "metadata": {},
   "outputs": [],
   "source": [
    "# Check min_distance and set to zero\n",
    "min_distance = 5\n",
    "idx_dist = idx_dist*(idx_dist < min_distance)\n",
    "idx_dist"
   ]
  },
  {
   "cell_type": "code",
   "execution_count": null,
   "id": "38157f1c",
   "metadata": {},
   "outputs": [],
   "source": [
    "# Reduce distance matrix to values where idx_dist is > 0\n",
    "# What below means.\n",
    "# All zero values are \"fake_entries\" and \"fake_exists\"\n",
    "# Non zero are good \"entries\" and \"exists\"\n",
    "# Cleanup needed to ensure \"good\" trumps \"fake\"\n",
    "\n",
    "dist = dist*(idx_dist > 0)*(dist > 0)\n",
    "dist"
   ]
  },
  {
   "cell_type": "code",
   "execution_count": null,
   "id": "0afe0a1c",
   "metadata": {},
   "outputs": [],
   "source": [
    "(1000*dist).astype(int)"
   ]
  },
  {
   "cell_type": "code",
   "execution_count": null,
   "id": "25393447",
   "metadata": {},
   "outputs": [],
   "source": [
    "p, v = np.where(dist > 0)\n",
    "v, p"
   ]
  },
  {
   "cell_type": "code",
   "execution_count": null,
   "id": "e8286c03",
   "metadata": {},
   "outputs": [],
   "source": [
    "valley_idx[v], peak_idx[p]"
   ]
  },
  {
   "cell_type": "code",
   "execution_count": null,
   "id": "70dbf30e",
   "metadata": {},
   "outputs": [],
   "source": [
    "valley_idx, peak_idx"
   ]
  },
  {
   "cell_type": "code",
   "execution_count": null,
   "id": "b194fd8c",
   "metadata": {},
   "outputs": [],
   "source": [
    "plt.figure(figsize=(20,7))\n",
    "plt.plot(close)\n",
    "plt.bar(peak_idx, close[peak_idx], color=\"red\", alpha=0.2)\n",
    "plt.bar(valley_idx, close[valley_idx], color=\"green\", alpha=0.2)"
   ]
  },
  {
   "cell_type": "code",
   "execution_count": null,
   "id": "d6229e86",
   "metadata": {},
   "outputs": [],
   "source": [
    "peak_idx, valley_idx"
   ]
  },
  {
   "cell_type": "code",
   "execution_count": null,
   "id": "1dc21811",
   "metadata": {},
   "outputs": [],
   "source": [
    "# Need to access idx where growth is above min_threshold\n",
    "for i, row in enumerate(dist):\n",
    "    for j, value in enumerate(row):\n",
    "        print(valley_idx[i], peak_idx[j], value)"
   ]
  },
  {
   "cell_type": "code",
   "execution_count": null,
   "id": "ef737477",
   "metadata": {},
   "outputs": [],
   "source": [
    "max_peaks = argrelextrema(df[\"close\"].values, lambda a, b: a < b, order=15)[0]\n",
    "min_peaks = argrelextrema(df[\"close\"].values, lambda a, b: a > b, order=15)[0]\n",
    "\n",
    "df[\"maxima\"] = 0\n",
    "df.loc[max_peaks, \"maxima\"] = 1\n",
    "\n",
    "df[\"minima\"] = 0\n",
    "df.loc[min_peaks, \"minima\"] = 1\n",
    "\n",
    "df[\"close\"].plot(figsize=(20,8))\n",
    "df[\"maxima\"].plot(secondary_y=True)\n",
    "df[\"minima\"].plot(secondary_y=True)"
   ]
  },
  {
   "cell_type": "code",
   "execution_count": null,
   "id": "0c64458e",
   "metadata": {},
   "outputs": [],
   "source": [
    "df[df[\"minima\"].isin([1, 2])]"
   ]
  },
  {
   "cell_type": "code",
   "execution_count": null,
   "id": "0a8b72b0",
   "metadata": {},
   "outputs": [],
   "source": [
    "df[180:300][\"close\"].plot(figsize=(20,8))\n",
    "df[180:300][\"maxima\"].plot(secondary_y=True)\n",
    "df[180:300][\"minima\"].plot(secondary_y=True)\n",
    "df[180:300][\"smeared-maxima\"].plot(secondary_y=True)"
   ]
  },
  {
   "cell_type": "code",
   "execution_count": null,
   "id": "f07dc217",
   "metadata": {},
   "outputs": [],
   "source": [
    "from scipy.signal import find_peaks\n",
    "df = pd.DataFrame(1000 + np.cumsum(0.1 + np.random.randint(-10, 10, 100)), columns=['close'])"
   ]
  },
  {
   "cell_type": "code",
   "execution_count": null,
   "id": "f4452dd3",
   "metadata": {},
   "outputs": [],
   "source": [
    "np.triu(dist, k=0)"
   ]
  },
  {
   "cell_type": "code",
   "execution_count": null,
   "id": "f7ba0253",
   "metadata": {},
   "outputs": [],
   "source": [
    "def find_peak_valley(df, min_threshold, min_distance):\n",
    "    \n",
    "    df = df.copy()\n",
    "    peak = find_peaks(df)[0]\n",
    "    valley = find_peaks(-df)[0]\n",
    "    \n",
    "    df[\"long_exit\"] = 0\n",
    "    df[\"long_entry\"] = 0\n",
    "    df[\"fake_long_exit\"] = 0\n",
    "    df[\"fake_long_entry\"] = 0\n",
    "    df.loc[valley, \"fake_long_entry\"] = 1\n",
    "    \n",
    "    for i, v in df.loc[valley, :].iterrows():\n",
    "        for j, p in df.loc[peak, :].iterrows():\n",
    "            v_value = valleys.loc[i][\"close\"]\n",
    "            p_value = peaks.loc[j][\"close\"]\n",
    "            if j < i:\n",
    "                print(f\"Wrong order: {i}, {j}\")\n",
    "                continue\n",
    "            elif j - i > min_distance:\n",
    "                print(f\"min distance exceeded {j - i}\")\n",
    "                break\n",
    "            elif (p_value - v_value) / v_value > min_threshold:\n",
    "                print(f\"threshold exceeded: {v_value}, {p_value}\")\n",
    "                df.loc[i, \"long_entry\"] = 1\n",
    "                df.loc[i, \"fake_long_entry\"] = 0\n",
    "                df.loc[j, \"long_exit\"] = 1\n",
    "                break\n",
    "            else:\n",
    "                print(f\"Insufficient peak found: {v_value}, {p_value}\")\n",
    "                df.loc[j, \"fake_long_exit\"] = 1\n",
    "\n",
    "    # Ensure no conflicting labels\n",
    "    df.loc[df[\"long_exit\"] == 1, \"fake_long_exit\"] = 0\n",
    "    \n",
    "df.apply(find_peak_valley, min_threshold=0.2, min_distance=10)"
   ]
  },
  {
   "cell_type": "code",
   "execution_count": null,
   "id": "7bba4d3f",
   "metadata": {},
   "outputs": [],
   "source": [
    "df"
   ]
  },
  {
   "cell_type": "code",
   "execution_count": null,
   "id": "b3362cb6",
   "metadata": {},
   "outputs": [],
   "source": [
    "min_distance = 10\n",
    "min_threshold = 0.02\n",
    "\n",
    "peak = find_peaks(df[\"close\"].values)[0]\n",
    "valley = find_peaks(-df[\"close\"].values)[0]\n",
    "\n",
    "df[\"long_exit\"] = 0\n",
    "df[\"long_entry\"] = 0\n",
    "df[\"fake_long_exit\"] = 0\n",
    "df[\"fake_long_entry\"] = 0\n",
    "df.loc[valley, \"fake_long_entry\"] = 1\n",
    "\n",
    "df[\"peak\"] = 0\n",
    "df.loc[peak, \"peak\"] = 1\n",
    "df[\"valley\"] = 0\n",
    "df.loc[valley, \"valley\"] = 1"
   ]
  },
  {
   "cell_type": "code",
   "execution_count": null,
   "id": "418fe823",
   "metadata": {},
   "outputs": [],
   "source": [
    "# Find all peaks within min_distance\n",
    "peaks = df[df[\"peak\"] == 1]\n",
    "valleys = df[df[\"valley\"] == 1]\n",
    "print(peaks.shape)\n",
    "valleys.shape\n",
    "\n",
    "for i, v in valleys.iterrows():\n",
    "    for j, p in peaks.iterrows():\n",
    "        v_value = valleys.loc[i][\"close\"]\n",
    "        p_value = peaks.loc[j][\"close\"]\n",
    "        if j < i:\n",
    "            print(f\"Wrong order: {i}, {j}\")\n",
    "            continue\n",
    "        elif j - i > min_distance:\n",
    "            print(f\"min distance exceeded {j - i}\")\n",
    "            break\n",
    "        elif (p_value - v_value) / v_value > min_threshold:\n",
    "            print(f\"threshold exceeded: {v_value}, {p_value}\")\n",
    "            df.loc[i, \"long_entry\"] = 1\n",
    "            df.loc[i, \"fake_long_entry\"] = 0\n",
    "            df.loc[j, \"long_exit\"] = 1\n",
    "            break\n",
    "        else:\n",
    "            print(f\"Insufficient peak found: {v_value}, {p_value}\")\n",
    "            df.loc[j, \"fake_long_exit\"] = 1\n",
    "\n",
    "# Ensure no conflicting labels\n",
    "df.loc[df[\"long_exit\"] == 1, \"fake_long_exit\"] = 0"
   ]
  },
  {
   "cell_type": "code",
   "execution_count": null,
   "id": "a07b1825",
   "metadata": {
    "scrolled": false
   },
   "outputs": [],
   "source": [
    "df[\"close\"].plot(figsize=(20,8))\n",
    "df[\"long_entry\"].plot(secondary_y=True, kind=\"bar\", color=\"green\", alpha=0.2)\n",
    "df[\"long_exit\"].plot(secondary_y=True, kind=\"bar\", color=\"green\", alpha=0.2)\n",
    "df[\"fake_long_entry\"].plot(secondary_y=True, kind=\"bar\", color=\"red\", alpha=0.2)\n",
    "df[\"fake_long_exit\"].plot(secondary_y=True, kind=\"bar\", color=\"red\", alpha=0.2)"
   ]
  },
  {
   "cell_type": "code",
   "execution_count": null,
   "id": "cdb0624d",
   "metadata": {},
   "outputs": [],
   "source": [
    "df = pd.DataFrame(1000 + np.cumsum(0.1 + np.random.randint(-10, 10, 10000)), columns=['close'])\n",
    "\n",
    "# Find all good entries and exits for longs\n",
    "min_distance = 10\n",
    "min_threshold = 0.02\n",
    "\n",
    "peak = find_peaks(df[\"close\"].values)[0]\n",
    "valley = find_peaks(-df[\"close\"].values)[0]\n",
    "print(peak.shape)\n",
    "print(valley.shape)\n",
    "\n",
    "df[\"&long_exit\"] = \"No\"\n",
    "df[\"&long_entry\"] = \"No\"\n",
    "df[\"&fake_long_exit\"] = \"No\"\n",
    "df[\"&fake_long_entry\"] = \"No\"\n",
    "df.loc[valley, \"&fake_long_entry\"] = \"Yes\"\n",
    "\n",
    "for i, v in df.loc[valley, :].iterrows():\n",
    "    for j, p in df.loc[peak, :].iterrows():\n",
    "        v_value = df.loc[i, \"close\"]\n",
    "        p_value = df.loc[j, \"close\"]\n",
    "        if j < i:\n",
    "            print(f\"Wrong order: {i}, {j}\")\n",
    "            continue\n",
    "        elif j - i > min_distance:\n",
    "            print(f\"min distance exceeded {j - i}\")\n",
    "            break\n",
    "        elif (p_value - v_value) / v_value > min_threshold:\n",
    "            print(f\"threshold exceeded: {v_value}, {p_value}\")\n",
    "            df.loc[i, \"&long_entry\"] = \"Yes\"\n",
    "            df.loc[j, \"&long_exit\"] = \"Yes\"\n",
    "            break\n",
    "        else:\n",
    "            print(f\"Insufficient peak found: {v_value}, {p_value}\")\n",
    "            df.loc[j, \"&fake_long_exit\"] = \"Yes\"\n",
    "\n",
    "# Ensure no conflicting labels\n",
    "df.loc[df[\"&long_exit\"] == \"Yes\", \"&fake_long_exit\"] = \"No\""
   ]
  },
  {
   "cell_type": "code",
   "execution_count": null,
   "id": "c40a8a94",
   "metadata": {},
   "outputs": [],
   "source": [
    "df.head(50)"
   ]
  },
  {
   "cell_type": "code",
   "execution_count": null,
   "id": "14aa0d65",
   "metadata": {},
   "outputs": [],
   "source": [
    "from catboost import CatBoostClassifier\n",
    "\n",
    "df[\"dummy\"] = df[\"close\"] *4\n",
    "X_train = df[[\"close\", \"dummy\"]]\n",
    "y_train = df[[\"&long_exit\", \"&long_entry\", \"&fake_long_exit\", \"&fake_long_entry\"]]\n",
    "\n",
    "clf = CatBoostClassifier(loss_function=\"MultiLogloss\")\n",
    "clf.fit(X_train, y_train)"
   ]
  },
  {
   "cell_type": "code",
   "execution_count": null,
   "id": "410fd367",
   "metadata": {},
   "outputs": [],
   "source": [
    "clf.predict(X_train)"
   ]
  },
  {
   "cell_type": "code",
   "execution_count": null,
   "id": "6749acd2",
   "metadata": {},
   "outputs": [],
   "source": [
    "df[[\"long_exit\", \"long_entry\", \"fake_long_exit\", \"fake_long_entry\"]].replace(replace_rules, inplace=True)\n",
    "y_train"
   ]
  },
  {
   "cell_type": "code",
   "execution_count": null,
   "id": "f7e80d9e",
   "metadata": {},
   "outputs": [],
   "source": [
    "y_train"
   ]
  },
  {
   "cell_type": "code",
   "execution_count": null,
   "id": "1d8a29fc",
   "metadata": {},
   "outputs": [],
   "source": [
    "# Longs\n",
    "threshold = 0.01\n",
    "max_distance = 20\n",
    "seeking = \"valley\"\n",
    "df[\"valley_target\"] = 0\n",
    "df[\"peak_target\"] = 0\n",
    "\n",
    "for i, r in minmax_df.iterrows():\n",
    "    if seeking == \"valley\":\n",
    "        print(\"seeking valley\")\n",
    "        # Find valley\n",
    "        if r[\"valley\"] == 1:\n",
    "            valley_value = r[\"close\"]\n",
    "            valley_idx = i\n",
    "            print(f\"found valley with value: {valley_value} at {i}\")\n",
    "            seeking = \"peak\"\n",
    "        continue\n",
    "        \n",
    "    if seeking == \"peak\":\n",
    "        print(\"seeking peak\")\n",
    "        # Check if max_distance exceeded\n",
    "        if i - valley_idx > max_distance:\n",
    "            print(\"max distance exceeded\")\n",
    "            seeking = \"valley\"\n",
    "            continue\n",
    "        # Compare to next peak\n",
    "        if r[\"peak\"] == 1:\n",
    "            peak_value = r[\"close\"]\n",
    "            pct_delta = (peak_value - valley_value)/valley_value\n",
    "            print(f\"found peak with delta: {pct_delta}\")\n",
    "            if pct_delta > threshold:\n",
    "                print(f\"confirmed peak at {i}\")\n",
    "                df.at[valley_idx, \"valley_target\"] = 1\n",
    "                df.at[i, \"peak_target\"] = 1\n",
    "                seeking = \"valley\""
   ]
  },
  {
   "cell_type": "code",
   "execution_count": null,
   "id": "cecd77c2",
   "metadata": {},
   "outputs": [],
   "source": [
    "df[\"close\"].plot(figsize=(20,8))\n",
    "df[\"peak_target\"].plot(secondary_y=True)\n",
    "df[\"valley_target\"].plot(secondary_y=True)"
   ]
  },
  {
   "cell_type": "code",
   "execution_count": null,
   "id": "143fae7e",
   "metadata": {},
   "outputs": [],
   "source": [
    "from scipy.spatial import distance_matrix\n",
    "from scipy.spatial.distance import cdist, pdist, squareform\n",
    "\n",
    "peak_values = df[df[\"peak\"] == 1][\"close\"].values.reshape(-1,1)\n",
    "valley_values = df[df[\"valley\"] == 1][\"close\"].values.reshape(-1,1)\n",
    "\n",
    "def custom_calc(x, y):\n",
    "    return (y-x)/x\n",
    "\n",
    "d = cdist(peak_values, valley_values, metric=custom_calc)\n",
    "\n",
    "d"
   ]
  },
  {
   "cell_type": "code",
   "execution_count": null,
   "id": "8fcbb9af",
   "metadata": {},
   "outputs": [],
   "source": [
    "from scipy.spatial import distance_matrix\n",
    "from scipy.spatial.distance import cdist, pdist, squareform\n",
    "\n",
    "close_prices = df[\"close\"].values.reshape(-1,1)\n",
    "\n",
    "def custom_calc(x, y):\n",
    "    return (y-x)/x\n",
    "\n",
    "d = pdist(close_prices, metric=custom_calc)\n",
    "\n",
    "squareform(d).shape"
   ]
  },
  {
   "cell_type": "code",
   "execution_count": null,
   "id": "9151eacf",
   "metadata": {},
   "outputs": [],
   "source": [
    "df[\"valley\"] == 1"
   ]
  },
  {
   "cell_type": "code",
   "execution_count": null,
   "id": "2aad2c8b",
   "metadata": {},
   "outputs": [],
   "source": [
    "# Define Min & Max binary indicators\n",
    "min_peaks = argrelextrema(df[\"close\"].values, np.less, order=20)\n",
    "max_peaks = argrelextrema(df[\"close\"].values, np.greater, order=20)\n",
    "\n",
    "df[\"&s-minima\"] = 0\n",
    "df[\"&s-maxima\"] = 0\n",
    "df[\"real-minima\"] = 0\n",
    "df[\"real-maxima\"] = 0\n",
    "\n",
    "df[\"pct_ahead\"] = df[\"close\"].shift(-1) / df[\"close\"]\n",
    "df[\"pct_be\"] = df[\"close\"].shift(-1) / df[\"close\"]\n",
    "\n",
    "proximity_tolerance = 0.1\n",
    "\n",
    "for mp in min_peaks[0]:\n",
    "    df.at[mp, \"real-minima\"] = 1\n",
    "    df.at[mp, \"&s-minima\"] = 1\n",
    "    min_peak_value = df.at[mp, \"close\"]\n",
    "    if abs(df.at[mp - 1, \"close\"] / min_peak_value - 1) < proximity_tolerance:\n",
    "        df.at[mp - 1, \"&s-minima\"] = 1\n",
    "    if abs(df.at[mp + 1, \"close\"] / min_peak_value - 1) < proximity_tolerance:\n",
    "        df.at[mp + 1, \"&s-minima\"] = 1\n",
    "\n",
    "for mp in max_peaks[0]:\n",
    "    df.at[mp, \"real-maxima\"] = 1\n",
    "    df.at[mp, \"&s-maxima\"] = 1\n",
    "    max_peak_value = df.at[mp, \"close\"]\n",
    "    if abs(df.at[mp - 1, \"close\"] / max_peak_value - 1) < proximity_tolerance:\n",
    "        df.at[mp - 1, \"&s-maxima\"] = 1\n",
    "    if abs(df.at[mp + 1, \"close\"] / max_peak_value - 1) < proximity_tolerance:\n",
    "        df.at[mp + 1, \"&s-maxima\"] = 1"
   ]
  },
  {
   "cell_type": "code",
   "execution_count": null,
   "id": "65305658",
   "metadata": {},
   "outputs": [],
   "source": [
    "df"
   ]
  },
  {
   "cell_type": "code",
   "execution_count": null,
   "id": "44061f02",
   "metadata": {},
   "outputs": [],
   "source": [
    "df.loc[:, \"long_exit\"] == 1"
   ]
  },
  {
   "cell_type": "code",
   "execution_count": null,
   "id": "7d7cdef8",
   "metadata": {},
   "outputs": [],
   "source": []
  },
  {
   "cell_type": "code",
   "execution_count": null,
   "id": "6db45379",
   "metadata": {
    "scrolled": true
   },
   "outputs": [],
   "source": [
    "df.head(50)"
   ]
  },
  {
   "cell_type": "code",
   "execution_count": null,
   "id": "72a12370",
   "metadata": {},
   "outputs": [],
   "source": [
    "from scipy.signal import find_peaks"
   ]
  },
  {
   "cell_type": "code",
   "execution_count": null,
   "id": "cad2ffbe",
   "metadata": {},
   "outputs": [],
   "source": [
    "df = yf.download(\"AAPL\")[\"Close\"][8000:].reset_index()\n",
    "df"
   ]
  },
  {
   "cell_type": "code",
   "execution_count": null,
   "id": "53f6d694",
   "metadata": {},
   "outputs": [],
   "source": [
    "max_peaks, _ = find_peaks(df[\"Close\"], prominence=2, wlen=400)\n",
    "min_peaks, _ = find_peaks(-df[\"Close\"], prominence=2, wlen=400)"
   ]
  },
  {
   "cell_type": "code",
   "execution_count": null,
   "id": "5288d367",
   "metadata": {},
   "outputs": [],
   "source": [
    "df[\"maxima\"] = 0\n",
    "df.loc[max_peaks, \"maxima\"] = 1\n",
    "\n",
    "df[\"minima\"] = 0\n",
    "df.loc[min_peaks, \"minima\"] = 1\n",
    "\n",
    "df[\"Close\"].plot(figsize=(20,8))\n",
    "df[\"maxima\"].plot(secondary_y=True)\n",
    "df[\"minima\"].plot(secondary_y=True)"
   ]
  },
  {
   "cell_type": "code",
   "execution_count": null,
   "id": "9d85b0f0",
   "metadata": {},
   "outputs": [],
   "source": [
    "df[\"max_peak\"] = 0\n",
    "df.loc[peak_idx, \"max_peak\"] = df.loc[peak_idx, \"close\"]"
   ]
  },
  {
   "cell_type": "code",
   "execution_count": null,
   "id": "77b7224a",
   "metadata": {},
   "outputs": [],
   "source": [
    "df[\"close\"].plot(figsize=(20,10), ylim=(850, 1100))\n",
    "df[\"max_peak\"].plot()"
   ]
  },
  {
   "cell_type": "code",
   "execution_count": null,
   "id": "6fc79056",
   "metadata": {},
   "outputs": [],
   "source": [
    "import yfinance as yf"
   ]
  },
  {
   "cell_type": "code",
   "execution_count": null,
   "id": "efc29b1e",
   "metadata": {},
   "outputs": [],
   "source": []
  },
  {
   "cell_type": "code",
   "execution_count": null,
   "id": "9a58b19b",
   "metadata": {},
   "outputs": [],
   "source": [
    "h = [\"g\", \"b\", \"c\"]"
   ]
  },
  {
   "cell_type": "code",
   "execution_count": null,
   "id": "53d45a6d",
   "metadata": {},
   "outputs": [],
   "source": [
    "h[0:1]"
   ]
  },
  {
   "cell_type": "code",
   "execution_count": null,
   "id": "79227b84",
   "metadata": {},
   "outputs": [],
   "source": [
    "def entry_exit_labeler(close_df, direction, min_growth, max_duration):\n",
    "    \"\"\"Label timeseries for good entries and exits at peaks\"\"\"\n",
    "\n",
    "    logger.info(f\"Labeling for {direction} trades for {len(close_df)} samples\")\n",
    "    logger.info(f\"Labeling settings: min_growth {min_growth}, max_duration {max_duration}\")\n",
    "    start_time = time.time()\n",
    "\n",
    "    close = close_df.values\n",
    "    if direction == \"short\":\n",
    "        close = close * -1\n",
    "\n",
    "    # Find all peaks and valleys\n",
    "    max_idx = find_peaks(close)[0]\n",
    "    min_idx = find_peaks(-close)[0]\n",
    "\n",
    "    # Mask valleys & peaks\n",
    "    min_mask = np.zeros(close.shape, dtype=bool)\n",
    "    min_mask[min_idx] = True\n",
    "    max_mask = np.zeros(close.shape, dtype=bool)\n",
    "    max_mask[max_idx] = True\n",
    "\n",
    "    # Compute joint max x min joint mask\n",
    "    if direction == \"long\":\n",
    "        minmax_mask = np.outer(min_mask, max_mask)\n",
    "    elif direction == \"short\":\n",
    "        minmax_mask = np.outer(max_mask, min_mask)\n",
    "\n",
    "    # Compute distance matrix between all close points\n",
    "    euclidean_dist_matrix = cdist(close.reshape(-1, 1), close.reshape(-1, 1), metric=\"euclidean\")\n",
    "    # Compute growth rate by dividing euclidean by close\n",
    "    dist_matrix = euclidean_dist_matrix / close.reshape(-1, 1)\n",
    "\n",
    "    # Scope dist_matrix to distances > min_threshold\n",
    "    growth_mask = (dist_matrix - min_growth) > 0\n",
    "    dist_matrix = dist_matrix * growth_mask\n",
    "\n",
    "    # Limit to max_duration & remove lower triangle\n",
    "    dist_matrix = np.tril(dist_matrix, k=max_duration)\n",
    "    dist_matrix = np.triu(dist_matrix)\n",
    "\n",
    "    # Scope to only peak & valley points\n",
    "    dist_matrix = minmax_mask * dist_matrix\n",
    "    dist_matrix\n",
    "\n",
    "    # Get idx for non zero distances\n",
    "    good_entry_idx, good_exit_idx = np.where(dist_matrix > 0)\n",
    "\n",
    "    # Populate DataFrame and return\n",
    "    if direction == \"long\":\n",
    "        col_names = [\"&long_target\", \"bad_long_entries\", \"bad_long_exits\",\n",
    "                     \"good_long_entries\", \"good_long_exits\"]\n",
    "        target_names = [\"is_good_long_entry\", \"is_good_long_exit\",\n",
    "                        \"is_bad_long_entry\", \"is_bad_long_exit\", \"long_transition\"]\n",
    "        df = pd.DataFrame(columns=col_names, index=close_df.index)\n",
    "\n",
    "    elif direction == \"short\":\n",
    "        col_names = [\"&short_target\", \"bad_short_entries\", \"bad_short_exits\",\n",
    "                     \"good_short_entries\", \"good_short_exits\"]\n",
    "        target_names = [\"is_good_short_entry\", \"is_good_short_exit\",\n",
    "                        \"is_bad_short_entry\", \"is_bad_short_exit\", \"short_transition\"]\n",
    "        df = pd.DataFrame(columns=col_names, index=close_df.index)\n",
    "\n",
    "    # Set default values of columns\n",
    "    df.loc[:, :] = 0\n",
    "    df.loc[:, col_names[0]] = target_names[4]\n",
    "\n",
    "    # Entries & Exits\n",
    "    if direction == \"long\":\n",
    "        entry_idx = min_idx\n",
    "        exit_idx = max_idx\n",
    "    elif direction == \"short\":\n",
    "        entry_idx = max_idx\n",
    "        exit_idx = min_idx\n",
    "\n",
    "    \"\"\"df.loc[[i for i in entry_idx if i not in good_entry_idx], col_names[2]] = col_names[2]\n",
    "    df.loc[good_entry_idx, col_names[0]] = col_names[0]\n",
    "    df.loc[[i for i in exit_idx if i not in good_exit_idx], col_names[3]] = col_names[3]\n",
    "    df.loc[good_exit_idx, col_names[1]] = col_names[1]\"\"\"\n",
    "\n",
    "    \"\"\"df.loc[entry_idx, col_names[2]] = col_names[2]\n",
    "    df.loc[good_entry_idx, col_names[0]] = col_names[0]\n",
    "    df.loc[exit_idx, col_names[3]] = col_names[3]\n",
    "    df.loc[good_exit_idx, col_names[1]] = col_names[1]\"\"\"\n",
    "\n",
    "    # Bad entries\n",
    "    df.loc[[i for i in entry_idx if i not in good_entry_idx], col_names[0]] = col_names[2]\n",
    "    df.loc[[i for i in entry_idx if i not in good_entry_idx], col_names[1]] = 1\n",
    "    # Good entries\n",
    "    df.loc[good_entry_idx, col_names[0]] = col_names[0]\n",
    "    df.loc[good_entry_idx, col_names[3]] = 1\n",
    "    # Bad exit\n",
    "    df.loc[[i for i in exit_idx if i not in good_exit_idx], col_names[0]] = col_names[3]\n",
    "    df.loc[[i for i in exit_idx if i not in good_exit_idx], col_names[2]] = 1\n",
    "    # Good exit\n",
    "    df.loc[good_exit_idx, col_names[0]] = col_names[1]\n",
    "    df.loc[good_exit_idx, col_names[4]] = 1\n",
    "\n",
    "    end_time = time.time() - start_time\n",
    "    logger.info(f\"Time taken to label data: {end_time} seconds\")\n",
    "    print(end_time)\n",
    "\n",
    "    return df"
   ]
  }
 ],
 "metadata": {
  "kernelspec": {
   "display_name": ".env",
   "language": "python",
   "name": ".env"
  },
  "language_info": {
   "codemirror_mode": {
    "name": "ipython",
    "version": 3
   },
   "file_extension": ".py",
   "mimetype": "text/x-python",
   "name": "python",
   "nbconvert_exporter": "python",
   "pygments_lexer": "ipython3",
   "version": "3.10.8"
  }
 },
 "nbformat": 4,
 "nbformat_minor": 5
}
