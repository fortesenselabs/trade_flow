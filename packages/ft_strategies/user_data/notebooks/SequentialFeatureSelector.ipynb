{
 "cells": [
  {
   "cell_type": "code",
   "execution_count": 3,
   "id": "c22f9ce0",
   "metadata": {},
   "outputs": [],
   "source": [
    "import pandas as pd\n",
    "import numpy as np\n",
    "import tscv"
   ]
  },
  {
   "cell_type": "code",
   "execution_count": 4,
   "id": "68b35330",
   "metadata": {},
   "outputs": [],
   "source": [
    "from sklearn.datasets import make_classification\n",
    "\n",
    "X, y = make_classification(\n",
    "    n_samples=2000,\n",
    "    n_features=300,\n",
    "    n_informative=50,\n",
    "    n_redundant=100,\n",
    "    n_repeated=3,\n",
    "    n_classes=2,\n",
    "    n_clusters_per_class=1,\n",
    "    class_sep=0.8,\n",
    "    random_state=0,\n",
    ")"
   ]
  },
  {
   "cell_type": "code",
   "execution_count": 12,
   "id": "fe032d22",
   "metadata": {},
   "outputs": [],
   "source": [
    "from sklearn.feature_selection import SequentialFeatureSelector\n",
    "from sklearn.model_selection import StratifiedKFold, TimeSeriesSplit\n",
    "from catboost import CatBoostClassifier\n",
    "\n",
    "min_features_to_select = 100\n",
    "clf = CatBoostClassifier(verbose=0)\n",
    "cv = tscv.GapKFold(n_splits=3, gap_before=200, gap_after=200)\n",
    "\n",
    "sfs = SequentialFeatureSelector(\n",
    "    estimator=clf,\n",
    "    n_features_to_select=\"auto\",\n",
    "    tol=0.001,\n",
    "    direction=\"forward\",\n",
    "    scoring=\"f1\",\n",
    "    cv=cv\n",
    ")"
   ]
  },
  {
   "cell_type": "code",
   "execution_count": null,
   "id": "4138ab33",
   "metadata": {},
   "outputs": [],
   "source": [
    "sfs.fit(X, y)"
   ]
  },
  {
   "cell_type": "code",
   "execution_count": 9,
   "id": "75655f24",
   "metadata": {},
   "outputs": [
    {
     "data": {
      "text/plain": [
       "array([ True, False,  True, False, False,  True, False, False, False,\n",
       "        True,  True,  True,  True, False,  True,  True, False, False,\n",
       "       False, False, False,  True,  True, False, False, False, False,\n",
       "       False, False, False, False, False,  True,  True,  True, False,\n",
       "        True, False, False, False, False,  True, False, False, False,\n",
       "        True, False, False, False,  True, False, False, False, False,\n",
       "       False, False, False,  True,  True,  True,  True, False,  True,\n",
       "        True, False, False, False, False, False,  True,  True, False,\n",
       "        True,  True, False, False, False, False, False,  True, False,\n",
       "        True, False,  True, False, False, False, False, False, False,\n",
       "        True, False, False,  True,  True,  True, False, False,  True,\n",
       "       False, False,  True, False,  True, False, False,  True, False,\n",
       "        True, False,  True,  True,  True, False, False, False,  True,\n",
       "       False, False,  True, False,  True, False, False, False, False,\n",
       "       False,  True,  True, False, False, False, False,  True, False,\n",
       "        True,  True, False, False,  True,  True,  True,  True, False,\n",
       "        True,  True, False,  True, False, False,  True,  True, False,\n",
       "       False, False, False, False, False, False, False, False,  True,\n",
       "       False,  True,  True, False, False,  True, False,  True,  True,\n",
       "        True, False, False,  True, False, False,  True,  True,  True,\n",
       "        True,  True,  True, False,  True, False, False,  True,  True,\n",
       "        True,  True,  True, False, False, False,  True, False, False,\n",
       "       False, False,  True, False,  True,  True, False, False,  True,\n",
       "        True, False,  True, False,  True, False, False, False,  True,\n",
       "       False, False, False,  True,  True, False, False,  True, False,\n",
       "        True,  True,  True, False,  True, False, False, False,  True,\n",
       "       False, False, False, False, False,  True, False, False,  True,\n",
       "        True, False, False,  True, False, False,  True, False,  True,\n",
       "        True, False, False,  True, False, False, False,  True, False,\n",
       "       False, False,  True, False, False,  True,  True, False,  True,\n",
       "        True,  True, False, False,  True, False, False, False, False,\n",
       "        True, False,  True, False, False, False, False,  True,  True,\n",
       "       False, False, False, False, False, False,  True,  True,  True,\n",
       "       False, False, False])"
      ]
     },
     "execution_count": 9,
     "metadata": {},
     "output_type": "execute_result"
    }
   ],
   "source": [
    "sfs.get_feature_names_out()"
   ]
  },
  {
   "cell_type": "code",
   "execution_count": 10,
   "id": "c844bd3a",
   "metadata": {},
   "outputs": [
    {
     "data": {
      "text/plain": [
       "array(['x0', 'x2', 'x5', 'x9', 'x10', 'x11', 'x12', 'x14', 'x15', 'x21',\n",
       "       'x22', 'x32', 'x33', 'x34', 'x36', 'x41', 'x45', 'x49', 'x57',\n",
       "       'x58', 'x59', 'x60', 'x62', 'x63', 'x69', 'x70', 'x72', 'x73',\n",
       "       'x79', 'x81', 'x83', 'x90', 'x93', 'x94', 'x95', 'x98', 'x101',\n",
       "       'x103', 'x106', 'x108', 'x110', 'x111', 'x112', 'x116', 'x119',\n",
       "       'x121', 'x127', 'x128', 'x133', 'x135', 'x136', 'x139', 'x140',\n",
       "       'x141', 'x142', 'x144', 'x145', 'x147', 'x150', 'x151', 'x161',\n",
       "       'x163', 'x164', 'x167', 'x169', 'x170', 'x171', 'x174', 'x177',\n",
       "       'x178', 'x179', 'x180', 'x181', 'x182', 'x184', 'x187', 'x188',\n",
       "       'x189', 'x190', 'x191', 'x195', 'x200', 'x202', 'x203', 'x206',\n",
       "       'x207', 'x209', 'x211', 'x215', 'x219', 'x220', 'x223', 'x225',\n",
       "       'x226', 'x227', 'x229', 'x233', 'x239', 'x242', 'x243', 'x246',\n",
       "       'x249', 'x251', 'x252', 'x255', 'x259', 'x263', 'x266', 'x267',\n",
       "       'x269', 'x270', 'x271', 'x274', 'x279', 'x281', 'x286', 'x287',\n",
       "       'x294', 'x295', 'x296'], dtype=object)"
      ]
     },
     "execution_count": 10,
     "metadata": {},
     "output_type": "execute_result"
    }
   ],
   "source": [
    "sfs.get_support()"
   ]
  },
  {
   "cell_type": "code",
   "execution_count": 11,
   "id": "9c182399",
   "metadata": {},
   "outputs": [
    {
     "data": {
      "text/plain": [
       "{'mean_test_score': array([-0.16224116, -0.15948638, -0.16098204, -0.1636009 , -0.16551487,\n",
       "        -0.16821978, -0.16792307, -0.16971655]),\n",
       " 'std_test_score': array([0.01651491, 0.0161541 , 0.01583374, 0.01776252, 0.01885396,\n",
       "        0.01680881, 0.01635067, 0.01737918]),\n",
       " 'split0_test_score': array([-0.13832247, -0.13465514, -0.13727295, -0.13362952, -0.13685932,\n",
       "        -0.14129542, -0.1418756 , -0.14068121]),\n",
       " 'split1_test_score': array([-0.15829394, -0.15736918, -0.15829914, -0.16324372, -0.16181221,\n",
       "        -0.16529728, -0.1683796 , -0.1705429 ]),\n",
       " 'split2_test_score': array([-0.18602491, -0.18141887, -0.182056  , -0.18471007, -0.18982308,\n",
       "        -0.19099321, -0.19054984, -0.19278182]),\n",
       " 'split3_test_score': array([-0.15423169, -0.15224533, -0.15301172, -0.15843744, -0.15690623,\n",
       "        -0.16352325, -0.16098853, -0.16450349]),\n",
       " 'split4_test_score': array([-0.17433281, -0.17174341, -0.17427039, -0.17798374, -0.18217352,\n",
       "        -0.17998975, -0.17782177, -0.18007336])}"
      ]
     },
     "execution_count": 11,
     "metadata": {},
     "output_type": "execute_result"
    }
   ],
   "source": [
    "rfecv.cv_results_"
   ]
  },
  {
   "cell_type": "code",
   "execution_count": 12,
   "id": "e8610797",
   "metadata": {},
   "outputs": [
    {
     "data": {
      "text/plain": [
       "array([1, 2, 1, 6, 4, 1, 3, 7, 3, 1, 1, 1, 1, 2, 1, 1, 3, 2, 4, 7, 5, 1,\n",
       "       1, 4, 2, 5, 3, 7, 4, 3, 6, 7, 1, 1, 1, 5, 1, 6, 4, 7, 5, 1, 6, 2,\n",
       "       2, 1, 2, 6, 3, 1, 4, 3, 4, 3, 5, 4, 7, 1, 1, 1, 1, 3, 1, 1, 5, 2,\n",
       "       5, 7, 3, 1, 1, 2, 1, 1, 3, 5, 6, 7, 6, 1, 7, 1, 2, 1, 4, 2, 2, 4,\n",
       "       2, 6, 1, 4, 6, 1, 1, 1, 6, 3, 1, 4, 7, 1, 3, 1, 3, 5, 1, 5, 1, 6,\n",
       "       1, 1, 1, 2, 4, 4, 1, 2, 3, 1, 6, 1, 2, 5, 2, 4, 5, 1, 1, 4, 7, 7,\n",
       "       2, 1, 7, 1, 1, 2, 6, 1, 1, 1, 1, 3, 1, 1, 7, 1, 2, 4, 1, 1, 3, 5,\n",
       "       5, 4, 7, 7, 2, 2, 7, 1, 6, 1, 1, 6, 3, 1, 7, 1, 1, 1, 5, 5, 1, 7,\n",
       "       2, 1, 1, 1, 1, 1, 1, 3, 1, 7, 3, 1, 1, 1, 1, 1, 4, 6, 4, 1, 4, 6,\n",
       "       4, 3, 1, 7, 1, 1, 2, 2, 1, 1, 4, 1, 6, 1, 6, 2, 5, 1, 6, 7, 5, 1,\n",
       "       1, 4, 5, 1, 3, 1, 1, 1, 4, 1, 7, 6, 6, 1, 6, 5, 4, 6, 3, 1, 7, 7,\n",
       "       1, 1, 6, 6, 1, 3, 3, 1, 5, 1, 1, 3, 2, 1, 7, 6, 4, 1, 4, 5, 7, 1,\n",
       "       5, 2, 1, 1, 7, 1, 1, 1, 5, 5, 1, 7, 2, 6, 3, 1, 5, 1, 6, 5, 3, 3,\n",
       "       1, 1, 4, 2, 5, 5, 7, 5, 1, 1, 1, 3, 4, 6])"
      ]
     },
     "execution_count": 12,
     "metadata": {},
     "output_type": "execute_result"
    }
   ],
   "source": [
    "rfecv.ranking_"
   ]
  },
  {
   "cell_type": "code",
   "execution_count": 65,
   "id": "62e224f3",
   "metadata": {},
   "outputs": [
    {
     "data": {
      "text/plain": [
       "(300, 100)"
      ]
     },
     "execution_count": 65,
     "metadata": {},
     "output_type": "execute_result"
    }
   ],
   "source": [
    "len(rfecv.ranking_), len(rfecv.get_feature_names_out())"
   ]
  },
  {
   "cell_type": "code",
   "execution_count": 66,
   "id": "5358f33b",
   "metadata": {},
   "outputs": [
    {
     "data": {
      "text/plain": [
       "array([[ 0.88661908,  1.42146609,  1.10345691, ...,  0.03404206,\n",
       "         0.23978821,  2.41669025],\n",
       "       [-0.06950958,  1.007678  ,  0.28973477, ..., -0.57177621,\n",
       "         1.5297184 ,  0.65710649],\n",
       "       [ 1.18707986, -0.15726531,  2.39808412, ...,  0.47989883,\n",
       "         0.65131619, -0.48580281],\n",
       "       ...,\n",
       "       [ 0.5187474 ,  0.26190761, -3.56036828, ...,  1.24963992,\n",
       "         1.31375189,  1.5736302 ],\n",
       "       [-0.72134957, -0.18112951, -0.395346  , ..., -0.21437854,\n",
       "         0.59573587,  0.35230313],\n",
       "       [ 0.47388275,  0.43178594, -1.97444937, ...,  0.12952139,\n",
       "        -0.85605538, -0.07904277]])"
      ]
     },
     "execution_count": 66,
     "metadata": {},
     "output_type": "execute_result"
    }
   ],
   "source": [
    "X"
   ]
  },
  {
   "cell_type": "code",
   "execution_count": null,
   "id": "177beec4",
   "metadata": {},
   "outputs": [],
   "source": []
  }
 ],
 "metadata": {
  "kernelspec": {
   "display_name": ".env",
   "language": "python",
   "name": ".env"
  },
  "language_info": {
   "codemirror_mode": {
    "name": "ipython",
    "version": 3
   },
   "file_extension": ".py",
   "mimetype": "text/x-python",
   "name": "python",
   "nbconvert_exporter": "python",
   "pygments_lexer": "ipython3",
   "version": "3.10.9"
  }
 },
 "nbformat": 4,
 "nbformat_minor": 5
}
