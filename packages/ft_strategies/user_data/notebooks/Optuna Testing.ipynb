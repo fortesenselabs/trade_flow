{
 "cells": [
  {
   "cell_type": "code",
   "execution_count": 1,
   "id": "a59fb8ef",
   "metadata": {},
   "outputs": [],
   "source": [
    "import numpy as np\n",
    "import optuna\n",
    "from optuna.integration import CatBoostPruningCallback\n",
    "import logging\n",
    "import sys\n",
    "\n",
    "import catboost as cb\n",
    "from sklearn.datasets import load_breast_cancer\n",
    "from sklearn.metrics import accuracy_score, log_loss, make_scorer, classification_report\n",
    "from sklearn.model_selection import train_test_split\n",
    "from sklearn.datasets import make_classification\n",
    "\n",
    "import warnings\n",
    "from optuna.exceptions import ExperimentalWarning\n",
    "\n",
    "warnings.filterwarnings(\"ignore\", category=ExperimentalWarning)"
   ]
  },
  {
   "cell_type": "code",
   "execution_count": 2,
   "id": "629febba",
   "metadata": {},
   "outputs": [],
   "source": [
    "optuna.logging.get_logger(\"optuna\").addHandler(logging.StreamHandler(sys.stdout))\n",
    "study_name = \"Test10\" \n",
    "storage_name = \"sqlite:///LitmusOptunaTest.sqlite\""
   ]
  },
  {
   "cell_type": "code",
   "execution_count": 3,
   "id": "6e492a72",
   "metadata": {},
   "outputs": [
    {
     "name": "stderr",
     "output_type": "stream",
     "text": [
      "\u001b[32m[I 2023-04-13 21:06:36,296]\u001b[0m Using an existing study with name 'Test10' instead of creating a new one.\u001b[0m\n"
     ]
    },
    {
     "name": "stdout",
     "output_type": "stream",
     "text": [
      "Using an existing study with name 'Test10' instead of creating a new one.\n"
     ]
    }
   ],
   "source": [
    "study = optuna.create_study(\n",
    "    pruner=optuna.pruners.MedianPruner(n_warmup_steps=5), \n",
    "    direction=\"minimize\",\n",
    "    study_name=study_name, \n",
    "    storage=storage_name,\n",
    "    load_if_exists=True\n",
    "    )"
   ]
  },
  {
   "cell_type": "code",
   "execution_count": 11,
   "id": "298e6488",
   "metadata": {},
   "outputs": [],
   "source": [
    "X, y = make_classification(\n",
    "    n_samples=5000, # 1000 observations \n",
    "    n_features=500, # 5 total features\n",
    "    n_informative=100, # 3 'useful' features\n",
    "    n_classes=2, # binary target/label \n",
    "    random_state=999 # if you want the same results as mine\n",
    ")\n",
    "\n",
    "X_train, X_test, y_train, y_test = train_test_split(X, y, test_size=0.25)"
   ]
  },
  {
   "cell_type": "code",
   "execution_count": 12,
   "id": "93725e7c",
   "metadata": {},
   "outputs": [],
   "source": [
    "y_train = np.where(y_train == 1, \"yes\", \"no\")\n",
    "y_test = np.where(y_test == 1, \"yes\", \"no\")"
   ]
  },
  {
   "cell_type": "code",
   "execution_count": 13,
   "id": "07c2376a",
   "metadata": {},
   "outputs": [
    {
     "name": "stdout",
     "output_type": "stream",
     "text": [
      "              precision    recall  f1-score   support\n",
      "\n",
      "          no       0.91      0.91      0.91       630\n",
      "         yes       0.91      0.91      0.91       620\n",
      "\n",
      "    accuracy                           0.91      1250\n",
      "   macro avg       0.91      0.91      0.91      1250\n",
      "weighted avg       0.91      0.91      0.91      1250\n",
      "\n"
     ]
    }
   ],
   "source": [
    "# Default params\n",
    "clf2 = cb.CatBoostClassifier(verbose=False)\n",
    "clf2.fit(X_train, y_train)\n",
    "y_pred2 = clf2.predict(X_test)\n",
    "print(classification_report(y_test, y_pred2))"
   ]
  },
  {
   "cell_type": "code",
   "execution_count": 14,
   "id": "3e72b8f1",
   "metadata": {
    "scrolled": true
   },
   "outputs": [
    {
     "name": "stderr",
     "output_type": "stream",
     "text": [
      "\u001b[32m[I 2023-04-11 09:28:37,147]\u001b[0m Trial 39 finished with value: -0.6511535966073816 and parameters: {'learning_rate': 0.0010671445753259938, 'l2_leaf_reg': 93.70655010457759, 'colsample_bylevel': 0.024582970703969854, 'depth': 11, 'random_strength': 3.415251558759658e-08, 'bootstrap_type': 'Bayesian', 'grow_policy': 'Lossguide', 'od_type': 'Iter', 'od_wait': 45}. Best is trial 38 with value: 0.6440391395231012.\u001b[0m\n"
     ]
    },
    {
     "name": "stdout",
     "output_type": "stream",
     "text": [
      "Trial 39 finished with value: -0.6511535966073816 and parameters: {'learning_rate': 0.0010671445753259938, 'l2_leaf_reg': 93.70655010457759, 'colsample_bylevel': 0.024582970703969854, 'depth': 11, 'random_strength': 3.415251558759658e-08, 'bootstrap_type': 'Bayesian', 'grow_policy': 'Lossguide', 'od_type': 'Iter', 'od_wait': 45}. Best is trial 38 with value: 0.6440391395231012.\n",
      "Trial 39 finished with value: -0.6511535966073816 and parameters: {'learning_rate': 0.0010671445753259938, 'l2_leaf_reg': 93.70655010457759, 'colsample_bylevel': 0.024582970703969854, 'depth': 11, 'random_strength': 3.415251558759658e-08, 'bootstrap_type': 'Bayesian', 'grow_policy': 'Lossguide', 'od_type': 'Iter', 'od_wait': 45}. Best is trial 38 with value: 0.6440391395231012.\n"
     ]
    },
    {
     "name": "stderr",
     "output_type": "stream",
     "text": [
      "\u001b[32m[I 2023-04-11 09:29:05,643]\u001b[0m Trial 40 finished with value: -0.5992858517784798 and parameters: {'learning_rate': 0.002711761957783622, 'l2_leaf_reg': 78.86480925339944, 'colsample_bylevel': 0.025271655034679888, 'depth': 9, 'random_strength': 4.572303601353441e-08, 'bootstrap_type': 'Bayesian', 'grow_policy': 'Lossguide', 'od_type': 'Iter', 'od_wait': 44}. Best is trial 38 with value: 0.6440391395231012.\u001b[0m\n"
     ]
    },
    {
     "name": "stdout",
     "output_type": "stream",
     "text": [
      "Trial 40 finished with value: -0.5992858517784798 and parameters: {'learning_rate': 0.002711761957783622, 'l2_leaf_reg': 78.86480925339944, 'colsample_bylevel': 0.025271655034679888, 'depth': 9, 'random_strength': 4.572303601353441e-08, 'bootstrap_type': 'Bayesian', 'grow_policy': 'Lossguide', 'od_type': 'Iter', 'od_wait': 44}. Best is trial 38 with value: 0.6440391395231012.\n",
      "Trial 40 finished with value: -0.5992858517784798 and parameters: {'learning_rate': 0.002711761957783622, 'l2_leaf_reg': 78.86480925339944, 'colsample_bylevel': 0.025271655034679888, 'depth': 9, 'random_strength': 4.572303601353441e-08, 'bootstrap_type': 'Bayesian', 'grow_policy': 'Lossguide', 'od_type': 'Iter', 'od_wait': 44}. Best is trial 38 with value: 0.6440391395231012.\n"
     ]
    },
    {
     "name": "stderr",
     "output_type": "stream",
     "text": [
      "\u001b[32m[I 2023-04-11 09:29:37,223]\u001b[0m Trial 41 finished with value: -0.637930286596304 and parameters: {'learning_rate': 0.0010213923766462843, 'l2_leaf_reg': 5.856320541755137, 'colsample_bylevel': 0.035782457763539645, 'depth': 12, 'random_strength': 3.651032606216074e-08, 'bootstrap_type': 'Bayesian', 'grow_policy': 'Lossguide', 'od_type': 'Iter', 'od_wait': 46}. Best is trial 38 with value: 0.6440391395231012.\u001b[0m\n"
     ]
    },
    {
     "name": "stdout",
     "output_type": "stream",
     "text": [
      "Trial 41 finished with value: -0.637930286596304 and parameters: {'learning_rate': 0.0010213923766462843, 'l2_leaf_reg': 5.856320541755137, 'colsample_bylevel': 0.035782457763539645, 'depth': 12, 'random_strength': 3.651032606216074e-08, 'bootstrap_type': 'Bayesian', 'grow_policy': 'Lossguide', 'od_type': 'Iter', 'od_wait': 46}. Best is trial 38 with value: 0.6440391395231012.\n",
      "Trial 41 finished with value: -0.637930286596304 and parameters: {'learning_rate': 0.0010213923766462843, 'l2_leaf_reg': 5.856320541755137, 'colsample_bylevel': 0.035782457763539645, 'depth': 12, 'random_strength': 3.651032606216074e-08, 'bootstrap_type': 'Bayesian', 'grow_policy': 'Lossguide', 'od_type': 'Iter', 'od_wait': 46}. Best is trial 38 with value: 0.6440391395231012.\n"
     ]
    },
    {
     "name": "stderr",
     "output_type": "stream",
     "text": [
      "\u001b[32m[I 2023-04-11 09:30:05,779]\u001b[0m Trial 42 finished with value: -0.6010851778904929 and parameters: {'learning_rate': 0.002647349015457663, 'l2_leaf_reg': 29.529333021800507, 'colsample_bylevel': 0.021450510343733305, 'depth': 10, 'random_strength': 1.5643942516053942e-07, 'bootstrap_type': 'Bayesian', 'grow_policy': 'Lossguide', 'od_type': 'Iter', 'od_wait': 44}. Best is trial 38 with value: 0.6440391395231012.\u001b[0m\n"
     ]
    },
    {
     "name": "stdout",
     "output_type": "stream",
     "text": [
      "Trial 42 finished with value: -0.6010851778904929 and parameters: {'learning_rate': 0.002647349015457663, 'l2_leaf_reg': 29.529333021800507, 'colsample_bylevel': 0.021450510343733305, 'depth': 10, 'random_strength': 1.5643942516053942e-07, 'bootstrap_type': 'Bayesian', 'grow_policy': 'Lossguide', 'od_type': 'Iter', 'od_wait': 44}. Best is trial 38 with value: 0.6440391395231012.\n",
      "Trial 42 finished with value: -0.6010851778904929 and parameters: {'learning_rate': 0.002647349015457663, 'l2_leaf_reg': 29.529333021800507, 'colsample_bylevel': 0.021450510343733305, 'depth': 10, 'random_strength': 1.5643942516053942e-07, 'bootstrap_type': 'Bayesian', 'grow_policy': 'Lossguide', 'od_type': 'Iter', 'od_wait': 44}. Best is trial 38 with value: 0.6440391395231012.\n"
     ]
    },
    {
     "name": "stderr",
     "output_type": "stream",
     "text": [
      "\u001b[32m[I 2023-04-11 09:30:35,611]\u001b[0m Trial 43 finished with value: -0.6001175758049757 and parameters: {'learning_rate': 0.0023154494217907324, 'l2_leaf_reg': 27.207070823060224, 'colsample_bylevel': 0.027408977524418583, 'depth': 11, 'random_strength': 3.6051490079414415e-08, 'bootstrap_type': 'Bayesian', 'grow_policy': 'Lossguide', 'od_type': 'Iter', 'od_wait': 50}. Best is trial 38 with value: 0.6440391395231012.\u001b[0m\n"
     ]
    },
    {
     "name": "stdout",
     "output_type": "stream",
     "text": [
      "Trial 43 finished with value: -0.6001175758049757 and parameters: {'learning_rate': 0.0023154494217907324, 'l2_leaf_reg': 27.207070823060224, 'colsample_bylevel': 0.027408977524418583, 'depth': 11, 'random_strength': 3.6051490079414415e-08, 'bootstrap_type': 'Bayesian', 'grow_policy': 'Lossguide', 'od_type': 'Iter', 'od_wait': 50}. Best is trial 38 with value: 0.6440391395231012.\n",
      "Trial 43 finished with value: -0.6001175758049757 and parameters: {'learning_rate': 0.0023154494217907324, 'l2_leaf_reg': 27.207070823060224, 'colsample_bylevel': 0.027408977524418583, 'depth': 11, 'random_strength': 3.6051490079414415e-08, 'bootstrap_type': 'Bayesian', 'grow_policy': 'Lossguide', 'od_type': 'Iter', 'od_wait': 50}. Best is trial 38 with value: 0.6440391395231012.\n"
     ]
    },
    {
     "name": "stderr",
     "output_type": "stream",
     "text": [
      "\u001b[32m[I 2023-04-11 09:31:03,172]\u001b[0m Trial 44 finished with value: -0.5240706739121755 and parameters: {'learning_rate': 0.006891657657969101, 'l2_leaf_reg': 5.002174826677729, 'colsample_bylevel': 0.01948897437395607, 'depth': 12, 'random_strength': 1.5851318617158e-07, 'bootstrap_type': 'Bayesian', 'grow_policy': 'Lossguide', 'od_type': 'Iter', 'od_wait': 43}. Best is trial 38 with value: 0.6440391395231012.\u001b[0m\n"
     ]
    },
    {
     "name": "stdout",
     "output_type": "stream",
     "text": [
      "Trial 44 finished with value: -0.5240706739121755 and parameters: {'learning_rate': 0.006891657657969101, 'l2_leaf_reg': 5.002174826677729, 'colsample_bylevel': 0.01948897437395607, 'depth': 12, 'random_strength': 1.5851318617158e-07, 'bootstrap_type': 'Bayesian', 'grow_policy': 'Lossguide', 'od_type': 'Iter', 'od_wait': 43}. Best is trial 38 with value: 0.6440391395231012.\n",
      "Trial 44 finished with value: -0.5240706739121755 and parameters: {'learning_rate': 0.006891657657969101, 'l2_leaf_reg': 5.002174826677729, 'colsample_bylevel': 0.01948897437395607, 'depth': 12, 'random_strength': 1.5851318617158e-07, 'bootstrap_type': 'Bayesian', 'grow_policy': 'Lossguide', 'od_type': 'Iter', 'od_wait': 43}. Best is trial 38 with value: 0.6440391395231012.\n"
     ]
    },
    {
     "name": "stderr",
     "output_type": "stream",
     "text": [
      "\u001b[32m[I 2023-04-11 09:31:28,994]\u001b[0m Trial 45 finished with value: -0.6309913314710466 and parameters: {'learning_rate': 0.0014113771198625451, 'l2_leaf_reg': 96.04399333818702, 'colsample_bylevel': 0.032840100972816665, 'depth': 9, 'random_strength': 4.781392367026316e-08, 'bootstrap_type': 'Bayesian', 'grow_policy': 'Lossguide', 'od_type': 'Iter', 'od_wait': 37}. Best is trial 38 with value: 0.6440391395231012.\u001b[0m\n"
     ]
    },
    {
     "name": "stdout",
     "output_type": "stream",
     "text": [
      "Trial 45 finished with value: -0.6309913314710466 and parameters: {'learning_rate': 0.0014113771198625451, 'l2_leaf_reg': 96.04399333818702, 'colsample_bylevel': 0.032840100972816665, 'depth': 9, 'random_strength': 4.781392367026316e-08, 'bootstrap_type': 'Bayesian', 'grow_policy': 'Lossguide', 'od_type': 'Iter', 'od_wait': 37}. Best is trial 38 with value: 0.6440391395231012.\n",
      "Trial 45 finished with value: -0.6309913314710466 and parameters: {'learning_rate': 0.0014113771198625451, 'l2_leaf_reg': 96.04399333818702, 'colsample_bylevel': 0.032840100972816665, 'depth': 9, 'random_strength': 4.781392367026316e-08, 'bootstrap_type': 'Bayesian', 'grow_policy': 'Lossguide', 'od_type': 'Iter', 'od_wait': 37}. Best is trial 38 with value: 0.6440391395231012.\n"
     ]
    },
    {
     "name": "stderr",
     "output_type": "stream",
     "text": [
      "\u001b[32m[I 2023-04-11 09:32:02,089]\u001b[0m Trial 46 finished with value: -0.5613138065387975 and parameters: {'learning_rate': 0.003085480196545107, 'l2_leaf_reg': 11.887255428691468, 'colsample_bylevel': 0.03762290208618164, 'depth': 11, 'random_strength': 3.9218789162046094e-07, 'bootstrap_type': 'Bayesian', 'grow_policy': 'Lossguide', 'od_type': 'Iter', 'od_wait': 48}. Best is trial 38 with value: 0.6440391395231012.\u001b[0m\n"
     ]
    },
    {
     "name": "stdout",
     "output_type": "stream",
     "text": [
      "Trial 46 finished with value: -0.5613138065387975 and parameters: {'learning_rate': 0.003085480196545107, 'l2_leaf_reg': 11.887255428691468, 'colsample_bylevel': 0.03762290208618164, 'depth': 11, 'random_strength': 3.9218789162046094e-07, 'bootstrap_type': 'Bayesian', 'grow_policy': 'Lossguide', 'od_type': 'Iter', 'od_wait': 48}. Best is trial 38 with value: 0.6440391395231012.\n",
      "Trial 46 finished with value: -0.5613138065387975 and parameters: {'learning_rate': 0.003085480196545107, 'l2_leaf_reg': 11.887255428691468, 'colsample_bylevel': 0.03762290208618164, 'depth': 11, 'random_strength': 3.9218789162046094e-07, 'bootstrap_type': 'Bayesian', 'grow_policy': 'Lossguide', 'od_type': 'Iter', 'od_wait': 48}. Best is trial 38 with value: 0.6440391395231012.\n"
     ]
    },
    {
     "name": "stderr",
     "output_type": "stream",
     "text": [
      "\u001b[32m[I 2023-04-11 09:32:38,184]\u001b[0m Trial 47 finished with value: -0.6285271232717554 and parameters: {'learning_rate': 0.001445378718916295, 'l2_leaf_reg': 3.117110322644136, 'colsample_bylevel': 0.025962281654393616, 'depth': 10, 'random_strength': 1.8350084473424822e-08, 'bootstrap_type': 'Bayesian', 'grow_policy': 'Lossguide', 'od_type': 'Iter', 'od_wait': 46}. Best is trial 38 with value: 0.6440391395231012.\u001b[0m\n"
     ]
    },
    {
     "name": "stdout",
     "output_type": "stream",
     "text": [
      "Trial 47 finished with value: -0.6285271232717554 and parameters: {'learning_rate': 0.001445378718916295, 'l2_leaf_reg': 3.117110322644136, 'colsample_bylevel': 0.025962281654393616, 'depth': 10, 'random_strength': 1.8350084473424822e-08, 'bootstrap_type': 'Bayesian', 'grow_policy': 'Lossguide', 'od_type': 'Iter', 'od_wait': 46}. Best is trial 38 with value: 0.6440391395231012.\n",
      "Trial 47 finished with value: -0.6285271232717554 and parameters: {'learning_rate': 0.001445378718916295, 'l2_leaf_reg': 3.117110322644136, 'colsample_bylevel': 0.025962281654393616, 'depth': 10, 'random_strength': 1.8350084473424822e-08, 'bootstrap_type': 'Bayesian', 'grow_policy': 'Lossguide', 'od_type': 'Iter', 'od_wait': 46}. Best is trial 38 with value: 0.6440391395231012.\n"
     ]
    },
    {
     "name": "stderr",
     "output_type": "stream",
     "text": [
      "\u001b[32m[I 2023-04-11 09:33:02,373]\u001b[0m Trial 48 finished with value: -0.4620349586588035 and parameters: {'learning_rate': 0.012633254074805846, 'l2_leaf_reg': 31.044983717874988, 'colsample_bylevel': 0.022407464723715752, 'depth': 12, 'random_strength': 8.344549394838341e-08, 'bootstrap_type': 'Bayesian', 'grow_policy': 'Lossguide', 'od_type': 'IncToDec', 'od_wait': 36}. Best is trial 38 with value: 0.6440391395231012.\u001b[0m\n"
     ]
    },
    {
     "name": "stdout",
     "output_type": "stream",
     "text": [
      "Trial 48 finished with value: -0.4620349586588035 and parameters: {'learning_rate': 0.012633254074805846, 'l2_leaf_reg': 31.044983717874988, 'colsample_bylevel': 0.022407464723715752, 'depth': 12, 'random_strength': 8.344549394838341e-08, 'bootstrap_type': 'Bayesian', 'grow_policy': 'Lossguide', 'od_type': 'IncToDec', 'od_wait': 36}. Best is trial 38 with value: 0.6440391395231012.\n",
      "Trial 48 finished with value: -0.4620349586588035 and parameters: {'learning_rate': 0.012633254074805846, 'l2_leaf_reg': 31.044983717874988, 'colsample_bylevel': 0.022407464723715752, 'depth': 12, 'random_strength': 8.344549394838341e-08, 'bootstrap_type': 'Bayesian', 'grow_policy': 'Lossguide', 'od_type': 'IncToDec', 'od_wait': 36}. Best is trial 38 with value: 0.6440391395231012.\n"
     ]
    },
    {
     "name": "stderr",
     "output_type": "stream",
     "text": [
      "\u001b[32m[I 2023-04-11 09:33:26,996]\u001b[0m Trial 49 finished with value: -0.6443201696903671 and parameters: {'learning_rate': 0.001014455167431684, 'l2_leaf_reg': 12.60593644178578, 'colsample_bylevel': 0.02803625172407267, 'depth': 11, 'random_strength': 7.991256740866713e-08, 'bootstrap_type': 'Bayesian', 'grow_policy': 'Lossguide', 'od_type': 'Iter', 'od_wait': 50}. Best is trial 38 with value: 0.6440391395231012.\u001b[0m\n"
     ]
    },
    {
     "name": "stdout",
     "output_type": "stream",
     "text": [
      "Trial 49 finished with value: -0.6443201696903671 and parameters: {'learning_rate': 0.001014455167431684, 'l2_leaf_reg': 12.60593644178578, 'colsample_bylevel': 0.02803625172407267, 'depth': 11, 'random_strength': 7.991256740866713e-08, 'bootstrap_type': 'Bayesian', 'grow_policy': 'Lossguide', 'od_type': 'Iter', 'od_wait': 50}. Best is trial 38 with value: 0.6440391395231012.\n",
      "Trial 49 finished with value: -0.6443201696903671 and parameters: {'learning_rate': 0.001014455167431684, 'l2_leaf_reg': 12.60593644178578, 'colsample_bylevel': 0.02803625172407267, 'depth': 11, 'random_strength': 7.991256740866713e-08, 'bootstrap_type': 'Bayesian', 'grow_policy': 'Lossguide', 'od_type': 'Iter', 'od_wait': 50}. Best is trial 38 with value: 0.6440391395231012.\n"
     ]
    },
    {
     "name": "stderr",
     "output_type": "stream",
     "text": [
      "\u001b[32m[I 2023-04-11 09:33:49,208]\u001b[0m Trial 50 finished with value: -0.6424540164227551 and parameters: {'learning_rate': 0.001370253812919058, 'l2_leaf_reg': 33.79907056461914, 'colsample_bylevel': 0.01934472790160018, 'depth': 10, 'random_strength': 1.0136472747487416e-08, 'bootstrap_type': 'Bayesian', 'grow_policy': 'Lossguide', 'od_type': 'Iter', 'od_wait': 50}. Best is trial 38 with value: 0.6440391395231012.\u001b[0m\n"
     ]
    },
    {
     "name": "stdout",
     "output_type": "stream",
     "text": [
      "Trial 50 finished with value: -0.6424540164227551 and parameters: {'learning_rate': 0.001370253812919058, 'l2_leaf_reg': 33.79907056461914, 'colsample_bylevel': 0.01934472790160018, 'depth': 10, 'random_strength': 1.0136472747487416e-08, 'bootstrap_type': 'Bayesian', 'grow_policy': 'Lossguide', 'od_type': 'Iter', 'od_wait': 50}. Best is trial 38 with value: 0.6440391395231012.\n",
      "Trial 50 finished with value: -0.6424540164227551 and parameters: {'learning_rate': 0.001370253812919058, 'l2_leaf_reg': 33.79907056461914, 'colsample_bylevel': 0.01934472790160018, 'depth': 10, 'random_strength': 1.0136472747487416e-08, 'bootstrap_type': 'Bayesian', 'grow_policy': 'Lossguide', 'od_type': 'Iter', 'od_wait': 50}. Best is trial 38 with value: 0.6440391395231012.\n"
     ]
    },
    {
     "name": "stderr",
     "output_type": "stream",
     "text": [
      "\u001b[32m[I 2023-04-11 09:33:52,230]\u001b[0m Trial 51 finished with value: -0.6712209756526497 and parameters: {'learning_rate': 0.0022227934409068616, 'l2_leaf_reg': 12.073217464634608, 'colsample_bylevel': 0.028973094844353432, 'depth': 1, 'random_strength': 1.5972104729924559e-07, 'bootstrap_type': 'Bernoulli', 'grow_policy': 'Lossguide', 'od_type': 'Iter', 'od_wait': 47}. Best is trial 38 with value: 0.6440391395231012.\u001b[0m\n"
     ]
    },
    {
     "name": "stdout",
     "output_type": "stream",
     "text": [
      "Trial 51 finished with value: -0.6712209756526497 and parameters: {'learning_rate': 0.0022227934409068616, 'l2_leaf_reg': 12.073217464634608, 'colsample_bylevel': 0.028973094844353432, 'depth': 1, 'random_strength': 1.5972104729924559e-07, 'bootstrap_type': 'Bernoulli', 'grow_policy': 'Lossguide', 'od_type': 'Iter', 'od_wait': 47}. Best is trial 38 with value: 0.6440391395231012.\n",
      "Trial 51 finished with value: -0.6712209756526497 and parameters: {'learning_rate': 0.0022227934409068616, 'l2_leaf_reg': 12.073217464634608, 'colsample_bylevel': 0.028973094844353432, 'depth': 1, 'random_strength': 1.5972104729924559e-07, 'bootstrap_type': 'Bernoulli', 'grow_policy': 'Lossguide', 'od_type': 'Iter', 'od_wait': 47}. Best is trial 38 with value: 0.6440391395231012.\n"
     ]
    },
    {
     "name": "stderr",
     "output_type": "stream",
     "text": [
      "\u001b[32m[I 2023-04-11 09:34:17,349]\u001b[0m Trial 52 finished with value: -0.6285262834764925 and parameters: {'learning_rate': 0.0014882559353994662, 'l2_leaf_reg': 2.492772756642062, 'colsample_bylevel': 0.024486993734722684, 'depth': 11, 'random_strength': 2.691079074925587e-08, 'bootstrap_type': 'Bayesian', 'grow_policy': 'Lossguide', 'od_type': 'Iter', 'od_wait': 48}. Best is trial 38 with value: 0.6440391395231012.\u001b[0m\n"
     ]
    },
    {
     "name": "stdout",
     "output_type": "stream",
     "text": [
      "Trial 52 finished with value: -0.6285262834764925 and parameters: {'learning_rate': 0.0014882559353994662, 'l2_leaf_reg': 2.492772756642062, 'colsample_bylevel': 0.024486993734722684, 'depth': 11, 'random_strength': 2.691079074925587e-08, 'bootstrap_type': 'Bayesian', 'grow_policy': 'Lossguide', 'od_type': 'Iter', 'od_wait': 48}. Best is trial 38 with value: 0.6440391395231012.\n",
      "Trial 52 finished with value: -0.6285262834764925 and parameters: {'learning_rate': 0.0014882559353994662, 'l2_leaf_reg': 2.492772756642062, 'colsample_bylevel': 0.024486993734722684, 'depth': 11, 'random_strength': 2.691079074925587e-08, 'bootstrap_type': 'Bayesian', 'grow_policy': 'Lossguide', 'od_type': 'Iter', 'od_wait': 48}. Best is trial 38 with value: 0.6440391395231012.\n"
     ]
    },
    {
     "name": "stderr",
     "output_type": "stream",
     "text": [
      "\u001b[32m[I 2023-04-11 09:34:43,631]\u001b[0m Trial 53 finished with value: -0.6025750474834582 and parameters: {'learning_rate': 0.0020819319389645537, 'l2_leaf_reg': 45.33209742291283, 'colsample_bylevel': 0.03316586962544064, 'depth': 12, 'random_strength': 8.86738711061498e-08, 'bootstrap_type': 'Bayesian', 'grow_policy': 'Lossguide', 'od_type': 'Iter', 'od_wait': 32}. Best is trial 38 with value: 0.6440391395231012.\u001b[0m\n"
     ]
    },
    {
     "name": "stdout",
     "output_type": "stream",
     "text": [
      "Trial 53 finished with value: -0.6025750474834582 and parameters: {'learning_rate': 0.0020819319389645537, 'l2_leaf_reg': 45.33209742291283, 'colsample_bylevel': 0.03316586962544064, 'depth': 12, 'random_strength': 8.86738711061498e-08, 'bootstrap_type': 'Bayesian', 'grow_policy': 'Lossguide', 'od_type': 'Iter', 'od_wait': 32}. Best is trial 38 with value: 0.6440391395231012.\n",
      "Trial 53 finished with value: -0.6025750474834582 and parameters: {'learning_rate': 0.0020819319389645537, 'l2_leaf_reg': 45.33209742291283, 'colsample_bylevel': 0.03316586962544064, 'depth': 12, 'random_strength': 8.86738711061498e-08, 'bootstrap_type': 'Bayesian', 'grow_policy': 'Lossguide', 'od_type': 'Iter', 'od_wait': 32}. Best is trial 38 with value: 0.6440391395231012.\n"
     ]
    },
    {
     "name": "stderr",
     "output_type": "stream",
     "text": [
      "\u001b[32m[I 2023-04-11 09:35:09,649]\u001b[0m Trial 54 finished with value: -0.6199078035526718 and parameters: {'learning_rate': 0.0013669845831904125, 'l2_leaf_reg': 8.107144546455675, 'colsample_bylevel': 0.039182622179725755, 'depth': 10, 'random_strength': 7.800544708277526e-07, 'bootstrap_type': 'Bayesian', 'grow_policy': 'Lossguide', 'od_type': 'IncToDec', 'od_wait': 42}. Best is trial 38 with value: 0.6440391395231012.\u001b[0m\n"
     ]
    },
    {
     "name": "stdout",
     "output_type": "stream",
     "text": [
      "Trial 54 finished with value: -0.6199078035526718 and parameters: {'learning_rate': 0.0013669845831904125, 'l2_leaf_reg': 8.107144546455675, 'colsample_bylevel': 0.039182622179725755, 'depth': 10, 'random_strength': 7.800544708277526e-07, 'bootstrap_type': 'Bayesian', 'grow_policy': 'Lossguide', 'od_type': 'IncToDec', 'od_wait': 42}. Best is trial 38 with value: 0.6440391395231012.\n",
      "Trial 54 finished with value: -0.6199078035526718 and parameters: {'learning_rate': 0.0013669845831904125, 'l2_leaf_reg': 8.107144546455675, 'colsample_bylevel': 0.039182622179725755, 'depth': 10, 'random_strength': 7.800544708277526e-07, 'bootstrap_type': 'Bayesian', 'grow_policy': 'Lossguide', 'od_type': 'IncToDec', 'od_wait': 42}. Best is trial 38 with value: 0.6440391395231012.\n"
     ]
    },
    {
     "name": "stderr",
     "output_type": "stream",
     "text": [
      "\u001b[32m[I 2023-04-11 09:35:36,494]\u001b[0m Trial 55 finished with value: -0.5669410529518556 and parameters: {'learning_rate': 0.0033293698480638652, 'l2_leaf_reg': 32.571024150142975, 'colsample_bylevel': 0.027209061157818678, 'depth': 9, 'random_strength': 2.8413150280960987e-08, 'bootstrap_type': 'Bernoulli', 'grow_policy': 'Lossguide', 'od_type': 'Iter', 'od_wait': 45}. Best is trial 38 with value: 0.6440391395231012.\u001b[0m\n"
     ]
    },
    {
     "name": "stdout",
     "output_type": "stream",
     "text": [
      "Trial 55 finished with value: -0.5669410529518556 and parameters: {'learning_rate': 0.0033293698480638652, 'l2_leaf_reg': 32.571024150142975, 'colsample_bylevel': 0.027209061157818678, 'depth': 9, 'random_strength': 2.8413150280960987e-08, 'bootstrap_type': 'Bernoulli', 'grow_policy': 'Lossguide', 'od_type': 'Iter', 'od_wait': 45}. Best is trial 38 with value: 0.6440391395231012.\n",
      "Trial 55 finished with value: -0.5669410529518556 and parameters: {'learning_rate': 0.0033293698480638652, 'l2_leaf_reg': 32.571024150142975, 'colsample_bylevel': 0.027209061157818678, 'depth': 9, 'random_strength': 2.8413150280960987e-08, 'bootstrap_type': 'Bernoulli', 'grow_policy': 'Lossguide', 'od_type': 'Iter', 'od_wait': 45}. Best is trial 38 with value: 0.6440391395231012.\n"
     ]
    },
    {
     "name": "stderr",
     "output_type": "stream",
     "text": [
      "\u001b[32m[I 2023-04-11 09:36:04,463]\u001b[0m Trial 56 finished with value: -0.4271223320841751 and parameters: {'learning_rate': 0.016433998471879978, 'l2_leaf_reg': 9.393690785460196, 'colsample_bylevel': 0.02268849283921295, 'depth': 10, 'random_strength': 2.5855076581897606e-07, 'bootstrap_type': 'Bayesian', 'grow_policy': 'Lossguide', 'od_type': 'Iter', 'od_wait': 48}. Best is trial 38 with value: 0.6440391395231012.\u001b[0m\n"
     ]
    },
    {
     "name": "stdout",
     "output_type": "stream",
     "text": [
      "Trial 56 finished with value: -0.4271223320841751 and parameters: {'learning_rate': 0.016433998471879978, 'l2_leaf_reg': 9.393690785460196, 'colsample_bylevel': 0.02268849283921295, 'depth': 10, 'random_strength': 2.5855076581897606e-07, 'bootstrap_type': 'Bayesian', 'grow_policy': 'Lossguide', 'od_type': 'Iter', 'od_wait': 48}. Best is trial 38 with value: 0.6440391395231012.\n",
      "Trial 56 finished with value: -0.4271223320841751 and parameters: {'learning_rate': 0.016433998471879978, 'l2_leaf_reg': 9.393690785460196, 'colsample_bylevel': 0.02268849283921295, 'depth': 10, 'random_strength': 2.5855076581897606e-07, 'bootstrap_type': 'Bayesian', 'grow_policy': 'Lossguide', 'od_type': 'Iter', 'od_wait': 48}. Best is trial 38 with value: 0.6440391395231012.\n"
     ]
    },
    {
     "name": "stderr",
     "output_type": "stream",
     "text": [
      "\u001b[32m[I 2023-04-11 09:36:35,104]\u001b[0m Trial 57 finished with value: -0.5716107138416362 and parameters: {'learning_rate': 0.003580102242672655, 'l2_leaf_reg': 98.92411394882376, 'colsample_bylevel': 0.030984279213829395, 'depth': 11, 'random_strength': 1.8237032934954446e-06, 'bootstrap_type': 'Bayesian', 'grow_policy': 'Lossguide', 'od_type': 'IncToDec', 'od_wait': 50}. Best is trial 38 with value: 0.6440391395231012.\u001b[0m\n"
     ]
    },
    {
     "name": "stdout",
     "output_type": "stream",
     "text": [
      "Trial 57 finished with value: -0.5716107138416362 and parameters: {'learning_rate': 0.003580102242672655, 'l2_leaf_reg': 98.92411394882376, 'colsample_bylevel': 0.030984279213829395, 'depth': 11, 'random_strength': 1.8237032934954446e-06, 'bootstrap_type': 'Bayesian', 'grow_policy': 'Lossguide', 'od_type': 'IncToDec', 'od_wait': 50}. Best is trial 38 with value: 0.6440391395231012.\n",
      "Trial 57 finished with value: -0.5716107138416362 and parameters: {'learning_rate': 0.003580102242672655, 'l2_leaf_reg': 98.92411394882376, 'colsample_bylevel': 0.030984279213829395, 'depth': 11, 'random_strength': 1.8237032934954446e-06, 'bootstrap_type': 'Bayesian', 'grow_policy': 'Lossguide', 'od_type': 'IncToDec', 'od_wait': 50}. Best is trial 38 with value: 0.6440391395231012.\n"
     ]
    },
    {
     "name": "stderr",
     "output_type": "stream",
     "text": [
      "\u001b[32m[I 2023-04-11 09:36:59,575]\u001b[0m Trial 58 finished with value: -0.6441049458705317 and parameters: {'learning_rate': 0.0012847232065872172, 'l2_leaf_reg': 2.315414653533972, 'colsample_bylevel': 0.018229022536633683, 'depth': 10, 'random_strength': 7.652287494347732e-08, 'bootstrap_type': 'Bayesian', 'grow_policy': 'Lossguide', 'od_type': 'Iter', 'od_wait': 46}. Best is trial 38 with value: 0.6440391395231012.\u001b[0m\n"
     ]
    },
    {
     "name": "stdout",
     "output_type": "stream",
     "text": [
      "Trial 58 finished with value: -0.6441049458705317 and parameters: {'learning_rate': 0.0012847232065872172, 'l2_leaf_reg': 2.315414653533972, 'colsample_bylevel': 0.018229022536633683, 'depth': 10, 'random_strength': 7.652287494347732e-08, 'bootstrap_type': 'Bayesian', 'grow_policy': 'Lossguide', 'od_type': 'Iter', 'od_wait': 46}. Best is trial 38 with value: 0.6440391395231012.\n",
      "Trial 58 finished with value: -0.6441049458705317 and parameters: {'learning_rate': 0.0012847232065872172, 'l2_leaf_reg': 2.315414653533972, 'colsample_bylevel': 0.018229022536633683, 'depth': 10, 'random_strength': 7.652287494347732e-08, 'bootstrap_type': 'Bayesian', 'grow_policy': 'Lossguide', 'od_type': 'Iter', 'od_wait': 46}. Best is trial 38 with value: 0.6440391395231012.\n",
      "              precision    recall  f1-score   support\n",
      "\n",
      "          no       0.84      0.84      0.84       630\n",
      "         yes       0.84      0.84      0.84       620\n",
      "\n",
      "    accuracy                           0.84      1250\n",
      "   macro avg       0.84      0.84      0.84      1250\n",
      "weighted avg       0.84      0.84      0.84      1250\n",
      "\n"
     ]
    }
   ],
   "source": [
    "# OptunaSearchCV approach\n",
    "clf = cb.CatBoostClassifier(verbose=False)\n",
    "\n",
    "param_distributions = {\n",
    "    \"learning_rate\": optuna.distributions.FloatDistribution(1e-3, 1.0, log=True),\n",
    "    \"l2_leaf_reg\": optuna.distributions.FloatDistribution(1e-8, 100.0, log=True),\n",
    "    \"colsample_bylevel\": optuna.distributions.FloatDistribution(0.01, 0.1, log=True),\n",
    "    \"depth\": optuna.distributions.IntDistribution(1, 12),\n",
    "    \"random_strength\": optuna.distributions.FloatDistribution(1e-8, 10.0, log=True),\n",
    "    \"bootstrap_type\": optuna.distributions.CategoricalDistribution([\"Bayesian\", \"Bernoulli\", \"MVS\"]),\n",
    "    \"grow_policy\": optuna.distributions.CategoricalDistribution([\"SymmetricTree\", \"Depthwise\", \"Lossguide\"]),\n",
    "    \"od_type\": optuna.distributions.CategoricalDistribution([\"IncToDec\", \"Iter\"]),\n",
    "    \"od_wait\": optuna.distributions.IntDistribution(10, 50)\n",
    "    }\n",
    "\n",
    "optuna_search = optuna.integration.OptunaSearchCV(\n",
    "    clf, param_distributions, cv=3, enable_pruning=False, \n",
    "    study=study, n_trials=5, verbose=False,\n",
    "    scoring=make_scorer(log_loss, greater_is_better=False, needs_proba=True))\n",
    "\n",
    "optuna_search.fit(X_train, y_train)\n",
    "y_pred = optuna_search.predict(X_test)\n",
    "\n",
    "print(classification_report(y_test, y_pred))"
   ]
  },
  {
   "cell_type": "code",
   "execution_count": 6,
   "id": "4fa59f40",
   "metadata": {},
   "outputs": [],
   "source": [
    "# CV with pruning approach\n",
    "\n",
    "ho_objective = lambda trial: get_ho_objective(trial, X_train, y_train, X_test, y_test)\n",
    "\n",
    "def get_ho_objective(trial: optuna.Trial, X_train, y_train, X_test, y_test) -> float:\n",
    "\n",
    "    params = {\n",
    "        \"objective\": \"Logloss\",\n",
    "        \"iterations\": 1000,\n",
    "        \"learning_rate\": trial.suggest_float(\"learning_rate\", 1e-3, 1.0, log=True),\n",
    "        \"l2_leaf_reg\": trial.suggest_float(\"l2_leaf_reg\", 1e-8, 100.0, log=True),\n",
    "        \"colsample_bylevel\": trial.suggest_float(\"colsample_bylevel\", 0.01, 0.1, log=True),\n",
    "        \"depth\": trial.suggest_int(\"depth\", 1, 12),\n",
    "        \"random_strength\": trial.suggest_float(\"random_strength\", 1e-8, 10.0, log=True),\n",
    "        \"bootstrap_type\": trial.suggest_categorical(\n",
    "            \"bootstrap_type\", [\"Bayesian\", \"Bernoulli\", \"MVS\"]\n",
    "        ),\n",
    "        \"grow_policy\": trial.suggest_categorical(\n",
    "            \"grow_policy\", [\"SymmetricTree\", \"Depthwise\", \"Lossguide\"]),\n",
    "        \"od_type\": trial.suggest_categorical(\"od_type\", [\"IncToDec\", \"Iter\"]),\n",
    "        \"od_wait\": trial.suggest_int(\"od_wait\", 10, 50),\n",
    "        \"eval_metric\": \"Logloss\"\n",
    "    }\n",
    "    \n",
    "    if params[\"bootstrap_type\"] == \"Bayesian\":\n",
    "        params[\"bagging_temperature\"] = trial.suggest_float(\"bagging_temperature\", 0, 10)\n",
    "    elif params[\"bootstrap_type\"] == \"Bernoulli\":\n",
    "        params[\"subsample\"] = trial.suggest_float(\"subsample\", 0.1, 1, log=True)\n",
    "\n",
    "    gbm = cb.CatBoostClassifier(**params)\n",
    "\n",
    "    pruning_callback = CatBoostPruningCallback(trial, \"Logloss\")\n",
    "    \n",
    "    gbm.fit(\n",
    "        X_train,\n",
    "        y_train,\n",
    "        eval_set=[(X_test, y_test)],\n",
    "        verbose=0,\n",
    "        early_stopping_rounds=10,\n",
    "        callbacks=[pruning_callback]\n",
    "    )\n",
    "\n",
    "    # evoke pruning manually.\n",
    "    pruning_callback.check_pruned()\n",
    "\n",
    "    pred_proba = gbm.predict_proba(X_test)\n",
    "\n",
    "    return log_loss(y_test, pred_proba)"
   ]
  },
  {
   "cell_type": "code",
   "execution_count": 7,
   "id": "89b82391",
   "metadata": {},
   "outputs": [
    {
     "name": "stderr",
     "output_type": "stream",
     "text": [
      "\u001b[32m[I 2023-04-06 17:19:46,107]\u001b[0m Trial 29 finished with value: 0.4965486872788487 and parameters: {'learning_rate': 0.0018769895006530033, 'l2_leaf_reg': 1.1209179574393942, 'colsample_bylevel': 0.0492000624281411, 'depth': 9, 'random_strength': 7.913712469446155e-07, 'bootstrap_type': 'MVS', 'grow_policy': 'Depthwise', 'od_type': 'Iter', 'od_wait': 39}. Best is trial 27 with value: 0.4966336815104927.\u001b[0m\n"
     ]
    },
    {
     "name": "stdout",
     "output_type": "stream",
     "text": [
      "Trial 29 finished with value: 0.4965486872788487 and parameters: {'learning_rate': 0.0018769895006530033, 'l2_leaf_reg': 1.1209179574393942, 'colsample_bylevel': 0.0492000624281411, 'depth': 9, 'random_strength': 7.913712469446155e-07, 'bootstrap_type': 'MVS', 'grow_policy': 'Depthwise', 'od_type': 'Iter', 'od_wait': 39}. Best is trial 27 with value: 0.4966336815104927.\n"
     ]
    },
    {
     "name": "stderr",
     "output_type": "stream",
     "text": [
      "\u001b[32m[I 2023-04-06 17:21:40,777]\u001b[0m Trial 30 finished with value: 0.4963161307961581 and parameters: {'learning_rate': 0.0016743316892679659, 'l2_leaf_reg': 0.7515248848732622, 'colsample_bylevel': 0.04308438163996671, 'depth': 12, 'random_strength': 4.4941525596606077e-07, 'bootstrap_type': 'MVS', 'grow_policy': 'Depthwise', 'od_type': 'Iter', 'od_wait': 39}. Best is trial 27 with value: 0.4966336815104927.\u001b[0m\n"
     ]
    },
    {
     "name": "stdout",
     "output_type": "stream",
     "text": [
      "Trial 30 finished with value: 0.4963161307961581 and parameters: {'learning_rate': 0.0016743316892679659, 'l2_leaf_reg': 0.7515248848732622, 'colsample_bylevel': 0.04308438163996671, 'depth': 12, 'random_strength': 4.4941525596606077e-07, 'bootstrap_type': 'MVS', 'grow_policy': 'Depthwise', 'od_type': 'Iter', 'od_wait': 39}. Best is trial 27 with value: 0.4966336815104927.\n"
     ]
    },
    {
     "name": "stderr",
     "output_type": "stream",
     "text": [
      "\u001b[32m[I 2023-04-06 17:23:29,507]\u001b[0m Trial 31 finished with value: 0.4843430139592682 and parameters: {'learning_rate': 0.0018047419737989524, 'l2_leaf_reg': 0.5658974760505915, 'colsample_bylevel': 0.04315931488358316, 'depth': 12, 'random_strength': 2.6015638139495264e-07, 'bootstrap_type': 'MVS', 'grow_policy': 'Depthwise', 'od_type': 'Iter', 'od_wait': 42}. Best is trial 27 with value: 0.4966336815104927.\u001b[0m\n"
     ]
    },
    {
     "name": "stdout",
     "output_type": "stream",
     "text": [
      "Trial 31 finished with value: 0.4843430139592682 and parameters: {'learning_rate': 0.0018047419737989524, 'l2_leaf_reg': 0.5658974760505915, 'colsample_bylevel': 0.04315931488358316, 'depth': 12, 'random_strength': 2.6015638139495264e-07, 'bootstrap_type': 'MVS', 'grow_policy': 'Depthwise', 'od_type': 'Iter', 'od_wait': 42}. Best is trial 27 with value: 0.4966336815104927.\n"
     ]
    },
    {
     "name": "stderr",
     "output_type": "stream",
     "text": [
      "\u001b[32m[I 2023-04-06 17:24:34,144]\u001b[0m Trial 32 finished with value: 0.51080412716285 and parameters: {'learning_rate': 0.0018997397088690029, 'l2_leaf_reg': 0.476039791451006, 'colsample_bylevel': 0.029706569868500673, 'depth': 11, 'random_strength': 3.845781896856081e-07, 'bootstrap_type': 'MVS', 'grow_policy': 'Depthwise', 'od_type': 'Iter', 'od_wait': 47}. Best is trial 32 with value: 0.51080412716285.\u001b[0m\n"
     ]
    },
    {
     "name": "stdout",
     "output_type": "stream",
     "text": [
      "Trial 32 finished with value: 0.51080412716285 and parameters: {'learning_rate': 0.0018997397088690029, 'l2_leaf_reg': 0.476039791451006, 'colsample_bylevel': 0.029706569868500673, 'depth': 11, 'random_strength': 3.845781896856081e-07, 'bootstrap_type': 'MVS', 'grow_policy': 'Depthwise', 'od_type': 'Iter', 'od_wait': 47}. Best is trial 32 with value: 0.51080412716285.\n"
     ]
    },
    {
     "name": "stderr",
     "output_type": "stream",
     "text": [
      "\u001b[32m[I 2023-04-06 17:25:38,663]\u001b[0m Trial 33 finished with value: 0.5958693229652161 and parameters: {'learning_rate': 0.00100794300787962, 'l2_leaf_reg': 18.588317942998685, 'colsample_bylevel': 0.030033200285286846, 'depth': 11, 'random_strength': 1.6213300427920594e-07, 'bootstrap_type': 'Bayesian', 'grow_policy': 'Depthwise', 'od_type': 'Iter', 'od_wait': 49, 'bagging_temperature': 0.531741485582355}. Best is trial 33 with value: 0.5958693229652161.\u001b[0m\n"
     ]
    },
    {
     "name": "stdout",
     "output_type": "stream",
     "text": [
      "Trial 33 finished with value: 0.5958693229652161 and parameters: {'learning_rate': 0.00100794300787962, 'l2_leaf_reg': 18.588317942998685, 'colsample_bylevel': 0.030033200285286846, 'depth': 11, 'random_strength': 1.6213300427920594e-07, 'bootstrap_type': 'Bayesian', 'grow_policy': 'Depthwise', 'od_type': 'Iter', 'od_wait': 49, 'bagging_temperature': 0.531741485582355}. Best is trial 33 with value: 0.5958693229652161.\n"
     ]
    },
    {
     "name": "stderr",
     "output_type": "stream",
     "text": [
      "\u001b[32m[I 2023-04-06 17:25:50,406]\u001b[0m Trial 34 finished with value: 0.624826552015401 and parameters: {'learning_rate': 0.0012541861362362038, 'l2_leaf_reg': 14.319345578743647, 'colsample_bylevel': 0.02842763666249416, 'depth': 11, 'random_strength': 8.508488921996843e-08, 'bootstrap_type': 'Bayesian', 'grow_policy': 'Lossguide', 'od_type': 'Iter', 'od_wait': 50, 'bagging_temperature': 0.43701428552322275}. Best is trial 34 with value: 0.624826552015401.\u001b[0m\n"
     ]
    },
    {
     "name": "stdout",
     "output_type": "stream",
     "text": [
      "Trial 34 finished with value: 0.624826552015401 and parameters: {'learning_rate': 0.0012541861362362038, 'l2_leaf_reg': 14.319345578743647, 'colsample_bylevel': 0.02842763666249416, 'depth': 11, 'random_strength': 8.508488921996843e-08, 'bootstrap_type': 'Bayesian', 'grow_policy': 'Lossguide', 'od_type': 'Iter', 'od_wait': 50, 'bagging_temperature': 0.43701428552322275}. Best is trial 34 with value: 0.624826552015401.\n"
     ]
    },
    {
     "name": "stderr",
     "output_type": "stream",
     "text": [
      "\u001b[32m[I 2023-04-06 17:26:02,316]\u001b[0m Trial 35 finished with value: 0.6365822214704931 and parameters: {'learning_rate': 0.001075862326043269, 'l2_leaf_reg': 90.73976532123572, 'colsample_bylevel': 0.028210705540157834, 'depth': 11, 'random_strength': 8.759440508234366e-08, 'bootstrap_type': 'Bayesian', 'grow_policy': 'Lossguide', 'od_type': 'Iter', 'od_wait': 50, 'bagging_temperature': 0.08741552996643964}. Best is trial 35 with value: 0.6365822214704931.\u001b[0m\n"
     ]
    },
    {
     "name": "stdout",
     "output_type": "stream",
     "text": [
      "Trial 35 finished with value: 0.6365822214704931 and parameters: {'learning_rate': 0.001075862326043269, 'l2_leaf_reg': 90.73976532123572, 'colsample_bylevel': 0.028210705540157834, 'depth': 11, 'random_strength': 8.759440508234366e-08, 'bootstrap_type': 'Bayesian', 'grow_policy': 'Lossguide', 'od_type': 'Iter', 'od_wait': 50, 'bagging_temperature': 0.08741552996643964}. Best is trial 35 with value: 0.6365822214704931.\n"
     ]
    },
    {
     "name": "stderr",
     "output_type": "stream",
     "text": [
      "\u001b[32m[I 2023-04-06 17:26:13,939]\u001b[0m Trial 36 finished with value: 0.6362447295890847 and parameters: {'learning_rate': 0.0010480764156439555, 'l2_leaf_reg': 66.13306579867303, 'colsample_bylevel': 0.0276650279619753, 'depth': 11, 'random_strength': 6.787314439854602e-08, 'bootstrap_type': 'Bayesian', 'grow_policy': 'Lossguide', 'od_type': 'Iter', 'od_wait': 50, 'bagging_temperature': 0.07464435123501412}. Best is trial 35 with value: 0.6365822214704931.\u001b[0m\n"
     ]
    },
    {
     "name": "stdout",
     "output_type": "stream",
     "text": [
      "Trial 36 finished with value: 0.6362447295890847 and parameters: {'learning_rate': 0.0010480764156439555, 'l2_leaf_reg': 66.13306579867303, 'colsample_bylevel': 0.0276650279619753, 'depth': 11, 'random_strength': 6.787314439854602e-08, 'bootstrap_type': 'Bayesian', 'grow_policy': 'Lossguide', 'od_type': 'Iter', 'od_wait': 50, 'bagging_temperature': 0.07464435123501412}. Best is trial 35 with value: 0.6365822214704931.\n"
     ]
    },
    {
     "name": "stderr",
     "output_type": "stream",
     "text": [
      "\u001b[32m[I 2023-04-06 17:26:25,434]\u001b[0m Trial 37 finished with value: 0.6368050104572306 and parameters: {'learning_rate': 0.0011652232004604518, 'l2_leaf_reg': 81.3907170361274, 'colsample_bylevel': 0.024089164985701322, 'depth': 11, 'random_strength': 4.224658318264939e-08, 'bootstrap_type': 'Bayesian', 'grow_policy': 'Lossguide', 'od_type': 'Iter', 'od_wait': 45, 'bagging_temperature': 0.2614670921933523}. Best is trial 37 with value: 0.6368050104572306.\u001b[0m\n"
     ]
    },
    {
     "name": "stdout",
     "output_type": "stream",
     "text": [
      "Trial 37 finished with value: 0.6368050104572306 and parameters: {'learning_rate': 0.0011652232004604518, 'l2_leaf_reg': 81.3907170361274, 'colsample_bylevel': 0.024089164985701322, 'depth': 11, 'random_strength': 4.224658318264939e-08, 'bootstrap_type': 'Bayesian', 'grow_policy': 'Lossguide', 'od_type': 'Iter', 'od_wait': 45, 'bagging_temperature': 0.2614670921933523}. Best is trial 37 with value: 0.6368050104572306.\n"
     ]
    },
    {
     "name": "stderr",
     "output_type": "stream",
     "text": [
      "\u001b[32m[I 2023-04-06 17:26:37,382]\u001b[0m Trial 38 finished with value: 0.6440391395231012 and parameters: {'learning_rate': 0.0010186005490146904, 'l2_leaf_reg': 85.1403266884871, 'colsample_bylevel': 0.025889525427018403, 'depth': 11, 'random_strength': 2.499376073859301e-08, 'bootstrap_type': 'Bayesian', 'grow_policy': 'Lossguide', 'od_type': 'Iter', 'od_wait': 45, 'bagging_temperature': 0.5475073039000595}. Best is trial 38 with value: 0.6440391395231012.\u001b[0m\n"
     ]
    },
    {
     "name": "stdout",
     "output_type": "stream",
     "text": [
      "Trial 38 finished with value: 0.6440391395231012 and parameters: {'learning_rate': 0.0010186005490146904, 'l2_leaf_reg': 85.1403266884871, 'colsample_bylevel': 0.025889525427018403, 'depth': 11, 'random_strength': 2.499376073859301e-08, 'bootstrap_type': 'Bayesian', 'grow_policy': 'Lossguide', 'od_type': 'Iter', 'od_wait': 45, 'bagging_temperature': 0.5475073039000595}. Best is trial 38 with value: 0.6440391395231012.\n"
     ]
    }
   ],
   "source": [
    "study.optimize(ho_objective, n_trials=10, timeout=600)"
   ]
  },
  {
   "cell_type": "code",
   "execution_count": null,
   "id": "96c13a62",
   "metadata": {},
   "outputs": [],
   "source": [
    "optuna.visualization.plot_intermediate_values(study)"
   ]
  },
  {
   "cell_type": "code",
   "execution_count": 12,
   "id": "67d6ffdb",
   "metadata": {},
   "outputs": [
    {
     "data": {
      "application/vnd.plotly.v1+json": {
       "config": {
        "plotlyServerURL": "https://plot.ly"
       },
       "data": [
        {
         "mode": "markers",
         "name": "Objective Value",
         "type": "scatter",
         "x": [
          0,
          1,
          2,
          3,
          4,
          5,
          7,
          8,
          9,
          10,
          11,
          12,
          13,
          14,
          15,
          16,
          18,
          19
         ],
         "y": [
          -0.45003056705495253,
          -0.6306997787474536,
          -0.4442525772432844,
          -0.43327341733540836,
          -0.6241516186410357,
          -0.5341172827991332,
          -0.6733180124049609,
          -0.705121334490859,
          -1.3056000607952278,
          -0.6428452525469409,
          -0.4015662106553716,
          -0.4889589973660363,
          -0.40947033120449217,
          -0.4218727672413126,
          -0.6409780308243788,
          -0.38596155182454284,
          -0.682328045978578,
          -0.550251723848123
         ]
        },
        {
         "name": "Best Value",
         "type": "scatter",
         "x": [
          0,
          1,
          2,
          3,
          4,
          5,
          7,
          8,
          9,
          10,
          11,
          12,
          13,
          14,
          15,
          16,
          18,
          19
         ],
         "y": [
          -0.45003056705495253,
          -0.45003056705495253,
          -0.4442525772432844,
          -0.43327341733540836,
          -0.43327341733540836,
          -0.43327341733540836,
          -0.43327341733540836,
          -0.43327341733540836,
          -0.43327341733540836,
          -0.43327341733540836,
          -0.4015662106553716,
          -0.4015662106553716,
          -0.4015662106553716,
          -0.4015662106553716,
          -0.4015662106553716,
          -0.38596155182454284,
          -0.38596155182454284,
          -0.38596155182454284
         ]
        }
       ],
       "layout": {
        "template": {
         "data": {
          "bar": [
           {
            "error_x": {
             "color": "#2a3f5f"
            },
            "error_y": {
             "color": "#2a3f5f"
            },
            "marker": {
             "line": {
              "color": "#E5ECF6",
              "width": 0.5
             },
             "pattern": {
              "fillmode": "overlay",
              "size": 10,
              "solidity": 0.2
             }
            },
            "type": "bar"
           }
          ],
          "barpolar": [
           {
            "marker": {
             "line": {
              "color": "#E5ECF6",
              "width": 0.5
             },
             "pattern": {
              "fillmode": "overlay",
              "size": 10,
              "solidity": 0.2
             }
            },
            "type": "barpolar"
           }
          ],
          "carpet": [
           {
            "aaxis": {
             "endlinecolor": "#2a3f5f",
             "gridcolor": "white",
             "linecolor": "white",
             "minorgridcolor": "white",
             "startlinecolor": "#2a3f5f"
            },
            "baxis": {
             "endlinecolor": "#2a3f5f",
             "gridcolor": "white",
             "linecolor": "white",
             "minorgridcolor": "white",
             "startlinecolor": "#2a3f5f"
            },
            "type": "carpet"
           }
          ],
          "choropleth": [
           {
            "colorbar": {
             "outlinewidth": 0,
             "ticks": ""
            },
            "type": "choropleth"
           }
          ],
          "contour": [
           {
            "colorbar": {
             "outlinewidth": 0,
             "ticks": ""
            },
            "colorscale": [
             [
              0,
              "#0d0887"
             ],
             [
              0.1111111111111111,
              "#46039f"
             ],
             [
              0.2222222222222222,
              "#7201a8"
             ],
             [
              0.3333333333333333,
              "#9c179e"
             ],
             [
              0.4444444444444444,
              "#bd3786"
             ],
             [
              0.5555555555555556,
              "#d8576b"
             ],
             [
              0.6666666666666666,
              "#ed7953"
             ],
             [
              0.7777777777777778,
              "#fb9f3a"
             ],
             [
              0.8888888888888888,
              "#fdca26"
             ],
             [
              1,
              "#f0f921"
             ]
            ],
            "type": "contour"
           }
          ],
          "contourcarpet": [
           {
            "colorbar": {
             "outlinewidth": 0,
             "ticks": ""
            },
            "type": "contourcarpet"
           }
          ],
          "heatmap": [
           {
            "colorbar": {
             "outlinewidth": 0,
             "ticks": ""
            },
            "colorscale": [
             [
              0,
              "#0d0887"
             ],
             [
              0.1111111111111111,
              "#46039f"
             ],
             [
              0.2222222222222222,
              "#7201a8"
             ],
             [
              0.3333333333333333,
              "#9c179e"
             ],
             [
              0.4444444444444444,
              "#bd3786"
             ],
             [
              0.5555555555555556,
              "#d8576b"
             ],
             [
              0.6666666666666666,
              "#ed7953"
             ],
             [
              0.7777777777777778,
              "#fb9f3a"
             ],
             [
              0.8888888888888888,
              "#fdca26"
             ],
             [
              1,
              "#f0f921"
             ]
            ],
            "type": "heatmap"
           }
          ],
          "heatmapgl": [
           {
            "colorbar": {
             "outlinewidth": 0,
             "ticks": ""
            },
            "colorscale": [
             [
              0,
              "#0d0887"
             ],
             [
              0.1111111111111111,
              "#46039f"
             ],
             [
              0.2222222222222222,
              "#7201a8"
             ],
             [
              0.3333333333333333,
              "#9c179e"
             ],
             [
              0.4444444444444444,
              "#bd3786"
             ],
             [
              0.5555555555555556,
              "#d8576b"
             ],
             [
              0.6666666666666666,
              "#ed7953"
             ],
             [
              0.7777777777777778,
              "#fb9f3a"
             ],
             [
              0.8888888888888888,
              "#fdca26"
             ],
             [
              1,
              "#f0f921"
             ]
            ],
            "type": "heatmapgl"
           }
          ],
          "histogram": [
           {
            "marker": {
             "pattern": {
              "fillmode": "overlay",
              "size": 10,
              "solidity": 0.2
             }
            },
            "type": "histogram"
           }
          ],
          "histogram2d": [
           {
            "colorbar": {
             "outlinewidth": 0,
             "ticks": ""
            },
            "colorscale": [
             [
              0,
              "#0d0887"
             ],
             [
              0.1111111111111111,
              "#46039f"
             ],
             [
              0.2222222222222222,
              "#7201a8"
             ],
             [
              0.3333333333333333,
              "#9c179e"
             ],
             [
              0.4444444444444444,
              "#bd3786"
             ],
             [
              0.5555555555555556,
              "#d8576b"
             ],
             [
              0.6666666666666666,
              "#ed7953"
             ],
             [
              0.7777777777777778,
              "#fb9f3a"
             ],
             [
              0.8888888888888888,
              "#fdca26"
             ],
             [
              1,
              "#f0f921"
             ]
            ],
            "type": "histogram2d"
           }
          ],
          "histogram2dcontour": [
           {
            "colorbar": {
             "outlinewidth": 0,
             "ticks": ""
            },
            "colorscale": [
             [
              0,
              "#0d0887"
             ],
             [
              0.1111111111111111,
              "#46039f"
             ],
             [
              0.2222222222222222,
              "#7201a8"
             ],
             [
              0.3333333333333333,
              "#9c179e"
             ],
             [
              0.4444444444444444,
              "#bd3786"
             ],
             [
              0.5555555555555556,
              "#d8576b"
             ],
             [
              0.6666666666666666,
              "#ed7953"
             ],
             [
              0.7777777777777778,
              "#fb9f3a"
             ],
             [
              0.8888888888888888,
              "#fdca26"
             ],
             [
              1,
              "#f0f921"
             ]
            ],
            "type": "histogram2dcontour"
           }
          ],
          "mesh3d": [
           {
            "colorbar": {
             "outlinewidth": 0,
             "ticks": ""
            },
            "type": "mesh3d"
           }
          ],
          "parcoords": [
           {
            "line": {
             "colorbar": {
              "outlinewidth": 0,
              "ticks": ""
             }
            },
            "type": "parcoords"
           }
          ],
          "pie": [
           {
            "automargin": true,
            "type": "pie"
           }
          ],
          "scatter": [
           {
            "fillpattern": {
             "fillmode": "overlay",
             "size": 10,
             "solidity": 0.2
            },
            "type": "scatter"
           }
          ],
          "scatter3d": [
           {
            "line": {
             "colorbar": {
              "outlinewidth": 0,
              "ticks": ""
             }
            },
            "marker": {
             "colorbar": {
              "outlinewidth": 0,
              "ticks": ""
             }
            },
            "type": "scatter3d"
           }
          ],
          "scattercarpet": [
           {
            "marker": {
             "colorbar": {
              "outlinewidth": 0,
              "ticks": ""
             }
            },
            "type": "scattercarpet"
           }
          ],
          "scattergeo": [
           {
            "marker": {
             "colorbar": {
              "outlinewidth": 0,
              "ticks": ""
             }
            },
            "type": "scattergeo"
           }
          ],
          "scattergl": [
           {
            "marker": {
             "colorbar": {
              "outlinewidth": 0,
              "ticks": ""
             }
            },
            "type": "scattergl"
           }
          ],
          "scattermapbox": [
           {
            "marker": {
             "colorbar": {
              "outlinewidth": 0,
              "ticks": ""
             }
            },
            "type": "scattermapbox"
           }
          ],
          "scatterpolar": [
           {
            "marker": {
             "colorbar": {
              "outlinewidth": 0,
              "ticks": ""
             }
            },
            "type": "scatterpolar"
           }
          ],
          "scatterpolargl": [
           {
            "marker": {
             "colorbar": {
              "outlinewidth": 0,
              "ticks": ""
             }
            },
            "type": "scatterpolargl"
           }
          ],
          "scatterternary": [
           {
            "marker": {
             "colorbar": {
              "outlinewidth": 0,
              "ticks": ""
             }
            },
            "type": "scatterternary"
           }
          ],
          "surface": [
           {
            "colorbar": {
             "outlinewidth": 0,
             "ticks": ""
            },
            "colorscale": [
             [
              0,
              "#0d0887"
             ],
             [
              0.1111111111111111,
              "#46039f"
             ],
             [
              0.2222222222222222,
              "#7201a8"
             ],
             [
              0.3333333333333333,
              "#9c179e"
             ],
             [
              0.4444444444444444,
              "#bd3786"
             ],
             [
              0.5555555555555556,
              "#d8576b"
             ],
             [
              0.6666666666666666,
              "#ed7953"
             ],
             [
              0.7777777777777778,
              "#fb9f3a"
             ],
             [
              0.8888888888888888,
              "#fdca26"
             ],
             [
              1,
              "#f0f921"
             ]
            ],
            "type": "surface"
           }
          ],
          "table": [
           {
            "cells": {
             "fill": {
              "color": "#EBF0F8"
             },
             "line": {
              "color": "white"
             }
            },
            "header": {
             "fill": {
              "color": "#C8D4E3"
             },
             "line": {
              "color": "white"
             }
            },
            "type": "table"
           }
          ]
         },
         "layout": {
          "annotationdefaults": {
           "arrowcolor": "#2a3f5f",
           "arrowhead": 0,
           "arrowwidth": 1
          },
          "autotypenumbers": "strict",
          "coloraxis": {
           "colorbar": {
            "outlinewidth": 0,
            "ticks": ""
           }
          },
          "colorscale": {
           "diverging": [
            [
             0,
             "#8e0152"
            ],
            [
             0.1,
             "#c51b7d"
            ],
            [
             0.2,
             "#de77ae"
            ],
            [
             0.3,
             "#f1b6da"
            ],
            [
             0.4,
             "#fde0ef"
            ],
            [
             0.5,
             "#f7f7f7"
            ],
            [
             0.6,
             "#e6f5d0"
            ],
            [
             0.7,
             "#b8e186"
            ],
            [
             0.8,
             "#7fbc41"
            ],
            [
             0.9,
             "#4d9221"
            ],
            [
             1,
             "#276419"
            ]
           ],
           "sequential": [
            [
             0,
             "#0d0887"
            ],
            [
             0.1111111111111111,
             "#46039f"
            ],
            [
             0.2222222222222222,
             "#7201a8"
            ],
            [
             0.3333333333333333,
             "#9c179e"
            ],
            [
             0.4444444444444444,
             "#bd3786"
            ],
            [
             0.5555555555555556,
             "#d8576b"
            ],
            [
             0.6666666666666666,
             "#ed7953"
            ],
            [
             0.7777777777777778,
             "#fb9f3a"
            ],
            [
             0.8888888888888888,
             "#fdca26"
            ],
            [
             1,
             "#f0f921"
            ]
           ],
           "sequentialminus": [
            [
             0,
             "#0d0887"
            ],
            [
             0.1111111111111111,
             "#46039f"
            ],
            [
             0.2222222222222222,
             "#7201a8"
            ],
            [
             0.3333333333333333,
             "#9c179e"
            ],
            [
             0.4444444444444444,
             "#bd3786"
            ],
            [
             0.5555555555555556,
             "#d8576b"
            ],
            [
             0.6666666666666666,
             "#ed7953"
            ],
            [
             0.7777777777777778,
             "#fb9f3a"
            ],
            [
             0.8888888888888888,
             "#fdca26"
            ],
            [
             1,
             "#f0f921"
            ]
           ]
          },
          "colorway": [
           "#636efa",
           "#EF553B",
           "#00cc96",
           "#ab63fa",
           "#FFA15A",
           "#19d3f3",
           "#FF6692",
           "#B6E880",
           "#FF97FF",
           "#FECB52"
          ],
          "font": {
           "color": "#2a3f5f"
          },
          "geo": {
           "bgcolor": "white",
           "lakecolor": "white",
           "landcolor": "#E5ECF6",
           "showlakes": true,
           "showland": true,
           "subunitcolor": "white"
          },
          "hoverlabel": {
           "align": "left"
          },
          "hovermode": "closest",
          "mapbox": {
           "style": "light"
          },
          "paper_bgcolor": "white",
          "plot_bgcolor": "#E5ECF6",
          "polar": {
           "angularaxis": {
            "gridcolor": "white",
            "linecolor": "white",
            "ticks": ""
           },
           "bgcolor": "#E5ECF6",
           "radialaxis": {
            "gridcolor": "white",
            "linecolor": "white",
            "ticks": ""
           }
          },
          "scene": {
           "xaxis": {
            "backgroundcolor": "#E5ECF6",
            "gridcolor": "white",
            "gridwidth": 2,
            "linecolor": "white",
            "showbackground": true,
            "ticks": "",
            "zerolinecolor": "white"
           },
           "yaxis": {
            "backgroundcolor": "#E5ECF6",
            "gridcolor": "white",
            "gridwidth": 2,
            "linecolor": "white",
            "showbackground": true,
            "ticks": "",
            "zerolinecolor": "white"
           },
           "zaxis": {
            "backgroundcolor": "#E5ECF6",
            "gridcolor": "white",
            "gridwidth": 2,
            "linecolor": "white",
            "showbackground": true,
            "ticks": "",
            "zerolinecolor": "white"
           }
          },
          "shapedefaults": {
           "line": {
            "color": "#2a3f5f"
           }
          },
          "ternary": {
           "aaxis": {
            "gridcolor": "white",
            "linecolor": "white",
            "ticks": ""
           },
           "baxis": {
            "gridcolor": "white",
            "linecolor": "white",
            "ticks": ""
           },
           "bgcolor": "#E5ECF6",
           "caxis": {
            "gridcolor": "white",
            "linecolor": "white",
            "ticks": ""
           }
          },
          "title": {
           "x": 0.05
          },
          "xaxis": {
           "automargin": true,
           "gridcolor": "white",
           "linecolor": "white",
           "ticks": "",
           "title": {
            "standoff": 15
           },
           "zerolinecolor": "white",
           "zerolinewidth": 2
          },
          "yaxis": {
           "automargin": true,
           "gridcolor": "white",
           "linecolor": "white",
           "ticks": "",
           "title": {
            "standoff": 15
           },
           "zerolinecolor": "white",
           "zerolinewidth": 2
          }
         }
        },
        "title": {
         "text": "Optimization History Plot"
        },
        "xaxis": {
         "title": {
          "text": "Trial"
         }
        },
        "yaxis": {
         "title": {
          "text": "Objective Value"
         }
        }
       }
      },
      "text/html": [
       "<div>                            <div id=\"d7c91020-0941-4624-9324-708f4053b289\" class=\"plotly-graph-div\" style=\"height:525px; width:100%;\"></div>            <script type=\"text/javascript\">                require([\"plotly\"], function(Plotly) {                    window.PLOTLYENV=window.PLOTLYENV || {};                                    if (document.getElementById(\"d7c91020-0941-4624-9324-708f4053b289\")) {                    Plotly.newPlot(                        \"d7c91020-0941-4624-9324-708f4053b289\",                        [{\"mode\":\"markers\",\"name\":\"Objective Value\",\"x\":[0,1,2,3,4,5,7,8,9,10,11,12,13,14,15,16,18,19],\"y\":[-0.45003056705495253,-0.6306997787474536,-0.4442525772432844,-0.43327341733540836,-0.6241516186410357,-0.5341172827991332,-0.6733180124049609,-0.705121334490859,-1.3056000607952278,-0.6428452525469409,-0.4015662106553716,-0.4889589973660363,-0.40947033120449217,-0.4218727672413126,-0.6409780308243788,-0.38596155182454284,-0.682328045978578,-0.550251723848123],\"type\":\"scatter\"},{\"name\":\"Best Value\",\"x\":[0,1,2,3,4,5,7,8,9,10,11,12,13,14,15,16,18,19],\"y\":[-0.45003056705495253,-0.45003056705495253,-0.4442525772432844,-0.43327341733540836,-0.43327341733540836,-0.43327341733540836,-0.43327341733540836,-0.43327341733540836,-0.43327341733540836,-0.43327341733540836,-0.4015662106553716,-0.4015662106553716,-0.4015662106553716,-0.4015662106553716,-0.4015662106553716,-0.38596155182454284,-0.38596155182454284,-0.38596155182454284],\"type\":\"scatter\"}],                        {\"title\":{\"text\":\"Optimization History Plot\"},\"xaxis\":{\"title\":{\"text\":\"Trial\"}},\"yaxis\":{\"title\":{\"text\":\"Objective Value\"}},\"template\":{\"data\":{\"histogram2dcontour\":[{\"type\":\"histogram2dcontour\",\"colorbar\":{\"outlinewidth\":0,\"ticks\":\"\"},\"colorscale\":[[0.0,\"#0d0887\"],[0.1111111111111111,\"#46039f\"],[0.2222222222222222,\"#7201a8\"],[0.3333333333333333,\"#9c179e\"],[0.4444444444444444,\"#bd3786\"],[0.5555555555555556,\"#d8576b\"],[0.6666666666666666,\"#ed7953\"],[0.7777777777777778,\"#fb9f3a\"],[0.8888888888888888,\"#fdca26\"],[1.0,\"#f0f921\"]]}],\"choropleth\":[{\"type\":\"choropleth\",\"colorbar\":{\"outlinewidth\":0,\"ticks\":\"\"}}],\"histogram2d\":[{\"type\":\"histogram2d\",\"colorbar\":{\"outlinewidth\":0,\"ticks\":\"\"},\"colorscale\":[[0.0,\"#0d0887\"],[0.1111111111111111,\"#46039f\"],[0.2222222222222222,\"#7201a8\"],[0.3333333333333333,\"#9c179e\"],[0.4444444444444444,\"#bd3786\"],[0.5555555555555556,\"#d8576b\"],[0.6666666666666666,\"#ed7953\"],[0.7777777777777778,\"#fb9f3a\"],[0.8888888888888888,\"#fdca26\"],[1.0,\"#f0f921\"]]}],\"heatmap\":[{\"type\":\"heatmap\",\"colorbar\":{\"outlinewidth\":0,\"ticks\":\"\"},\"colorscale\":[[0.0,\"#0d0887\"],[0.1111111111111111,\"#46039f\"],[0.2222222222222222,\"#7201a8\"],[0.3333333333333333,\"#9c179e\"],[0.4444444444444444,\"#bd3786\"],[0.5555555555555556,\"#d8576b\"],[0.6666666666666666,\"#ed7953\"],[0.7777777777777778,\"#fb9f3a\"],[0.8888888888888888,\"#fdca26\"],[1.0,\"#f0f921\"]]}],\"heatmapgl\":[{\"type\":\"heatmapgl\",\"colorbar\":{\"outlinewidth\":0,\"ticks\":\"\"},\"colorscale\":[[0.0,\"#0d0887\"],[0.1111111111111111,\"#46039f\"],[0.2222222222222222,\"#7201a8\"],[0.3333333333333333,\"#9c179e\"],[0.4444444444444444,\"#bd3786\"],[0.5555555555555556,\"#d8576b\"],[0.6666666666666666,\"#ed7953\"],[0.7777777777777778,\"#fb9f3a\"],[0.8888888888888888,\"#fdca26\"],[1.0,\"#f0f921\"]]}],\"contourcarpet\":[{\"type\":\"contourcarpet\",\"colorbar\":{\"outlinewidth\":0,\"ticks\":\"\"}}],\"contour\":[{\"type\":\"contour\",\"colorbar\":{\"outlinewidth\":0,\"ticks\":\"\"},\"colorscale\":[[0.0,\"#0d0887\"],[0.1111111111111111,\"#46039f\"],[0.2222222222222222,\"#7201a8\"],[0.3333333333333333,\"#9c179e\"],[0.4444444444444444,\"#bd3786\"],[0.5555555555555556,\"#d8576b\"],[0.6666666666666666,\"#ed7953\"],[0.7777777777777778,\"#fb9f3a\"],[0.8888888888888888,\"#fdca26\"],[1.0,\"#f0f921\"]]}],\"surface\":[{\"type\":\"surface\",\"colorbar\":{\"outlinewidth\":0,\"ticks\":\"\"},\"colorscale\":[[0.0,\"#0d0887\"],[0.1111111111111111,\"#46039f\"],[0.2222222222222222,\"#7201a8\"],[0.3333333333333333,\"#9c179e\"],[0.4444444444444444,\"#bd3786\"],[0.5555555555555556,\"#d8576b\"],[0.6666666666666666,\"#ed7953\"],[0.7777777777777778,\"#fb9f3a\"],[0.8888888888888888,\"#fdca26\"],[1.0,\"#f0f921\"]]}],\"mesh3d\":[{\"type\":\"mesh3d\",\"colorbar\":{\"outlinewidth\":0,\"ticks\":\"\"}}],\"scatter\":[{\"fillpattern\":{\"fillmode\":\"overlay\",\"size\":10,\"solidity\":0.2},\"type\":\"scatter\"}],\"parcoords\":[{\"type\":\"parcoords\",\"line\":{\"colorbar\":{\"outlinewidth\":0,\"ticks\":\"\"}}}],\"scatterpolargl\":[{\"type\":\"scatterpolargl\",\"marker\":{\"colorbar\":{\"outlinewidth\":0,\"ticks\":\"\"}}}],\"bar\":[{\"error_x\":{\"color\":\"#2a3f5f\"},\"error_y\":{\"color\":\"#2a3f5f\"},\"marker\":{\"line\":{\"color\":\"#E5ECF6\",\"width\":0.5},\"pattern\":{\"fillmode\":\"overlay\",\"size\":10,\"solidity\":0.2}},\"type\":\"bar\"}],\"scattergeo\":[{\"type\":\"scattergeo\",\"marker\":{\"colorbar\":{\"outlinewidth\":0,\"ticks\":\"\"}}}],\"scatterpolar\":[{\"type\":\"scatterpolar\",\"marker\":{\"colorbar\":{\"outlinewidth\":0,\"ticks\":\"\"}}}],\"histogram\":[{\"marker\":{\"pattern\":{\"fillmode\":\"overlay\",\"size\":10,\"solidity\":0.2}},\"type\":\"histogram\"}],\"scattergl\":[{\"type\":\"scattergl\",\"marker\":{\"colorbar\":{\"outlinewidth\":0,\"ticks\":\"\"}}}],\"scatter3d\":[{\"type\":\"scatter3d\",\"line\":{\"colorbar\":{\"outlinewidth\":0,\"ticks\":\"\"}},\"marker\":{\"colorbar\":{\"outlinewidth\":0,\"ticks\":\"\"}}}],\"scattermapbox\":[{\"type\":\"scattermapbox\",\"marker\":{\"colorbar\":{\"outlinewidth\":0,\"ticks\":\"\"}}}],\"scatterternary\":[{\"type\":\"scatterternary\",\"marker\":{\"colorbar\":{\"outlinewidth\":0,\"ticks\":\"\"}}}],\"scattercarpet\":[{\"type\":\"scattercarpet\",\"marker\":{\"colorbar\":{\"outlinewidth\":0,\"ticks\":\"\"}}}],\"carpet\":[{\"aaxis\":{\"endlinecolor\":\"#2a3f5f\",\"gridcolor\":\"white\",\"linecolor\":\"white\",\"minorgridcolor\":\"white\",\"startlinecolor\":\"#2a3f5f\"},\"baxis\":{\"endlinecolor\":\"#2a3f5f\",\"gridcolor\":\"white\",\"linecolor\":\"white\",\"minorgridcolor\":\"white\",\"startlinecolor\":\"#2a3f5f\"},\"type\":\"carpet\"}],\"table\":[{\"cells\":{\"fill\":{\"color\":\"#EBF0F8\"},\"line\":{\"color\":\"white\"}},\"header\":{\"fill\":{\"color\":\"#C8D4E3\"},\"line\":{\"color\":\"white\"}},\"type\":\"table\"}],\"barpolar\":[{\"marker\":{\"line\":{\"color\":\"#E5ECF6\",\"width\":0.5},\"pattern\":{\"fillmode\":\"overlay\",\"size\":10,\"solidity\":0.2}},\"type\":\"barpolar\"}],\"pie\":[{\"automargin\":true,\"type\":\"pie\"}]},\"layout\":{\"autotypenumbers\":\"strict\",\"colorway\":[\"#636efa\",\"#EF553B\",\"#00cc96\",\"#ab63fa\",\"#FFA15A\",\"#19d3f3\",\"#FF6692\",\"#B6E880\",\"#FF97FF\",\"#FECB52\"],\"font\":{\"color\":\"#2a3f5f\"},\"hovermode\":\"closest\",\"hoverlabel\":{\"align\":\"left\"},\"paper_bgcolor\":\"white\",\"plot_bgcolor\":\"#E5ECF6\",\"polar\":{\"bgcolor\":\"#E5ECF6\",\"angularaxis\":{\"gridcolor\":\"white\",\"linecolor\":\"white\",\"ticks\":\"\"},\"radialaxis\":{\"gridcolor\":\"white\",\"linecolor\":\"white\",\"ticks\":\"\"}},\"ternary\":{\"bgcolor\":\"#E5ECF6\",\"aaxis\":{\"gridcolor\":\"white\",\"linecolor\":\"white\",\"ticks\":\"\"},\"baxis\":{\"gridcolor\":\"white\",\"linecolor\":\"white\",\"ticks\":\"\"},\"caxis\":{\"gridcolor\":\"white\",\"linecolor\":\"white\",\"ticks\":\"\"}},\"coloraxis\":{\"colorbar\":{\"outlinewidth\":0,\"ticks\":\"\"}},\"colorscale\":{\"sequential\":[[0.0,\"#0d0887\"],[0.1111111111111111,\"#46039f\"],[0.2222222222222222,\"#7201a8\"],[0.3333333333333333,\"#9c179e\"],[0.4444444444444444,\"#bd3786\"],[0.5555555555555556,\"#d8576b\"],[0.6666666666666666,\"#ed7953\"],[0.7777777777777778,\"#fb9f3a\"],[0.8888888888888888,\"#fdca26\"],[1.0,\"#f0f921\"]],\"sequentialminus\":[[0.0,\"#0d0887\"],[0.1111111111111111,\"#46039f\"],[0.2222222222222222,\"#7201a8\"],[0.3333333333333333,\"#9c179e\"],[0.4444444444444444,\"#bd3786\"],[0.5555555555555556,\"#d8576b\"],[0.6666666666666666,\"#ed7953\"],[0.7777777777777778,\"#fb9f3a\"],[0.8888888888888888,\"#fdca26\"],[1.0,\"#f0f921\"]],\"diverging\":[[0,\"#8e0152\"],[0.1,\"#c51b7d\"],[0.2,\"#de77ae\"],[0.3,\"#f1b6da\"],[0.4,\"#fde0ef\"],[0.5,\"#f7f7f7\"],[0.6,\"#e6f5d0\"],[0.7,\"#b8e186\"],[0.8,\"#7fbc41\"],[0.9,\"#4d9221\"],[1,\"#276419\"]]},\"xaxis\":{\"gridcolor\":\"white\",\"linecolor\":\"white\",\"ticks\":\"\",\"title\":{\"standoff\":15},\"zerolinecolor\":\"white\",\"automargin\":true,\"zerolinewidth\":2},\"yaxis\":{\"gridcolor\":\"white\",\"linecolor\":\"white\",\"ticks\":\"\",\"title\":{\"standoff\":15},\"zerolinecolor\":\"white\",\"automargin\":true,\"zerolinewidth\":2},\"scene\":{\"xaxis\":{\"backgroundcolor\":\"#E5ECF6\",\"gridcolor\":\"white\",\"linecolor\":\"white\",\"showbackground\":true,\"ticks\":\"\",\"zerolinecolor\":\"white\",\"gridwidth\":2},\"yaxis\":{\"backgroundcolor\":\"#E5ECF6\",\"gridcolor\":\"white\",\"linecolor\":\"white\",\"showbackground\":true,\"ticks\":\"\",\"zerolinecolor\":\"white\",\"gridwidth\":2},\"zaxis\":{\"backgroundcolor\":\"#E5ECF6\",\"gridcolor\":\"white\",\"linecolor\":\"white\",\"showbackground\":true,\"ticks\":\"\",\"zerolinecolor\":\"white\",\"gridwidth\":2}},\"shapedefaults\":{\"line\":{\"color\":\"#2a3f5f\"}},\"annotationdefaults\":{\"arrowcolor\":\"#2a3f5f\",\"arrowhead\":0,\"arrowwidth\":1},\"geo\":{\"bgcolor\":\"white\",\"landcolor\":\"#E5ECF6\",\"subunitcolor\":\"white\",\"showland\":true,\"showlakes\":true,\"lakecolor\":\"white\"},\"title\":{\"x\":0.05},\"mapbox\":{\"style\":\"light\"}}}},                        {\"responsive\": true}                    ).then(function(){\n",
       "                            \n",
       "var gd = document.getElementById('d7c91020-0941-4624-9324-708f4053b289');\n",
       "var x = new MutationObserver(function (mutations, observer) {{\n",
       "        var display = window.getComputedStyle(gd).display;\n",
       "        if (!display || display === 'none') {{\n",
       "            console.log([gd, 'removed!']);\n",
       "            Plotly.purge(gd);\n",
       "            observer.disconnect();\n",
       "        }}\n",
       "}});\n",
       "\n",
       "// Listen for the removal of the full notebook cells\n",
       "var notebookContainer = gd.closest('#notebook-container');\n",
       "if (notebookContainer) {{\n",
       "    x.observe(notebookContainer, {childList: true});\n",
       "}}\n",
       "\n",
       "// Listen for the clearing of the current output cell\n",
       "var outputEl = gd.closest('.output');\n",
       "if (outputEl) {{\n",
       "    x.observe(outputEl, {childList: true});\n",
       "}}\n",
       "\n",
       "                        })                };                });            </script>        </div>"
      ]
     },
     "metadata": {},
     "output_type": "display_data"
    }
   ],
   "source": [
    "optuna.visualization.plot_optimization_history(study)"
   ]
  },
  {
   "cell_type": "code",
   "execution_count": 13,
   "id": "01416e59",
   "metadata": {},
   "outputs": [
    {
     "data": {
      "application/vnd.plotly.v1+json": {
       "config": {
        "plotlyServerURL": "https://plot.ly"
       },
       "data": [
        {
         "cliponaxis": false,
         "hovertemplate": [
          "grow_policy (CategoricalDistribution): 0.002393866566221352<extra></extra>",
          "od_type (CategoricalDistribution): 0.0033631929928629903<extra></extra>",
          "l2_leaf_reg (FloatDistribution): 0.011411663512364402<extra></extra>",
          "depth (IntDistribution): 0.0145740442548025<extra></extra>",
          "bootstrap_type (CategoricalDistribution): 0.03303739077519753<extra></extra>",
          "random_strength (FloatDistribution): 0.04850528449018212<extra></extra>",
          "od_wait (IntDistribution): 0.05019873369503276<extra></extra>",
          "colsample_bylevel (FloatDistribution): 0.3055438642441484<extra></extra>",
          "learning_rate (FloatDistribution): 0.5309719594691878<extra></extra>"
         ],
         "marker": {
          "color": "rgb(66,146,198)"
         },
         "orientation": "h",
         "text": [
          "<0.01",
          "<0.01",
          "0.01",
          "0.01",
          "0.03",
          "0.05",
          "0.05",
          "0.31",
          "0.53"
         ],
         "textposition": "outside",
         "type": "bar",
         "x": [
          0.002393866566221352,
          0.0033631929928629903,
          0.011411663512364402,
          0.0145740442548025,
          0.03303739077519753,
          0.04850528449018212,
          0.05019873369503276,
          0.3055438642441484,
          0.5309719594691878
         ],
         "y": [
          "grow_policy",
          "od_type",
          "l2_leaf_reg",
          "depth",
          "bootstrap_type",
          "random_strength",
          "od_wait",
          "colsample_bylevel",
          "learning_rate"
         ]
        }
       ],
       "layout": {
        "showlegend": false,
        "template": {
         "data": {
          "bar": [
           {
            "error_x": {
             "color": "#2a3f5f"
            },
            "error_y": {
             "color": "#2a3f5f"
            },
            "marker": {
             "line": {
              "color": "#E5ECF6",
              "width": 0.5
             },
             "pattern": {
              "fillmode": "overlay",
              "size": 10,
              "solidity": 0.2
             }
            },
            "type": "bar"
           }
          ],
          "barpolar": [
           {
            "marker": {
             "line": {
              "color": "#E5ECF6",
              "width": 0.5
             },
             "pattern": {
              "fillmode": "overlay",
              "size": 10,
              "solidity": 0.2
             }
            },
            "type": "barpolar"
           }
          ],
          "carpet": [
           {
            "aaxis": {
             "endlinecolor": "#2a3f5f",
             "gridcolor": "white",
             "linecolor": "white",
             "minorgridcolor": "white",
             "startlinecolor": "#2a3f5f"
            },
            "baxis": {
             "endlinecolor": "#2a3f5f",
             "gridcolor": "white",
             "linecolor": "white",
             "minorgridcolor": "white",
             "startlinecolor": "#2a3f5f"
            },
            "type": "carpet"
           }
          ],
          "choropleth": [
           {
            "colorbar": {
             "outlinewidth": 0,
             "ticks": ""
            },
            "type": "choropleth"
           }
          ],
          "contour": [
           {
            "colorbar": {
             "outlinewidth": 0,
             "ticks": ""
            },
            "colorscale": [
             [
              0,
              "#0d0887"
             ],
             [
              0.1111111111111111,
              "#46039f"
             ],
             [
              0.2222222222222222,
              "#7201a8"
             ],
             [
              0.3333333333333333,
              "#9c179e"
             ],
             [
              0.4444444444444444,
              "#bd3786"
             ],
             [
              0.5555555555555556,
              "#d8576b"
             ],
             [
              0.6666666666666666,
              "#ed7953"
             ],
             [
              0.7777777777777778,
              "#fb9f3a"
             ],
             [
              0.8888888888888888,
              "#fdca26"
             ],
             [
              1,
              "#f0f921"
             ]
            ],
            "type": "contour"
           }
          ],
          "contourcarpet": [
           {
            "colorbar": {
             "outlinewidth": 0,
             "ticks": ""
            },
            "type": "contourcarpet"
           }
          ],
          "heatmap": [
           {
            "colorbar": {
             "outlinewidth": 0,
             "ticks": ""
            },
            "colorscale": [
             [
              0,
              "#0d0887"
             ],
             [
              0.1111111111111111,
              "#46039f"
             ],
             [
              0.2222222222222222,
              "#7201a8"
             ],
             [
              0.3333333333333333,
              "#9c179e"
             ],
             [
              0.4444444444444444,
              "#bd3786"
             ],
             [
              0.5555555555555556,
              "#d8576b"
             ],
             [
              0.6666666666666666,
              "#ed7953"
             ],
             [
              0.7777777777777778,
              "#fb9f3a"
             ],
             [
              0.8888888888888888,
              "#fdca26"
             ],
             [
              1,
              "#f0f921"
             ]
            ],
            "type": "heatmap"
           }
          ],
          "heatmapgl": [
           {
            "colorbar": {
             "outlinewidth": 0,
             "ticks": ""
            },
            "colorscale": [
             [
              0,
              "#0d0887"
             ],
             [
              0.1111111111111111,
              "#46039f"
             ],
             [
              0.2222222222222222,
              "#7201a8"
             ],
             [
              0.3333333333333333,
              "#9c179e"
             ],
             [
              0.4444444444444444,
              "#bd3786"
             ],
             [
              0.5555555555555556,
              "#d8576b"
             ],
             [
              0.6666666666666666,
              "#ed7953"
             ],
             [
              0.7777777777777778,
              "#fb9f3a"
             ],
             [
              0.8888888888888888,
              "#fdca26"
             ],
             [
              1,
              "#f0f921"
             ]
            ],
            "type": "heatmapgl"
           }
          ],
          "histogram": [
           {
            "marker": {
             "pattern": {
              "fillmode": "overlay",
              "size": 10,
              "solidity": 0.2
             }
            },
            "type": "histogram"
           }
          ],
          "histogram2d": [
           {
            "colorbar": {
             "outlinewidth": 0,
             "ticks": ""
            },
            "colorscale": [
             [
              0,
              "#0d0887"
             ],
             [
              0.1111111111111111,
              "#46039f"
             ],
             [
              0.2222222222222222,
              "#7201a8"
             ],
             [
              0.3333333333333333,
              "#9c179e"
             ],
             [
              0.4444444444444444,
              "#bd3786"
             ],
             [
              0.5555555555555556,
              "#d8576b"
             ],
             [
              0.6666666666666666,
              "#ed7953"
             ],
             [
              0.7777777777777778,
              "#fb9f3a"
             ],
             [
              0.8888888888888888,
              "#fdca26"
             ],
             [
              1,
              "#f0f921"
             ]
            ],
            "type": "histogram2d"
           }
          ],
          "histogram2dcontour": [
           {
            "colorbar": {
             "outlinewidth": 0,
             "ticks": ""
            },
            "colorscale": [
             [
              0,
              "#0d0887"
             ],
             [
              0.1111111111111111,
              "#46039f"
             ],
             [
              0.2222222222222222,
              "#7201a8"
             ],
             [
              0.3333333333333333,
              "#9c179e"
             ],
             [
              0.4444444444444444,
              "#bd3786"
             ],
             [
              0.5555555555555556,
              "#d8576b"
             ],
             [
              0.6666666666666666,
              "#ed7953"
             ],
             [
              0.7777777777777778,
              "#fb9f3a"
             ],
             [
              0.8888888888888888,
              "#fdca26"
             ],
             [
              1,
              "#f0f921"
             ]
            ],
            "type": "histogram2dcontour"
           }
          ],
          "mesh3d": [
           {
            "colorbar": {
             "outlinewidth": 0,
             "ticks": ""
            },
            "type": "mesh3d"
           }
          ],
          "parcoords": [
           {
            "line": {
             "colorbar": {
              "outlinewidth": 0,
              "ticks": ""
             }
            },
            "type": "parcoords"
           }
          ],
          "pie": [
           {
            "automargin": true,
            "type": "pie"
           }
          ],
          "scatter": [
           {
            "fillpattern": {
             "fillmode": "overlay",
             "size": 10,
             "solidity": 0.2
            },
            "type": "scatter"
           }
          ],
          "scatter3d": [
           {
            "line": {
             "colorbar": {
              "outlinewidth": 0,
              "ticks": ""
             }
            },
            "marker": {
             "colorbar": {
              "outlinewidth": 0,
              "ticks": ""
             }
            },
            "type": "scatter3d"
           }
          ],
          "scattercarpet": [
           {
            "marker": {
             "colorbar": {
              "outlinewidth": 0,
              "ticks": ""
             }
            },
            "type": "scattercarpet"
           }
          ],
          "scattergeo": [
           {
            "marker": {
             "colorbar": {
              "outlinewidth": 0,
              "ticks": ""
             }
            },
            "type": "scattergeo"
           }
          ],
          "scattergl": [
           {
            "marker": {
             "colorbar": {
              "outlinewidth": 0,
              "ticks": ""
             }
            },
            "type": "scattergl"
           }
          ],
          "scattermapbox": [
           {
            "marker": {
             "colorbar": {
              "outlinewidth": 0,
              "ticks": ""
             }
            },
            "type": "scattermapbox"
           }
          ],
          "scatterpolar": [
           {
            "marker": {
             "colorbar": {
              "outlinewidth": 0,
              "ticks": ""
             }
            },
            "type": "scatterpolar"
           }
          ],
          "scatterpolargl": [
           {
            "marker": {
             "colorbar": {
              "outlinewidth": 0,
              "ticks": ""
             }
            },
            "type": "scatterpolargl"
           }
          ],
          "scatterternary": [
           {
            "marker": {
             "colorbar": {
              "outlinewidth": 0,
              "ticks": ""
             }
            },
            "type": "scatterternary"
           }
          ],
          "surface": [
           {
            "colorbar": {
             "outlinewidth": 0,
             "ticks": ""
            },
            "colorscale": [
             [
              0,
              "#0d0887"
             ],
             [
              0.1111111111111111,
              "#46039f"
             ],
             [
              0.2222222222222222,
              "#7201a8"
             ],
             [
              0.3333333333333333,
              "#9c179e"
             ],
             [
              0.4444444444444444,
              "#bd3786"
             ],
             [
              0.5555555555555556,
              "#d8576b"
             ],
             [
              0.6666666666666666,
              "#ed7953"
             ],
             [
              0.7777777777777778,
              "#fb9f3a"
             ],
             [
              0.8888888888888888,
              "#fdca26"
             ],
             [
              1,
              "#f0f921"
             ]
            ],
            "type": "surface"
           }
          ],
          "table": [
           {
            "cells": {
             "fill": {
              "color": "#EBF0F8"
             },
             "line": {
              "color": "white"
             }
            },
            "header": {
             "fill": {
              "color": "#C8D4E3"
             },
             "line": {
              "color": "white"
             }
            },
            "type": "table"
           }
          ]
         },
         "layout": {
          "annotationdefaults": {
           "arrowcolor": "#2a3f5f",
           "arrowhead": 0,
           "arrowwidth": 1
          },
          "autotypenumbers": "strict",
          "coloraxis": {
           "colorbar": {
            "outlinewidth": 0,
            "ticks": ""
           }
          },
          "colorscale": {
           "diverging": [
            [
             0,
             "#8e0152"
            ],
            [
             0.1,
             "#c51b7d"
            ],
            [
             0.2,
             "#de77ae"
            ],
            [
             0.3,
             "#f1b6da"
            ],
            [
             0.4,
             "#fde0ef"
            ],
            [
             0.5,
             "#f7f7f7"
            ],
            [
             0.6,
             "#e6f5d0"
            ],
            [
             0.7,
             "#b8e186"
            ],
            [
             0.8,
             "#7fbc41"
            ],
            [
             0.9,
             "#4d9221"
            ],
            [
             1,
             "#276419"
            ]
           ],
           "sequential": [
            [
             0,
             "#0d0887"
            ],
            [
             0.1111111111111111,
             "#46039f"
            ],
            [
             0.2222222222222222,
             "#7201a8"
            ],
            [
             0.3333333333333333,
             "#9c179e"
            ],
            [
             0.4444444444444444,
             "#bd3786"
            ],
            [
             0.5555555555555556,
             "#d8576b"
            ],
            [
             0.6666666666666666,
             "#ed7953"
            ],
            [
             0.7777777777777778,
             "#fb9f3a"
            ],
            [
             0.8888888888888888,
             "#fdca26"
            ],
            [
             1,
             "#f0f921"
            ]
           ],
           "sequentialminus": [
            [
             0,
             "#0d0887"
            ],
            [
             0.1111111111111111,
             "#46039f"
            ],
            [
             0.2222222222222222,
             "#7201a8"
            ],
            [
             0.3333333333333333,
             "#9c179e"
            ],
            [
             0.4444444444444444,
             "#bd3786"
            ],
            [
             0.5555555555555556,
             "#d8576b"
            ],
            [
             0.6666666666666666,
             "#ed7953"
            ],
            [
             0.7777777777777778,
             "#fb9f3a"
            ],
            [
             0.8888888888888888,
             "#fdca26"
            ],
            [
             1,
             "#f0f921"
            ]
           ]
          },
          "colorway": [
           "#636efa",
           "#EF553B",
           "#00cc96",
           "#ab63fa",
           "#FFA15A",
           "#19d3f3",
           "#FF6692",
           "#B6E880",
           "#FF97FF",
           "#FECB52"
          ],
          "font": {
           "color": "#2a3f5f"
          },
          "geo": {
           "bgcolor": "white",
           "lakecolor": "white",
           "landcolor": "#E5ECF6",
           "showlakes": true,
           "showland": true,
           "subunitcolor": "white"
          },
          "hoverlabel": {
           "align": "left"
          },
          "hovermode": "closest",
          "mapbox": {
           "style": "light"
          },
          "paper_bgcolor": "white",
          "plot_bgcolor": "#E5ECF6",
          "polar": {
           "angularaxis": {
            "gridcolor": "white",
            "linecolor": "white",
            "ticks": ""
           },
           "bgcolor": "#E5ECF6",
           "radialaxis": {
            "gridcolor": "white",
            "linecolor": "white",
            "ticks": ""
           }
          },
          "scene": {
           "xaxis": {
            "backgroundcolor": "#E5ECF6",
            "gridcolor": "white",
            "gridwidth": 2,
            "linecolor": "white",
            "showbackground": true,
            "ticks": "",
            "zerolinecolor": "white"
           },
           "yaxis": {
            "backgroundcolor": "#E5ECF6",
            "gridcolor": "white",
            "gridwidth": 2,
            "linecolor": "white",
            "showbackground": true,
            "ticks": "",
            "zerolinecolor": "white"
           },
           "zaxis": {
            "backgroundcolor": "#E5ECF6",
            "gridcolor": "white",
            "gridwidth": 2,
            "linecolor": "white",
            "showbackground": true,
            "ticks": "",
            "zerolinecolor": "white"
           }
          },
          "shapedefaults": {
           "line": {
            "color": "#2a3f5f"
           }
          },
          "ternary": {
           "aaxis": {
            "gridcolor": "white",
            "linecolor": "white",
            "ticks": ""
           },
           "baxis": {
            "gridcolor": "white",
            "linecolor": "white",
            "ticks": ""
           },
           "bgcolor": "#E5ECF6",
           "caxis": {
            "gridcolor": "white",
            "linecolor": "white",
            "ticks": ""
           }
          },
          "title": {
           "x": 0.05
          },
          "xaxis": {
           "automargin": true,
           "gridcolor": "white",
           "linecolor": "white",
           "ticks": "",
           "title": {
            "standoff": 15
           },
           "zerolinecolor": "white",
           "zerolinewidth": 2
          },
          "yaxis": {
           "automargin": true,
           "gridcolor": "white",
           "linecolor": "white",
           "ticks": "",
           "title": {
            "standoff": 15
           },
           "zerolinecolor": "white",
           "zerolinewidth": 2
          }
         }
        },
        "title": {
         "text": "Hyperparameter Importances"
        },
        "xaxis": {
         "title": {
          "text": "Importance for Objective Value"
         }
        },
        "yaxis": {
         "title": {
          "text": "Hyperparameter"
         }
        }
       }
      },
      "text/html": [
       "<div>                            <div id=\"c58643d4-308b-4ce3-aeef-5f8dc7ae1301\" class=\"plotly-graph-div\" style=\"height:525px; width:100%;\"></div>            <script type=\"text/javascript\">                require([\"plotly\"], function(Plotly) {                    window.PLOTLYENV=window.PLOTLYENV || {};                                    if (document.getElementById(\"c58643d4-308b-4ce3-aeef-5f8dc7ae1301\")) {                    Plotly.newPlot(                        \"c58643d4-308b-4ce3-aeef-5f8dc7ae1301\",                        [{\"cliponaxis\":false,\"hovertemplate\":[\"grow_policy (CategoricalDistribution): 0.002393866566221352<extra></extra>\",\"od_type (CategoricalDistribution): 0.0033631929928629903<extra></extra>\",\"l2_leaf_reg (FloatDistribution): 0.011411663512364402<extra></extra>\",\"depth (IntDistribution): 0.0145740442548025<extra></extra>\",\"bootstrap_type (CategoricalDistribution): 0.03303739077519753<extra></extra>\",\"random_strength (FloatDistribution): 0.04850528449018212<extra></extra>\",\"od_wait (IntDistribution): 0.05019873369503276<extra></extra>\",\"colsample_bylevel (FloatDistribution): 0.3055438642441484<extra></extra>\",\"learning_rate (FloatDistribution): 0.5309719594691878<extra></extra>\"],\"marker\":{\"color\":\"rgb(66,146,198)\"},\"orientation\":\"h\",\"text\":[\"<0.01\",\"<0.01\",\"0.01\",\"0.01\",\"0.03\",\"0.05\",\"0.05\",\"0.31\",\"0.53\"],\"textposition\":\"outside\",\"x\":[0.002393866566221352,0.0033631929928629903,0.011411663512364402,0.0145740442548025,0.03303739077519753,0.04850528449018212,0.05019873369503276,0.3055438642441484,0.5309719594691878],\"y\":[\"grow_policy\",\"od_type\",\"l2_leaf_reg\",\"depth\",\"bootstrap_type\",\"random_strength\",\"od_wait\",\"colsample_bylevel\",\"learning_rate\"],\"type\":\"bar\"}],                        {\"showlegend\":false,\"title\":{\"text\":\"Hyperparameter Importances\"},\"xaxis\":{\"title\":{\"text\":\"Importance for Objective Value\"}},\"yaxis\":{\"title\":{\"text\":\"Hyperparameter\"}},\"template\":{\"data\":{\"histogram2dcontour\":[{\"type\":\"histogram2dcontour\",\"colorbar\":{\"outlinewidth\":0,\"ticks\":\"\"},\"colorscale\":[[0.0,\"#0d0887\"],[0.1111111111111111,\"#46039f\"],[0.2222222222222222,\"#7201a8\"],[0.3333333333333333,\"#9c179e\"],[0.4444444444444444,\"#bd3786\"],[0.5555555555555556,\"#d8576b\"],[0.6666666666666666,\"#ed7953\"],[0.7777777777777778,\"#fb9f3a\"],[0.8888888888888888,\"#fdca26\"],[1.0,\"#f0f921\"]]}],\"choropleth\":[{\"type\":\"choropleth\",\"colorbar\":{\"outlinewidth\":0,\"ticks\":\"\"}}],\"histogram2d\":[{\"type\":\"histogram2d\",\"colorbar\":{\"outlinewidth\":0,\"ticks\":\"\"},\"colorscale\":[[0.0,\"#0d0887\"],[0.1111111111111111,\"#46039f\"],[0.2222222222222222,\"#7201a8\"],[0.3333333333333333,\"#9c179e\"],[0.4444444444444444,\"#bd3786\"],[0.5555555555555556,\"#d8576b\"],[0.6666666666666666,\"#ed7953\"],[0.7777777777777778,\"#fb9f3a\"],[0.8888888888888888,\"#fdca26\"],[1.0,\"#f0f921\"]]}],\"heatmap\":[{\"type\":\"heatmap\",\"colorbar\":{\"outlinewidth\":0,\"ticks\":\"\"},\"colorscale\":[[0.0,\"#0d0887\"],[0.1111111111111111,\"#46039f\"],[0.2222222222222222,\"#7201a8\"],[0.3333333333333333,\"#9c179e\"],[0.4444444444444444,\"#bd3786\"],[0.5555555555555556,\"#d8576b\"],[0.6666666666666666,\"#ed7953\"],[0.7777777777777778,\"#fb9f3a\"],[0.8888888888888888,\"#fdca26\"],[1.0,\"#f0f921\"]]}],\"heatmapgl\":[{\"type\":\"heatmapgl\",\"colorbar\":{\"outlinewidth\":0,\"ticks\":\"\"},\"colorscale\":[[0.0,\"#0d0887\"],[0.1111111111111111,\"#46039f\"],[0.2222222222222222,\"#7201a8\"],[0.3333333333333333,\"#9c179e\"],[0.4444444444444444,\"#bd3786\"],[0.5555555555555556,\"#d8576b\"],[0.6666666666666666,\"#ed7953\"],[0.7777777777777778,\"#fb9f3a\"],[0.8888888888888888,\"#fdca26\"],[1.0,\"#f0f921\"]]}],\"contourcarpet\":[{\"type\":\"contourcarpet\",\"colorbar\":{\"outlinewidth\":0,\"ticks\":\"\"}}],\"contour\":[{\"type\":\"contour\",\"colorbar\":{\"outlinewidth\":0,\"ticks\":\"\"},\"colorscale\":[[0.0,\"#0d0887\"],[0.1111111111111111,\"#46039f\"],[0.2222222222222222,\"#7201a8\"],[0.3333333333333333,\"#9c179e\"],[0.4444444444444444,\"#bd3786\"],[0.5555555555555556,\"#d8576b\"],[0.6666666666666666,\"#ed7953\"],[0.7777777777777778,\"#fb9f3a\"],[0.8888888888888888,\"#fdca26\"],[1.0,\"#f0f921\"]]}],\"surface\":[{\"type\":\"surface\",\"colorbar\":{\"outlinewidth\":0,\"ticks\":\"\"},\"colorscale\":[[0.0,\"#0d0887\"],[0.1111111111111111,\"#46039f\"],[0.2222222222222222,\"#7201a8\"],[0.3333333333333333,\"#9c179e\"],[0.4444444444444444,\"#bd3786\"],[0.5555555555555556,\"#d8576b\"],[0.6666666666666666,\"#ed7953\"],[0.7777777777777778,\"#fb9f3a\"],[0.8888888888888888,\"#fdca26\"],[1.0,\"#f0f921\"]]}],\"mesh3d\":[{\"type\":\"mesh3d\",\"colorbar\":{\"outlinewidth\":0,\"ticks\":\"\"}}],\"scatter\":[{\"fillpattern\":{\"fillmode\":\"overlay\",\"size\":10,\"solidity\":0.2},\"type\":\"scatter\"}],\"parcoords\":[{\"type\":\"parcoords\",\"line\":{\"colorbar\":{\"outlinewidth\":0,\"ticks\":\"\"}}}],\"scatterpolargl\":[{\"type\":\"scatterpolargl\",\"marker\":{\"colorbar\":{\"outlinewidth\":0,\"ticks\":\"\"}}}],\"bar\":[{\"error_x\":{\"color\":\"#2a3f5f\"},\"error_y\":{\"color\":\"#2a3f5f\"},\"marker\":{\"line\":{\"color\":\"#E5ECF6\",\"width\":0.5},\"pattern\":{\"fillmode\":\"overlay\",\"size\":10,\"solidity\":0.2}},\"type\":\"bar\"}],\"scattergeo\":[{\"type\":\"scattergeo\",\"marker\":{\"colorbar\":{\"outlinewidth\":0,\"ticks\":\"\"}}}],\"scatterpolar\":[{\"type\":\"scatterpolar\",\"marker\":{\"colorbar\":{\"outlinewidth\":0,\"ticks\":\"\"}}}],\"histogram\":[{\"marker\":{\"pattern\":{\"fillmode\":\"overlay\",\"size\":10,\"solidity\":0.2}},\"type\":\"histogram\"}],\"scattergl\":[{\"type\":\"scattergl\",\"marker\":{\"colorbar\":{\"outlinewidth\":0,\"ticks\":\"\"}}}],\"scatter3d\":[{\"type\":\"scatter3d\",\"line\":{\"colorbar\":{\"outlinewidth\":0,\"ticks\":\"\"}},\"marker\":{\"colorbar\":{\"outlinewidth\":0,\"ticks\":\"\"}}}],\"scattermapbox\":[{\"type\":\"scattermapbox\",\"marker\":{\"colorbar\":{\"outlinewidth\":0,\"ticks\":\"\"}}}],\"scatterternary\":[{\"type\":\"scatterternary\",\"marker\":{\"colorbar\":{\"outlinewidth\":0,\"ticks\":\"\"}}}],\"scattercarpet\":[{\"type\":\"scattercarpet\",\"marker\":{\"colorbar\":{\"outlinewidth\":0,\"ticks\":\"\"}}}],\"carpet\":[{\"aaxis\":{\"endlinecolor\":\"#2a3f5f\",\"gridcolor\":\"white\",\"linecolor\":\"white\",\"minorgridcolor\":\"white\",\"startlinecolor\":\"#2a3f5f\"},\"baxis\":{\"endlinecolor\":\"#2a3f5f\",\"gridcolor\":\"white\",\"linecolor\":\"white\",\"minorgridcolor\":\"white\",\"startlinecolor\":\"#2a3f5f\"},\"type\":\"carpet\"}],\"table\":[{\"cells\":{\"fill\":{\"color\":\"#EBF0F8\"},\"line\":{\"color\":\"white\"}},\"header\":{\"fill\":{\"color\":\"#C8D4E3\"},\"line\":{\"color\":\"white\"}},\"type\":\"table\"}],\"barpolar\":[{\"marker\":{\"line\":{\"color\":\"#E5ECF6\",\"width\":0.5},\"pattern\":{\"fillmode\":\"overlay\",\"size\":10,\"solidity\":0.2}},\"type\":\"barpolar\"}],\"pie\":[{\"automargin\":true,\"type\":\"pie\"}]},\"layout\":{\"autotypenumbers\":\"strict\",\"colorway\":[\"#636efa\",\"#EF553B\",\"#00cc96\",\"#ab63fa\",\"#FFA15A\",\"#19d3f3\",\"#FF6692\",\"#B6E880\",\"#FF97FF\",\"#FECB52\"],\"font\":{\"color\":\"#2a3f5f\"},\"hovermode\":\"closest\",\"hoverlabel\":{\"align\":\"left\"},\"paper_bgcolor\":\"white\",\"plot_bgcolor\":\"#E5ECF6\",\"polar\":{\"bgcolor\":\"#E5ECF6\",\"angularaxis\":{\"gridcolor\":\"white\",\"linecolor\":\"white\",\"ticks\":\"\"},\"radialaxis\":{\"gridcolor\":\"white\",\"linecolor\":\"white\",\"ticks\":\"\"}},\"ternary\":{\"bgcolor\":\"#E5ECF6\",\"aaxis\":{\"gridcolor\":\"white\",\"linecolor\":\"white\",\"ticks\":\"\"},\"baxis\":{\"gridcolor\":\"white\",\"linecolor\":\"white\",\"ticks\":\"\"},\"caxis\":{\"gridcolor\":\"white\",\"linecolor\":\"white\",\"ticks\":\"\"}},\"coloraxis\":{\"colorbar\":{\"outlinewidth\":0,\"ticks\":\"\"}},\"colorscale\":{\"sequential\":[[0.0,\"#0d0887\"],[0.1111111111111111,\"#46039f\"],[0.2222222222222222,\"#7201a8\"],[0.3333333333333333,\"#9c179e\"],[0.4444444444444444,\"#bd3786\"],[0.5555555555555556,\"#d8576b\"],[0.6666666666666666,\"#ed7953\"],[0.7777777777777778,\"#fb9f3a\"],[0.8888888888888888,\"#fdca26\"],[1.0,\"#f0f921\"]],\"sequentialminus\":[[0.0,\"#0d0887\"],[0.1111111111111111,\"#46039f\"],[0.2222222222222222,\"#7201a8\"],[0.3333333333333333,\"#9c179e\"],[0.4444444444444444,\"#bd3786\"],[0.5555555555555556,\"#d8576b\"],[0.6666666666666666,\"#ed7953\"],[0.7777777777777778,\"#fb9f3a\"],[0.8888888888888888,\"#fdca26\"],[1.0,\"#f0f921\"]],\"diverging\":[[0,\"#8e0152\"],[0.1,\"#c51b7d\"],[0.2,\"#de77ae\"],[0.3,\"#f1b6da\"],[0.4,\"#fde0ef\"],[0.5,\"#f7f7f7\"],[0.6,\"#e6f5d0\"],[0.7,\"#b8e186\"],[0.8,\"#7fbc41\"],[0.9,\"#4d9221\"],[1,\"#276419\"]]},\"xaxis\":{\"gridcolor\":\"white\",\"linecolor\":\"white\",\"ticks\":\"\",\"title\":{\"standoff\":15},\"zerolinecolor\":\"white\",\"automargin\":true,\"zerolinewidth\":2},\"yaxis\":{\"gridcolor\":\"white\",\"linecolor\":\"white\",\"ticks\":\"\",\"title\":{\"standoff\":15},\"zerolinecolor\":\"white\",\"automargin\":true,\"zerolinewidth\":2},\"scene\":{\"xaxis\":{\"backgroundcolor\":\"#E5ECF6\",\"gridcolor\":\"white\",\"linecolor\":\"white\",\"showbackground\":true,\"ticks\":\"\",\"zerolinecolor\":\"white\",\"gridwidth\":2},\"yaxis\":{\"backgroundcolor\":\"#E5ECF6\",\"gridcolor\":\"white\",\"linecolor\":\"white\",\"showbackground\":true,\"ticks\":\"\",\"zerolinecolor\":\"white\",\"gridwidth\":2},\"zaxis\":{\"backgroundcolor\":\"#E5ECF6\",\"gridcolor\":\"white\",\"linecolor\":\"white\",\"showbackground\":true,\"ticks\":\"\",\"zerolinecolor\":\"white\",\"gridwidth\":2}},\"shapedefaults\":{\"line\":{\"color\":\"#2a3f5f\"}},\"annotationdefaults\":{\"arrowcolor\":\"#2a3f5f\",\"arrowhead\":0,\"arrowwidth\":1},\"geo\":{\"bgcolor\":\"white\",\"landcolor\":\"#E5ECF6\",\"subunitcolor\":\"white\",\"showland\":true,\"showlakes\":true,\"lakecolor\":\"white\"},\"title\":{\"x\":0.05},\"mapbox\":{\"style\":\"light\"}}}},                        {\"responsive\": true}                    ).then(function(){\n",
       "                            \n",
       "var gd = document.getElementById('c58643d4-308b-4ce3-aeef-5f8dc7ae1301');\n",
       "var x = new MutationObserver(function (mutations, observer) {{\n",
       "        var display = window.getComputedStyle(gd).display;\n",
       "        if (!display || display === 'none') {{\n",
       "            console.log([gd, 'removed!']);\n",
       "            Plotly.purge(gd);\n",
       "            observer.disconnect();\n",
       "        }}\n",
       "}});\n",
       "\n",
       "// Listen for the removal of the full notebook cells\n",
       "var notebookContainer = gd.closest('#notebook-container');\n",
       "if (notebookContainer) {{\n",
       "    x.observe(notebookContainer, {childList: true});\n",
       "}}\n",
       "\n",
       "// Listen for the clearing of the current output cell\n",
       "var outputEl = gd.closest('.output');\n",
       "if (outputEl) {{\n",
       "    x.observe(outputEl, {childList: true});\n",
       "}}\n",
       "\n",
       "                        })                };                });            </script>        </div>"
      ]
     },
     "metadata": {},
     "output_type": "display_data"
    }
   ],
   "source": [
    "optuna.visualization.plot_param_importances(study)"
   ]
  },
  {
   "cell_type": "code",
   "execution_count": 131,
   "id": "dd215047",
   "metadata": {},
   "outputs": [
    {
     "data": {
      "application/vnd.plotly.v1+json": {
       "config": {
        "plotlyServerURL": "https://plot.ly"
       },
       "data": [
        {
         "marker": {
          "color": [
           2,
           3,
           4,
           7,
           8
          ],
          "colorbar": {
           "title": {
            "text": "Trial"
           },
           "x": 1,
           "xpad": 40
          },
          "colorscale": [
           [
            0,
            "rgb(247,251,255)"
           ],
           [
            0.125,
            "rgb(222,235,247)"
           ],
           [
            0.25,
            "rgb(198,219,239)"
           ],
           [
            0.375,
            "rgb(158,202,225)"
           ],
           [
            0.5,
            "rgb(107,174,214)"
           ],
           [
            0.625,
            "rgb(66,146,198)"
           ],
           [
            0.75,
            "rgb(33,113,181)"
           ],
           [
            0.875,
            "rgb(8,81,156)"
           ],
           [
            1,
            "rgb(8,48,107)"
           ]
          ],
          "line": {
           "color": "Grey",
           "width": 0.5
          },
          "showscale": true
         },
         "mode": "markers",
         "showlegend": false,
         "type": "scatter",
         "x": [
          7.971655430005543,
          9.345279284489473,
          9.026749085556284,
          8.057428498518957,
          3.8913145110654
         ],
         "xaxis": "x",
         "y": [
          -0.1637544042573469,
          -0.07869794425282932,
          -0.11411209862021676,
          -0.10221889805786487,
          -0.09535196314724644
         ],
         "yaxis": "y"
        },
        {
         "marker": {
          "color": [
           0,
           1,
           2,
           3,
           4,
           5,
           6,
           7,
           8,
           9
          ],
          "colorbar": {
           "title": {
            "text": "Trial"
           },
           "x": 1,
           "xpad": 40
          },
          "colorscale": [
           [
            0,
            "rgb(247,251,255)"
           ],
           [
            0.125,
            "rgb(222,235,247)"
           ],
           [
            0.25,
            "rgb(198,219,239)"
           ],
           [
            0.375,
            "rgb(158,202,225)"
           ],
           [
            0.5,
            "rgb(107,174,214)"
           ],
           [
            0.625,
            "rgb(66,146,198)"
           ],
           [
            0.75,
            "rgb(33,113,181)"
           ],
           [
            0.875,
            "rgb(8,81,156)"
           ],
           [
            1,
            "rgb(8,48,107)"
           ]
          ],
          "line": {
           "color": "Grey",
           "width": 0.5
          },
          "showscale": false
         },
         "mode": "markers",
         "showlegend": false,
         "type": "scatter",
         "x": [
          "MVS",
          "MVS",
          "Bayesian",
          "Bayesian",
          "Bayesian",
          "MVS",
          "Bernoulli",
          "Bayesian",
          "Bayesian",
          "Bernoulli"
         ],
         "xaxis": "x2",
         "y": [
          -0.15350077860286063,
          -0.11872970469617403,
          -0.1637544042573469,
          -0.07869794425282932,
          -0.11411209862021676,
          -0.13111775732515923,
          -0.18251286931806673,
          -0.10221889805786487,
          -0.09535196314724644,
          -0.08771980443530215
         ],
         "yaxis": "y2"
        },
        {
         "marker": {
          "color": [
           0,
           1,
           2,
           3,
           4,
           5,
           6,
           7,
           8,
           9
          ],
          "colorbar": {
           "title": {
            "text": "Trial"
           },
           "x": 1,
           "xpad": 40
          },
          "colorscale": [
           [
            0,
            "rgb(247,251,255)"
           ],
           [
            0.125,
            "rgb(222,235,247)"
           ],
           [
            0.25,
            "rgb(198,219,239)"
           ],
           [
            0.375,
            "rgb(158,202,225)"
           ],
           [
            0.5,
            "rgb(107,174,214)"
           ],
           [
            0.625,
            "rgb(66,146,198)"
           ],
           [
            0.75,
            "rgb(33,113,181)"
           ],
           [
            0.875,
            "rgb(8,81,156)"
           ],
           [
            1,
            "rgb(8,48,107)"
           ]
          ],
          "line": {
           "color": "Grey",
           "width": 0.5
          },
          "showscale": false
         },
         "mode": "markers",
         "showlegend": false,
         "type": "scatter",
         "x": [
          0.017758256783472776,
          0.02441418684009092,
          0.0641228516461588,
          0.06708416777430125,
          0.08864214537855278,
          0.04300616827051409,
          0.07309125196390603,
          0.023496918270929545,
          0.034952554428043896,
          0.02607516183054433
         ],
         "xaxis": "x3",
         "y": [
          -0.15350077860286063,
          -0.11872970469617403,
          -0.1637544042573469,
          -0.07869794425282932,
          -0.11411209862021676,
          -0.13111775732515923,
          -0.18251286931806673,
          -0.10221889805786487,
          -0.09535196314724644,
          -0.08771980443530215
         ],
         "yaxis": "y3"
        },
        {
         "marker": {
          "color": [
           0,
           1,
           2,
           3,
           4,
           5,
           6,
           7,
           8,
           9
          ],
          "colorbar": {
           "title": {
            "text": "Trial"
           },
           "x": 1,
           "xpad": 40
          },
          "colorscale": [
           [
            0,
            "rgb(247,251,255)"
           ],
           [
            0.125,
            "rgb(222,235,247)"
           ],
           [
            0.25,
            "rgb(198,219,239)"
           ],
           [
            0.375,
            "rgb(158,202,225)"
           ],
           [
            0.5,
            "rgb(107,174,214)"
           ],
           [
            0.625,
            "rgb(66,146,198)"
           ],
           [
            0.75,
            "rgb(33,113,181)"
           ],
           [
            0.875,
            "rgb(8,81,156)"
           ],
           [
            1,
            "rgb(8,48,107)"
           ]
          ],
          "line": {
           "color": "Grey",
           "width": 0.5
          },
          "showscale": false
         },
         "mode": "markers",
         "showlegend": false,
         "type": "scatter",
         "x": [
          2,
          8,
          9,
          2,
          12,
          6,
          12,
          3,
          10,
          12
         ],
         "xaxis": "x4",
         "y": [
          -0.15350077860286063,
          -0.11872970469617403,
          -0.1637544042573469,
          -0.07869794425282932,
          -0.11411209862021676,
          -0.13111775732515923,
          -0.18251286931806673,
          -0.10221889805786487,
          -0.09535196314724644,
          -0.08771980443530215
         ],
         "yaxis": "y4"
        },
        {
         "marker": {
          "color": [
           0,
           1,
           2,
           3,
           4,
           5,
           6,
           7,
           8,
           9
          ],
          "colorbar": {
           "title": {
            "text": "Trial"
           },
           "x": 1,
           "xpad": 40
          },
          "colorscale": [
           [
            0,
            "rgb(247,251,255)"
           ],
           [
            0.125,
            "rgb(222,235,247)"
           ],
           [
            0.25,
            "rgb(198,219,239)"
           ],
           [
            0.375,
            "rgb(158,202,225)"
           ],
           [
            0.5,
            "rgb(107,174,214)"
           ],
           [
            0.625,
            "rgb(66,146,198)"
           ],
           [
            0.75,
            "rgb(33,113,181)"
           ],
           [
            0.875,
            "rgb(8,81,156)"
           ],
           [
            1,
            "rgb(8,48,107)"
           ]
          ],
          "line": {
           "color": "Grey",
           "width": 0.5
          },
          "showscale": false
         },
         "mode": "markers",
         "showlegend": false,
         "type": "scatter",
         "x": [
          "Lossguide",
          "SymmetricTree",
          "Depthwise",
          "Lossguide",
          "SymmetricTree",
          "Lossguide",
          "SymmetricTree",
          "Depthwise",
          "SymmetricTree",
          "Depthwise"
         ],
         "xaxis": "x5",
         "y": [
          -0.15350077860286063,
          -0.11872970469617403,
          -0.1637544042573469,
          -0.07869794425282932,
          -0.11411209862021676,
          -0.13111775732515923,
          -0.18251286931806673,
          -0.10221889805786487,
          -0.09535196314724644,
          -0.08771980443530215
         ],
         "yaxis": "y5"
        },
        {
         "marker": {
          "color": [
           0,
           1,
           2,
           3,
           4,
           5,
           6,
           7,
           8,
           9
          ],
          "colorbar": {
           "title": {
            "text": "Trial"
           },
           "x": 1,
           "xpad": 40
          },
          "colorscale": [
           [
            0,
            "rgb(247,251,255)"
           ],
           [
            0.125,
            "rgb(222,235,247)"
           ],
           [
            0.25,
            "rgb(198,219,239)"
           ],
           [
            0.375,
            "rgb(158,202,225)"
           ],
           [
            0.5,
            "rgb(107,174,214)"
           ],
           [
            0.625,
            "rgb(66,146,198)"
           ],
           [
            0.75,
            "rgb(33,113,181)"
           ],
           [
            0.875,
            "rgb(8,81,156)"
           ],
           [
            1,
            "rgb(8,48,107)"
           ]
          ],
          "line": {
           "color": "Grey",
           "width": 0.5
          },
          "showscale": false
         },
         "mode": "markers",
         "showlegend": false,
         "type": "scatter",
         "x": [
          0.0002507551602164638,
          3.3936569825642224e-06,
          0.00011290522952662143,
          14.45353438836987,
          0.9093805256135682,
          3.0029161273696226e-07,
          15.962260687474052,
          3.845183695664889e-05,
          82.1047243093768,
          11.470460223772522
         ],
         "xaxis": "x6",
         "y": [
          -0.15350077860286063,
          -0.11872970469617403,
          -0.1637544042573469,
          -0.07869794425282932,
          -0.11411209862021676,
          -0.13111775732515923,
          -0.18251286931806673,
          -0.10221889805786487,
          -0.09535196314724644,
          -0.08771980443530215
         ],
         "yaxis": "y6"
        },
        {
         "marker": {
          "color": [
           0,
           1,
           2,
           3,
           4,
           5,
           6,
           7,
           8,
           9
          ],
          "colorbar": {
           "title": {
            "text": "Trial"
           },
           "x": 1,
           "xpad": 40
          },
          "colorscale": [
           [
            0,
            "rgb(247,251,255)"
           ],
           [
            0.125,
            "rgb(222,235,247)"
           ],
           [
            0.25,
            "rgb(198,219,239)"
           ],
           [
            0.375,
            "rgb(158,202,225)"
           ],
           [
            0.5,
            "rgb(107,174,214)"
           ],
           [
            0.625,
            "rgb(66,146,198)"
           ],
           [
            0.75,
            "rgb(33,113,181)"
           ],
           [
            0.875,
            "rgb(8,81,156)"
           ],
           [
            1,
            "rgb(8,48,107)"
           ]
          ],
          "line": {
           "color": "Grey",
           "width": 0.5
          },
          "showscale": false
         },
         "mode": "markers",
         "showlegend": false,
         "type": "scatter",
         "x": [
          0.011734435669307746,
          0.03236749085546712,
          0.711634550310974,
          0.22343612358058257,
          0.0221420939650127,
          0.06382427812646875,
          0.0031025710709128417,
          0.2044438999177395,
          0.21721911602115418,
          0.13759675204853164
         ],
         "xaxis": "x7",
         "y": [
          -0.15350077860286063,
          -0.11872970469617403,
          -0.1637544042573469,
          -0.07869794425282932,
          -0.11411209862021676,
          -0.13111775732515923,
          -0.18251286931806673,
          -0.10221889805786487,
          -0.09535196314724644,
          -0.08771980443530215
         ],
         "yaxis": "y7"
        },
        {
         "marker": {
          "color": [
           0,
           1,
           2,
           3,
           4,
           5,
           6,
           7,
           8,
           9
          ],
          "colorbar": {
           "title": {
            "text": "Trial"
           },
           "x": 1,
           "xpad": 40
          },
          "colorscale": [
           [
            0,
            "rgb(247,251,255)"
           ],
           [
            0.125,
            "rgb(222,235,247)"
           ],
           [
            0.25,
            "rgb(198,219,239)"
           ],
           [
            0.375,
            "rgb(158,202,225)"
           ],
           [
            0.5,
            "rgb(107,174,214)"
           ],
           [
            0.625,
            "rgb(66,146,198)"
           ],
           [
            0.75,
            "rgb(33,113,181)"
           ],
           [
            0.875,
            "rgb(8,81,156)"
           ],
           [
            1,
            "rgb(8,48,107)"
           ]
          ],
          "line": {
           "color": "Grey",
           "width": 0.5
          },
          "showscale": false
         },
         "mode": "markers",
         "showlegend": false,
         "type": "scatter",
         "x": [
          "Iter",
          "Iter",
          "IncToDec",
          "Iter",
          "IncToDec",
          "IncToDec",
          "IncToDec",
          "IncToDec",
          "IncToDec",
          "Iter"
         ],
         "xaxis": "x8",
         "y": [
          -0.15350077860286063,
          -0.11872970469617403,
          -0.1637544042573469,
          -0.07869794425282932,
          -0.11411209862021676,
          -0.13111775732515923,
          -0.18251286931806673,
          -0.10221889805786487,
          -0.09535196314724644,
          -0.08771980443530215
         ],
         "yaxis": "y8"
        },
        {
         "marker": {
          "color": [
           0,
           1,
           2,
           3,
           4,
           5,
           6,
           7,
           8,
           9
          ],
          "colorbar": {
           "title": {
            "text": "Trial"
           },
           "x": 1,
           "xpad": 40
          },
          "colorscale": [
           [
            0,
            "rgb(247,251,255)"
           ],
           [
            0.125,
            "rgb(222,235,247)"
           ],
           [
            0.25,
            "rgb(198,219,239)"
           ],
           [
            0.375,
            "rgb(158,202,225)"
           ],
           [
            0.5,
            "rgb(107,174,214)"
           ],
           [
            0.625,
            "rgb(66,146,198)"
           ],
           [
            0.75,
            "rgb(33,113,181)"
           ],
           [
            0.875,
            "rgb(8,81,156)"
           ],
           [
            1,
            "rgb(8,48,107)"
           ]
          ],
          "line": {
           "color": "Grey",
           "width": 0.5
          },
          "showscale": false
         },
         "mode": "markers",
         "showlegend": false,
         "type": "scatter",
         "x": [
          50,
          16,
          50,
          42,
          46,
          23,
          45,
          32,
          30,
          47
         ],
         "xaxis": "x9",
         "y": [
          -0.15350077860286063,
          -0.11872970469617403,
          -0.1637544042573469,
          -0.07869794425282932,
          -0.11411209862021676,
          -0.13111775732515923,
          -0.18251286931806673,
          -0.10221889805786487,
          -0.09535196314724644,
          -0.08771980443530215
         ],
         "yaxis": "y9"
        },
        {
         "marker": {
          "color": [
           0,
           1,
           2,
           3,
           4,
           5,
           6,
           7,
           8,
           9
          ],
          "colorbar": {
           "title": {
            "text": "Trial"
           },
           "x": 1,
           "xpad": 40
          },
          "colorscale": [
           [
            0,
            "rgb(247,251,255)"
           ],
           [
            0.125,
            "rgb(222,235,247)"
           ],
           [
            0.25,
            "rgb(198,219,239)"
           ],
           [
            0.375,
            "rgb(158,202,225)"
           ],
           [
            0.5,
            "rgb(107,174,214)"
           ],
           [
            0.625,
            "rgb(66,146,198)"
           ],
           [
            0.75,
            "rgb(33,113,181)"
           ],
           [
            0.875,
            "rgb(8,81,156)"
           ],
           [
            1,
            "rgb(8,48,107)"
           ]
          ],
          "line": {
           "color": "Grey",
           "width": 0.5
          },
          "showscale": false
         },
         "mode": "markers",
         "showlegend": false,
         "type": "scatter",
         "x": [
          0.06901043450261891,
          0.0015641466927425048,
          0.0036161478326736133,
          0.002487420336422256,
          2.2932766687300472e-05,
          0.14818441845289781,
          0.0009314238014067585,
          0.07490762971117125,
          0.00039905741751924235,
          2.2597030041227102e-05
         ],
         "xaxis": "x10",
         "y": [
          -0.15350077860286063,
          -0.11872970469617403,
          -0.1637544042573469,
          -0.07869794425282932,
          -0.11411209862021676,
          -0.13111775732515923,
          -0.18251286931806673,
          -0.10221889805786487,
          -0.09535196314724644,
          -0.08771980443530215
         ],
         "yaxis": "y10"
        },
        {
         "marker": {
          "color": [
           6,
           9
          ],
          "colorbar": {
           "title": {
            "text": "Trial"
           },
           "x": 1,
           "xpad": 40
          },
          "colorscale": [
           [
            0,
            "rgb(247,251,255)"
           ],
           [
            0.125,
            "rgb(222,235,247)"
           ],
           [
            0.25,
            "rgb(198,219,239)"
           ],
           [
            0.375,
            "rgb(158,202,225)"
           ],
           [
            0.5,
            "rgb(107,174,214)"
           ],
           [
            0.625,
            "rgb(66,146,198)"
           ],
           [
            0.75,
            "rgb(33,113,181)"
           ],
           [
            0.875,
            "rgb(8,81,156)"
           ],
           [
            1,
            "rgb(8,48,107)"
           ]
          ],
          "line": {
           "color": "Grey",
           "width": 0.5
          },
          "showscale": false
         },
         "mode": "markers",
         "showlegend": false,
         "type": "scatter",
         "x": [
          0.21252501996494536,
          0.17980621333124622
         ],
         "xaxis": "x11",
         "y": [
          -0.18251286931806673,
          -0.08771980443530215
         ],
         "yaxis": "y11"
        }
       ],
       "layout": {
        "template": {
         "data": {
          "bar": [
           {
            "error_x": {
             "color": "#2a3f5f"
            },
            "error_y": {
             "color": "#2a3f5f"
            },
            "marker": {
             "line": {
              "color": "#E5ECF6",
              "width": 0.5
             },
             "pattern": {
              "fillmode": "overlay",
              "size": 10,
              "solidity": 0.2
             }
            },
            "type": "bar"
           }
          ],
          "barpolar": [
           {
            "marker": {
             "line": {
              "color": "#E5ECF6",
              "width": 0.5
             },
             "pattern": {
              "fillmode": "overlay",
              "size": 10,
              "solidity": 0.2
             }
            },
            "type": "barpolar"
           }
          ],
          "carpet": [
           {
            "aaxis": {
             "endlinecolor": "#2a3f5f",
             "gridcolor": "white",
             "linecolor": "white",
             "minorgridcolor": "white",
             "startlinecolor": "#2a3f5f"
            },
            "baxis": {
             "endlinecolor": "#2a3f5f",
             "gridcolor": "white",
             "linecolor": "white",
             "minorgridcolor": "white",
             "startlinecolor": "#2a3f5f"
            },
            "type": "carpet"
           }
          ],
          "choropleth": [
           {
            "colorbar": {
             "outlinewidth": 0,
             "ticks": ""
            },
            "type": "choropleth"
           }
          ],
          "contour": [
           {
            "colorbar": {
             "outlinewidth": 0,
             "ticks": ""
            },
            "colorscale": [
             [
              0,
              "#0d0887"
             ],
             [
              0.1111111111111111,
              "#46039f"
             ],
             [
              0.2222222222222222,
              "#7201a8"
             ],
             [
              0.3333333333333333,
              "#9c179e"
             ],
             [
              0.4444444444444444,
              "#bd3786"
             ],
             [
              0.5555555555555556,
              "#d8576b"
             ],
             [
              0.6666666666666666,
              "#ed7953"
             ],
             [
              0.7777777777777778,
              "#fb9f3a"
             ],
             [
              0.8888888888888888,
              "#fdca26"
             ],
             [
              1,
              "#f0f921"
             ]
            ],
            "type": "contour"
           }
          ],
          "contourcarpet": [
           {
            "colorbar": {
             "outlinewidth": 0,
             "ticks": ""
            },
            "type": "contourcarpet"
           }
          ],
          "heatmap": [
           {
            "colorbar": {
             "outlinewidth": 0,
             "ticks": ""
            },
            "colorscale": [
             [
              0,
              "#0d0887"
             ],
             [
              0.1111111111111111,
              "#46039f"
             ],
             [
              0.2222222222222222,
              "#7201a8"
             ],
             [
              0.3333333333333333,
              "#9c179e"
             ],
             [
              0.4444444444444444,
              "#bd3786"
             ],
             [
              0.5555555555555556,
              "#d8576b"
             ],
             [
              0.6666666666666666,
              "#ed7953"
             ],
             [
              0.7777777777777778,
              "#fb9f3a"
             ],
             [
              0.8888888888888888,
              "#fdca26"
             ],
             [
              1,
              "#f0f921"
             ]
            ],
            "type": "heatmap"
           }
          ],
          "heatmapgl": [
           {
            "colorbar": {
             "outlinewidth": 0,
             "ticks": ""
            },
            "colorscale": [
             [
              0,
              "#0d0887"
             ],
             [
              0.1111111111111111,
              "#46039f"
             ],
             [
              0.2222222222222222,
              "#7201a8"
             ],
             [
              0.3333333333333333,
              "#9c179e"
             ],
             [
              0.4444444444444444,
              "#bd3786"
             ],
             [
              0.5555555555555556,
              "#d8576b"
             ],
             [
              0.6666666666666666,
              "#ed7953"
             ],
             [
              0.7777777777777778,
              "#fb9f3a"
             ],
             [
              0.8888888888888888,
              "#fdca26"
             ],
             [
              1,
              "#f0f921"
             ]
            ],
            "type": "heatmapgl"
           }
          ],
          "histogram": [
           {
            "marker": {
             "pattern": {
              "fillmode": "overlay",
              "size": 10,
              "solidity": 0.2
             }
            },
            "type": "histogram"
           }
          ],
          "histogram2d": [
           {
            "colorbar": {
             "outlinewidth": 0,
             "ticks": ""
            },
            "colorscale": [
             [
              0,
              "#0d0887"
             ],
             [
              0.1111111111111111,
              "#46039f"
             ],
             [
              0.2222222222222222,
              "#7201a8"
             ],
             [
              0.3333333333333333,
              "#9c179e"
             ],
             [
              0.4444444444444444,
              "#bd3786"
             ],
             [
              0.5555555555555556,
              "#d8576b"
             ],
             [
              0.6666666666666666,
              "#ed7953"
             ],
             [
              0.7777777777777778,
              "#fb9f3a"
             ],
             [
              0.8888888888888888,
              "#fdca26"
             ],
             [
              1,
              "#f0f921"
             ]
            ],
            "type": "histogram2d"
           }
          ],
          "histogram2dcontour": [
           {
            "colorbar": {
             "outlinewidth": 0,
             "ticks": ""
            },
            "colorscale": [
             [
              0,
              "#0d0887"
             ],
             [
              0.1111111111111111,
              "#46039f"
             ],
             [
              0.2222222222222222,
              "#7201a8"
             ],
             [
              0.3333333333333333,
              "#9c179e"
             ],
             [
              0.4444444444444444,
              "#bd3786"
             ],
             [
              0.5555555555555556,
              "#d8576b"
             ],
             [
              0.6666666666666666,
              "#ed7953"
             ],
             [
              0.7777777777777778,
              "#fb9f3a"
             ],
             [
              0.8888888888888888,
              "#fdca26"
             ],
             [
              1,
              "#f0f921"
             ]
            ],
            "type": "histogram2dcontour"
           }
          ],
          "mesh3d": [
           {
            "colorbar": {
             "outlinewidth": 0,
             "ticks": ""
            },
            "type": "mesh3d"
           }
          ],
          "parcoords": [
           {
            "line": {
             "colorbar": {
              "outlinewidth": 0,
              "ticks": ""
             }
            },
            "type": "parcoords"
           }
          ],
          "pie": [
           {
            "automargin": true,
            "type": "pie"
           }
          ],
          "scatter": [
           {
            "fillpattern": {
             "fillmode": "overlay",
             "size": 10,
             "solidity": 0.2
            },
            "type": "scatter"
           }
          ],
          "scatter3d": [
           {
            "line": {
             "colorbar": {
              "outlinewidth": 0,
              "ticks": ""
             }
            },
            "marker": {
             "colorbar": {
              "outlinewidth": 0,
              "ticks": ""
             }
            },
            "type": "scatter3d"
           }
          ],
          "scattercarpet": [
           {
            "marker": {
             "colorbar": {
              "outlinewidth": 0,
              "ticks": ""
             }
            },
            "type": "scattercarpet"
           }
          ],
          "scattergeo": [
           {
            "marker": {
             "colorbar": {
              "outlinewidth": 0,
              "ticks": ""
             }
            },
            "type": "scattergeo"
           }
          ],
          "scattergl": [
           {
            "marker": {
             "colorbar": {
              "outlinewidth": 0,
              "ticks": ""
             }
            },
            "type": "scattergl"
           }
          ],
          "scattermapbox": [
           {
            "marker": {
             "colorbar": {
              "outlinewidth": 0,
              "ticks": ""
             }
            },
            "type": "scattermapbox"
           }
          ],
          "scatterpolar": [
           {
            "marker": {
             "colorbar": {
              "outlinewidth": 0,
              "ticks": ""
             }
            },
            "type": "scatterpolar"
           }
          ],
          "scatterpolargl": [
           {
            "marker": {
             "colorbar": {
              "outlinewidth": 0,
              "ticks": ""
             }
            },
            "type": "scatterpolargl"
           }
          ],
          "scatterternary": [
           {
            "marker": {
             "colorbar": {
              "outlinewidth": 0,
              "ticks": ""
             }
            },
            "type": "scatterternary"
           }
          ],
          "surface": [
           {
            "colorbar": {
             "outlinewidth": 0,
             "ticks": ""
            },
            "colorscale": [
             [
              0,
              "#0d0887"
             ],
             [
              0.1111111111111111,
              "#46039f"
             ],
             [
              0.2222222222222222,
              "#7201a8"
             ],
             [
              0.3333333333333333,
              "#9c179e"
             ],
             [
              0.4444444444444444,
              "#bd3786"
             ],
             [
              0.5555555555555556,
              "#d8576b"
             ],
             [
              0.6666666666666666,
              "#ed7953"
             ],
             [
              0.7777777777777778,
              "#fb9f3a"
             ],
             [
              0.8888888888888888,
              "#fdca26"
             ],
             [
              1,
              "#f0f921"
             ]
            ],
            "type": "surface"
           }
          ],
          "table": [
           {
            "cells": {
             "fill": {
              "color": "#EBF0F8"
             },
             "line": {
              "color": "white"
             }
            },
            "header": {
             "fill": {
              "color": "#C8D4E3"
             },
             "line": {
              "color": "white"
             }
            },
            "type": "table"
           }
          ]
         },
         "layout": {
          "annotationdefaults": {
           "arrowcolor": "#2a3f5f",
           "arrowhead": 0,
           "arrowwidth": 1
          },
          "autotypenumbers": "strict",
          "coloraxis": {
           "colorbar": {
            "outlinewidth": 0,
            "ticks": ""
           }
          },
          "colorscale": {
           "diverging": [
            [
             0,
             "#8e0152"
            ],
            [
             0.1,
             "#c51b7d"
            ],
            [
             0.2,
             "#de77ae"
            ],
            [
             0.3,
             "#f1b6da"
            ],
            [
             0.4,
             "#fde0ef"
            ],
            [
             0.5,
             "#f7f7f7"
            ],
            [
             0.6,
             "#e6f5d0"
            ],
            [
             0.7,
             "#b8e186"
            ],
            [
             0.8,
             "#7fbc41"
            ],
            [
             0.9,
             "#4d9221"
            ],
            [
             1,
             "#276419"
            ]
           ],
           "sequential": [
            [
             0,
             "#0d0887"
            ],
            [
             0.1111111111111111,
             "#46039f"
            ],
            [
             0.2222222222222222,
             "#7201a8"
            ],
            [
             0.3333333333333333,
             "#9c179e"
            ],
            [
             0.4444444444444444,
             "#bd3786"
            ],
            [
             0.5555555555555556,
             "#d8576b"
            ],
            [
             0.6666666666666666,
             "#ed7953"
            ],
            [
             0.7777777777777778,
             "#fb9f3a"
            ],
            [
             0.8888888888888888,
             "#fdca26"
            ],
            [
             1,
             "#f0f921"
            ]
           ],
           "sequentialminus": [
            [
             0,
             "#0d0887"
            ],
            [
             0.1111111111111111,
             "#46039f"
            ],
            [
             0.2222222222222222,
             "#7201a8"
            ],
            [
             0.3333333333333333,
             "#9c179e"
            ],
            [
             0.4444444444444444,
             "#bd3786"
            ],
            [
             0.5555555555555556,
             "#d8576b"
            ],
            [
             0.6666666666666666,
             "#ed7953"
            ],
            [
             0.7777777777777778,
             "#fb9f3a"
            ],
            [
             0.8888888888888888,
             "#fdca26"
            ],
            [
             1,
             "#f0f921"
            ]
           ]
          },
          "colorway": [
           "#636efa",
           "#EF553B",
           "#00cc96",
           "#ab63fa",
           "#FFA15A",
           "#19d3f3",
           "#FF6692",
           "#B6E880",
           "#FF97FF",
           "#FECB52"
          ],
          "font": {
           "color": "#2a3f5f"
          },
          "geo": {
           "bgcolor": "white",
           "lakecolor": "white",
           "landcolor": "#E5ECF6",
           "showlakes": true,
           "showland": true,
           "subunitcolor": "white"
          },
          "hoverlabel": {
           "align": "left"
          },
          "hovermode": "closest",
          "mapbox": {
           "style": "light"
          },
          "paper_bgcolor": "white",
          "plot_bgcolor": "#E5ECF6",
          "polar": {
           "angularaxis": {
            "gridcolor": "white",
            "linecolor": "white",
            "ticks": ""
           },
           "bgcolor": "#E5ECF6",
           "radialaxis": {
            "gridcolor": "white",
            "linecolor": "white",
            "ticks": ""
           }
          },
          "scene": {
           "xaxis": {
            "backgroundcolor": "#E5ECF6",
            "gridcolor": "white",
            "gridwidth": 2,
            "linecolor": "white",
            "showbackground": true,
            "ticks": "",
            "zerolinecolor": "white"
           },
           "yaxis": {
            "backgroundcolor": "#E5ECF6",
            "gridcolor": "white",
            "gridwidth": 2,
            "linecolor": "white",
            "showbackground": true,
            "ticks": "",
            "zerolinecolor": "white"
           },
           "zaxis": {
            "backgroundcolor": "#E5ECF6",
            "gridcolor": "white",
            "gridwidth": 2,
            "linecolor": "white",
            "showbackground": true,
            "ticks": "",
            "zerolinecolor": "white"
           }
          },
          "shapedefaults": {
           "line": {
            "color": "#2a3f5f"
           }
          },
          "ternary": {
           "aaxis": {
            "gridcolor": "white",
            "linecolor": "white",
            "ticks": ""
           },
           "baxis": {
            "gridcolor": "white",
            "linecolor": "white",
            "ticks": ""
           },
           "bgcolor": "#E5ECF6",
           "caxis": {
            "gridcolor": "white",
            "linecolor": "white",
            "ticks": ""
           }
          },
          "title": {
           "x": 0.05
          },
          "xaxis": {
           "automargin": true,
           "gridcolor": "white",
           "linecolor": "white",
           "ticks": "",
           "title": {
            "standoff": 15
           },
           "zerolinecolor": "white",
           "zerolinewidth": 2
          },
          "yaxis": {
           "automargin": true,
           "gridcolor": "white",
           "linecolor": "white",
           "ticks": "",
           "title": {
            "standoff": 15
           },
           "zerolinecolor": "white",
           "zerolinewidth": 2
          }
         }
        },
        "title": {
         "text": "Slice Plot"
        },
        "width": 3300,
        "xaxis": {
         "anchor": "y",
         "domain": [
          0,
          0.07438016528925619
         ],
         "title": {
          "text": "bagging_temperature"
         }
        },
        "xaxis10": {
         "anchor": "y10",
         "domain": [
          0.8330578512396694,
          0.9074380165289255
         ],
         "title": {
          "text": "random_strength"
         },
         "type": "log"
        },
        "xaxis11": {
         "anchor": "y11",
         "domain": [
          0.9256198347107437,
          0.9999999999999999
         ],
         "title": {
          "text": "subsample"
         },
         "type": "log"
        },
        "xaxis2": {
         "anchor": "y2",
         "domain": [
          0.09256198347107437,
          0.16694214876033056
         ],
         "title": {
          "text": "bootstrap_type"
         }
        },
        "xaxis3": {
         "anchor": "y3",
         "domain": [
          0.18512396694214875,
          0.25950413223140495
         ],
         "title": {
          "text": "colsample_bylevel"
         },
         "type": "log"
        },
        "xaxis4": {
         "anchor": "y4",
         "domain": [
          0.27768595041322314,
          0.3520661157024793
         ],
         "title": {
          "text": "depth"
         }
        },
        "xaxis5": {
         "anchor": "y5",
         "domain": [
          0.3702479338842975,
          0.44462809917355367
         ],
         "title": {
          "text": "grow_policy"
         }
        },
        "xaxis6": {
         "anchor": "y6",
         "domain": [
          0.46280991735537186,
          0.5371900826446281
         ],
         "title": {
          "text": "l2_leaf_reg"
         },
         "type": "log"
        },
        "xaxis7": {
         "anchor": "y7",
         "domain": [
          0.5553719008264462,
          0.6297520661157023
         ],
         "title": {
          "text": "learning_rate"
         },
         "type": "log"
        },
        "xaxis8": {
         "anchor": "y8",
         "domain": [
          0.6479338842975206,
          0.7223140495867768
         ],
         "title": {
          "text": "od_type"
         }
        },
        "xaxis9": {
         "anchor": "y9",
         "domain": [
          0.740495867768595,
          0.8148760330578512
         ],
         "title": {
          "text": "od_wait"
         }
        },
        "yaxis": {
         "anchor": "x",
         "domain": [
          0,
          1
         ],
         "title": {
          "text": "Objective Value"
         }
        },
        "yaxis10": {
         "anchor": "x10",
         "domain": [
          0,
          1
         ],
         "matches": "y",
         "showticklabels": false
        },
        "yaxis11": {
         "anchor": "x11",
         "domain": [
          0,
          1
         ],
         "matches": "y",
         "showticklabels": false
        },
        "yaxis2": {
         "anchor": "x2",
         "domain": [
          0,
          1
         ],
         "matches": "y",
         "showticklabels": false
        },
        "yaxis3": {
         "anchor": "x3",
         "domain": [
          0,
          1
         ],
         "matches": "y",
         "showticklabels": false
        },
        "yaxis4": {
         "anchor": "x4",
         "domain": [
          0,
          1
         ],
         "matches": "y",
         "showticklabels": false
        },
        "yaxis5": {
         "anchor": "x5",
         "domain": [
          0,
          1
         ],
         "matches": "y",
         "showticklabels": false
        },
        "yaxis6": {
         "anchor": "x6",
         "domain": [
          0,
          1
         ],
         "matches": "y",
         "showticklabels": false
        },
        "yaxis7": {
         "anchor": "x7",
         "domain": [
          0,
          1
         ],
         "matches": "y",
         "showticklabels": false
        },
        "yaxis8": {
         "anchor": "x8",
         "domain": [
          0,
          1
         ],
         "matches": "y",
         "showticklabels": false
        },
        "yaxis9": {
         "anchor": "x9",
         "domain": [
          0,
          1
         ],
         "matches": "y",
         "showticklabels": false
        }
       }
      },
      "text/html": [
       "<div>                            <div id=\"ce5a8c15-10c4-44f2-bea1-9608b0f5b090\" class=\"plotly-graph-div\" style=\"height:525px; width:3300px;\"></div>            <script type=\"text/javascript\">                require([\"plotly\"], function(Plotly) {                    window.PLOTLYENV=window.PLOTLYENV || {};                                    if (document.getElementById(\"ce5a8c15-10c4-44f2-bea1-9608b0f5b090\")) {                    Plotly.newPlot(                        \"ce5a8c15-10c4-44f2-bea1-9608b0f5b090\",                        [{\"marker\":{\"color\":[2,3,4,7,8],\"colorbar\":{\"title\":{\"text\":\"Trial\"},\"x\":1.0,\"xpad\":40},\"colorscale\":[[0.0,\"rgb(247,251,255)\"],[0.125,\"rgb(222,235,247)\"],[0.25,\"rgb(198,219,239)\"],[0.375,\"rgb(158,202,225)\"],[0.5,\"rgb(107,174,214)\"],[0.625,\"rgb(66,146,198)\"],[0.75,\"rgb(33,113,181)\"],[0.875,\"rgb(8,81,156)\"],[1.0,\"rgb(8,48,107)\"]],\"line\":{\"color\":\"Grey\",\"width\":0.5},\"showscale\":true},\"mode\":\"markers\",\"showlegend\":false,\"x\":[7.971655430005543,9.345279284489473,9.026749085556284,8.057428498518957,3.8913145110654],\"y\":[-0.1637544042573469,-0.07869794425282932,-0.11411209862021676,-0.10221889805786487,-0.09535196314724644],\"type\":\"scatter\",\"xaxis\":\"x\",\"yaxis\":\"y\"},{\"marker\":{\"color\":[0,1,2,3,4,5,6,7,8,9],\"colorbar\":{\"title\":{\"text\":\"Trial\"},\"x\":1.0,\"xpad\":40},\"colorscale\":[[0.0,\"rgb(247,251,255)\"],[0.125,\"rgb(222,235,247)\"],[0.25,\"rgb(198,219,239)\"],[0.375,\"rgb(158,202,225)\"],[0.5,\"rgb(107,174,214)\"],[0.625,\"rgb(66,146,198)\"],[0.75,\"rgb(33,113,181)\"],[0.875,\"rgb(8,81,156)\"],[1.0,\"rgb(8,48,107)\"]],\"line\":{\"color\":\"Grey\",\"width\":0.5},\"showscale\":false},\"mode\":\"markers\",\"showlegend\":false,\"x\":[\"MVS\",\"MVS\",\"Bayesian\",\"Bayesian\",\"Bayesian\",\"MVS\",\"Bernoulli\",\"Bayesian\",\"Bayesian\",\"Bernoulli\"],\"y\":[-0.15350077860286063,-0.11872970469617403,-0.1637544042573469,-0.07869794425282932,-0.11411209862021676,-0.13111775732515923,-0.18251286931806673,-0.10221889805786487,-0.09535196314724644,-0.08771980443530215],\"type\":\"scatter\",\"xaxis\":\"x2\",\"yaxis\":\"y2\"},{\"marker\":{\"color\":[0,1,2,3,4,5,6,7,8,9],\"colorbar\":{\"title\":{\"text\":\"Trial\"},\"x\":1.0,\"xpad\":40},\"colorscale\":[[0.0,\"rgb(247,251,255)\"],[0.125,\"rgb(222,235,247)\"],[0.25,\"rgb(198,219,239)\"],[0.375,\"rgb(158,202,225)\"],[0.5,\"rgb(107,174,214)\"],[0.625,\"rgb(66,146,198)\"],[0.75,\"rgb(33,113,181)\"],[0.875,\"rgb(8,81,156)\"],[1.0,\"rgb(8,48,107)\"]],\"line\":{\"color\":\"Grey\",\"width\":0.5},\"showscale\":false},\"mode\":\"markers\",\"showlegend\":false,\"x\":[0.017758256783472776,0.02441418684009092,0.0641228516461588,0.06708416777430125,0.08864214537855278,0.04300616827051409,0.07309125196390603,0.023496918270929545,0.034952554428043896,0.02607516183054433],\"y\":[-0.15350077860286063,-0.11872970469617403,-0.1637544042573469,-0.07869794425282932,-0.11411209862021676,-0.13111775732515923,-0.18251286931806673,-0.10221889805786487,-0.09535196314724644,-0.08771980443530215],\"type\":\"scatter\",\"xaxis\":\"x3\",\"yaxis\":\"y3\"},{\"marker\":{\"color\":[0,1,2,3,4,5,6,7,8,9],\"colorbar\":{\"title\":{\"text\":\"Trial\"},\"x\":1.0,\"xpad\":40},\"colorscale\":[[0.0,\"rgb(247,251,255)\"],[0.125,\"rgb(222,235,247)\"],[0.25,\"rgb(198,219,239)\"],[0.375,\"rgb(158,202,225)\"],[0.5,\"rgb(107,174,214)\"],[0.625,\"rgb(66,146,198)\"],[0.75,\"rgb(33,113,181)\"],[0.875,\"rgb(8,81,156)\"],[1.0,\"rgb(8,48,107)\"]],\"line\":{\"color\":\"Grey\",\"width\":0.5},\"showscale\":false},\"mode\":\"markers\",\"showlegend\":false,\"x\":[2,8,9,2,12,6,12,3,10,12],\"y\":[-0.15350077860286063,-0.11872970469617403,-0.1637544042573469,-0.07869794425282932,-0.11411209862021676,-0.13111775732515923,-0.18251286931806673,-0.10221889805786487,-0.09535196314724644,-0.08771980443530215],\"type\":\"scatter\",\"xaxis\":\"x4\",\"yaxis\":\"y4\"},{\"marker\":{\"color\":[0,1,2,3,4,5,6,7,8,9],\"colorbar\":{\"title\":{\"text\":\"Trial\"},\"x\":1.0,\"xpad\":40},\"colorscale\":[[0.0,\"rgb(247,251,255)\"],[0.125,\"rgb(222,235,247)\"],[0.25,\"rgb(198,219,239)\"],[0.375,\"rgb(158,202,225)\"],[0.5,\"rgb(107,174,214)\"],[0.625,\"rgb(66,146,198)\"],[0.75,\"rgb(33,113,181)\"],[0.875,\"rgb(8,81,156)\"],[1.0,\"rgb(8,48,107)\"]],\"line\":{\"color\":\"Grey\",\"width\":0.5},\"showscale\":false},\"mode\":\"markers\",\"showlegend\":false,\"x\":[\"Lossguide\",\"SymmetricTree\",\"Depthwise\",\"Lossguide\",\"SymmetricTree\",\"Lossguide\",\"SymmetricTree\",\"Depthwise\",\"SymmetricTree\",\"Depthwise\"],\"y\":[-0.15350077860286063,-0.11872970469617403,-0.1637544042573469,-0.07869794425282932,-0.11411209862021676,-0.13111775732515923,-0.18251286931806673,-0.10221889805786487,-0.09535196314724644,-0.08771980443530215],\"type\":\"scatter\",\"xaxis\":\"x5\",\"yaxis\":\"y5\"},{\"marker\":{\"color\":[0,1,2,3,4,5,6,7,8,9],\"colorbar\":{\"title\":{\"text\":\"Trial\"},\"x\":1.0,\"xpad\":40},\"colorscale\":[[0.0,\"rgb(247,251,255)\"],[0.125,\"rgb(222,235,247)\"],[0.25,\"rgb(198,219,239)\"],[0.375,\"rgb(158,202,225)\"],[0.5,\"rgb(107,174,214)\"],[0.625,\"rgb(66,146,198)\"],[0.75,\"rgb(33,113,181)\"],[0.875,\"rgb(8,81,156)\"],[1.0,\"rgb(8,48,107)\"]],\"line\":{\"color\":\"Grey\",\"width\":0.5},\"showscale\":false},\"mode\":\"markers\",\"showlegend\":false,\"x\":[0.0002507551602164638,3.3936569825642224e-6,0.00011290522952662143,14.45353438836987,0.9093805256135682,3.0029161273696226e-7,15.962260687474052,0.00003845183695664889,82.1047243093768,11.470460223772522],\"y\":[-0.15350077860286063,-0.11872970469617403,-0.1637544042573469,-0.07869794425282932,-0.11411209862021676,-0.13111775732515923,-0.18251286931806673,-0.10221889805786487,-0.09535196314724644,-0.08771980443530215],\"type\":\"scatter\",\"xaxis\":\"x6\",\"yaxis\":\"y6\"},{\"marker\":{\"color\":[0,1,2,3,4,5,6,7,8,9],\"colorbar\":{\"title\":{\"text\":\"Trial\"},\"x\":1.0,\"xpad\":40},\"colorscale\":[[0.0,\"rgb(247,251,255)\"],[0.125,\"rgb(222,235,247)\"],[0.25,\"rgb(198,219,239)\"],[0.375,\"rgb(158,202,225)\"],[0.5,\"rgb(107,174,214)\"],[0.625,\"rgb(66,146,198)\"],[0.75,\"rgb(33,113,181)\"],[0.875,\"rgb(8,81,156)\"],[1.0,\"rgb(8,48,107)\"]],\"line\":{\"color\":\"Grey\",\"width\":0.5},\"showscale\":false},\"mode\":\"markers\",\"showlegend\":false,\"x\":[0.011734435669307746,0.03236749085546712,0.711634550310974,0.22343612358058257,0.0221420939650127,0.06382427812646875,0.0031025710709128417,0.2044438999177395,0.21721911602115418,0.13759675204853164],\"y\":[-0.15350077860286063,-0.11872970469617403,-0.1637544042573469,-0.07869794425282932,-0.11411209862021676,-0.13111775732515923,-0.18251286931806673,-0.10221889805786487,-0.09535196314724644,-0.08771980443530215],\"type\":\"scatter\",\"xaxis\":\"x7\",\"yaxis\":\"y7\"},{\"marker\":{\"color\":[0,1,2,3,4,5,6,7,8,9],\"colorbar\":{\"title\":{\"text\":\"Trial\"},\"x\":1.0,\"xpad\":40},\"colorscale\":[[0.0,\"rgb(247,251,255)\"],[0.125,\"rgb(222,235,247)\"],[0.25,\"rgb(198,219,239)\"],[0.375,\"rgb(158,202,225)\"],[0.5,\"rgb(107,174,214)\"],[0.625,\"rgb(66,146,198)\"],[0.75,\"rgb(33,113,181)\"],[0.875,\"rgb(8,81,156)\"],[1.0,\"rgb(8,48,107)\"]],\"line\":{\"color\":\"Grey\",\"width\":0.5},\"showscale\":false},\"mode\":\"markers\",\"showlegend\":false,\"x\":[\"Iter\",\"Iter\",\"IncToDec\",\"Iter\",\"IncToDec\",\"IncToDec\",\"IncToDec\",\"IncToDec\",\"IncToDec\",\"Iter\"],\"y\":[-0.15350077860286063,-0.11872970469617403,-0.1637544042573469,-0.07869794425282932,-0.11411209862021676,-0.13111775732515923,-0.18251286931806673,-0.10221889805786487,-0.09535196314724644,-0.08771980443530215],\"type\":\"scatter\",\"xaxis\":\"x8\",\"yaxis\":\"y8\"},{\"marker\":{\"color\":[0,1,2,3,4,5,6,7,8,9],\"colorbar\":{\"title\":{\"text\":\"Trial\"},\"x\":1.0,\"xpad\":40},\"colorscale\":[[0.0,\"rgb(247,251,255)\"],[0.125,\"rgb(222,235,247)\"],[0.25,\"rgb(198,219,239)\"],[0.375,\"rgb(158,202,225)\"],[0.5,\"rgb(107,174,214)\"],[0.625,\"rgb(66,146,198)\"],[0.75,\"rgb(33,113,181)\"],[0.875,\"rgb(8,81,156)\"],[1.0,\"rgb(8,48,107)\"]],\"line\":{\"color\":\"Grey\",\"width\":0.5},\"showscale\":false},\"mode\":\"markers\",\"showlegend\":false,\"x\":[50,16,50,42,46,23,45,32,30,47],\"y\":[-0.15350077860286063,-0.11872970469617403,-0.1637544042573469,-0.07869794425282932,-0.11411209862021676,-0.13111775732515923,-0.18251286931806673,-0.10221889805786487,-0.09535196314724644,-0.08771980443530215],\"type\":\"scatter\",\"xaxis\":\"x9\",\"yaxis\":\"y9\"},{\"marker\":{\"color\":[0,1,2,3,4,5,6,7,8,9],\"colorbar\":{\"title\":{\"text\":\"Trial\"},\"x\":1.0,\"xpad\":40},\"colorscale\":[[0.0,\"rgb(247,251,255)\"],[0.125,\"rgb(222,235,247)\"],[0.25,\"rgb(198,219,239)\"],[0.375,\"rgb(158,202,225)\"],[0.5,\"rgb(107,174,214)\"],[0.625,\"rgb(66,146,198)\"],[0.75,\"rgb(33,113,181)\"],[0.875,\"rgb(8,81,156)\"],[1.0,\"rgb(8,48,107)\"]],\"line\":{\"color\":\"Grey\",\"width\":0.5},\"showscale\":false},\"mode\":\"markers\",\"showlegend\":false,\"x\":[0.06901043450261891,0.0015641466927425048,0.0036161478326736133,0.002487420336422256,0.000022932766687300472,0.14818441845289781,0.0009314238014067585,0.07490762971117125,0.00039905741751924235,0.000022597030041227102],\"y\":[-0.15350077860286063,-0.11872970469617403,-0.1637544042573469,-0.07869794425282932,-0.11411209862021676,-0.13111775732515923,-0.18251286931806673,-0.10221889805786487,-0.09535196314724644,-0.08771980443530215],\"type\":\"scatter\",\"xaxis\":\"x10\",\"yaxis\":\"y10\"},{\"marker\":{\"color\":[6,9],\"colorbar\":{\"title\":{\"text\":\"Trial\"},\"x\":1.0,\"xpad\":40},\"colorscale\":[[0.0,\"rgb(247,251,255)\"],[0.125,\"rgb(222,235,247)\"],[0.25,\"rgb(198,219,239)\"],[0.375,\"rgb(158,202,225)\"],[0.5,\"rgb(107,174,214)\"],[0.625,\"rgb(66,146,198)\"],[0.75,\"rgb(33,113,181)\"],[0.875,\"rgb(8,81,156)\"],[1.0,\"rgb(8,48,107)\"]],\"line\":{\"color\":\"Grey\",\"width\":0.5},\"showscale\":false},\"mode\":\"markers\",\"showlegend\":false,\"x\":[0.21252501996494536,0.17980621333124622],\"y\":[-0.18251286931806673,-0.08771980443530215],\"type\":\"scatter\",\"xaxis\":\"x11\",\"yaxis\":\"y11\"}],                        {\"template\":{\"data\":{\"histogram2dcontour\":[{\"type\":\"histogram2dcontour\",\"colorbar\":{\"outlinewidth\":0,\"ticks\":\"\"},\"colorscale\":[[0.0,\"#0d0887\"],[0.1111111111111111,\"#46039f\"],[0.2222222222222222,\"#7201a8\"],[0.3333333333333333,\"#9c179e\"],[0.4444444444444444,\"#bd3786\"],[0.5555555555555556,\"#d8576b\"],[0.6666666666666666,\"#ed7953\"],[0.7777777777777778,\"#fb9f3a\"],[0.8888888888888888,\"#fdca26\"],[1.0,\"#f0f921\"]]}],\"choropleth\":[{\"type\":\"choropleth\",\"colorbar\":{\"outlinewidth\":0,\"ticks\":\"\"}}],\"histogram2d\":[{\"type\":\"histogram2d\",\"colorbar\":{\"outlinewidth\":0,\"ticks\":\"\"},\"colorscale\":[[0.0,\"#0d0887\"],[0.1111111111111111,\"#46039f\"],[0.2222222222222222,\"#7201a8\"],[0.3333333333333333,\"#9c179e\"],[0.4444444444444444,\"#bd3786\"],[0.5555555555555556,\"#d8576b\"],[0.6666666666666666,\"#ed7953\"],[0.7777777777777778,\"#fb9f3a\"],[0.8888888888888888,\"#fdca26\"],[1.0,\"#f0f921\"]]}],\"heatmap\":[{\"type\":\"heatmap\",\"colorbar\":{\"outlinewidth\":0,\"ticks\":\"\"},\"colorscale\":[[0.0,\"#0d0887\"],[0.1111111111111111,\"#46039f\"],[0.2222222222222222,\"#7201a8\"],[0.3333333333333333,\"#9c179e\"],[0.4444444444444444,\"#bd3786\"],[0.5555555555555556,\"#d8576b\"],[0.6666666666666666,\"#ed7953\"],[0.7777777777777778,\"#fb9f3a\"],[0.8888888888888888,\"#fdca26\"],[1.0,\"#f0f921\"]]}],\"heatmapgl\":[{\"type\":\"heatmapgl\",\"colorbar\":{\"outlinewidth\":0,\"ticks\":\"\"},\"colorscale\":[[0.0,\"#0d0887\"],[0.1111111111111111,\"#46039f\"],[0.2222222222222222,\"#7201a8\"],[0.3333333333333333,\"#9c179e\"],[0.4444444444444444,\"#bd3786\"],[0.5555555555555556,\"#d8576b\"],[0.6666666666666666,\"#ed7953\"],[0.7777777777777778,\"#fb9f3a\"],[0.8888888888888888,\"#fdca26\"],[1.0,\"#f0f921\"]]}],\"contourcarpet\":[{\"type\":\"contourcarpet\",\"colorbar\":{\"outlinewidth\":0,\"ticks\":\"\"}}],\"contour\":[{\"type\":\"contour\",\"colorbar\":{\"outlinewidth\":0,\"ticks\":\"\"},\"colorscale\":[[0.0,\"#0d0887\"],[0.1111111111111111,\"#46039f\"],[0.2222222222222222,\"#7201a8\"],[0.3333333333333333,\"#9c179e\"],[0.4444444444444444,\"#bd3786\"],[0.5555555555555556,\"#d8576b\"],[0.6666666666666666,\"#ed7953\"],[0.7777777777777778,\"#fb9f3a\"],[0.8888888888888888,\"#fdca26\"],[1.0,\"#f0f921\"]]}],\"surface\":[{\"type\":\"surface\",\"colorbar\":{\"outlinewidth\":0,\"ticks\":\"\"},\"colorscale\":[[0.0,\"#0d0887\"],[0.1111111111111111,\"#46039f\"],[0.2222222222222222,\"#7201a8\"],[0.3333333333333333,\"#9c179e\"],[0.4444444444444444,\"#bd3786\"],[0.5555555555555556,\"#d8576b\"],[0.6666666666666666,\"#ed7953\"],[0.7777777777777778,\"#fb9f3a\"],[0.8888888888888888,\"#fdca26\"],[1.0,\"#f0f921\"]]}],\"mesh3d\":[{\"type\":\"mesh3d\",\"colorbar\":{\"outlinewidth\":0,\"ticks\":\"\"}}],\"scatter\":[{\"fillpattern\":{\"fillmode\":\"overlay\",\"size\":10,\"solidity\":0.2},\"type\":\"scatter\"}],\"parcoords\":[{\"type\":\"parcoords\",\"line\":{\"colorbar\":{\"outlinewidth\":0,\"ticks\":\"\"}}}],\"scatterpolargl\":[{\"type\":\"scatterpolargl\",\"marker\":{\"colorbar\":{\"outlinewidth\":0,\"ticks\":\"\"}}}],\"bar\":[{\"error_x\":{\"color\":\"#2a3f5f\"},\"error_y\":{\"color\":\"#2a3f5f\"},\"marker\":{\"line\":{\"color\":\"#E5ECF6\",\"width\":0.5},\"pattern\":{\"fillmode\":\"overlay\",\"size\":10,\"solidity\":0.2}},\"type\":\"bar\"}],\"scattergeo\":[{\"type\":\"scattergeo\",\"marker\":{\"colorbar\":{\"outlinewidth\":0,\"ticks\":\"\"}}}],\"scatterpolar\":[{\"type\":\"scatterpolar\",\"marker\":{\"colorbar\":{\"outlinewidth\":0,\"ticks\":\"\"}}}],\"histogram\":[{\"marker\":{\"pattern\":{\"fillmode\":\"overlay\",\"size\":10,\"solidity\":0.2}},\"type\":\"histogram\"}],\"scattergl\":[{\"type\":\"scattergl\",\"marker\":{\"colorbar\":{\"outlinewidth\":0,\"ticks\":\"\"}}}],\"scatter3d\":[{\"type\":\"scatter3d\",\"line\":{\"colorbar\":{\"outlinewidth\":0,\"ticks\":\"\"}},\"marker\":{\"colorbar\":{\"outlinewidth\":0,\"ticks\":\"\"}}}],\"scattermapbox\":[{\"type\":\"scattermapbox\",\"marker\":{\"colorbar\":{\"outlinewidth\":0,\"ticks\":\"\"}}}],\"scatterternary\":[{\"type\":\"scatterternary\",\"marker\":{\"colorbar\":{\"outlinewidth\":0,\"ticks\":\"\"}}}],\"scattercarpet\":[{\"type\":\"scattercarpet\",\"marker\":{\"colorbar\":{\"outlinewidth\":0,\"ticks\":\"\"}}}],\"carpet\":[{\"aaxis\":{\"endlinecolor\":\"#2a3f5f\",\"gridcolor\":\"white\",\"linecolor\":\"white\",\"minorgridcolor\":\"white\",\"startlinecolor\":\"#2a3f5f\"},\"baxis\":{\"endlinecolor\":\"#2a3f5f\",\"gridcolor\":\"white\",\"linecolor\":\"white\",\"minorgridcolor\":\"white\",\"startlinecolor\":\"#2a3f5f\"},\"type\":\"carpet\"}],\"table\":[{\"cells\":{\"fill\":{\"color\":\"#EBF0F8\"},\"line\":{\"color\":\"white\"}},\"header\":{\"fill\":{\"color\":\"#C8D4E3\"},\"line\":{\"color\":\"white\"}},\"type\":\"table\"}],\"barpolar\":[{\"marker\":{\"line\":{\"color\":\"#E5ECF6\",\"width\":0.5},\"pattern\":{\"fillmode\":\"overlay\",\"size\":10,\"solidity\":0.2}},\"type\":\"barpolar\"}],\"pie\":[{\"automargin\":true,\"type\":\"pie\"}]},\"layout\":{\"autotypenumbers\":\"strict\",\"colorway\":[\"#636efa\",\"#EF553B\",\"#00cc96\",\"#ab63fa\",\"#FFA15A\",\"#19d3f3\",\"#FF6692\",\"#B6E880\",\"#FF97FF\",\"#FECB52\"],\"font\":{\"color\":\"#2a3f5f\"},\"hovermode\":\"closest\",\"hoverlabel\":{\"align\":\"left\"},\"paper_bgcolor\":\"white\",\"plot_bgcolor\":\"#E5ECF6\",\"polar\":{\"bgcolor\":\"#E5ECF6\",\"angularaxis\":{\"gridcolor\":\"white\",\"linecolor\":\"white\",\"ticks\":\"\"},\"radialaxis\":{\"gridcolor\":\"white\",\"linecolor\":\"white\",\"ticks\":\"\"}},\"ternary\":{\"bgcolor\":\"#E5ECF6\",\"aaxis\":{\"gridcolor\":\"white\",\"linecolor\":\"white\",\"ticks\":\"\"},\"baxis\":{\"gridcolor\":\"white\",\"linecolor\":\"white\",\"ticks\":\"\"},\"caxis\":{\"gridcolor\":\"white\",\"linecolor\":\"white\",\"ticks\":\"\"}},\"coloraxis\":{\"colorbar\":{\"outlinewidth\":0,\"ticks\":\"\"}},\"colorscale\":{\"sequential\":[[0.0,\"#0d0887\"],[0.1111111111111111,\"#46039f\"],[0.2222222222222222,\"#7201a8\"],[0.3333333333333333,\"#9c179e\"],[0.4444444444444444,\"#bd3786\"],[0.5555555555555556,\"#d8576b\"],[0.6666666666666666,\"#ed7953\"],[0.7777777777777778,\"#fb9f3a\"],[0.8888888888888888,\"#fdca26\"],[1.0,\"#f0f921\"]],\"sequentialminus\":[[0.0,\"#0d0887\"],[0.1111111111111111,\"#46039f\"],[0.2222222222222222,\"#7201a8\"],[0.3333333333333333,\"#9c179e\"],[0.4444444444444444,\"#bd3786\"],[0.5555555555555556,\"#d8576b\"],[0.6666666666666666,\"#ed7953\"],[0.7777777777777778,\"#fb9f3a\"],[0.8888888888888888,\"#fdca26\"],[1.0,\"#f0f921\"]],\"diverging\":[[0,\"#8e0152\"],[0.1,\"#c51b7d\"],[0.2,\"#de77ae\"],[0.3,\"#f1b6da\"],[0.4,\"#fde0ef\"],[0.5,\"#f7f7f7\"],[0.6,\"#e6f5d0\"],[0.7,\"#b8e186\"],[0.8,\"#7fbc41\"],[0.9,\"#4d9221\"],[1,\"#276419\"]]},\"xaxis\":{\"gridcolor\":\"white\",\"linecolor\":\"white\",\"ticks\":\"\",\"title\":{\"standoff\":15},\"zerolinecolor\":\"white\",\"automargin\":true,\"zerolinewidth\":2},\"yaxis\":{\"gridcolor\":\"white\",\"linecolor\":\"white\",\"ticks\":\"\",\"title\":{\"standoff\":15},\"zerolinecolor\":\"white\",\"automargin\":true,\"zerolinewidth\":2},\"scene\":{\"xaxis\":{\"backgroundcolor\":\"#E5ECF6\",\"gridcolor\":\"white\",\"linecolor\":\"white\",\"showbackground\":true,\"ticks\":\"\",\"zerolinecolor\":\"white\",\"gridwidth\":2},\"yaxis\":{\"backgroundcolor\":\"#E5ECF6\",\"gridcolor\":\"white\",\"linecolor\":\"white\",\"showbackground\":true,\"ticks\":\"\",\"zerolinecolor\":\"white\",\"gridwidth\":2},\"zaxis\":{\"backgroundcolor\":\"#E5ECF6\",\"gridcolor\":\"white\",\"linecolor\":\"white\",\"showbackground\":true,\"ticks\":\"\",\"zerolinecolor\":\"white\",\"gridwidth\":2}},\"shapedefaults\":{\"line\":{\"color\":\"#2a3f5f\"}},\"annotationdefaults\":{\"arrowcolor\":\"#2a3f5f\",\"arrowhead\":0,\"arrowwidth\":1},\"geo\":{\"bgcolor\":\"white\",\"landcolor\":\"#E5ECF6\",\"subunitcolor\":\"white\",\"showland\":true,\"showlakes\":true,\"lakecolor\":\"white\"},\"title\":{\"x\":0.05},\"mapbox\":{\"style\":\"light\"}}},\"xaxis\":{\"anchor\":\"y\",\"domain\":[0.0,0.07438016528925619],\"title\":{\"text\":\"bagging_temperature\"}},\"yaxis\":{\"anchor\":\"x\",\"domain\":[0.0,1.0],\"title\":{\"text\":\"Objective Value\"}},\"xaxis2\":{\"anchor\":\"y2\",\"domain\":[0.09256198347107437,0.16694214876033056],\"title\":{\"text\":\"bootstrap_type\"}},\"yaxis2\":{\"anchor\":\"x2\",\"domain\":[0.0,1.0],\"matches\":\"y\",\"showticklabels\":false},\"xaxis3\":{\"anchor\":\"y3\",\"domain\":[0.18512396694214875,0.25950413223140495],\"title\":{\"text\":\"colsample_bylevel\"},\"type\":\"log\"},\"yaxis3\":{\"anchor\":\"x3\",\"domain\":[0.0,1.0],\"matches\":\"y\",\"showticklabels\":false},\"xaxis4\":{\"anchor\":\"y4\",\"domain\":[0.27768595041322314,0.3520661157024793],\"title\":{\"text\":\"depth\"}},\"yaxis4\":{\"anchor\":\"x4\",\"domain\":[0.0,1.0],\"matches\":\"y\",\"showticklabels\":false},\"xaxis5\":{\"anchor\":\"y5\",\"domain\":[0.3702479338842975,0.44462809917355367],\"title\":{\"text\":\"grow_policy\"}},\"yaxis5\":{\"anchor\":\"x5\",\"domain\":[0.0,1.0],\"matches\":\"y\",\"showticklabels\":false},\"xaxis6\":{\"anchor\":\"y6\",\"domain\":[0.46280991735537186,0.5371900826446281],\"title\":{\"text\":\"l2_leaf_reg\"},\"type\":\"log\"},\"yaxis6\":{\"anchor\":\"x6\",\"domain\":[0.0,1.0],\"matches\":\"y\",\"showticklabels\":false},\"xaxis7\":{\"anchor\":\"y7\",\"domain\":[0.5553719008264462,0.6297520661157023],\"title\":{\"text\":\"learning_rate\"},\"type\":\"log\"},\"yaxis7\":{\"anchor\":\"x7\",\"domain\":[0.0,1.0],\"matches\":\"y\",\"showticklabels\":false},\"xaxis8\":{\"anchor\":\"y8\",\"domain\":[0.6479338842975206,0.7223140495867768],\"title\":{\"text\":\"od_type\"}},\"yaxis8\":{\"anchor\":\"x8\",\"domain\":[0.0,1.0],\"matches\":\"y\",\"showticklabels\":false},\"xaxis9\":{\"anchor\":\"y9\",\"domain\":[0.740495867768595,0.8148760330578512],\"title\":{\"text\":\"od_wait\"}},\"yaxis9\":{\"anchor\":\"x9\",\"domain\":[0.0,1.0],\"matches\":\"y\",\"showticklabels\":false},\"xaxis10\":{\"anchor\":\"y10\",\"domain\":[0.8330578512396694,0.9074380165289255],\"title\":{\"text\":\"random_strength\"},\"type\":\"log\"},\"yaxis10\":{\"anchor\":\"x10\",\"domain\":[0.0,1.0],\"matches\":\"y\",\"showticklabels\":false},\"xaxis11\":{\"anchor\":\"y11\",\"domain\":[0.9256198347107437,0.9999999999999999],\"title\":{\"text\":\"subsample\"},\"type\":\"log\"},\"yaxis11\":{\"anchor\":\"x11\",\"domain\":[0.0,1.0],\"matches\":\"y\",\"showticklabels\":false},\"title\":{\"text\":\"Slice Plot\"},\"width\":3300},                        {\"responsive\": true}                    ).then(function(){\n",
       "                            \n",
       "var gd = document.getElementById('ce5a8c15-10c4-44f2-bea1-9608b0f5b090');\n",
       "var x = new MutationObserver(function (mutations, observer) {{\n",
       "        var display = window.getComputedStyle(gd).display;\n",
       "        if (!display || display === 'none') {{\n",
       "            console.log([gd, 'removed!']);\n",
       "            Plotly.purge(gd);\n",
       "            observer.disconnect();\n",
       "        }}\n",
       "}});\n",
       "\n",
       "// Listen for the removal of the full notebook cells\n",
       "var notebookContainer = gd.closest('#notebook-container');\n",
       "if (notebookContainer) {{\n",
       "    x.observe(notebookContainer, {childList: true});\n",
       "}}\n",
       "\n",
       "// Listen for the clearing of the current output cell\n",
       "var outputEl = gd.closest('.output');\n",
       "if (outputEl) {{\n",
       "    x.observe(outputEl, {childList: true});\n",
       "}}\n",
       "\n",
       "                        })                };                });            </script>        </div>"
      ]
     },
     "metadata": {},
     "output_type": "display_data"
    }
   ],
   "source": [
    "optuna.visualization.plot_slice(study)"
   ]
  },
  {
   "cell_type": "code",
   "execution_count": 132,
   "id": "45880d6e",
   "metadata": {},
   "outputs": [
    {
     "data": {
      "application/vnd.plotly.v1+json": {
       "config": {
        "plotlyServerURL": "https://plot.ly"
       },
       "data": [
        {
         "dimensions": [
          {
           "label": "Objective Value",
           "range": [
            -0.18251286931806673,
            -0.07869794425282932
           ],
           "values": [
            -0.15350077860286063,
            -0.11872970469617403,
            -0.1637544042573469,
            -0.07869794425282932,
            -0.11411209862021676,
            -0.13111775732515923,
            -0.18251286931806673,
            -0.10221889805786487,
            -0.09535196314724644,
            -0.08771980443530215
           ]
          },
          {
           "label": "colsample_bylevel",
           "range": [
            -1.7505996684265446,
            -1.0523597413928134
           ],
           "ticktext": [
            "0.0178",
            "0.0886"
           ],
           "tickvals": [
            -1.7505996684265446,
            -1.0523597413928134
           ],
           "values": [
            -1.7505996684265446,
            -1.6123577361245853,
            -1.192987172115574,
            -1.1733799635800697,
            -1.0523597413928134,
            -1.3664692501476743,
            -1.1361345991180893,
            -1.628989093715217,
            -1.4565210793327532,
            -1.5837729875267696
           ]
          },
          {
           "label": "learning_rate",
           "range": [
            -2.508278261287171,
            -0.14774297480235263
           ],
           "ticktext": [
            "0.0031",
            "0.01",
            "0.1",
            "0.712"
           ],
           "tickvals": [
            -2.508278261287171,
            -2,
            -1,
            -0.14774297480235263
           ],
           "values": [
            -1.930537791587232,
            -1.489890966024093,
            -0.14774297480235263,
            -0.6508466118674082,
            -1.6547813105373157,
            -1.1950140885090497,
            -2.508278261287171,
            -0.6894258431511597,
            -0.6631019580095666,
            -0.861391817438067
           ]
          }
         ],
         "labelangle": 30,
         "labelside": "bottom",
         "line": {
          "color": [
           -0.15350077860286063,
           -0.11872970469617403,
           -0.1637544042573469,
           -0.07869794425282932,
           -0.11411209862021676,
           -0.13111775732515923,
           -0.18251286931806673,
           -0.10221889805786487,
           -0.09535196314724644,
           -0.08771980443530215
          ],
          "colorbar": {
           "title": {
            "text": "Objective Value"
           }
          },
          "colorscale": [
           [
            0,
            "rgb(247,251,255)"
           ],
           [
            0.125,
            "rgb(222,235,247)"
           ],
           [
            0.25,
            "rgb(198,219,239)"
           ],
           [
            0.375,
            "rgb(158,202,225)"
           ],
           [
            0.5,
            "rgb(107,174,214)"
           ],
           [
            0.625,
            "rgb(66,146,198)"
           ],
           [
            0.75,
            "rgb(33,113,181)"
           ],
           [
            0.875,
            "rgb(8,81,156)"
           ],
           [
            1,
            "rgb(8,48,107)"
           ]
          ],
          "reversescale": false,
          "showscale": true
         },
         "type": "parcoords"
        }
       ],
       "layout": {
        "template": {
         "data": {
          "bar": [
           {
            "error_x": {
             "color": "#2a3f5f"
            },
            "error_y": {
             "color": "#2a3f5f"
            },
            "marker": {
             "line": {
              "color": "#E5ECF6",
              "width": 0.5
             },
             "pattern": {
              "fillmode": "overlay",
              "size": 10,
              "solidity": 0.2
             }
            },
            "type": "bar"
           }
          ],
          "barpolar": [
           {
            "marker": {
             "line": {
              "color": "#E5ECF6",
              "width": 0.5
             },
             "pattern": {
              "fillmode": "overlay",
              "size": 10,
              "solidity": 0.2
             }
            },
            "type": "barpolar"
           }
          ],
          "carpet": [
           {
            "aaxis": {
             "endlinecolor": "#2a3f5f",
             "gridcolor": "white",
             "linecolor": "white",
             "minorgridcolor": "white",
             "startlinecolor": "#2a3f5f"
            },
            "baxis": {
             "endlinecolor": "#2a3f5f",
             "gridcolor": "white",
             "linecolor": "white",
             "minorgridcolor": "white",
             "startlinecolor": "#2a3f5f"
            },
            "type": "carpet"
           }
          ],
          "choropleth": [
           {
            "colorbar": {
             "outlinewidth": 0,
             "ticks": ""
            },
            "type": "choropleth"
           }
          ],
          "contour": [
           {
            "colorbar": {
             "outlinewidth": 0,
             "ticks": ""
            },
            "colorscale": [
             [
              0,
              "#0d0887"
             ],
             [
              0.1111111111111111,
              "#46039f"
             ],
             [
              0.2222222222222222,
              "#7201a8"
             ],
             [
              0.3333333333333333,
              "#9c179e"
             ],
             [
              0.4444444444444444,
              "#bd3786"
             ],
             [
              0.5555555555555556,
              "#d8576b"
             ],
             [
              0.6666666666666666,
              "#ed7953"
             ],
             [
              0.7777777777777778,
              "#fb9f3a"
             ],
             [
              0.8888888888888888,
              "#fdca26"
             ],
             [
              1,
              "#f0f921"
             ]
            ],
            "type": "contour"
           }
          ],
          "contourcarpet": [
           {
            "colorbar": {
             "outlinewidth": 0,
             "ticks": ""
            },
            "type": "contourcarpet"
           }
          ],
          "heatmap": [
           {
            "colorbar": {
             "outlinewidth": 0,
             "ticks": ""
            },
            "colorscale": [
             [
              0,
              "#0d0887"
             ],
             [
              0.1111111111111111,
              "#46039f"
             ],
             [
              0.2222222222222222,
              "#7201a8"
             ],
             [
              0.3333333333333333,
              "#9c179e"
             ],
             [
              0.4444444444444444,
              "#bd3786"
             ],
             [
              0.5555555555555556,
              "#d8576b"
             ],
             [
              0.6666666666666666,
              "#ed7953"
             ],
             [
              0.7777777777777778,
              "#fb9f3a"
             ],
             [
              0.8888888888888888,
              "#fdca26"
             ],
             [
              1,
              "#f0f921"
             ]
            ],
            "type": "heatmap"
           }
          ],
          "heatmapgl": [
           {
            "colorbar": {
             "outlinewidth": 0,
             "ticks": ""
            },
            "colorscale": [
             [
              0,
              "#0d0887"
             ],
             [
              0.1111111111111111,
              "#46039f"
             ],
             [
              0.2222222222222222,
              "#7201a8"
             ],
             [
              0.3333333333333333,
              "#9c179e"
             ],
             [
              0.4444444444444444,
              "#bd3786"
             ],
             [
              0.5555555555555556,
              "#d8576b"
             ],
             [
              0.6666666666666666,
              "#ed7953"
             ],
             [
              0.7777777777777778,
              "#fb9f3a"
             ],
             [
              0.8888888888888888,
              "#fdca26"
             ],
             [
              1,
              "#f0f921"
             ]
            ],
            "type": "heatmapgl"
           }
          ],
          "histogram": [
           {
            "marker": {
             "pattern": {
              "fillmode": "overlay",
              "size": 10,
              "solidity": 0.2
             }
            },
            "type": "histogram"
           }
          ],
          "histogram2d": [
           {
            "colorbar": {
             "outlinewidth": 0,
             "ticks": ""
            },
            "colorscale": [
             [
              0,
              "#0d0887"
             ],
             [
              0.1111111111111111,
              "#46039f"
             ],
             [
              0.2222222222222222,
              "#7201a8"
             ],
             [
              0.3333333333333333,
              "#9c179e"
             ],
             [
              0.4444444444444444,
              "#bd3786"
             ],
             [
              0.5555555555555556,
              "#d8576b"
             ],
             [
              0.6666666666666666,
              "#ed7953"
             ],
             [
              0.7777777777777778,
              "#fb9f3a"
             ],
             [
              0.8888888888888888,
              "#fdca26"
             ],
             [
              1,
              "#f0f921"
             ]
            ],
            "type": "histogram2d"
           }
          ],
          "histogram2dcontour": [
           {
            "colorbar": {
             "outlinewidth": 0,
             "ticks": ""
            },
            "colorscale": [
             [
              0,
              "#0d0887"
             ],
             [
              0.1111111111111111,
              "#46039f"
             ],
             [
              0.2222222222222222,
              "#7201a8"
             ],
             [
              0.3333333333333333,
              "#9c179e"
             ],
             [
              0.4444444444444444,
              "#bd3786"
             ],
             [
              0.5555555555555556,
              "#d8576b"
             ],
             [
              0.6666666666666666,
              "#ed7953"
             ],
             [
              0.7777777777777778,
              "#fb9f3a"
             ],
             [
              0.8888888888888888,
              "#fdca26"
             ],
             [
              1,
              "#f0f921"
             ]
            ],
            "type": "histogram2dcontour"
           }
          ],
          "mesh3d": [
           {
            "colorbar": {
             "outlinewidth": 0,
             "ticks": ""
            },
            "type": "mesh3d"
           }
          ],
          "parcoords": [
           {
            "line": {
             "colorbar": {
              "outlinewidth": 0,
              "ticks": ""
             }
            },
            "type": "parcoords"
           }
          ],
          "pie": [
           {
            "automargin": true,
            "type": "pie"
           }
          ],
          "scatter": [
           {
            "fillpattern": {
             "fillmode": "overlay",
             "size": 10,
             "solidity": 0.2
            },
            "type": "scatter"
           }
          ],
          "scatter3d": [
           {
            "line": {
             "colorbar": {
              "outlinewidth": 0,
              "ticks": ""
             }
            },
            "marker": {
             "colorbar": {
              "outlinewidth": 0,
              "ticks": ""
             }
            },
            "type": "scatter3d"
           }
          ],
          "scattercarpet": [
           {
            "marker": {
             "colorbar": {
              "outlinewidth": 0,
              "ticks": ""
             }
            },
            "type": "scattercarpet"
           }
          ],
          "scattergeo": [
           {
            "marker": {
             "colorbar": {
              "outlinewidth": 0,
              "ticks": ""
             }
            },
            "type": "scattergeo"
           }
          ],
          "scattergl": [
           {
            "marker": {
             "colorbar": {
              "outlinewidth": 0,
              "ticks": ""
             }
            },
            "type": "scattergl"
           }
          ],
          "scattermapbox": [
           {
            "marker": {
             "colorbar": {
              "outlinewidth": 0,
              "ticks": ""
             }
            },
            "type": "scattermapbox"
           }
          ],
          "scatterpolar": [
           {
            "marker": {
             "colorbar": {
              "outlinewidth": 0,
              "ticks": ""
             }
            },
            "type": "scatterpolar"
           }
          ],
          "scatterpolargl": [
           {
            "marker": {
             "colorbar": {
              "outlinewidth": 0,
              "ticks": ""
             }
            },
            "type": "scatterpolargl"
           }
          ],
          "scatterternary": [
           {
            "marker": {
             "colorbar": {
              "outlinewidth": 0,
              "ticks": ""
             }
            },
            "type": "scatterternary"
           }
          ],
          "surface": [
           {
            "colorbar": {
             "outlinewidth": 0,
             "ticks": ""
            },
            "colorscale": [
             [
              0,
              "#0d0887"
             ],
             [
              0.1111111111111111,
              "#46039f"
             ],
             [
              0.2222222222222222,
              "#7201a8"
             ],
             [
              0.3333333333333333,
              "#9c179e"
             ],
             [
              0.4444444444444444,
              "#bd3786"
             ],
             [
              0.5555555555555556,
              "#d8576b"
             ],
             [
              0.6666666666666666,
              "#ed7953"
             ],
             [
              0.7777777777777778,
              "#fb9f3a"
             ],
             [
              0.8888888888888888,
              "#fdca26"
             ],
             [
              1,
              "#f0f921"
             ]
            ],
            "type": "surface"
           }
          ],
          "table": [
           {
            "cells": {
             "fill": {
              "color": "#EBF0F8"
             },
             "line": {
              "color": "white"
             }
            },
            "header": {
             "fill": {
              "color": "#C8D4E3"
             },
             "line": {
              "color": "white"
             }
            },
            "type": "table"
           }
          ]
         },
         "layout": {
          "annotationdefaults": {
           "arrowcolor": "#2a3f5f",
           "arrowhead": 0,
           "arrowwidth": 1
          },
          "autotypenumbers": "strict",
          "coloraxis": {
           "colorbar": {
            "outlinewidth": 0,
            "ticks": ""
           }
          },
          "colorscale": {
           "diverging": [
            [
             0,
             "#8e0152"
            ],
            [
             0.1,
             "#c51b7d"
            ],
            [
             0.2,
             "#de77ae"
            ],
            [
             0.3,
             "#f1b6da"
            ],
            [
             0.4,
             "#fde0ef"
            ],
            [
             0.5,
             "#f7f7f7"
            ],
            [
             0.6,
             "#e6f5d0"
            ],
            [
             0.7,
             "#b8e186"
            ],
            [
             0.8,
             "#7fbc41"
            ],
            [
             0.9,
             "#4d9221"
            ],
            [
             1,
             "#276419"
            ]
           ],
           "sequential": [
            [
             0,
             "#0d0887"
            ],
            [
             0.1111111111111111,
             "#46039f"
            ],
            [
             0.2222222222222222,
             "#7201a8"
            ],
            [
             0.3333333333333333,
             "#9c179e"
            ],
            [
             0.4444444444444444,
             "#bd3786"
            ],
            [
             0.5555555555555556,
             "#d8576b"
            ],
            [
             0.6666666666666666,
             "#ed7953"
            ],
            [
             0.7777777777777778,
             "#fb9f3a"
            ],
            [
             0.8888888888888888,
             "#fdca26"
            ],
            [
             1,
             "#f0f921"
            ]
           ],
           "sequentialminus": [
            [
             0,
             "#0d0887"
            ],
            [
             0.1111111111111111,
             "#46039f"
            ],
            [
             0.2222222222222222,
             "#7201a8"
            ],
            [
             0.3333333333333333,
             "#9c179e"
            ],
            [
             0.4444444444444444,
             "#bd3786"
            ],
            [
             0.5555555555555556,
             "#d8576b"
            ],
            [
             0.6666666666666666,
             "#ed7953"
            ],
            [
             0.7777777777777778,
             "#fb9f3a"
            ],
            [
             0.8888888888888888,
             "#fdca26"
            ],
            [
             1,
             "#f0f921"
            ]
           ]
          },
          "colorway": [
           "#636efa",
           "#EF553B",
           "#00cc96",
           "#ab63fa",
           "#FFA15A",
           "#19d3f3",
           "#FF6692",
           "#B6E880",
           "#FF97FF",
           "#FECB52"
          ],
          "font": {
           "color": "#2a3f5f"
          },
          "geo": {
           "bgcolor": "white",
           "lakecolor": "white",
           "landcolor": "#E5ECF6",
           "showlakes": true,
           "showland": true,
           "subunitcolor": "white"
          },
          "hoverlabel": {
           "align": "left"
          },
          "hovermode": "closest",
          "mapbox": {
           "style": "light"
          },
          "paper_bgcolor": "white",
          "plot_bgcolor": "#E5ECF6",
          "polar": {
           "angularaxis": {
            "gridcolor": "white",
            "linecolor": "white",
            "ticks": ""
           },
           "bgcolor": "#E5ECF6",
           "radialaxis": {
            "gridcolor": "white",
            "linecolor": "white",
            "ticks": ""
           }
          },
          "scene": {
           "xaxis": {
            "backgroundcolor": "#E5ECF6",
            "gridcolor": "white",
            "gridwidth": 2,
            "linecolor": "white",
            "showbackground": true,
            "ticks": "",
            "zerolinecolor": "white"
           },
           "yaxis": {
            "backgroundcolor": "#E5ECF6",
            "gridcolor": "white",
            "gridwidth": 2,
            "linecolor": "white",
            "showbackground": true,
            "ticks": "",
            "zerolinecolor": "white"
           },
           "zaxis": {
            "backgroundcolor": "#E5ECF6",
            "gridcolor": "white",
            "gridwidth": 2,
            "linecolor": "white",
            "showbackground": true,
            "ticks": "",
            "zerolinecolor": "white"
           }
          },
          "shapedefaults": {
           "line": {
            "color": "#2a3f5f"
           }
          },
          "ternary": {
           "aaxis": {
            "gridcolor": "white",
            "linecolor": "white",
            "ticks": ""
           },
           "baxis": {
            "gridcolor": "white",
            "linecolor": "white",
            "ticks": ""
           },
           "bgcolor": "#E5ECF6",
           "caxis": {
            "gridcolor": "white",
            "linecolor": "white",
            "ticks": ""
           }
          },
          "title": {
           "x": 0.05
          },
          "xaxis": {
           "automargin": true,
           "gridcolor": "white",
           "linecolor": "white",
           "ticks": "",
           "title": {
            "standoff": 15
           },
           "zerolinecolor": "white",
           "zerolinewidth": 2
          },
          "yaxis": {
           "automargin": true,
           "gridcolor": "white",
           "linecolor": "white",
           "ticks": "",
           "title": {
            "standoff": 15
           },
           "zerolinecolor": "white",
           "zerolinewidth": 2
          }
         }
        },
        "title": {
         "text": "Parallel Coordinate Plot"
        }
       }
      },
      "text/html": [
       "<div>                            <div id=\"83893bd2-fb08-4e5f-b34b-34163041a6fb\" class=\"plotly-graph-div\" style=\"height:525px; width:100%;\"></div>            <script type=\"text/javascript\">                require([\"plotly\"], function(Plotly) {                    window.PLOTLYENV=window.PLOTLYENV || {};                                    if (document.getElementById(\"83893bd2-fb08-4e5f-b34b-34163041a6fb\")) {                    Plotly.newPlot(                        \"83893bd2-fb08-4e5f-b34b-34163041a6fb\",                        [{\"dimensions\":[{\"label\":\"Objective Value\",\"range\":[-0.18251286931806673,-0.07869794425282932],\"values\":[-0.15350077860286063,-0.11872970469617403,-0.1637544042573469,-0.07869794425282932,-0.11411209862021676,-0.13111775732515923,-0.18251286931806673,-0.10221889805786487,-0.09535196314724644,-0.08771980443530215]},{\"label\":\"colsample_bylevel\",\"range\":[-1.7505996684265446,-1.0523597413928134],\"ticktext\":[\"0.0178\",\"0.0886\"],\"tickvals\":[-1.7505996684265446,-1.0523597413928134],\"values\":[-1.7505996684265446,-1.6123577361245853,-1.192987172115574,-1.1733799635800697,-1.0523597413928134,-1.3664692501476743,-1.1361345991180893,-1.628989093715217,-1.4565210793327532,-1.5837729875267696]},{\"label\":\"learning_rate\",\"range\":[-2.508278261287171,-0.14774297480235263],\"ticktext\":[\"0.0031\",\"0.01\",\"0.1\",\"0.712\"],\"tickvals\":[-2.508278261287171,-2,-1,-0.14774297480235263],\"values\":[-1.930537791587232,-1.489890966024093,-0.14774297480235263,-0.6508466118674082,-1.6547813105373157,-1.1950140885090497,-2.508278261287171,-0.6894258431511597,-0.6631019580095666,-0.861391817438067]}],\"labelangle\":30,\"labelside\":\"bottom\",\"line\":{\"color\":[-0.15350077860286063,-0.11872970469617403,-0.1637544042573469,-0.07869794425282932,-0.11411209862021676,-0.13111775732515923,-0.18251286931806673,-0.10221889805786487,-0.09535196314724644,-0.08771980443530215],\"colorbar\":{\"title\":{\"text\":\"Objective Value\"}},\"colorscale\":[[0.0,\"rgb(247,251,255)\"],[0.125,\"rgb(222,235,247)\"],[0.25,\"rgb(198,219,239)\"],[0.375,\"rgb(158,202,225)\"],[0.5,\"rgb(107,174,214)\"],[0.625,\"rgb(66,146,198)\"],[0.75,\"rgb(33,113,181)\"],[0.875,\"rgb(8,81,156)\"],[1.0,\"rgb(8,48,107)\"]],\"reversescale\":false,\"showscale\":true},\"type\":\"parcoords\"}],                        {\"title\":{\"text\":\"Parallel Coordinate Plot\"},\"template\":{\"data\":{\"histogram2dcontour\":[{\"type\":\"histogram2dcontour\",\"colorbar\":{\"outlinewidth\":0,\"ticks\":\"\"},\"colorscale\":[[0.0,\"#0d0887\"],[0.1111111111111111,\"#46039f\"],[0.2222222222222222,\"#7201a8\"],[0.3333333333333333,\"#9c179e\"],[0.4444444444444444,\"#bd3786\"],[0.5555555555555556,\"#d8576b\"],[0.6666666666666666,\"#ed7953\"],[0.7777777777777778,\"#fb9f3a\"],[0.8888888888888888,\"#fdca26\"],[1.0,\"#f0f921\"]]}],\"choropleth\":[{\"type\":\"choropleth\",\"colorbar\":{\"outlinewidth\":0,\"ticks\":\"\"}}],\"histogram2d\":[{\"type\":\"histogram2d\",\"colorbar\":{\"outlinewidth\":0,\"ticks\":\"\"},\"colorscale\":[[0.0,\"#0d0887\"],[0.1111111111111111,\"#46039f\"],[0.2222222222222222,\"#7201a8\"],[0.3333333333333333,\"#9c179e\"],[0.4444444444444444,\"#bd3786\"],[0.5555555555555556,\"#d8576b\"],[0.6666666666666666,\"#ed7953\"],[0.7777777777777778,\"#fb9f3a\"],[0.8888888888888888,\"#fdca26\"],[1.0,\"#f0f921\"]]}],\"heatmap\":[{\"type\":\"heatmap\",\"colorbar\":{\"outlinewidth\":0,\"ticks\":\"\"},\"colorscale\":[[0.0,\"#0d0887\"],[0.1111111111111111,\"#46039f\"],[0.2222222222222222,\"#7201a8\"],[0.3333333333333333,\"#9c179e\"],[0.4444444444444444,\"#bd3786\"],[0.5555555555555556,\"#d8576b\"],[0.6666666666666666,\"#ed7953\"],[0.7777777777777778,\"#fb9f3a\"],[0.8888888888888888,\"#fdca26\"],[1.0,\"#f0f921\"]]}],\"heatmapgl\":[{\"type\":\"heatmapgl\",\"colorbar\":{\"outlinewidth\":0,\"ticks\":\"\"},\"colorscale\":[[0.0,\"#0d0887\"],[0.1111111111111111,\"#46039f\"],[0.2222222222222222,\"#7201a8\"],[0.3333333333333333,\"#9c179e\"],[0.4444444444444444,\"#bd3786\"],[0.5555555555555556,\"#d8576b\"],[0.6666666666666666,\"#ed7953\"],[0.7777777777777778,\"#fb9f3a\"],[0.8888888888888888,\"#fdca26\"],[1.0,\"#f0f921\"]]}],\"contourcarpet\":[{\"type\":\"contourcarpet\",\"colorbar\":{\"outlinewidth\":0,\"ticks\":\"\"}}],\"contour\":[{\"type\":\"contour\",\"colorbar\":{\"outlinewidth\":0,\"ticks\":\"\"},\"colorscale\":[[0.0,\"#0d0887\"],[0.1111111111111111,\"#46039f\"],[0.2222222222222222,\"#7201a8\"],[0.3333333333333333,\"#9c179e\"],[0.4444444444444444,\"#bd3786\"],[0.5555555555555556,\"#d8576b\"],[0.6666666666666666,\"#ed7953\"],[0.7777777777777778,\"#fb9f3a\"],[0.8888888888888888,\"#fdca26\"],[1.0,\"#f0f921\"]]}],\"surface\":[{\"type\":\"surface\",\"colorbar\":{\"outlinewidth\":0,\"ticks\":\"\"},\"colorscale\":[[0.0,\"#0d0887\"],[0.1111111111111111,\"#46039f\"],[0.2222222222222222,\"#7201a8\"],[0.3333333333333333,\"#9c179e\"],[0.4444444444444444,\"#bd3786\"],[0.5555555555555556,\"#d8576b\"],[0.6666666666666666,\"#ed7953\"],[0.7777777777777778,\"#fb9f3a\"],[0.8888888888888888,\"#fdca26\"],[1.0,\"#f0f921\"]]}],\"mesh3d\":[{\"type\":\"mesh3d\",\"colorbar\":{\"outlinewidth\":0,\"ticks\":\"\"}}],\"scatter\":[{\"fillpattern\":{\"fillmode\":\"overlay\",\"size\":10,\"solidity\":0.2},\"type\":\"scatter\"}],\"parcoords\":[{\"type\":\"parcoords\",\"line\":{\"colorbar\":{\"outlinewidth\":0,\"ticks\":\"\"}}}],\"scatterpolargl\":[{\"type\":\"scatterpolargl\",\"marker\":{\"colorbar\":{\"outlinewidth\":0,\"ticks\":\"\"}}}],\"bar\":[{\"error_x\":{\"color\":\"#2a3f5f\"},\"error_y\":{\"color\":\"#2a3f5f\"},\"marker\":{\"line\":{\"color\":\"#E5ECF6\",\"width\":0.5},\"pattern\":{\"fillmode\":\"overlay\",\"size\":10,\"solidity\":0.2}},\"type\":\"bar\"}],\"scattergeo\":[{\"type\":\"scattergeo\",\"marker\":{\"colorbar\":{\"outlinewidth\":0,\"ticks\":\"\"}}}],\"scatterpolar\":[{\"type\":\"scatterpolar\",\"marker\":{\"colorbar\":{\"outlinewidth\":0,\"ticks\":\"\"}}}],\"histogram\":[{\"marker\":{\"pattern\":{\"fillmode\":\"overlay\",\"size\":10,\"solidity\":0.2}},\"type\":\"histogram\"}],\"scattergl\":[{\"type\":\"scattergl\",\"marker\":{\"colorbar\":{\"outlinewidth\":0,\"ticks\":\"\"}}}],\"scatter3d\":[{\"type\":\"scatter3d\",\"line\":{\"colorbar\":{\"outlinewidth\":0,\"ticks\":\"\"}},\"marker\":{\"colorbar\":{\"outlinewidth\":0,\"ticks\":\"\"}}}],\"scattermapbox\":[{\"type\":\"scattermapbox\",\"marker\":{\"colorbar\":{\"outlinewidth\":0,\"ticks\":\"\"}}}],\"scatterternary\":[{\"type\":\"scatterternary\",\"marker\":{\"colorbar\":{\"outlinewidth\":0,\"ticks\":\"\"}}}],\"scattercarpet\":[{\"type\":\"scattercarpet\",\"marker\":{\"colorbar\":{\"outlinewidth\":0,\"ticks\":\"\"}}}],\"carpet\":[{\"aaxis\":{\"endlinecolor\":\"#2a3f5f\",\"gridcolor\":\"white\",\"linecolor\":\"white\",\"minorgridcolor\":\"white\",\"startlinecolor\":\"#2a3f5f\"},\"baxis\":{\"endlinecolor\":\"#2a3f5f\",\"gridcolor\":\"white\",\"linecolor\":\"white\",\"minorgridcolor\":\"white\",\"startlinecolor\":\"#2a3f5f\"},\"type\":\"carpet\"}],\"table\":[{\"cells\":{\"fill\":{\"color\":\"#EBF0F8\"},\"line\":{\"color\":\"white\"}},\"header\":{\"fill\":{\"color\":\"#C8D4E3\"},\"line\":{\"color\":\"white\"}},\"type\":\"table\"}],\"barpolar\":[{\"marker\":{\"line\":{\"color\":\"#E5ECF6\",\"width\":0.5},\"pattern\":{\"fillmode\":\"overlay\",\"size\":10,\"solidity\":0.2}},\"type\":\"barpolar\"}],\"pie\":[{\"automargin\":true,\"type\":\"pie\"}]},\"layout\":{\"autotypenumbers\":\"strict\",\"colorway\":[\"#636efa\",\"#EF553B\",\"#00cc96\",\"#ab63fa\",\"#FFA15A\",\"#19d3f3\",\"#FF6692\",\"#B6E880\",\"#FF97FF\",\"#FECB52\"],\"font\":{\"color\":\"#2a3f5f\"},\"hovermode\":\"closest\",\"hoverlabel\":{\"align\":\"left\"},\"paper_bgcolor\":\"white\",\"plot_bgcolor\":\"#E5ECF6\",\"polar\":{\"bgcolor\":\"#E5ECF6\",\"angularaxis\":{\"gridcolor\":\"white\",\"linecolor\":\"white\",\"ticks\":\"\"},\"radialaxis\":{\"gridcolor\":\"white\",\"linecolor\":\"white\",\"ticks\":\"\"}},\"ternary\":{\"bgcolor\":\"#E5ECF6\",\"aaxis\":{\"gridcolor\":\"white\",\"linecolor\":\"white\",\"ticks\":\"\"},\"baxis\":{\"gridcolor\":\"white\",\"linecolor\":\"white\",\"ticks\":\"\"},\"caxis\":{\"gridcolor\":\"white\",\"linecolor\":\"white\",\"ticks\":\"\"}},\"coloraxis\":{\"colorbar\":{\"outlinewidth\":0,\"ticks\":\"\"}},\"colorscale\":{\"sequential\":[[0.0,\"#0d0887\"],[0.1111111111111111,\"#46039f\"],[0.2222222222222222,\"#7201a8\"],[0.3333333333333333,\"#9c179e\"],[0.4444444444444444,\"#bd3786\"],[0.5555555555555556,\"#d8576b\"],[0.6666666666666666,\"#ed7953\"],[0.7777777777777778,\"#fb9f3a\"],[0.8888888888888888,\"#fdca26\"],[1.0,\"#f0f921\"]],\"sequentialminus\":[[0.0,\"#0d0887\"],[0.1111111111111111,\"#46039f\"],[0.2222222222222222,\"#7201a8\"],[0.3333333333333333,\"#9c179e\"],[0.4444444444444444,\"#bd3786\"],[0.5555555555555556,\"#d8576b\"],[0.6666666666666666,\"#ed7953\"],[0.7777777777777778,\"#fb9f3a\"],[0.8888888888888888,\"#fdca26\"],[1.0,\"#f0f921\"]],\"diverging\":[[0,\"#8e0152\"],[0.1,\"#c51b7d\"],[0.2,\"#de77ae\"],[0.3,\"#f1b6da\"],[0.4,\"#fde0ef\"],[0.5,\"#f7f7f7\"],[0.6,\"#e6f5d0\"],[0.7,\"#b8e186\"],[0.8,\"#7fbc41\"],[0.9,\"#4d9221\"],[1,\"#276419\"]]},\"xaxis\":{\"gridcolor\":\"white\",\"linecolor\":\"white\",\"ticks\":\"\",\"title\":{\"standoff\":15},\"zerolinecolor\":\"white\",\"automargin\":true,\"zerolinewidth\":2},\"yaxis\":{\"gridcolor\":\"white\",\"linecolor\":\"white\",\"ticks\":\"\",\"title\":{\"standoff\":15},\"zerolinecolor\":\"white\",\"automargin\":true,\"zerolinewidth\":2},\"scene\":{\"xaxis\":{\"backgroundcolor\":\"#E5ECF6\",\"gridcolor\":\"white\",\"linecolor\":\"white\",\"showbackground\":true,\"ticks\":\"\",\"zerolinecolor\":\"white\",\"gridwidth\":2},\"yaxis\":{\"backgroundcolor\":\"#E5ECF6\",\"gridcolor\":\"white\",\"linecolor\":\"white\",\"showbackground\":true,\"ticks\":\"\",\"zerolinecolor\":\"white\",\"gridwidth\":2},\"zaxis\":{\"backgroundcolor\":\"#E5ECF6\",\"gridcolor\":\"white\",\"linecolor\":\"white\",\"showbackground\":true,\"ticks\":\"\",\"zerolinecolor\":\"white\",\"gridwidth\":2}},\"shapedefaults\":{\"line\":{\"color\":\"#2a3f5f\"}},\"annotationdefaults\":{\"arrowcolor\":\"#2a3f5f\",\"arrowhead\":0,\"arrowwidth\":1},\"geo\":{\"bgcolor\":\"white\",\"landcolor\":\"#E5ECF6\",\"subunitcolor\":\"white\",\"showland\":true,\"showlakes\":true,\"lakecolor\":\"white\"},\"title\":{\"x\":0.05},\"mapbox\":{\"style\":\"light\"}}}},                        {\"responsive\": true}                    ).then(function(){\n",
       "                            \n",
       "var gd = document.getElementById('83893bd2-fb08-4e5f-b34b-34163041a6fb');\n",
       "var x = new MutationObserver(function (mutations, observer) {{\n",
       "        var display = window.getComputedStyle(gd).display;\n",
       "        if (!display || display === 'none') {{\n",
       "            console.log([gd, 'removed!']);\n",
       "            Plotly.purge(gd);\n",
       "            observer.disconnect();\n",
       "        }}\n",
       "}});\n",
       "\n",
       "// Listen for the removal of the full notebook cells\n",
       "var notebookContainer = gd.closest('#notebook-container');\n",
       "if (notebookContainer) {{\n",
       "    x.observe(notebookContainer, {childList: true});\n",
       "}}\n",
       "\n",
       "// Listen for the clearing of the current output cell\n",
       "var outputEl = gd.closest('.output');\n",
       "if (outputEl) {{\n",
       "    x.observe(outputEl, {childList: true});\n",
       "}}\n",
       "\n",
       "                        })                };                });            </script>        </div>"
      ]
     },
     "metadata": {},
     "output_type": "display_data"
    }
   ],
   "source": [
    "optuna.visualization.plot_parallel_coordinate(study, [\"colsample_bylevel\", \"learning_rate\"])"
   ]
  },
  {
   "cell_type": "code",
   "execution_count": 133,
   "id": "64cb8f4f",
   "metadata": {},
   "outputs": [
    {
     "data": {
      "application/vnd.plotly.v1+json": {
       "config": {
        "plotlyServerURL": "https://plot.ly"
       },
       "data": [
        {
         "colorbar": {
          "title": {
           "text": "Objective Value"
          }
         },
         "colorscale": [
          [
           0,
           "rgb(247,251,255)"
          ],
          [
           0.125,
           "rgb(222,235,247)"
          ],
          [
           0.25,
           "rgb(198,219,239)"
          ],
          [
           0.375,
           "rgb(158,202,225)"
          ],
          [
           0.5,
           "rgb(107,174,214)"
          ],
          [
           0.625,
           "rgb(66,146,198)"
          ],
          [
           0.75,
           "rgb(33,113,181)"
          ],
          [
           0.875,
           "rgb(8,81,156)"
          ],
          [
           1,
           "rgb(8,48,107)"
          ]
         ],
         "connectgaps": true,
         "contours": {
          "coloring": "heatmap"
         },
         "hoverinfo": "none",
         "line": {
          "smoothing": 1.3
         },
         "reversescale": false,
         "type": "contour",
         "x": [
          0.01638658047740315,
          0.017758256783472776,
          0.023496918270929545,
          0.02441418684009092,
          0.02607516183054433,
          0.034952554428043896,
          0.04300616827051409,
          0.0641228516461588,
          0.06708416777430125,
          0.07309125196390603,
          0.08864214537855278,
          0.09606213948303408
         ],
         "y": [
          0.002364258583284464,
          0.0031025710709128417,
          0.011734435669307746,
          0.0221420939650127,
          0.03236749085546712,
          0.06382427812646875,
          0.13759675204853164,
          0.2044438999177395,
          0.21721911602115418,
          0.22343612358058257,
          0.711634550310974,
          0.9338643346658193
         ],
         "z": [
          [
           null,
           null,
           null,
           null,
           null,
           null,
           null,
           null,
           null,
           null,
           null,
           null
          ],
          [
           null,
           null,
           null,
           null,
           null,
           null,
           null,
           null,
           null,
           -0.18251286931806673,
           null,
           null
          ],
          [
           null,
           -0.15350077860286063,
           null,
           null,
           null,
           null,
           null,
           null,
           null,
           null,
           null,
           null
          ],
          [
           null,
           null,
           null,
           null,
           null,
           null,
           null,
           null,
           null,
           null,
           -0.11411209862021676,
           null
          ],
          [
           null,
           null,
           null,
           -0.11872970469617403,
           null,
           null,
           null,
           null,
           null,
           null,
           null,
           null
          ],
          [
           null,
           null,
           null,
           null,
           null,
           null,
           -0.13111775732515923,
           null,
           null,
           null,
           null,
           null
          ],
          [
           null,
           null,
           null,
           null,
           -0.08771980443530215,
           null,
           null,
           null,
           null,
           null,
           null,
           null
          ],
          [
           null,
           null,
           -0.10221889805786487,
           null,
           null,
           null,
           null,
           null,
           null,
           null,
           null,
           null
          ],
          [
           null,
           null,
           null,
           null,
           null,
           -0.09535196314724644,
           null,
           null,
           null,
           null,
           null,
           null
          ],
          [
           null,
           null,
           null,
           null,
           null,
           null,
           null,
           null,
           -0.07869794425282932,
           null,
           null,
           null
          ],
          [
           null,
           null,
           null,
           null,
           null,
           null,
           null,
           -0.1637544042573469,
           null,
           null,
           null,
           null
          ],
          [
           null,
           null,
           null,
           null,
           null,
           null,
           null,
           null,
           null,
           null,
           null,
           null
          ]
         ]
        },
        {
         "marker": {
          "color": "black",
          "line": {
           "color": "Grey",
           "width": 2
          }
         },
         "mode": "markers",
         "showlegend": false,
         "type": "scatter",
         "x": [
          0.017758256783472776,
          0.02441418684009092,
          0.0641228516461588,
          0.06708416777430125,
          0.08864214537855278,
          0.04300616827051409,
          0.07309125196390603,
          0.023496918270929545,
          0.034952554428043896,
          0.02607516183054433
         ],
         "y": [
          0.011734435669307746,
          0.03236749085546712,
          0.711634550310974,
          0.22343612358058257,
          0.0221420939650127,
          0.06382427812646875,
          0.0031025710709128417,
          0.2044438999177395,
          0.21721911602115418,
          0.13759675204853164
         ]
        }
       ],
       "layout": {
        "template": {
         "data": {
          "bar": [
           {
            "error_x": {
             "color": "#2a3f5f"
            },
            "error_y": {
             "color": "#2a3f5f"
            },
            "marker": {
             "line": {
              "color": "#E5ECF6",
              "width": 0.5
             },
             "pattern": {
              "fillmode": "overlay",
              "size": 10,
              "solidity": 0.2
             }
            },
            "type": "bar"
           }
          ],
          "barpolar": [
           {
            "marker": {
             "line": {
              "color": "#E5ECF6",
              "width": 0.5
             },
             "pattern": {
              "fillmode": "overlay",
              "size": 10,
              "solidity": 0.2
             }
            },
            "type": "barpolar"
           }
          ],
          "carpet": [
           {
            "aaxis": {
             "endlinecolor": "#2a3f5f",
             "gridcolor": "white",
             "linecolor": "white",
             "minorgridcolor": "white",
             "startlinecolor": "#2a3f5f"
            },
            "baxis": {
             "endlinecolor": "#2a3f5f",
             "gridcolor": "white",
             "linecolor": "white",
             "minorgridcolor": "white",
             "startlinecolor": "#2a3f5f"
            },
            "type": "carpet"
           }
          ],
          "choropleth": [
           {
            "colorbar": {
             "outlinewidth": 0,
             "ticks": ""
            },
            "type": "choropleth"
           }
          ],
          "contour": [
           {
            "colorbar": {
             "outlinewidth": 0,
             "ticks": ""
            },
            "colorscale": [
             [
              0,
              "#0d0887"
             ],
             [
              0.1111111111111111,
              "#46039f"
             ],
             [
              0.2222222222222222,
              "#7201a8"
             ],
             [
              0.3333333333333333,
              "#9c179e"
             ],
             [
              0.4444444444444444,
              "#bd3786"
             ],
             [
              0.5555555555555556,
              "#d8576b"
             ],
             [
              0.6666666666666666,
              "#ed7953"
             ],
             [
              0.7777777777777778,
              "#fb9f3a"
             ],
             [
              0.8888888888888888,
              "#fdca26"
             ],
             [
              1,
              "#f0f921"
             ]
            ],
            "type": "contour"
           }
          ],
          "contourcarpet": [
           {
            "colorbar": {
             "outlinewidth": 0,
             "ticks": ""
            },
            "type": "contourcarpet"
           }
          ],
          "heatmap": [
           {
            "colorbar": {
             "outlinewidth": 0,
             "ticks": ""
            },
            "colorscale": [
             [
              0,
              "#0d0887"
             ],
             [
              0.1111111111111111,
              "#46039f"
             ],
             [
              0.2222222222222222,
              "#7201a8"
             ],
             [
              0.3333333333333333,
              "#9c179e"
             ],
             [
              0.4444444444444444,
              "#bd3786"
             ],
             [
              0.5555555555555556,
              "#d8576b"
             ],
             [
              0.6666666666666666,
              "#ed7953"
             ],
             [
              0.7777777777777778,
              "#fb9f3a"
             ],
             [
              0.8888888888888888,
              "#fdca26"
             ],
             [
              1,
              "#f0f921"
             ]
            ],
            "type": "heatmap"
           }
          ],
          "heatmapgl": [
           {
            "colorbar": {
             "outlinewidth": 0,
             "ticks": ""
            },
            "colorscale": [
             [
              0,
              "#0d0887"
             ],
             [
              0.1111111111111111,
              "#46039f"
             ],
             [
              0.2222222222222222,
              "#7201a8"
             ],
             [
              0.3333333333333333,
              "#9c179e"
             ],
             [
              0.4444444444444444,
              "#bd3786"
             ],
             [
              0.5555555555555556,
              "#d8576b"
             ],
             [
              0.6666666666666666,
              "#ed7953"
             ],
             [
              0.7777777777777778,
              "#fb9f3a"
             ],
             [
              0.8888888888888888,
              "#fdca26"
             ],
             [
              1,
              "#f0f921"
             ]
            ],
            "type": "heatmapgl"
           }
          ],
          "histogram": [
           {
            "marker": {
             "pattern": {
              "fillmode": "overlay",
              "size": 10,
              "solidity": 0.2
             }
            },
            "type": "histogram"
           }
          ],
          "histogram2d": [
           {
            "colorbar": {
             "outlinewidth": 0,
             "ticks": ""
            },
            "colorscale": [
             [
              0,
              "#0d0887"
             ],
             [
              0.1111111111111111,
              "#46039f"
             ],
             [
              0.2222222222222222,
              "#7201a8"
             ],
             [
              0.3333333333333333,
              "#9c179e"
             ],
             [
              0.4444444444444444,
              "#bd3786"
             ],
             [
              0.5555555555555556,
              "#d8576b"
             ],
             [
              0.6666666666666666,
              "#ed7953"
             ],
             [
              0.7777777777777778,
              "#fb9f3a"
             ],
             [
              0.8888888888888888,
              "#fdca26"
             ],
             [
              1,
              "#f0f921"
             ]
            ],
            "type": "histogram2d"
           }
          ],
          "histogram2dcontour": [
           {
            "colorbar": {
             "outlinewidth": 0,
             "ticks": ""
            },
            "colorscale": [
             [
              0,
              "#0d0887"
             ],
             [
              0.1111111111111111,
              "#46039f"
             ],
             [
              0.2222222222222222,
              "#7201a8"
             ],
             [
              0.3333333333333333,
              "#9c179e"
             ],
             [
              0.4444444444444444,
              "#bd3786"
             ],
             [
              0.5555555555555556,
              "#d8576b"
             ],
             [
              0.6666666666666666,
              "#ed7953"
             ],
             [
              0.7777777777777778,
              "#fb9f3a"
             ],
             [
              0.8888888888888888,
              "#fdca26"
             ],
             [
              1,
              "#f0f921"
             ]
            ],
            "type": "histogram2dcontour"
           }
          ],
          "mesh3d": [
           {
            "colorbar": {
             "outlinewidth": 0,
             "ticks": ""
            },
            "type": "mesh3d"
           }
          ],
          "parcoords": [
           {
            "line": {
             "colorbar": {
              "outlinewidth": 0,
              "ticks": ""
             }
            },
            "type": "parcoords"
           }
          ],
          "pie": [
           {
            "automargin": true,
            "type": "pie"
           }
          ],
          "scatter": [
           {
            "fillpattern": {
             "fillmode": "overlay",
             "size": 10,
             "solidity": 0.2
            },
            "type": "scatter"
           }
          ],
          "scatter3d": [
           {
            "line": {
             "colorbar": {
              "outlinewidth": 0,
              "ticks": ""
             }
            },
            "marker": {
             "colorbar": {
              "outlinewidth": 0,
              "ticks": ""
             }
            },
            "type": "scatter3d"
           }
          ],
          "scattercarpet": [
           {
            "marker": {
             "colorbar": {
              "outlinewidth": 0,
              "ticks": ""
             }
            },
            "type": "scattercarpet"
           }
          ],
          "scattergeo": [
           {
            "marker": {
             "colorbar": {
              "outlinewidth": 0,
              "ticks": ""
             }
            },
            "type": "scattergeo"
           }
          ],
          "scattergl": [
           {
            "marker": {
             "colorbar": {
              "outlinewidth": 0,
              "ticks": ""
             }
            },
            "type": "scattergl"
           }
          ],
          "scattermapbox": [
           {
            "marker": {
             "colorbar": {
              "outlinewidth": 0,
              "ticks": ""
             }
            },
            "type": "scattermapbox"
           }
          ],
          "scatterpolar": [
           {
            "marker": {
             "colorbar": {
              "outlinewidth": 0,
              "ticks": ""
             }
            },
            "type": "scatterpolar"
           }
          ],
          "scatterpolargl": [
           {
            "marker": {
             "colorbar": {
              "outlinewidth": 0,
              "ticks": ""
             }
            },
            "type": "scatterpolargl"
           }
          ],
          "scatterternary": [
           {
            "marker": {
             "colorbar": {
              "outlinewidth": 0,
              "ticks": ""
             }
            },
            "type": "scatterternary"
           }
          ],
          "surface": [
           {
            "colorbar": {
             "outlinewidth": 0,
             "ticks": ""
            },
            "colorscale": [
             [
              0,
              "#0d0887"
             ],
             [
              0.1111111111111111,
              "#46039f"
             ],
             [
              0.2222222222222222,
              "#7201a8"
             ],
             [
              0.3333333333333333,
              "#9c179e"
             ],
             [
              0.4444444444444444,
              "#bd3786"
             ],
             [
              0.5555555555555556,
              "#d8576b"
             ],
             [
              0.6666666666666666,
              "#ed7953"
             ],
             [
              0.7777777777777778,
              "#fb9f3a"
             ],
             [
              0.8888888888888888,
              "#fdca26"
             ],
             [
              1,
              "#f0f921"
             ]
            ],
            "type": "surface"
           }
          ],
          "table": [
           {
            "cells": {
             "fill": {
              "color": "#EBF0F8"
             },
             "line": {
              "color": "white"
             }
            },
            "header": {
             "fill": {
              "color": "#C8D4E3"
             },
             "line": {
              "color": "white"
             }
            },
            "type": "table"
           }
          ]
         },
         "layout": {
          "annotationdefaults": {
           "arrowcolor": "#2a3f5f",
           "arrowhead": 0,
           "arrowwidth": 1
          },
          "autotypenumbers": "strict",
          "coloraxis": {
           "colorbar": {
            "outlinewidth": 0,
            "ticks": ""
           }
          },
          "colorscale": {
           "diverging": [
            [
             0,
             "#8e0152"
            ],
            [
             0.1,
             "#c51b7d"
            ],
            [
             0.2,
             "#de77ae"
            ],
            [
             0.3,
             "#f1b6da"
            ],
            [
             0.4,
             "#fde0ef"
            ],
            [
             0.5,
             "#f7f7f7"
            ],
            [
             0.6,
             "#e6f5d0"
            ],
            [
             0.7,
             "#b8e186"
            ],
            [
             0.8,
             "#7fbc41"
            ],
            [
             0.9,
             "#4d9221"
            ],
            [
             1,
             "#276419"
            ]
           ],
           "sequential": [
            [
             0,
             "#0d0887"
            ],
            [
             0.1111111111111111,
             "#46039f"
            ],
            [
             0.2222222222222222,
             "#7201a8"
            ],
            [
             0.3333333333333333,
             "#9c179e"
            ],
            [
             0.4444444444444444,
             "#bd3786"
            ],
            [
             0.5555555555555556,
             "#d8576b"
            ],
            [
             0.6666666666666666,
             "#ed7953"
            ],
            [
             0.7777777777777778,
             "#fb9f3a"
            ],
            [
             0.8888888888888888,
             "#fdca26"
            ],
            [
             1,
             "#f0f921"
            ]
           ],
           "sequentialminus": [
            [
             0,
             "#0d0887"
            ],
            [
             0.1111111111111111,
             "#46039f"
            ],
            [
             0.2222222222222222,
             "#7201a8"
            ],
            [
             0.3333333333333333,
             "#9c179e"
            ],
            [
             0.4444444444444444,
             "#bd3786"
            ],
            [
             0.5555555555555556,
             "#d8576b"
            ],
            [
             0.6666666666666666,
             "#ed7953"
            ],
            [
             0.7777777777777778,
             "#fb9f3a"
            ],
            [
             0.8888888888888888,
             "#fdca26"
            ],
            [
             1,
             "#f0f921"
            ]
           ]
          },
          "colorway": [
           "#636efa",
           "#EF553B",
           "#00cc96",
           "#ab63fa",
           "#FFA15A",
           "#19d3f3",
           "#FF6692",
           "#B6E880",
           "#FF97FF",
           "#FECB52"
          ],
          "font": {
           "color": "#2a3f5f"
          },
          "geo": {
           "bgcolor": "white",
           "lakecolor": "white",
           "landcolor": "#E5ECF6",
           "showlakes": true,
           "showland": true,
           "subunitcolor": "white"
          },
          "hoverlabel": {
           "align": "left"
          },
          "hovermode": "closest",
          "mapbox": {
           "style": "light"
          },
          "paper_bgcolor": "white",
          "plot_bgcolor": "#E5ECF6",
          "polar": {
           "angularaxis": {
            "gridcolor": "white",
            "linecolor": "white",
            "ticks": ""
           },
           "bgcolor": "#E5ECF6",
           "radialaxis": {
            "gridcolor": "white",
            "linecolor": "white",
            "ticks": ""
           }
          },
          "scene": {
           "xaxis": {
            "backgroundcolor": "#E5ECF6",
            "gridcolor": "white",
            "gridwidth": 2,
            "linecolor": "white",
            "showbackground": true,
            "ticks": "",
            "zerolinecolor": "white"
           },
           "yaxis": {
            "backgroundcolor": "#E5ECF6",
            "gridcolor": "white",
            "gridwidth": 2,
            "linecolor": "white",
            "showbackground": true,
            "ticks": "",
            "zerolinecolor": "white"
           },
           "zaxis": {
            "backgroundcolor": "#E5ECF6",
            "gridcolor": "white",
            "gridwidth": 2,
            "linecolor": "white",
            "showbackground": true,
            "ticks": "",
            "zerolinecolor": "white"
           }
          },
          "shapedefaults": {
           "line": {
            "color": "#2a3f5f"
           }
          },
          "ternary": {
           "aaxis": {
            "gridcolor": "white",
            "linecolor": "white",
            "ticks": ""
           },
           "baxis": {
            "gridcolor": "white",
            "linecolor": "white",
            "ticks": ""
           },
           "bgcolor": "#E5ECF6",
           "caxis": {
            "gridcolor": "white",
            "linecolor": "white",
            "ticks": ""
           }
          },
          "title": {
           "x": 0.05
          },
          "xaxis": {
           "automargin": true,
           "gridcolor": "white",
           "linecolor": "white",
           "ticks": "",
           "title": {
            "standoff": 15
           },
           "zerolinecolor": "white",
           "zerolinewidth": 2
          },
          "yaxis": {
           "automargin": true,
           "gridcolor": "white",
           "linecolor": "white",
           "ticks": "",
           "title": {
            "standoff": 15
           },
           "zerolinecolor": "white",
           "zerolinewidth": 2
          }
         }
        },
        "title": {
         "text": "Contour Plot"
        },
        "xaxis": {
         "range": [
          -1.7855116647782312,
          -1.0174477450411268
         ],
         "title": {
          "text": "colsample_bylevel"
         },
         "type": "log"
        },
        "yaxis": {
         "range": [
          -2.6263050256114115,
          -0.029716210478111692
         ],
         "title": {
          "text": "learning_rate"
         },
         "type": "log"
        }
       }
      },
      "text/html": [
       "<div>                            <div id=\"8549aa77-80b2-4b10-b3fa-c22a5aff3080\" class=\"plotly-graph-div\" style=\"height:525px; width:100%;\"></div>            <script type=\"text/javascript\">                require([\"plotly\"], function(Plotly) {                    window.PLOTLYENV=window.PLOTLYENV || {};                                    if (document.getElementById(\"8549aa77-80b2-4b10-b3fa-c22a5aff3080\")) {                    Plotly.newPlot(                        \"8549aa77-80b2-4b10-b3fa-c22a5aff3080\",                        [{\"colorbar\":{\"title\":{\"text\":\"Objective Value\"}},\"colorscale\":[[0.0,\"rgb(247,251,255)\"],[0.125,\"rgb(222,235,247)\"],[0.25,\"rgb(198,219,239)\"],[0.375,\"rgb(158,202,225)\"],[0.5,\"rgb(107,174,214)\"],[0.625,\"rgb(66,146,198)\"],[0.75,\"rgb(33,113,181)\"],[0.875,\"rgb(8,81,156)\"],[1.0,\"rgb(8,48,107)\"]],\"connectgaps\":true,\"contours\":{\"coloring\":\"heatmap\"},\"hoverinfo\":\"none\",\"line\":{\"smoothing\":1.3},\"reversescale\":false,\"x\":[0.01638658047740315,0.017758256783472776,0.023496918270929545,0.02441418684009092,0.02607516183054433,0.034952554428043896,0.04300616827051409,0.0641228516461588,0.06708416777430125,0.07309125196390603,0.08864214537855278,0.09606213948303408],\"y\":[0.002364258583284464,0.0031025710709128417,0.011734435669307746,0.0221420939650127,0.03236749085546712,0.06382427812646875,0.13759675204853164,0.2044438999177395,0.21721911602115418,0.22343612358058257,0.711634550310974,0.9338643346658193],\"z\":[[null,null,null,null,null,null,null,null,null,null,null,null],[null,null,null,null,null,null,null,null,null,-0.18251286931806673,null,null],[null,-0.15350077860286063,null,null,null,null,null,null,null,null,null,null],[null,null,null,null,null,null,null,null,null,null,-0.11411209862021676,null],[null,null,null,-0.11872970469617403,null,null,null,null,null,null,null,null],[null,null,null,null,null,null,-0.13111775732515923,null,null,null,null,null],[null,null,null,null,-0.08771980443530215,null,null,null,null,null,null,null],[null,null,-0.10221889805786487,null,null,null,null,null,null,null,null,null],[null,null,null,null,null,-0.09535196314724644,null,null,null,null,null,null],[null,null,null,null,null,null,null,null,-0.07869794425282932,null,null,null],[null,null,null,null,null,null,null,-0.1637544042573469,null,null,null,null],[null,null,null,null,null,null,null,null,null,null,null,null]],\"type\":\"contour\"},{\"marker\":{\"color\":\"black\",\"line\":{\"color\":\"Grey\",\"width\":2.0}},\"mode\":\"markers\",\"showlegend\":false,\"x\":[0.017758256783472776,0.02441418684009092,0.0641228516461588,0.06708416777430125,0.08864214537855278,0.04300616827051409,0.07309125196390603,0.023496918270929545,0.034952554428043896,0.02607516183054433],\"y\":[0.011734435669307746,0.03236749085546712,0.711634550310974,0.22343612358058257,0.0221420939650127,0.06382427812646875,0.0031025710709128417,0.2044438999177395,0.21721911602115418,0.13759675204853164],\"type\":\"scatter\"}],                        {\"title\":{\"text\":\"Contour Plot\"},\"template\":{\"data\":{\"histogram2dcontour\":[{\"type\":\"histogram2dcontour\",\"colorbar\":{\"outlinewidth\":0,\"ticks\":\"\"},\"colorscale\":[[0.0,\"#0d0887\"],[0.1111111111111111,\"#46039f\"],[0.2222222222222222,\"#7201a8\"],[0.3333333333333333,\"#9c179e\"],[0.4444444444444444,\"#bd3786\"],[0.5555555555555556,\"#d8576b\"],[0.6666666666666666,\"#ed7953\"],[0.7777777777777778,\"#fb9f3a\"],[0.8888888888888888,\"#fdca26\"],[1.0,\"#f0f921\"]]}],\"choropleth\":[{\"type\":\"choropleth\",\"colorbar\":{\"outlinewidth\":0,\"ticks\":\"\"}}],\"histogram2d\":[{\"type\":\"histogram2d\",\"colorbar\":{\"outlinewidth\":0,\"ticks\":\"\"},\"colorscale\":[[0.0,\"#0d0887\"],[0.1111111111111111,\"#46039f\"],[0.2222222222222222,\"#7201a8\"],[0.3333333333333333,\"#9c179e\"],[0.4444444444444444,\"#bd3786\"],[0.5555555555555556,\"#d8576b\"],[0.6666666666666666,\"#ed7953\"],[0.7777777777777778,\"#fb9f3a\"],[0.8888888888888888,\"#fdca26\"],[1.0,\"#f0f921\"]]}],\"heatmap\":[{\"type\":\"heatmap\",\"colorbar\":{\"outlinewidth\":0,\"ticks\":\"\"},\"colorscale\":[[0.0,\"#0d0887\"],[0.1111111111111111,\"#46039f\"],[0.2222222222222222,\"#7201a8\"],[0.3333333333333333,\"#9c179e\"],[0.4444444444444444,\"#bd3786\"],[0.5555555555555556,\"#d8576b\"],[0.6666666666666666,\"#ed7953\"],[0.7777777777777778,\"#fb9f3a\"],[0.8888888888888888,\"#fdca26\"],[1.0,\"#f0f921\"]]}],\"heatmapgl\":[{\"type\":\"heatmapgl\",\"colorbar\":{\"outlinewidth\":0,\"ticks\":\"\"},\"colorscale\":[[0.0,\"#0d0887\"],[0.1111111111111111,\"#46039f\"],[0.2222222222222222,\"#7201a8\"],[0.3333333333333333,\"#9c179e\"],[0.4444444444444444,\"#bd3786\"],[0.5555555555555556,\"#d8576b\"],[0.6666666666666666,\"#ed7953\"],[0.7777777777777778,\"#fb9f3a\"],[0.8888888888888888,\"#fdca26\"],[1.0,\"#f0f921\"]]}],\"contourcarpet\":[{\"type\":\"contourcarpet\",\"colorbar\":{\"outlinewidth\":0,\"ticks\":\"\"}}],\"contour\":[{\"type\":\"contour\",\"colorbar\":{\"outlinewidth\":0,\"ticks\":\"\"},\"colorscale\":[[0.0,\"#0d0887\"],[0.1111111111111111,\"#46039f\"],[0.2222222222222222,\"#7201a8\"],[0.3333333333333333,\"#9c179e\"],[0.4444444444444444,\"#bd3786\"],[0.5555555555555556,\"#d8576b\"],[0.6666666666666666,\"#ed7953\"],[0.7777777777777778,\"#fb9f3a\"],[0.8888888888888888,\"#fdca26\"],[1.0,\"#f0f921\"]]}],\"surface\":[{\"type\":\"surface\",\"colorbar\":{\"outlinewidth\":0,\"ticks\":\"\"},\"colorscale\":[[0.0,\"#0d0887\"],[0.1111111111111111,\"#46039f\"],[0.2222222222222222,\"#7201a8\"],[0.3333333333333333,\"#9c179e\"],[0.4444444444444444,\"#bd3786\"],[0.5555555555555556,\"#d8576b\"],[0.6666666666666666,\"#ed7953\"],[0.7777777777777778,\"#fb9f3a\"],[0.8888888888888888,\"#fdca26\"],[1.0,\"#f0f921\"]]}],\"mesh3d\":[{\"type\":\"mesh3d\",\"colorbar\":{\"outlinewidth\":0,\"ticks\":\"\"}}],\"scatter\":[{\"fillpattern\":{\"fillmode\":\"overlay\",\"size\":10,\"solidity\":0.2},\"type\":\"scatter\"}],\"parcoords\":[{\"type\":\"parcoords\",\"line\":{\"colorbar\":{\"outlinewidth\":0,\"ticks\":\"\"}}}],\"scatterpolargl\":[{\"type\":\"scatterpolargl\",\"marker\":{\"colorbar\":{\"outlinewidth\":0,\"ticks\":\"\"}}}],\"bar\":[{\"error_x\":{\"color\":\"#2a3f5f\"},\"error_y\":{\"color\":\"#2a3f5f\"},\"marker\":{\"line\":{\"color\":\"#E5ECF6\",\"width\":0.5},\"pattern\":{\"fillmode\":\"overlay\",\"size\":10,\"solidity\":0.2}},\"type\":\"bar\"}],\"scattergeo\":[{\"type\":\"scattergeo\",\"marker\":{\"colorbar\":{\"outlinewidth\":0,\"ticks\":\"\"}}}],\"scatterpolar\":[{\"type\":\"scatterpolar\",\"marker\":{\"colorbar\":{\"outlinewidth\":0,\"ticks\":\"\"}}}],\"histogram\":[{\"marker\":{\"pattern\":{\"fillmode\":\"overlay\",\"size\":10,\"solidity\":0.2}},\"type\":\"histogram\"}],\"scattergl\":[{\"type\":\"scattergl\",\"marker\":{\"colorbar\":{\"outlinewidth\":0,\"ticks\":\"\"}}}],\"scatter3d\":[{\"type\":\"scatter3d\",\"line\":{\"colorbar\":{\"outlinewidth\":0,\"ticks\":\"\"}},\"marker\":{\"colorbar\":{\"outlinewidth\":0,\"ticks\":\"\"}}}],\"scattermapbox\":[{\"type\":\"scattermapbox\",\"marker\":{\"colorbar\":{\"outlinewidth\":0,\"ticks\":\"\"}}}],\"scatterternary\":[{\"type\":\"scatterternary\",\"marker\":{\"colorbar\":{\"outlinewidth\":0,\"ticks\":\"\"}}}],\"scattercarpet\":[{\"type\":\"scattercarpet\",\"marker\":{\"colorbar\":{\"outlinewidth\":0,\"ticks\":\"\"}}}],\"carpet\":[{\"aaxis\":{\"endlinecolor\":\"#2a3f5f\",\"gridcolor\":\"white\",\"linecolor\":\"white\",\"minorgridcolor\":\"white\",\"startlinecolor\":\"#2a3f5f\"},\"baxis\":{\"endlinecolor\":\"#2a3f5f\",\"gridcolor\":\"white\",\"linecolor\":\"white\",\"minorgridcolor\":\"white\",\"startlinecolor\":\"#2a3f5f\"},\"type\":\"carpet\"}],\"table\":[{\"cells\":{\"fill\":{\"color\":\"#EBF0F8\"},\"line\":{\"color\":\"white\"}},\"header\":{\"fill\":{\"color\":\"#C8D4E3\"},\"line\":{\"color\":\"white\"}},\"type\":\"table\"}],\"barpolar\":[{\"marker\":{\"line\":{\"color\":\"#E5ECF6\",\"width\":0.5},\"pattern\":{\"fillmode\":\"overlay\",\"size\":10,\"solidity\":0.2}},\"type\":\"barpolar\"}],\"pie\":[{\"automargin\":true,\"type\":\"pie\"}]},\"layout\":{\"autotypenumbers\":\"strict\",\"colorway\":[\"#636efa\",\"#EF553B\",\"#00cc96\",\"#ab63fa\",\"#FFA15A\",\"#19d3f3\",\"#FF6692\",\"#B6E880\",\"#FF97FF\",\"#FECB52\"],\"font\":{\"color\":\"#2a3f5f\"},\"hovermode\":\"closest\",\"hoverlabel\":{\"align\":\"left\"},\"paper_bgcolor\":\"white\",\"plot_bgcolor\":\"#E5ECF6\",\"polar\":{\"bgcolor\":\"#E5ECF6\",\"angularaxis\":{\"gridcolor\":\"white\",\"linecolor\":\"white\",\"ticks\":\"\"},\"radialaxis\":{\"gridcolor\":\"white\",\"linecolor\":\"white\",\"ticks\":\"\"}},\"ternary\":{\"bgcolor\":\"#E5ECF6\",\"aaxis\":{\"gridcolor\":\"white\",\"linecolor\":\"white\",\"ticks\":\"\"},\"baxis\":{\"gridcolor\":\"white\",\"linecolor\":\"white\",\"ticks\":\"\"},\"caxis\":{\"gridcolor\":\"white\",\"linecolor\":\"white\",\"ticks\":\"\"}},\"coloraxis\":{\"colorbar\":{\"outlinewidth\":0,\"ticks\":\"\"}},\"colorscale\":{\"sequential\":[[0.0,\"#0d0887\"],[0.1111111111111111,\"#46039f\"],[0.2222222222222222,\"#7201a8\"],[0.3333333333333333,\"#9c179e\"],[0.4444444444444444,\"#bd3786\"],[0.5555555555555556,\"#d8576b\"],[0.6666666666666666,\"#ed7953\"],[0.7777777777777778,\"#fb9f3a\"],[0.8888888888888888,\"#fdca26\"],[1.0,\"#f0f921\"]],\"sequentialminus\":[[0.0,\"#0d0887\"],[0.1111111111111111,\"#46039f\"],[0.2222222222222222,\"#7201a8\"],[0.3333333333333333,\"#9c179e\"],[0.4444444444444444,\"#bd3786\"],[0.5555555555555556,\"#d8576b\"],[0.6666666666666666,\"#ed7953\"],[0.7777777777777778,\"#fb9f3a\"],[0.8888888888888888,\"#fdca26\"],[1.0,\"#f0f921\"]],\"diverging\":[[0,\"#8e0152\"],[0.1,\"#c51b7d\"],[0.2,\"#de77ae\"],[0.3,\"#f1b6da\"],[0.4,\"#fde0ef\"],[0.5,\"#f7f7f7\"],[0.6,\"#e6f5d0\"],[0.7,\"#b8e186\"],[0.8,\"#7fbc41\"],[0.9,\"#4d9221\"],[1,\"#276419\"]]},\"xaxis\":{\"gridcolor\":\"white\",\"linecolor\":\"white\",\"ticks\":\"\",\"title\":{\"standoff\":15},\"zerolinecolor\":\"white\",\"automargin\":true,\"zerolinewidth\":2},\"yaxis\":{\"gridcolor\":\"white\",\"linecolor\":\"white\",\"ticks\":\"\",\"title\":{\"standoff\":15},\"zerolinecolor\":\"white\",\"automargin\":true,\"zerolinewidth\":2},\"scene\":{\"xaxis\":{\"backgroundcolor\":\"#E5ECF6\",\"gridcolor\":\"white\",\"linecolor\":\"white\",\"showbackground\":true,\"ticks\":\"\",\"zerolinecolor\":\"white\",\"gridwidth\":2},\"yaxis\":{\"backgroundcolor\":\"#E5ECF6\",\"gridcolor\":\"white\",\"linecolor\":\"white\",\"showbackground\":true,\"ticks\":\"\",\"zerolinecolor\":\"white\",\"gridwidth\":2},\"zaxis\":{\"backgroundcolor\":\"#E5ECF6\",\"gridcolor\":\"white\",\"linecolor\":\"white\",\"showbackground\":true,\"ticks\":\"\",\"zerolinecolor\":\"white\",\"gridwidth\":2}},\"shapedefaults\":{\"line\":{\"color\":\"#2a3f5f\"}},\"annotationdefaults\":{\"arrowcolor\":\"#2a3f5f\",\"arrowhead\":0,\"arrowwidth\":1},\"geo\":{\"bgcolor\":\"white\",\"landcolor\":\"#E5ECF6\",\"subunitcolor\":\"white\",\"showland\":true,\"showlakes\":true,\"lakecolor\":\"white\"},\"title\":{\"x\":0.05},\"mapbox\":{\"style\":\"light\"}}},\"xaxis\":{\"title\":{\"text\":\"colsample_bylevel\"},\"range\":[-1.7855116647782312,-1.0174477450411268],\"type\":\"log\"},\"yaxis\":{\"title\":{\"text\":\"learning_rate\"},\"range\":[-2.6263050256114115,-0.029716210478111692],\"type\":\"log\"}},                        {\"responsive\": true}                    ).then(function(){\n",
       "                            \n",
       "var gd = document.getElementById('8549aa77-80b2-4b10-b3fa-c22a5aff3080');\n",
       "var x = new MutationObserver(function (mutations, observer) {{\n",
       "        var display = window.getComputedStyle(gd).display;\n",
       "        if (!display || display === 'none') {{\n",
       "            console.log([gd, 'removed!']);\n",
       "            Plotly.purge(gd);\n",
       "            observer.disconnect();\n",
       "        }}\n",
       "}});\n",
       "\n",
       "// Listen for the removal of the full notebook cells\n",
       "var notebookContainer = gd.closest('#notebook-container');\n",
       "if (notebookContainer) {{\n",
       "    x.observe(notebookContainer, {childList: true});\n",
       "}}\n",
       "\n",
       "// Listen for the clearing of the current output cell\n",
       "var outputEl = gd.closest('.output');\n",
       "if (outputEl) {{\n",
       "    x.observe(outputEl, {childList: true});\n",
       "}}\n",
       "\n",
       "                        })                };                });            </script>        </div>"
      ]
     },
     "metadata": {},
     "output_type": "display_data"
    }
   ],
   "source": [
    "optuna.visualization.plot_contour(study, [\"colsample_bylevel\", \"learning_rate\"])"
   ]
  },
  {
   "cell_type": "code",
   "execution_count": 54,
   "id": "9a4a9b29",
   "metadata": {},
   "outputs": [],
   "source": [
    "x = study.best_params"
   ]
  },
  {
   "cell_type": "code",
   "execution_count": 58,
   "id": "653617a7",
   "metadata": {},
   "outputs": [],
   "source": [
    "y = {\"test\": 1, \"bootstrap_type\": \"Regan\"}"
   ]
  },
  {
   "cell_type": "code",
   "execution_count": 59,
   "id": "17e11315",
   "metadata": {},
   "outputs": [
    {
     "data": {
      "text/plain": [
       "{'bagging_temperature': 5.8195550823314885,\n",
       " 'bootstrap_type': 'Regan',\n",
       " 'colsample_bylevel': 0.033486344069417806,\n",
       " 'depth': 8,\n",
       " 'grow_policy': 'SymmetricTree',\n",
       " 'l2_leaf_reg': 0.00018823979324111533,\n",
       " 'learning_rate': 0.08600382937333881,\n",
       " 'od_type': 'Iter',\n",
       " 'od_wait': 47,\n",
       " 'random_strength': 0.053068162215817234,\n",
       " 'test': 1}"
      ]
     },
     "execution_count": 59,
     "metadata": {},
     "output_type": "execute_result"
    }
   ],
   "source": [
    "x.update(y)\n",
    "x"
   ]
  },
  {
   "cell_type": "code",
   "execution_count": 70,
   "id": "66497a74",
   "metadata": {},
   "outputs": [
    {
     "data": {
      "text/plain": [
       "array([[0.00196355, 0.99803645],\n",
       "       [0.00221492, 0.99778508],\n",
       "       [0.03721321, 0.96278679],\n",
       "       [0.97859238, 0.02140762],\n",
       "       [0.00281328, 0.99718672],\n",
       "       [0.00335827, 0.99664173],\n",
       "       [0.9964222 , 0.0035778 ],\n",
       "       [0.97925075, 0.02074925],\n",
       "       [0.00216228, 0.99783772],\n",
       "       [0.9939794 , 0.0060206 ],\n",
       "       [0.9947634 , 0.0052366 ],\n",
       "       [0.84320751, 0.15679249],\n",
       "       [0.00700223, 0.99299777],\n",
       "       [0.02705514, 0.97294486],\n",
       "       [0.00162448, 0.99837552],\n",
       "       [0.00531296, 0.99468704],\n",
       "       [0.98640895, 0.01359105],\n",
       "       [0.99685856, 0.00314144],\n",
       "       [0.00302852, 0.99697148],\n",
       "       [0.00644896, 0.99355104],\n",
       "       [0.00589376, 0.99410624],\n",
       "       [0.00318716, 0.99681284],\n",
       "       [0.00426834, 0.99573166],\n",
       "       [0.98812327, 0.01187673],\n",
       "       [0.00709457, 0.99290543],\n",
       "       [0.99501073, 0.00498927],\n",
       "       [0.99623123, 0.00376877],\n",
       "       [0.99438428, 0.00561572],\n",
       "       [0.90023372, 0.09976628],\n",
       "       [0.00217423, 0.99782577],\n",
       "       [0.00167949, 0.99832051],\n",
       "       [0.00275041, 0.99724959],\n",
       "       [0.0041163 , 0.9958837 ],\n",
       "       [0.00752899, 0.99247101],\n",
       "       [0.99694614, 0.00305386],\n",
       "       [0.00224012, 0.99775988],\n",
       "       [0.99210206, 0.00789794],\n",
       "       [0.00506267, 0.99493733],\n",
       "       [0.00171279, 0.99828721],\n",
       "       [0.00243389, 0.99756611],\n",
       "       [0.99002699, 0.00997301],\n",
       "       [0.99059918, 0.00940082],\n",
       "       [0.00367649, 0.99632351],\n",
       "       [0.99141153, 0.00858847],\n",
       "       [0.98148604, 0.01851396],\n",
       "       [0.00791086, 0.99208914],\n",
       "       [0.95936733, 0.04063267],\n",
       "       [0.01384189, 0.98615811],\n",
       "       [0.03206862, 0.96793138],\n",
       "       [0.0030972 , 0.9969028 ],\n",
       "       [0.00256545, 0.99743455],\n",
       "       [0.00268391, 0.99731609],\n",
       "       [0.9888626 , 0.0111374 ],\n",
       "       [0.02611247, 0.97388753],\n",
       "       [0.03099794, 0.96900206],\n",
       "       [0.00630163, 0.99369837],\n",
       "       [0.98970041, 0.01029959],\n",
       "       [0.00458528, 0.99541472],\n",
       "       [0.99422114, 0.00577886],\n",
       "       [0.95348867, 0.04651133],\n",
       "       [0.01275031, 0.98724969],\n",
       "       [0.00245267, 0.99754733],\n",
       "       [0.00473634, 0.99526366],\n",
       "       [0.0743867 , 0.9256133 ],\n",
       "       [0.02950219, 0.97049781],\n",
       "       [0.00268383, 0.99731617],\n",
       "       [0.00805008, 0.99194992],\n",
       "       [0.9813906 , 0.0186094 ],\n",
       "       [0.00257948, 0.99742052],\n",
       "       [0.98611521, 0.01388479],\n",
       "       [0.96616696, 0.03383304],\n",
       "       [0.99301816, 0.00698184],\n",
       "       [0.98097003, 0.01902997],\n",
       "       [0.04785234, 0.95214766],\n",
       "       [0.94986774, 0.05013226],\n",
       "       [0.01508841, 0.98491159],\n",
       "       [0.97565649, 0.02434351],\n",
       "       [0.01065049, 0.98934951],\n",
       "       [0.0027337 , 0.9972663 ],\n",
       "       [0.00576874, 0.99423126],\n",
       "       [0.00238836, 0.99761164],\n",
       "       [0.00356051, 0.99643949],\n",
       "       [0.01525514, 0.98474486],\n",
       "       [0.00272893, 0.99727107],\n",
       "       [0.0426218 , 0.9573782 ],\n",
       "       [0.00212992, 0.99787008],\n",
       "       [0.00424791, 0.99575209],\n",
       "       [0.99446608, 0.00553392],\n",
       "       [0.00219547, 0.99780453],\n",
       "       [0.02006022, 0.97993978],\n",
       "       [0.00560882, 0.99439118],\n",
       "       [0.00450191, 0.99549809],\n",
       "       [0.96714677, 0.03285323],\n",
       "       [0.90956573, 0.09043427],\n",
       "       [0.00601368, 0.99398632],\n",
       "       [0.00313361, 0.99686639],\n",
       "       [0.01185266, 0.98814734],\n",
       "       [0.99370862, 0.00629138],\n",
       "       [0.00227975, 0.99772025],\n",
       "       [0.94911774, 0.05088226],\n",
       "       [0.00706192, 0.99293808],\n",
       "       [0.99318662, 0.00681338],\n",
       "       [0.00746669, 0.99253331],\n",
       "       [0.99569249, 0.00430751],\n",
       "       [0.99472675, 0.00527325],\n",
       "       [0.0301213 , 0.9698787 ],\n",
       "       [0.96816295, 0.03183705],\n",
       "       [0.05845211, 0.94154789],\n",
       "       [0.00783639, 0.99216361],\n",
       "       [0.00515087, 0.99484913],\n",
       "       [0.06885754, 0.93114246],\n",
       "       [0.91360664, 0.08639336],\n",
       "       [0.00713887, 0.99286113],\n",
       "       [0.01068284, 0.98931716],\n",
       "       [0.99636961, 0.00363039],\n",
       "       [0.00627142, 0.99372858],\n",
       "       [0.99483084, 0.00516916],\n",
       "       [0.00505994, 0.99494006],\n",
       "       [0.93062526, 0.06937474],\n",
       "       [0.11018423, 0.88981577],\n",
       "       [0.00646604, 0.99353396],\n",
       "       [0.01018639, 0.98981361],\n",
       "       [0.00467046, 0.99532954],\n",
       "       [0.9896714 , 0.0103286 ],\n",
       "       [0.00523989, 0.99476011],\n",
       "       [0.00534173, 0.99465827],\n",
       "       [0.00381616, 0.99618384],\n",
       "       [0.00374187, 0.99625813],\n",
       "       [0.98439401, 0.01560599],\n",
       "       [0.99631065, 0.00368935],\n",
       "       [0.00501016, 0.99498984],\n",
       "       [0.02952855, 0.97047145],\n",
       "       [0.00317477, 0.99682523],\n",
       "       [0.00338201, 0.99661799],\n",
       "       [0.99068612, 0.00931388],\n",
       "       [0.99703001, 0.00296999],\n",
       "       [0.99576048, 0.00423952],\n",
       "       [0.00251084, 0.99748916],\n",
       "       [0.94167716, 0.05832284],\n",
       "       [0.95495233, 0.04504767],\n",
       "       [0.99420181, 0.00579819],\n",
       "       [0.02885796, 0.97114204],\n",
       "       [0.00355717, 0.99644283]])"
      ]
     },
     "execution_count": 70,
     "metadata": {},
     "output_type": "execute_result"
    }
   ],
   "source": [
    "m = cb.CatBoostClassifier(objective=\"MultiClassOneVsAll\", verbose=0)\n",
    "m.fit(X_test, y_test)\n",
    "m.predict_proba(X_test)"
   ]
  },
  {
   "cell_type": "code",
   "execution_count": 8,
   "id": "f6410454",
   "metadata": {},
   "outputs": [
    {
     "name": "stdout",
     "output_type": "stream",
     "text": [
      "Learning rate set to 0.033485\n",
      "0:\tlearn: 0.6886507\ttest: 0.6886564\tbest: 0.6886564 (0)\ttotal: 19.4ms\tremaining: 19.4s\n",
      "1:\tlearn: 0.6845698\ttest: 0.6845768\tbest: 0.6845768 (1)\ttotal: 32.9ms\tremaining: 16.4s\n",
      "2:\tlearn: 0.6798040\ttest: 0.6798150\tbest: 0.6798150 (2)\ttotal: 44.7ms\tremaining: 14.9s\n",
      "3:\tlearn: 0.6749502\ttest: 0.6749643\tbest: 0.6749643 (3)\ttotal: 56.1ms\tremaining: 14s\n",
      "4:\tlearn: 0.6714234\ttest: 0.6714398\tbest: 0.6714398 (4)\ttotal: 68.7ms\tremaining: 13.7s\n",
      "5:\tlearn: 0.6665727\ttest: 0.6665932\tbest: 0.6665932 (5)\ttotal: 80.3ms\tremaining: 13.3s\n",
      "6:\tlearn: 0.6612063\ttest: 0.6612304\tbest: 0.6612304 (6)\ttotal: 91.5ms\tremaining: 13s\n",
      "7:\tlearn: 0.6559053\ttest: 0.6559336\tbest: 0.6559336 (7)\ttotal: 102ms\tremaining: 12.7s\n",
      "8:\tlearn: 0.6509487\ttest: 0.6509806\tbest: 0.6509806 (8)\ttotal: 113ms\tremaining: 12.5s\n",
      "9:\tlearn: 0.6465319\ttest: 0.6465660\tbest: 0.6465660 (9)\ttotal: 125ms\tremaining: 12.3s\n",
      "10:\tlearn: 0.6425506\ttest: 0.6425878\tbest: 0.6425878 (10)\ttotal: 136ms\tremaining: 12.2s\n",
      "11:\tlearn: 0.6375916\ttest: 0.6376313\tbest: 0.6376313 (11)\ttotal: 149ms\tremaining: 12.2s\n",
      "12:\tlearn: 0.6321743\ttest: 0.6322162\tbest: 0.6322162 (12)\ttotal: 161ms\tremaining: 12.3s\n",
      "13:\tlearn: 0.6285979\ttest: 0.6286415\tbest: 0.6286415 (13)\ttotal: 172ms\tremaining: 12.1s\n",
      "14:\tlearn: 0.6244477\ttest: 0.6244927\tbest: 0.6244927 (14)\ttotal: 183ms\tremaining: 12s\n",
      "15:\tlearn: 0.6208053\ttest: 0.6208511\tbest: 0.6208511 (15)\ttotal: 195ms\tremaining: 12s\n",
      "16:\tlearn: 0.6175309\ttest: 0.6175774\tbest: 0.6175774 (16)\ttotal: 207ms\tremaining: 12s\n",
      "17:\tlearn: 0.6133181\ttest: 0.6133655\tbest: 0.6133655 (17)\ttotal: 218ms\tremaining: 11.9s\n",
      "18:\tlearn: 0.6090516\ttest: 0.6090991\tbest: 0.6090991 (18)\ttotal: 230ms\tremaining: 11.9s\n",
      "19:\tlearn: 0.6043806\ttest: 0.6044282\tbest: 0.6044282 (19)\ttotal: 243ms\tremaining: 11.9s\n",
      "20:\tlearn: 0.6017922\ttest: 0.6018399\tbest: 0.6018399 (20)\ttotal: 254ms\tremaining: 11.8s\n",
      "21:\tlearn: 0.5982768\ttest: 0.5983249\tbest: 0.5983249 (21)\ttotal: 266ms\tremaining: 11.8s\n",
      "22:\tlearn: 0.5936618\ttest: 0.5937091\tbest: 0.5937091 (22)\ttotal: 277ms\tremaining: 11.8s\n",
      "23:\tlearn: 0.5894898\ttest: 0.5895369\tbest: 0.5895369 (23)\ttotal: 288ms\tremaining: 11.7s\n",
      "24:\tlearn: 0.5852969\ttest: 0.5853435\tbest: 0.5853435 (24)\ttotal: 299ms\tremaining: 11.7s\n",
      "25:\tlearn: 0.5814532\ttest: 0.5814991\tbest: 0.5814991 (25)\ttotal: 311ms\tremaining: 11.7s\n",
      "26:\tlearn: 0.5781073\ttest: 0.5781525\tbest: 0.5781525 (26)\ttotal: 324ms\tremaining: 11.7s\n",
      "27:\tlearn: 0.5737775\ttest: 0.5738215\tbest: 0.5738215 (27)\ttotal: 335ms\tremaining: 11.6s\n",
      "28:\tlearn: 0.5710743\ttest: 0.5711176\tbest: 0.5711176 (28)\ttotal: 347ms\tremaining: 11.6s\n",
      "29:\tlearn: 0.5667896\ttest: 0.5668312\tbest: 0.5668312 (29)\ttotal: 358ms\tremaining: 11.6s\n",
      "30:\tlearn: 0.5634878\ttest: 0.5635286\tbest: 0.5635286 (30)\ttotal: 369ms\tremaining: 11.5s\n",
      "31:\tlearn: 0.5607559\ttest: 0.5607960\tbest: 0.5607960 (31)\ttotal: 380ms\tremaining: 11.5s\n",
      "32:\tlearn: 0.5575204\ttest: 0.5575601\tbest: 0.5575601 (32)\ttotal: 392ms\tremaining: 11.5s\n",
      "33:\tlearn: 0.5544511\ttest: 0.5544899\tbest: 0.5544899 (33)\ttotal: 405ms\tremaining: 11.5s\n",
      "34:\tlearn: 0.5508348\ttest: 0.5508722\tbest: 0.5508722 (34)\ttotal: 416ms\tremaining: 11.5s\n",
      "35:\tlearn: 0.5473514\ttest: 0.5473874\tbest: 0.5473874 (35)\ttotal: 428ms\tremaining: 11.5s\n",
      "36:\tlearn: 0.5439708\ttest: 0.5440055\tbest: 0.5440055 (36)\ttotal: 439ms\tremaining: 11.4s\n",
      "37:\tlearn: 0.5409790\ttest: 0.5410128\tbest: 0.5410128 (37)\ttotal: 452ms\tremaining: 11.4s\n",
      "38:\tlearn: 0.5371846\ttest: 0.5372173\tbest: 0.5372173 (38)\ttotal: 464ms\tremaining: 11.4s\n",
      "39:\tlearn: 0.5348468\ttest: 0.5348785\tbest: 0.5348785 (39)\ttotal: 476ms\tremaining: 11.4s\n",
      "40:\tlearn: 0.5321434\ttest: 0.5321742\tbest: 0.5321742 (40)\ttotal: 489ms\tremaining: 11.4s\n",
      "41:\tlearn: 0.5290739\ttest: 0.5291036\tbest: 0.5291036 (41)\ttotal: 501ms\tremaining: 11.4s\n",
      "42:\tlearn: 0.5253792\ttest: 0.5254074\tbest: 0.5254074 (42)\ttotal: 512ms\tremaining: 11.4s\n",
      "43:\tlearn: 0.5229682\ttest: 0.5229950\tbest: 0.5229950 (43)\ttotal: 523ms\tremaining: 11.4s\n",
      "44:\tlearn: 0.5205511\ttest: 0.5205771\tbest: 0.5205771 (44)\ttotal: 534ms\tremaining: 11.3s\n",
      "45:\tlearn: 0.5168076\ttest: 0.5168321\tbest: 0.5168321 (45)\ttotal: 546ms\tremaining: 11.3s\n",
      "46:\tlearn: 0.5132724\ttest: 0.5132961\tbest: 0.5132961 (46)\ttotal: 557ms\tremaining: 11.3s\n",
      "47:\tlearn: 0.5115493\ttest: 0.5115726\tbest: 0.5115726 (47)\ttotal: 570ms\tremaining: 11.3s\n",
      "48:\tlearn: 0.5088040\ttest: 0.5088264\tbest: 0.5088264 (48)\ttotal: 581ms\tremaining: 11.3s\n",
      "49:\tlearn: 0.5064415\ttest: 0.5064627\tbest: 0.5064627 (49)\ttotal: 593ms\tremaining: 11.3s\n",
      "50:\tlearn: 0.5038638\ttest: 0.5038842\tbest: 0.5038842 (50)\ttotal: 605ms\tremaining: 11.3s\n",
      "51:\tlearn: 0.5012434\ttest: 0.5012632\tbest: 0.5012632 (51)\ttotal: 617ms\tremaining: 11.3s\n",
      "52:\tlearn: 0.4991773\ttest: 0.4991968\tbest: 0.4991968 (52)\ttotal: 629ms\tremaining: 11.2s\n",
      "53:\tlearn: 0.4971111\ttest: 0.4971302\tbest: 0.4971302 (53)\ttotal: 641ms\tremaining: 11.2s\n",
      "54:\tlearn: 0.4947383\ttest: 0.4947570\tbest: 0.4947570 (54)\ttotal: 654ms\tremaining: 11.2s\n",
      "55:\tlearn: 0.4930365\ttest: 0.4930549\tbest: 0.4930549 (55)\ttotal: 667ms\tremaining: 11.2s\n",
      "56:\tlearn: 0.4903488\ttest: 0.4903673\tbest: 0.4903673 (56)\ttotal: 678ms\tremaining: 11.2s\n",
      "57:\tlearn: 0.4889894\ttest: 0.4890078\tbest: 0.4890078 (57)\ttotal: 690ms\tremaining: 11.2s\n",
      "58:\tlearn: 0.4858022\ttest: 0.4858198\tbest: 0.4858198 (58)\ttotal: 701ms\tremaining: 11.2s\n",
      "59:\tlearn: 0.4830594\ttest: 0.4830759\tbest: 0.4830759 (59)\ttotal: 712ms\tremaining: 11.2s\n",
      "60:\tlearn: 0.4802960\ttest: 0.4803120\tbest: 0.4803120 (60)\ttotal: 724ms\tremaining: 11.1s\n",
      "61:\tlearn: 0.4782003\ttest: 0.4782162\tbest: 0.4782162 (61)\ttotal: 737ms\tremaining: 11.1s\n",
      "62:\tlearn: 0.4761050\ttest: 0.4761207\tbest: 0.4761207 (62)\ttotal: 748ms\tremaining: 11.1s\n",
      "63:\tlearn: 0.4733807\ttest: 0.4733960\tbest: 0.4733960 (63)\ttotal: 760ms\tremaining: 11.1s\n",
      "64:\tlearn: 0.4708445\ttest: 0.4708594\tbest: 0.4708594 (64)\ttotal: 771ms\tremaining: 11.1s\n",
      "65:\tlearn: 0.4687432\ttest: 0.4687581\tbest: 0.4687581 (65)\ttotal: 783ms\tremaining: 11.1s\n",
      "66:\tlearn: 0.4663348\ttest: 0.4663494\tbest: 0.4663494 (66)\ttotal: 794ms\tremaining: 11.1s\n",
      "67:\tlearn: 0.4634795\ttest: 0.4634934\tbest: 0.4634934 (67)\ttotal: 806ms\tremaining: 11.1s\n",
      "68:\tlearn: 0.4608573\ttest: 0.4608709\tbest: 0.4608709 (68)\ttotal: 820ms\tremaining: 11.1s\n",
      "69:\tlearn: 0.4588919\ttest: 0.4589049\tbest: 0.4589049 (69)\ttotal: 831ms\tremaining: 11s\n",
      "70:\tlearn: 0.4567064\ttest: 0.4567185\tbest: 0.4567185 (70)\ttotal: 843ms\tremaining: 11s\n",
      "71:\tlearn: 0.4544758\ttest: 0.4544876\tbest: 0.4544876 (71)\ttotal: 855ms\tremaining: 11s\n",
      "72:\tlearn: 0.4519174\ttest: 0.4519290\tbest: 0.4519290 (72)\ttotal: 866ms\tremaining: 11s\n",
      "73:\tlearn: 0.4503439\ttest: 0.4503556\tbest: 0.4503556 (73)\ttotal: 878ms\tremaining: 11s\n",
      "74:\tlearn: 0.4479413\ttest: 0.4479519\tbest: 0.4479519 (74)\ttotal: 890ms\tremaining: 11s\n",
      "75:\tlearn: 0.4459268\ttest: 0.4459371\tbest: 0.4459371 (75)\ttotal: 903ms\tremaining: 11s\n",
      "76:\tlearn: 0.4437498\ttest: 0.4437604\tbest: 0.4437604 (76)\ttotal: 914ms\tremaining: 11s\n",
      "77:\tlearn: 0.4420182\ttest: 0.4420286\tbest: 0.4420286 (77)\ttotal: 927ms\tremaining: 11s\n",
      "78:\tlearn: 0.4397608\ttest: 0.4397710\tbest: 0.4397710 (78)\ttotal: 938ms\tremaining: 10.9s\n",
      "79:\tlearn: 0.4376611\ttest: 0.4376711\tbest: 0.4376711 (79)\ttotal: 949ms\tremaining: 10.9s\n",
      "80:\tlearn: 0.4351825\ttest: 0.4351927\tbest: 0.4351927 (80)\ttotal: 961ms\tremaining: 10.9s\n",
      "81:\tlearn: 0.4327373\ttest: 0.4327477\tbest: 0.4327477 (81)\ttotal: 972ms\tremaining: 10.9s\n",
      "82:\tlearn: 0.4307190\ttest: 0.4307294\tbest: 0.4307294 (82)\ttotal: 986ms\tremaining: 10.9s\n",
      "83:\tlearn: 0.4290378\ttest: 0.4290486\tbest: 0.4290486 (83)\ttotal: 998ms\tremaining: 10.9s\n",
      "84:\tlearn: 0.4263800\ttest: 0.4263916\tbest: 0.4263916 (84)\ttotal: 1.01s\tremaining: 10.9s\n",
      "85:\tlearn: 0.4248884\ttest: 0.4248995\tbest: 0.4248995 (85)\ttotal: 1.02s\tremaining: 10.8s\n",
      "86:\tlearn: 0.4231869\ttest: 0.4231980\tbest: 0.4231980 (86)\ttotal: 1.03s\tremaining: 10.8s\n",
      "87:\tlearn: 0.4202131\ttest: 0.4202241\tbest: 0.4202241 (87)\ttotal: 1.04s\tremaining: 10.8s\n",
      "88:\tlearn: 0.4185491\ttest: 0.4185597\tbest: 0.4185597 (88)\ttotal: 1.06s\tremaining: 10.8s\n",
      "89:\tlearn: 0.4166702\ttest: 0.4166812\tbest: 0.4166812 (89)\ttotal: 1.07s\tremaining: 10.8s\n",
      "90:\tlearn: 0.4142788\ttest: 0.4142899\tbest: 0.4142899 (90)\ttotal: 1.08s\tremaining: 10.8s\n",
      "91:\tlearn: 0.4122517\ttest: 0.4122629\tbest: 0.4122629 (91)\ttotal: 1.09s\tremaining: 10.8s\n",
      "92:\tlearn: 0.4102061\ttest: 0.4102173\tbest: 0.4102173 (92)\ttotal: 1.12s\tremaining: 10.9s\n",
      "93:\tlearn: 0.4080242\ttest: 0.4080352\tbest: 0.4080352 (93)\ttotal: 1.15s\tremaining: 11.1s\n",
      "94:\tlearn: 0.4055757\ttest: 0.4055871\tbest: 0.4055871 (94)\ttotal: 1.17s\tremaining: 11.1s\n",
      "95:\tlearn: 0.4031234\ttest: 0.4031349\tbest: 0.4031349 (95)\ttotal: 1.18s\tremaining: 11.1s\n",
      "96:\tlearn: 0.4019319\ttest: 0.4019435\tbest: 0.4019435 (96)\ttotal: 1.19s\tremaining: 11.1s\n",
      "97:\tlearn: 0.4003510\ttest: 0.4003628\tbest: 0.4003628 (97)\ttotal: 1.2s\tremaining: 11.1s\n",
      "98:\tlearn: 0.3985588\ttest: 0.3985709\tbest: 0.3985709 (98)\ttotal: 1.21s\tremaining: 11s\n"
     ]
    },
    {
     "name": "stdout",
     "output_type": "stream",
     "text": [
      "99:\tlearn: 0.3970974\ttest: 0.3971094\tbest: 0.3971094 (99)\ttotal: 1.23s\tremaining: 11s\n",
      "100:\tlearn: 0.3952738\ttest: 0.3952857\tbest: 0.3952857 (100)\ttotal: 1.24s\tremaining: 11s\n",
      "101:\tlearn: 0.3937077\ttest: 0.3937190\tbest: 0.3937190 (101)\ttotal: 1.25s\tremaining: 11s\n",
      "102:\tlearn: 0.3925304\ttest: 0.3925416\tbest: 0.3925416 (102)\ttotal: 1.26s\tremaining: 11s\n",
      "103:\tlearn: 0.3904046\ttest: 0.3904157\tbest: 0.3904157 (103)\ttotal: 1.27s\tremaining: 11s\n",
      "104:\tlearn: 0.3888264\ttest: 0.3888375\tbest: 0.3888375 (104)\ttotal: 1.28s\tremaining: 11s\n",
      "105:\tlearn: 0.3877909\ttest: 0.3878018\tbest: 0.3878018 (105)\ttotal: 1.3s\tremaining: 10.9s\n",
      "106:\tlearn: 0.3861673\ttest: 0.3861785\tbest: 0.3861785 (106)\ttotal: 1.31s\tremaining: 10.9s\n",
      "107:\tlearn: 0.3841847\ttest: 0.3841959\tbest: 0.3841959 (107)\ttotal: 1.32s\tremaining: 10.9s\n",
      "108:\tlearn: 0.3820588\ttest: 0.3820698\tbest: 0.3820698 (108)\ttotal: 1.33s\tremaining: 10.9s\n",
      "109:\tlearn: 0.3803696\ttest: 0.3803808\tbest: 0.3803808 (109)\ttotal: 1.34s\tremaining: 10.9s\n",
      "110:\tlearn: 0.3790870\ttest: 0.3790983\tbest: 0.3790983 (110)\ttotal: 1.35s\tremaining: 10.9s\n",
      "111:\tlearn: 0.3776547\ttest: 0.3776664\tbest: 0.3776664 (111)\ttotal: 1.37s\tremaining: 10.8s\n",
      "112:\tlearn: 0.3761289\ttest: 0.3761411\tbest: 0.3761411 (112)\ttotal: 1.38s\tremaining: 10.8s\n",
      "113:\tlearn: 0.3737670\ttest: 0.3737789\tbest: 0.3737789 (113)\ttotal: 1.39s\tremaining: 10.8s\n",
      "114:\tlearn: 0.3723918\ttest: 0.3724039\tbest: 0.3724039 (114)\ttotal: 1.4s\tremaining: 10.8s\n",
      "115:\tlearn: 0.3707211\ttest: 0.3707330\tbest: 0.3707330 (115)\ttotal: 1.42s\tremaining: 10.8s\n",
      "116:\tlearn: 0.3696499\ttest: 0.3696620\tbest: 0.3696620 (116)\ttotal: 1.43s\tremaining: 10.8s\n",
      "117:\tlearn: 0.3679729\ttest: 0.3679853\tbest: 0.3679853 (117)\ttotal: 1.44s\tremaining: 10.8s\n",
      "118:\tlearn: 0.3666021\ttest: 0.3666151\tbest: 0.3666151 (118)\ttotal: 1.45s\tremaining: 10.7s\n",
      "119:\tlearn: 0.3646341\ttest: 0.3646471\tbest: 0.3646471 (119)\ttotal: 1.46s\tremaining: 10.7s\n",
      "120:\tlearn: 0.3621148\ttest: 0.3621280\tbest: 0.3621280 (120)\ttotal: 1.48s\tremaining: 10.7s\n",
      "121:\tlearn: 0.3606321\ttest: 0.3606454\tbest: 0.3606454 (121)\ttotal: 1.49s\tremaining: 10.7s\n",
      "122:\tlearn: 0.3589163\ttest: 0.3589298\tbest: 0.3589298 (122)\ttotal: 1.5s\tremaining: 10.7s\n",
      "123:\tlearn: 0.3574072\ttest: 0.3574206\tbest: 0.3574206 (123)\ttotal: 1.51s\tremaining: 10.7s\n",
      "124:\tlearn: 0.3556788\ttest: 0.3556917\tbest: 0.3556917 (124)\ttotal: 1.52s\tremaining: 10.7s\n",
      "125:\tlearn: 0.3546368\ttest: 0.3546500\tbest: 0.3546500 (125)\ttotal: 1.53s\tremaining: 10.6s\n",
      "126:\tlearn: 0.3532540\ttest: 0.3532678\tbest: 0.3532678 (126)\ttotal: 1.55s\tremaining: 10.6s\n",
      "127:\tlearn: 0.3520940\ttest: 0.3521080\tbest: 0.3521080 (127)\ttotal: 1.56s\tremaining: 10.6s\n",
      "128:\tlearn: 0.3506201\ttest: 0.3506341\tbest: 0.3506341 (128)\ttotal: 1.57s\tremaining: 10.6s\n",
      "129:\tlearn: 0.3492767\ttest: 0.3492910\tbest: 0.3492910 (129)\ttotal: 1.58s\tremaining: 10.6s\n",
      "130:\tlearn: 0.3481412\ttest: 0.3481553\tbest: 0.3481553 (130)\ttotal: 1.59s\tremaining: 10.6s\n",
      "131:\tlearn: 0.3470239\ttest: 0.3470382\tbest: 0.3470382 (131)\ttotal: 1.6s\tremaining: 10.6s\n",
      "132:\tlearn: 0.3454812\ttest: 0.3454954\tbest: 0.3454954 (132)\ttotal: 1.62s\tremaining: 10.5s\n",
      "133:\tlearn: 0.3438552\ttest: 0.3438697\tbest: 0.3438697 (133)\ttotal: 1.63s\tremaining: 10.5s\n",
      "134:\tlearn: 0.3423408\ttest: 0.3423554\tbest: 0.3423554 (134)\ttotal: 1.64s\tremaining: 10.5s\n",
      "135:\tlearn: 0.3408918\ttest: 0.3409060\tbest: 0.3409060 (135)\ttotal: 1.65s\tremaining: 10.5s\n",
      "136:\tlearn: 0.3399414\ttest: 0.3399559\tbest: 0.3399559 (136)\ttotal: 1.66s\tremaining: 10.5s\n",
      "137:\tlearn: 0.3383577\ttest: 0.3383724\tbest: 0.3383724 (137)\ttotal: 1.68s\tremaining: 10.5s\n",
      "138:\tlearn: 0.3367114\ttest: 0.3367260\tbest: 0.3367260 (138)\ttotal: 1.69s\tremaining: 10.5s\n",
      "139:\tlearn: 0.3354204\ttest: 0.3354358\tbest: 0.3354358 (139)\ttotal: 1.7s\tremaining: 10.4s\n",
      "140:\tlearn: 0.3342233\ttest: 0.3342388\tbest: 0.3342388 (140)\ttotal: 1.71s\tremaining: 10.4s\n",
      "141:\tlearn: 0.3326751\ttest: 0.3326906\tbest: 0.3326906 (141)\ttotal: 1.72s\tremaining: 10.4s\n",
      "142:\tlearn: 0.3310034\ttest: 0.3310189\tbest: 0.3310189 (142)\ttotal: 1.73s\tremaining: 10.4s\n",
      "143:\tlearn: 0.3298262\ttest: 0.3298419\tbest: 0.3298419 (143)\ttotal: 1.75s\tremaining: 10.4s\n",
      "144:\tlearn: 0.3281059\ttest: 0.3281223\tbest: 0.3281223 (144)\ttotal: 1.76s\tremaining: 10.4s\n",
      "145:\tlearn: 0.3269291\ttest: 0.3269458\tbest: 0.3269458 (145)\ttotal: 1.77s\tremaining: 10.3s\n",
      "146:\tlearn: 0.3253629\ttest: 0.3253797\tbest: 0.3253797 (146)\ttotal: 1.78s\tremaining: 10.3s\n",
      "147:\tlearn: 0.3241700\ttest: 0.3241869\tbest: 0.3241869 (147)\ttotal: 1.79s\tremaining: 10.3s\n",
      "148:\tlearn: 0.3224659\ttest: 0.3224829\tbest: 0.3224829 (148)\ttotal: 1.8s\tremaining: 10.3s\n",
      "149:\tlearn: 0.3212052\ttest: 0.3212224\tbest: 0.3212224 (149)\ttotal: 1.82s\tremaining: 10.3s\n",
      "150:\tlearn: 0.3200193\ttest: 0.3200364\tbest: 0.3200364 (150)\ttotal: 1.83s\tremaining: 10.3s\n",
      "151:\tlearn: 0.3185153\ttest: 0.3185324\tbest: 0.3185324 (151)\ttotal: 1.84s\tremaining: 10.3s\n",
      "152:\tlearn: 0.3179277\ttest: 0.3179445\tbest: 0.3179445 (152)\ttotal: 1.85s\tremaining: 10.3s\n",
      "153:\tlearn: 0.3165648\ttest: 0.3165817\tbest: 0.3165817 (153)\ttotal: 1.86s\tremaining: 10.2s\n",
      "154:\tlearn: 0.3155044\ttest: 0.3155210\tbest: 0.3155210 (154)\ttotal: 1.87s\tremaining: 10.2s\n",
      "155:\tlearn: 0.3142641\ttest: 0.3142809\tbest: 0.3142809 (155)\ttotal: 1.89s\tremaining: 10.2s\n",
      "156:\tlearn: 0.3132464\ttest: 0.3132631\tbest: 0.3132631 (156)\ttotal: 1.9s\tremaining: 10.2s\n",
      "157:\tlearn: 0.3122984\ttest: 0.3123151\tbest: 0.3123151 (157)\ttotal: 1.91s\tremaining: 10.2s\n",
      "158:\tlearn: 0.3106303\ttest: 0.3106472\tbest: 0.3106472 (158)\ttotal: 1.92s\tremaining: 10.2s\n",
      "159:\tlearn: 0.3092066\ttest: 0.3092234\tbest: 0.3092234 (159)\ttotal: 1.93s\tremaining: 10.2s\n",
      "160:\tlearn: 0.3081870\ttest: 0.3082038\tbest: 0.3082038 (160)\ttotal: 1.95s\tremaining: 10.1s\n",
      "161:\tlearn: 0.3069763\ttest: 0.3069931\tbest: 0.3069931 (161)\ttotal: 1.96s\tremaining: 10.1s\n",
      "162:\tlearn: 0.3057114\ttest: 0.3057289\tbest: 0.3057289 (162)\ttotal: 1.97s\tremaining: 10.1s\n",
      "163:\tlearn: 0.3040070\ttest: 0.3040250\tbest: 0.3040250 (163)\ttotal: 1.98s\tremaining: 10.1s\n",
      "164:\tlearn: 0.3026456\ttest: 0.3026633\tbest: 0.3026633 (164)\ttotal: 1.99s\tremaining: 10.1s\n",
      "165:\tlearn: 0.3013834\ttest: 0.3014013\tbest: 0.3014013 (165)\ttotal: 2s\tremaining: 10.1s\n",
      "166:\tlearn: 0.3004873\ttest: 0.3005052\tbest: 0.3005052 (166)\ttotal: 2.02s\tremaining: 10.1s\n",
      "167:\tlearn: 0.2991319\ttest: 0.2991502\tbest: 0.2991502 (167)\ttotal: 2.03s\tremaining: 10s\n",
      "168:\tlearn: 0.2977188\ttest: 0.2977375\tbest: 0.2977375 (168)\ttotal: 2.04s\tremaining: 10s\n",
      "169:\tlearn: 0.2969720\ttest: 0.2969909\tbest: 0.2969909 (169)\ttotal: 2.05s\tremaining: 10s\n",
      "170:\tlearn: 0.2957057\ttest: 0.2957249\tbest: 0.2957249 (170)\ttotal: 2.06s\tremaining: 10s\n",
      "171:\tlearn: 0.2943047\ttest: 0.2943240\tbest: 0.2943240 (171)\ttotal: 2.07s\tremaining: 9.99s\n",
      "172:\tlearn: 0.2925439\ttest: 0.2925633\tbest: 0.2925633 (172)\ttotal: 2.08s\tremaining: 9.97s\n",
      "173:\tlearn: 0.2910210\ttest: 0.2910403\tbest: 0.2910403 (173)\ttotal: 2.1s\tremaining: 9.96s\n",
      "174:\tlearn: 0.2893618\ttest: 0.2893806\tbest: 0.2893806 (174)\ttotal: 2.11s\tremaining: 9.94s\n",
      "175:\tlearn: 0.2881432\ttest: 0.2881617\tbest: 0.2881617 (175)\ttotal: 2.12s\tremaining: 9.93s\n",
      "176:\tlearn: 0.2869355\ttest: 0.2869539\tbest: 0.2869539 (176)\ttotal: 2.13s\tremaining: 9.91s\n",
      "177:\tlearn: 0.2851810\ttest: 0.2851994\tbest: 0.2851994 (177)\ttotal: 2.15s\tremaining: 9.91s\n",
      "178:\tlearn: 0.2838725\ttest: 0.2838910\tbest: 0.2838910 (178)\ttotal: 2.16s\tremaining: 9.89s\n",
      "179:\tlearn: 0.2824683\ttest: 0.2824874\tbest: 0.2824874 (179)\ttotal: 2.17s\tremaining: 9.88s\n",
      "180:\tlearn: 0.2813480\ttest: 0.2813672\tbest: 0.2813672 (180)\ttotal: 2.18s\tremaining: 9.86s\n",
      "181:\tlearn: 0.2797019\ttest: 0.2797216\tbest: 0.2797216 (181)\ttotal: 2.19s\tremaining: 9.85s\n",
      "182:\tlearn: 0.2781232\ttest: 0.2781430\tbest: 0.2781430 (182)\ttotal: 2.2s\tremaining: 9.83s\n",
      "183:\tlearn: 0.2772186\ttest: 0.2772383\tbest: 0.2772383 (183)\ttotal: 2.21s\tremaining: 9.82s\n",
      "184:\tlearn: 0.2759437\ttest: 0.2759633\tbest: 0.2759633 (184)\ttotal: 2.23s\tremaining: 9.81s\n",
      "185:\tlearn: 0.2747458\ttest: 0.2747654\tbest: 0.2747654 (185)\ttotal: 2.24s\tremaining: 9.8s\n",
      "186:\tlearn: 0.2738766\ttest: 0.2738964\tbest: 0.2738964 (186)\ttotal: 2.25s\tremaining: 9.78s\n",
      "187:\tlearn: 0.2724377\ttest: 0.2724579\tbest: 0.2724579 (187)\ttotal: 2.26s\tremaining: 9.77s\n",
      "188:\tlearn: 0.2709298\ttest: 0.2709502\tbest: 0.2709502 (188)\ttotal: 2.27s\tremaining: 9.75s\n",
      "189:\tlearn: 0.2694701\ttest: 0.2694904\tbest: 0.2694904 (189)\ttotal: 2.29s\tremaining: 9.74s\n",
      "190:\tlearn: 0.2683310\ttest: 0.2683510\tbest: 0.2683510 (190)\ttotal: 2.3s\tremaining: 9.73s\n",
      "191:\tlearn: 0.2674844\ttest: 0.2675048\tbest: 0.2675048 (191)\ttotal: 2.31s\tremaining: 9.72s\n",
      "192:\tlearn: 0.2661812\ttest: 0.2662015\tbest: 0.2662015 (192)\ttotal: 2.32s\tremaining: 9.7s\n",
      "193:\tlearn: 0.2648501\ttest: 0.2648710\tbest: 0.2648710 (193)\ttotal: 2.33s\tremaining: 9.69s\n",
      "194:\tlearn: 0.2633096\ttest: 0.2633306\tbest: 0.2633306 (194)\ttotal: 2.34s\tremaining: 9.68s\n",
      "195:\tlearn: 0.2619976\ttest: 0.2620184\tbest: 0.2620184 (195)\ttotal: 2.36s\tremaining: 9.66s\n",
      "196:\tlearn: 0.2607101\ttest: 0.2607312\tbest: 0.2607312 (196)\ttotal: 2.37s\tremaining: 9.65s\n",
      "197:\tlearn: 0.2596709\ttest: 0.2596920\tbest: 0.2596920 (197)\ttotal: 2.38s\tremaining: 9.66s\n",
      "198:\tlearn: 0.2586183\ttest: 0.2586393\tbest: 0.2586393 (198)\ttotal: 2.4s\tremaining: 9.66s\n",
      "199:\tlearn: 0.2574925\ttest: 0.2575137\tbest: 0.2575137 (199)\ttotal: 2.41s\tremaining: 9.65s\n",
      "200:\tlearn: 0.2564115\ttest: 0.2564327\tbest: 0.2564327 (200)\ttotal: 2.42s\tremaining: 9.63s\n",
      "201:\tlearn: 0.2552372\ttest: 0.2552585\tbest: 0.2552585 (201)\ttotal: 2.44s\tremaining: 9.62s\n"
     ]
    },
    {
     "name": "stdout",
     "output_type": "stream",
     "text": [
      "202:\tlearn: 0.2544265\ttest: 0.2544480\tbest: 0.2544480 (202)\ttotal: 2.45s\tremaining: 9.61s\n",
      "203:\tlearn: 0.2531034\ttest: 0.2531250\tbest: 0.2531250 (203)\ttotal: 2.46s\tremaining: 9.6s\n",
      "204:\tlearn: 0.2518604\ttest: 0.2518822\tbest: 0.2518822 (204)\ttotal: 2.48s\tremaining: 9.61s\n",
      "205:\tlearn: 0.2501952\ttest: 0.2502178\tbest: 0.2502178 (205)\ttotal: 2.49s\tremaining: 9.6s\n",
      "206:\tlearn: 0.2486091\ttest: 0.2486318\tbest: 0.2486318 (206)\ttotal: 2.5s\tremaining: 9.59s\n",
      "207:\tlearn: 0.2472831\ttest: 0.2473061\tbest: 0.2473061 (207)\ttotal: 2.51s\tremaining: 9.57s\n",
      "208:\tlearn: 0.2460847\ttest: 0.2461077\tbest: 0.2461077 (208)\ttotal: 2.52s\tremaining: 9.55s\n",
      "209:\tlearn: 0.2448980\ttest: 0.2449211\tbest: 0.2449211 (209)\ttotal: 2.54s\tremaining: 9.54s\n",
      "210:\tlearn: 0.2436857\ttest: 0.2437093\tbest: 0.2437093 (210)\ttotal: 2.55s\tremaining: 9.53s\n",
      "211:\tlearn: 0.2422292\ttest: 0.2422531\tbest: 0.2422531 (211)\ttotal: 2.56s\tremaining: 9.52s\n",
      "212:\tlearn: 0.2408227\ttest: 0.2408469\tbest: 0.2408469 (212)\ttotal: 2.57s\tremaining: 9.5s\n",
      "213:\tlearn: 0.2393752\ttest: 0.2393992\tbest: 0.2393992 (213)\ttotal: 2.58s\tremaining: 9.49s\n",
      "214:\tlearn: 0.2379460\ttest: 0.2379701\tbest: 0.2379701 (214)\ttotal: 2.59s\tremaining: 9.47s\n",
      "215:\tlearn: 0.2366384\ttest: 0.2366625\tbest: 0.2366625 (215)\ttotal: 2.61s\tremaining: 9.46s\n",
      "216:\tlearn: 0.2348222\ttest: 0.2348475\tbest: 0.2348475 (216)\ttotal: 2.62s\tremaining: 9.44s\n",
      "217:\tlearn: 0.2335645\ttest: 0.2335899\tbest: 0.2335899 (217)\ttotal: 2.63s\tremaining: 9.43s\n",
      "218:\tlearn: 0.2322525\ttest: 0.2322779\tbest: 0.2322779 (218)\ttotal: 2.64s\tremaining: 9.42s\n",
      "219:\tlearn: 0.2312350\ttest: 0.2312604\tbest: 0.2312604 (219)\ttotal: 2.65s\tremaining: 9.4s\n",
      "220:\tlearn: 0.2299848\ttest: 0.2300109\tbest: 0.2300109 (220)\ttotal: 2.66s\tremaining: 9.39s\n",
      "221:\tlearn: 0.2285533\ttest: 0.2285795\tbest: 0.2285795 (221)\ttotal: 2.68s\tremaining: 9.38s\n",
      "222:\tlearn: 0.2271361\ttest: 0.2271626\tbest: 0.2271626 (222)\ttotal: 2.69s\tremaining: 9.36s\n",
      "223:\tlearn: 0.2254062\ttest: 0.2254334\tbest: 0.2254334 (223)\ttotal: 2.7s\tremaining: 9.35s\n",
      "224:\tlearn: 0.2243145\ttest: 0.2243420\tbest: 0.2243420 (224)\ttotal: 2.71s\tremaining: 9.34s\n",
      "225:\tlearn: 0.2227474\ttest: 0.2227763\tbest: 0.2227763 (225)\ttotal: 2.72s\tremaining: 9.32s\n",
      "226:\tlearn: 0.2217409\ttest: 0.2217696\tbest: 0.2217696 (226)\ttotal: 2.73s\tremaining: 9.31s\n",
      "227:\tlearn: 0.2206120\ttest: 0.2206412\tbest: 0.2206412 (227)\ttotal: 2.74s\tremaining: 9.29s\n",
      "228:\tlearn: 0.2196566\ttest: 0.2196863\tbest: 0.2196863 (228)\ttotal: 2.75s\tremaining: 9.28s\n",
      "229:\tlearn: 0.2186746\ttest: 0.2187049\tbest: 0.2187049 (229)\ttotal: 2.77s\tremaining: 9.26s\n",
      "230:\tlearn: 0.2174640\ttest: 0.2174947\tbest: 0.2174947 (230)\ttotal: 2.78s\tremaining: 9.25s\n",
      "231:\tlearn: 0.2160248\ttest: 0.2160559\tbest: 0.2160559 (231)\ttotal: 2.79s\tremaining: 9.24s\n",
      "232:\tlearn: 0.2149385\ttest: 0.2149699\tbest: 0.2149699 (232)\ttotal: 2.8s\tremaining: 9.22s\n",
      "233:\tlearn: 0.2137978\ttest: 0.2138291\tbest: 0.2138291 (233)\ttotal: 2.81s\tremaining: 9.21s\n",
      "234:\tlearn: 0.2125126\ttest: 0.2125443\tbest: 0.2125443 (234)\ttotal: 2.83s\tremaining: 9.2s\n",
      "235:\tlearn: 0.2114541\ttest: 0.2114863\tbest: 0.2114863 (235)\ttotal: 2.84s\tremaining: 9.19s\n",
      "236:\tlearn: 0.2101309\ttest: 0.2101633\tbest: 0.2101633 (236)\ttotal: 2.85s\tremaining: 9.17s\n",
      "237:\tlearn: 0.2091034\ttest: 0.2091356\tbest: 0.2091356 (237)\ttotal: 2.86s\tremaining: 9.16s\n",
      "238:\tlearn: 0.2080575\ttest: 0.2080896\tbest: 0.2080896 (238)\ttotal: 2.87s\tremaining: 9.15s\n",
      "239:\tlearn: 0.2072461\ttest: 0.2072783\tbest: 0.2072783 (239)\ttotal: 2.89s\tremaining: 9.14s\n",
      "240:\tlearn: 0.2060845\ttest: 0.2061164\tbest: 0.2061164 (240)\ttotal: 2.9s\tremaining: 9.13s\n",
      "241:\tlearn: 0.2050528\ttest: 0.2050847\tbest: 0.2050847 (241)\ttotal: 2.91s\tremaining: 9.11s\n",
      "242:\tlearn: 0.2035676\ttest: 0.2035996\tbest: 0.2035996 (242)\ttotal: 2.92s\tremaining: 9.1s\n",
      "243:\tlearn: 0.2023926\ttest: 0.2024244\tbest: 0.2024244 (243)\ttotal: 2.93s\tremaining: 9.09s\n",
      "244:\tlearn: 0.2016217\ttest: 0.2016532\tbest: 0.2016532 (244)\ttotal: 2.94s\tremaining: 9.07s\n",
      "245:\tlearn: 0.2004792\ttest: 0.2005104\tbest: 0.2005104 (245)\ttotal: 2.96s\tremaining: 9.06s\n",
      "246:\tlearn: 0.1993238\ttest: 0.1993549\tbest: 0.1993549 (246)\ttotal: 2.97s\tremaining: 9.05s\n",
      "247:\tlearn: 0.1984711\ttest: 0.1985024\tbest: 0.1985024 (247)\ttotal: 2.98s\tremaining: 9.04s\n",
      "248:\tlearn: 0.1973383\ttest: 0.1973702\tbest: 0.1973702 (248)\ttotal: 2.99s\tremaining: 9.02s\n",
      "249:\tlearn: 0.1959959\ttest: 0.1960273\tbest: 0.1960273 (249)\ttotal: 3s\tremaining: 9.01s\n",
      "250:\tlearn: 0.1949064\ttest: 0.1949378\tbest: 0.1949378 (250)\ttotal: 3.02s\tremaining: 9s\n",
      "251:\tlearn: 0.1933681\ttest: 0.1934004\tbest: 0.1934004 (251)\ttotal: 3.03s\tremaining: 8.98s\n",
      "252:\tlearn: 0.1921617\ttest: 0.1921943\tbest: 0.1921943 (252)\ttotal: 3.04s\tremaining: 8.97s\n",
      "253:\tlearn: 0.1912770\ttest: 0.1913099\tbest: 0.1913099 (253)\ttotal: 3.05s\tremaining: 8.96s\n",
      "254:\tlearn: 0.1897581\ttest: 0.1897913\tbest: 0.1897913 (254)\ttotal: 3.06s\tremaining: 8.95s\n",
      "255:\tlearn: 0.1883548\ttest: 0.1883884\tbest: 0.1883884 (255)\ttotal: 3.07s\tremaining: 8.94s\n",
      "256:\tlearn: 0.1870031\ttest: 0.1870364\tbest: 0.1870364 (256)\ttotal: 3.09s\tremaining: 8.92s\n",
      "257:\tlearn: 0.1856735\ttest: 0.1857072\tbest: 0.1857072 (257)\ttotal: 3.1s\tremaining: 8.91s\n",
      "258:\tlearn: 0.1843336\ttest: 0.1843675\tbest: 0.1843675 (258)\ttotal: 3.11s\tremaining: 8.9s\n",
      "259:\tlearn: 0.1831504\ttest: 0.1831840\tbest: 0.1831840 (259)\ttotal: 3.12s\tremaining: 8.88s\n",
      "260:\tlearn: 0.1821428\ttest: 0.1821772\tbest: 0.1821772 (260)\ttotal: 3.13s\tremaining: 8.87s\n",
      "261:\tlearn: 0.1810080\ttest: 0.1810424\tbest: 0.1810424 (261)\ttotal: 3.15s\tremaining: 8.86s\n",
      "262:\tlearn: 0.1798222\ttest: 0.1798570\tbest: 0.1798570 (262)\ttotal: 3.16s\tremaining: 8.85s\n",
      "263:\tlearn: 0.1790659\ttest: 0.1791003\tbest: 0.1791003 (263)\ttotal: 3.17s\tremaining: 8.83s\n",
      "264:\tlearn: 0.1779961\ttest: 0.1780302\tbest: 0.1780302 (264)\ttotal: 3.18s\tremaining: 8.82s\n",
      "265:\tlearn: 0.1769224\ttest: 0.1769571\tbest: 0.1769571 (265)\ttotal: 3.19s\tremaining: 8.81s\n",
      "266:\tlearn: 0.1759636\ttest: 0.1759987\tbest: 0.1759987 (266)\ttotal: 3.2s\tremaining: 8.79s\n",
      "267:\tlearn: 0.1748618\ttest: 0.1748973\tbest: 0.1748973 (267)\ttotal: 3.21s\tremaining: 8.78s\n",
      "268:\tlearn: 0.1736886\ttest: 0.1737234\tbest: 0.1737234 (268)\ttotal: 3.23s\tremaining: 8.77s\n",
      "269:\tlearn: 0.1724848\ttest: 0.1725194\tbest: 0.1725194 (269)\ttotal: 3.24s\tremaining: 8.76s\n",
      "270:\tlearn: 0.1714931\ttest: 0.1715276\tbest: 0.1715276 (270)\ttotal: 3.25s\tremaining: 8.74s\n",
      "271:\tlearn: 0.1706619\ttest: 0.1706969\tbest: 0.1706969 (271)\ttotal: 3.26s\tremaining: 8.73s\n",
      "272:\tlearn: 0.1697840\ttest: 0.1698191\tbest: 0.1698191 (272)\ttotal: 3.27s\tremaining: 8.72s\n",
      "273:\tlearn: 0.1689746\ttest: 0.1690099\tbest: 0.1690099 (273)\ttotal: 3.29s\tremaining: 8.71s\n",
      "274:\tlearn: 0.1677733\ttest: 0.1678082\tbest: 0.1678082 (274)\ttotal: 3.3s\tremaining: 8.69s\n",
      "275:\tlearn: 0.1665905\ttest: 0.1666250\tbest: 0.1666250 (275)\ttotal: 3.31s\tremaining: 8.68s\n",
      "276:\tlearn: 0.1656191\ttest: 0.1656541\tbest: 0.1656541 (276)\ttotal: 3.32s\tremaining: 8.67s\n",
      "277:\tlearn: 0.1644320\ttest: 0.1644676\tbest: 0.1644676 (277)\ttotal: 3.33s\tremaining: 8.66s\n",
      "278:\tlearn: 0.1633913\ttest: 0.1634273\tbest: 0.1634273 (278)\ttotal: 3.35s\tremaining: 8.65s\n",
      "279:\tlearn: 0.1622566\ttest: 0.1622929\tbest: 0.1622929 (279)\ttotal: 3.36s\tremaining: 8.63s\n",
      "280:\tlearn: 0.1612407\ttest: 0.1612772\tbest: 0.1612772 (280)\ttotal: 3.37s\tremaining: 8.62s\n",
      "281:\tlearn: 0.1600585\ttest: 0.1600955\tbest: 0.1600955 (281)\ttotal: 3.38s\tremaining: 8.61s\n",
      "282:\tlearn: 0.1590972\ttest: 0.1591342\tbest: 0.1591342 (282)\ttotal: 3.39s\tremaining: 8.6s\n",
      "283:\tlearn: 0.1585000\ttest: 0.1585375\tbest: 0.1585375 (283)\ttotal: 3.4s\tremaining: 8.58s\n",
      "284:\tlearn: 0.1572483\ttest: 0.1572855\tbest: 0.1572855 (284)\ttotal: 3.42s\tremaining: 8.57s\n",
      "285:\tlearn: 0.1560240\ttest: 0.1560612\tbest: 0.1560612 (285)\ttotal: 3.43s\tremaining: 8.56s\n",
      "286:\tlearn: 0.1552429\ttest: 0.1552802\tbest: 0.1552802 (286)\ttotal: 3.44s\tremaining: 8.54s\n",
      "287:\tlearn: 0.1541721\ttest: 0.1542101\tbest: 0.1542101 (287)\ttotal: 3.45s\tremaining: 8.53s\n",
      "288:\tlearn: 0.1531321\ttest: 0.1531708\tbest: 0.1531708 (288)\ttotal: 3.46s\tremaining: 8.52s\n",
      "289:\tlearn: 0.1521089\ttest: 0.1521480\tbest: 0.1521480 (289)\ttotal: 3.48s\tremaining: 8.51s\n",
      "290:\tlearn: 0.1512232\ttest: 0.1512629\tbest: 0.1512629 (290)\ttotal: 3.49s\tremaining: 8.5s\n",
      "291:\tlearn: 0.1502138\ttest: 0.1502540\tbest: 0.1502540 (291)\ttotal: 3.5s\tremaining: 8.48s\n",
      "292:\tlearn: 0.1492097\ttest: 0.1492501\tbest: 0.1492501 (292)\ttotal: 3.51s\tremaining: 8.47s\n",
      "293:\tlearn: 0.1481175\ttest: 0.1481589\tbest: 0.1481589 (293)\ttotal: 3.52s\tremaining: 8.46s\n",
      "294:\tlearn: 0.1471380\ttest: 0.1471792\tbest: 0.1471792 (294)\ttotal: 3.53s\tremaining: 8.45s\n",
      "295:\tlearn: 0.1462651\ttest: 0.1463064\tbest: 0.1463064 (295)\ttotal: 3.55s\tremaining: 8.43s\n",
      "296:\tlearn: 0.1452487\ttest: 0.1452908\tbest: 0.1452908 (296)\ttotal: 3.56s\tremaining: 8.43s\n",
      "297:\tlearn: 0.1446210\ttest: 0.1446631\tbest: 0.1446631 (297)\ttotal: 3.57s\tremaining: 8.41s\n",
      "298:\tlearn: 0.1436167\ttest: 0.1436589\tbest: 0.1436589 (298)\ttotal: 3.58s\tremaining: 8.4s\n",
      "299:\tlearn: 0.1429917\ttest: 0.1430340\tbest: 0.1430340 (299)\ttotal: 3.59s\tremaining: 8.39s\n",
      "300:\tlearn: 0.1418095\ttest: 0.1418520\tbest: 0.1418520 (300)\ttotal: 3.61s\tremaining: 8.38s\n",
      "301:\tlearn: 0.1408188\ttest: 0.1408616\tbest: 0.1408616 (301)\ttotal: 3.62s\tremaining: 8.36s\n",
      "302:\tlearn: 0.1398292\ttest: 0.1398717\tbest: 0.1398717 (302)\ttotal: 3.63s\tremaining: 8.35s\n",
      "303:\tlearn: 0.1389404\ttest: 0.1389840\tbest: 0.1389840 (303)\ttotal: 3.64s\tremaining: 8.34s\n",
      "304:\tlearn: 0.1379838\ttest: 0.1380271\tbest: 0.1380271 (304)\ttotal: 3.65s\tremaining: 8.33s\n",
      "305:\tlearn: 0.1370436\ttest: 0.1370870\tbest: 0.1370870 (305)\ttotal: 3.67s\tremaining: 8.32s\n"
     ]
    },
    {
     "name": "stdout",
     "output_type": "stream",
     "text": [
      "306:\tlearn: 0.1361446\ttest: 0.1361876\tbest: 0.1361876 (306)\ttotal: 3.68s\tremaining: 8.3s\n",
      "307:\tlearn: 0.1351363\ttest: 0.1351791\tbest: 0.1351791 (307)\ttotal: 3.69s\tremaining: 8.29s\n",
      "308:\tlearn: 0.1343041\ttest: 0.1343470\tbest: 0.1343470 (308)\ttotal: 3.7s\tremaining: 8.28s\n",
      "309:\tlearn: 0.1331545\ttest: 0.1331979\tbest: 0.1331979 (309)\ttotal: 3.71s\tremaining: 8.27s\n",
      "310:\tlearn: 0.1323110\ttest: 0.1323545\tbest: 0.1323545 (310)\ttotal: 3.73s\tremaining: 8.26s\n",
      "311:\tlearn: 0.1316871\ttest: 0.1317301\tbest: 0.1317301 (311)\ttotal: 3.74s\tremaining: 8.25s\n",
      "312:\tlearn: 0.1308360\ttest: 0.1308784\tbest: 0.1308784 (312)\ttotal: 3.75s\tremaining: 8.23s\n",
      "313:\tlearn: 0.1301079\ttest: 0.1301507\tbest: 0.1301507 (313)\ttotal: 3.76s\tremaining: 8.22s\n",
      "314:\tlearn: 0.1292389\ttest: 0.1292816\tbest: 0.1292816 (314)\ttotal: 3.77s\tremaining: 8.21s\n",
      "315:\tlearn: 0.1282826\ttest: 0.1283250\tbest: 0.1283250 (315)\ttotal: 3.79s\tremaining: 8.2s\n",
      "316:\tlearn: 0.1272518\ttest: 0.1272940\tbest: 0.1272940 (316)\ttotal: 3.8s\tremaining: 8.19s\n",
      "317:\tlearn: 0.1265301\ttest: 0.1265720\tbest: 0.1265720 (317)\ttotal: 3.81s\tremaining: 8.18s\n",
      "318:\tlearn: 0.1257824\ttest: 0.1258244\tbest: 0.1258244 (318)\ttotal: 3.82s\tremaining: 8.16s\n",
      "319:\tlearn: 0.1250906\ttest: 0.1251327\tbest: 0.1251327 (319)\ttotal: 3.83s\tremaining: 8.15s\n",
      "320:\tlearn: 0.1242808\ttest: 0.1243229\tbest: 0.1243229 (320)\ttotal: 3.85s\tremaining: 8.14s\n",
      "321:\tlearn: 0.1238126\ttest: 0.1238543\tbest: 0.1238543 (321)\ttotal: 3.86s\tremaining: 8.13s\n",
      "322:\tlearn: 0.1230292\ttest: 0.1230718\tbest: 0.1230718 (322)\ttotal: 3.87s\tremaining: 8.11s\n",
      "323:\tlearn: 0.1220821\ttest: 0.1221246\tbest: 0.1221246 (323)\ttotal: 3.88s\tremaining: 8.1s\n",
      "324:\tlearn: 0.1214208\ttest: 0.1214632\tbest: 0.1214632 (324)\ttotal: 3.9s\tremaining: 8.09s\n",
      "325:\tlearn: 0.1207146\ttest: 0.1207576\tbest: 0.1207576 (325)\ttotal: 3.91s\tremaining: 8.08s\n",
      "326:\tlearn: 0.1200249\ttest: 0.1200681\tbest: 0.1200681 (326)\ttotal: 3.92s\tremaining: 8.07s\n",
      "327:\tlearn: 0.1192225\ttest: 0.1192657\tbest: 0.1192657 (327)\ttotal: 3.93s\tremaining: 8.05s\n",
      "328:\tlearn: 0.1184949\ttest: 0.1185385\tbest: 0.1185385 (328)\ttotal: 3.94s\tremaining: 8.04s\n",
      "329:\tlearn: 0.1178282\ttest: 0.1178723\tbest: 0.1178723 (329)\ttotal: 3.95s\tremaining: 8.03s\n",
      "330:\tlearn: 0.1172120\ttest: 0.1172561\tbest: 0.1172561 (330)\ttotal: 3.97s\tremaining: 8.02s\n",
      "331:\tlearn: 0.1164091\ttest: 0.1164534\tbest: 0.1164534 (331)\ttotal: 3.98s\tremaining: 8.01s\n",
      "332:\tlearn: 0.1156543\ttest: 0.1156987\tbest: 0.1156987 (332)\ttotal: 3.99s\tremaining: 7.99s\n",
      "333:\tlearn: 0.1150200\ttest: 0.1150649\tbest: 0.1150649 (333)\ttotal: 4s\tremaining: 7.98s\n",
      "334:\tlearn: 0.1143196\ttest: 0.1143645\tbest: 0.1143645 (334)\ttotal: 4.01s\tremaining: 7.97s\n",
      "335:\tlearn: 0.1136148\ttest: 0.1136600\tbest: 0.1136600 (335)\ttotal: 4.03s\tremaining: 7.95s\n",
      "336:\tlearn: 0.1129691\ttest: 0.1130139\tbest: 0.1130139 (336)\ttotal: 4.04s\tremaining: 7.94s\n",
      "337:\tlearn: 0.1122106\ttest: 0.1122556\tbest: 0.1122556 (337)\ttotal: 4.05s\tremaining: 7.93s\n",
      "338:\tlearn: 0.1115442\ttest: 0.1115888\tbest: 0.1115888 (338)\ttotal: 4.06s\tremaining: 7.92s\n",
      "339:\tlearn: 0.1108035\ttest: 0.1108477\tbest: 0.1108477 (339)\ttotal: 4.07s\tremaining: 7.9s\n",
      "340:\tlearn: 0.1102824\ttest: 0.1103266\tbest: 0.1103266 (340)\ttotal: 4.08s\tremaining: 7.89s\n",
      "341:\tlearn: 0.1095746\ttest: 0.1096186\tbest: 0.1096186 (341)\ttotal: 4.09s\tremaining: 7.88s\n",
      "342:\tlearn: 0.1089396\ttest: 0.1089834\tbest: 0.1089834 (342)\ttotal: 4.11s\tremaining: 7.87s\n",
      "343:\tlearn: 0.1084378\ttest: 0.1084817\tbest: 0.1084817 (343)\ttotal: 4.12s\tremaining: 7.85s\n",
      "344:\tlearn: 0.1077687\ttest: 0.1078130\tbest: 0.1078130 (344)\ttotal: 4.13s\tremaining: 7.84s\n",
      "345:\tlearn: 0.1071617\ttest: 0.1072058\tbest: 0.1072058 (345)\ttotal: 4.14s\tremaining: 7.83s\n",
      "346:\tlearn: 0.1067486\ttest: 0.1067930\tbest: 0.1067930 (346)\ttotal: 4.15s\tremaining: 7.82s\n",
      "347:\tlearn: 0.1062476\ttest: 0.1062922\tbest: 0.1062922 (347)\ttotal: 4.17s\tremaining: 7.8s\n",
      "348:\tlearn: 0.1055969\ttest: 0.1056421\tbest: 0.1056421 (348)\ttotal: 4.18s\tremaining: 7.79s\n",
      "349:\tlearn: 0.1050021\ttest: 0.1050472\tbest: 0.1050472 (349)\ttotal: 4.19s\tremaining: 7.78s\n",
      "350:\tlearn: 0.1043099\ttest: 0.1043558\tbest: 0.1043558 (350)\ttotal: 4.2s\tremaining: 7.77s\n",
      "351:\tlearn: 0.1035351\ttest: 0.1035808\tbest: 0.1035808 (351)\ttotal: 4.21s\tremaining: 7.75s\n",
      "352:\tlearn: 0.1029232\ttest: 0.1029690\tbest: 0.1029690 (352)\ttotal: 4.22s\tremaining: 7.74s\n",
      "353:\tlearn: 0.1023685\ttest: 0.1024142\tbest: 0.1024142 (353)\ttotal: 4.24s\tremaining: 7.73s\n",
      "354:\tlearn: 0.1015817\ttest: 0.1016278\tbest: 0.1016278 (354)\ttotal: 4.25s\tremaining: 7.72s\n",
      "355:\tlearn: 0.1010564\ttest: 0.1011026\tbest: 0.1011026 (355)\ttotal: 4.26s\tremaining: 7.71s\n",
      "356:\tlearn: 0.1005171\ttest: 0.1005636\tbest: 0.1005636 (356)\ttotal: 4.27s\tremaining: 7.69s\n",
      "357:\tlearn: 0.0999707\ttest: 0.1000173\tbest: 0.1000173 (357)\ttotal: 4.28s\tremaining: 7.68s\n",
      "358:\tlearn: 0.0994650\ttest: 0.0995117\tbest: 0.0995117 (358)\ttotal: 4.29s\tremaining: 7.67s\n",
      "359:\tlearn: 0.0988037\ttest: 0.0988503\tbest: 0.0988503 (359)\ttotal: 4.31s\tremaining: 7.66s\n",
      "360:\tlearn: 0.0981690\ttest: 0.0982153\tbest: 0.0982153 (360)\ttotal: 4.32s\tremaining: 7.64s\n",
      "361:\tlearn: 0.0976023\ttest: 0.0976483\tbest: 0.0976483 (361)\ttotal: 4.33s\tremaining: 7.63s\n",
      "362:\tlearn: 0.0970035\ttest: 0.0970497\tbest: 0.0970497 (362)\ttotal: 4.34s\tremaining: 7.62s\n",
      "363:\tlearn: 0.0965810\ttest: 0.0966266\tbest: 0.0966266 (363)\ttotal: 4.35s\tremaining: 7.61s\n",
      "364:\tlearn: 0.0961107\ttest: 0.0961567\tbest: 0.0961567 (364)\ttotal: 4.37s\tremaining: 7.59s\n",
      "365:\tlearn: 0.0955376\ttest: 0.0955832\tbest: 0.0955832 (365)\ttotal: 4.38s\tremaining: 7.58s\n",
      "366:\tlearn: 0.0948616\ttest: 0.0949065\tbest: 0.0949065 (366)\ttotal: 4.39s\tremaining: 7.57s\n",
      "367:\tlearn: 0.0943230\ttest: 0.0943678\tbest: 0.0943678 (367)\ttotal: 4.4s\tremaining: 7.56s\n",
      "368:\tlearn: 0.0937998\ttest: 0.0938444\tbest: 0.0938444 (368)\ttotal: 4.42s\tremaining: 7.55s\n",
      "369:\tlearn: 0.0931900\ttest: 0.0932340\tbest: 0.0932340 (369)\ttotal: 4.43s\tremaining: 7.54s\n",
      "370:\tlearn: 0.0926289\ttest: 0.0926725\tbest: 0.0926725 (370)\ttotal: 4.44s\tremaining: 7.52s\n",
      "371:\tlearn: 0.0919885\ttest: 0.0920318\tbest: 0.0920318 (371)\ttotal: 4.45s\tremaining: 7.51s\n",
      "372:\tlearn: 0.0915155\ttest: 0.0915588\tbest: 0.0915588 (372)\ttotal: 4.46s\tremaining: 7.5s\n",
      "373:\tlearn: 0.0908896\ttest: 0.0909329\tbest: 0.0909329 (373)\ttotal: 4.47s\tremaining: 7.49s\n",
      "374:\tlearn: 0.0904619\ttest: 0.0905051\tbest: 0.0905051 (374)\ttotal: 4.48s\tremaining: 7.47s\n",
      "375:\tlearn: 0.0899988\ttest: 0.0900420\tbest: 0.0900420 (375)\ttotal: 4.5s\tremaining: 7.46s\n",
      "376:\tlearn: 0.0895979\ttest: 0.0896408\tbest: 0.0896408 (376)\ttotal: 4.51s\tremaining: 7.45s\n",
      "377:\tlearn: 0.0891422\ttest: 0.0891853\tbest: 0.0891853 (377)\ttotal: 4.52s\tremaining: 7.43s\n",
      "378:\tlearn: 0.0886280\ttest: 0.0886716\tbest: 0.0886716 (378)\ttotal: 4.53s\tremaining: 7.42s\n",
      "379:\tlearn: 0.0882128\ttest: 0.0882566\tbest: 0.0882566 (379)\ttotal: 4.54s\tremaining: 7.41s\n",
      "380:\tlearn: 0.0876133\ttest: 0.0876572\tbest: 0.0876572 (380)\ttotal: 4.55s\tremaining: 7.4s\n",
      "381:\tlearn: 0.0870945\ttest: 0.0871379\tbest: 0.0871379 (381)\ttotal: 4.56s\tremaining: 7.38s\n",
      "382:\tlearn: 0.0865888\ttest: 0.0866321\tbest: 0.0866321 (382)\ttotal: 4.58s\tremaining: 7.37s\n",
      "383:\tlearn: 0.0860821\ttest: 0.0861253\tbest: 0.0861253 (383)\ttotal: 4.59s\tremaining: 7.36s\n",
      "384:\tlearn: 0.0855849\ttest: 0.0856283\tbest: 0.0856283 (384)\ttotal: 4.6s\tremaining: 7.35s\n",
      "385:\tlearn: 0.0850202\ttest: 0.0850636\tbest: 0.0850636 (385)\ttotal: 4.61s\tremaining: 7.33s\n",
      "386:\tlearn: 0.0844934\ttest: 0.0845369\tbest: 0.0845369 (386)\ttotal: 4.62s\tremaining: 7.32s\n",
      "387:\tlearn: 0.0839346\ttest: 0.0839778\tbest: 0.0839778 (387)\ttotal: 4.63s\tremaining: 7.31s\n",
      "388:\tlearn: 0.0835472\ttest: 0.0835903\tbest: 0.0835903 (388)\ttotal: 4.64s\tremaining: 7.3s\n",
      "389:\tlearn: 0.0830724\ttest: 0.0831155\tbest: 0.0831155 (389)\ttotal: 4.66s\tremaining: 7.28s\n",
      "390:\tlearn: 0.0826140\ttest: 0.0826567\tbest: 0.0826567 (390)\ttotal: 4.67s\tremaining: 7.27s\n",
      "391:\tlearn: 0.0821356\ttest: 0.0821790\tbest: 0.0821790 (391)\ttotal: 4.68s\tremaining: 7.26s\n",
      "392:\tlearn: 0.0817689\ttest: 0.0818118\tbest: 0.0818118 (392)\ttotal: 4.69s\tremaining: 7.25s\n",
      "393:\tlearn: 0.0813821\ttest: 0.0814251\tbest: 0.0814251 (393)\ttotal: 4.7s\tremaining: 7.24s\n",
      "394:\tlearn: 0.0809445\ttest: 0.0809881\tbest: 0.0809881 (394)\ttotal: 4.72s\tremaining: 7.22s\n",
      "395:\tlearn: 0.0804489\ttest: 0.0804927\tbest: 0.0804927 (395)\ttotal: 4.73s\tremaining: 7.21s\n",
      "396:\tlearn: 0.0799840\ttest: 0.0800277\tbest: 0.0800277 (396)\ttotal: 4.74s\tremaining: 7.2s\n",
      "397:\tlearn: 0.0794951\ttest: 0.0795389\tbest: 0.0795389 (397)\ttotal: 4.75s\tremaining: 7.19s\n",
      "398:\tlearn: 0.0789965\ttest: 0.0790403\tbest: 0.0790403 (398)\ttotal: 4.76s\tremaining: 7.18s\n",
      "399:\tlearn: 0.0786881\ttest: 0.0787319\tbest: 0.0787319 (399)\ttotal: 4.78s\tremaining: 7.16s\n",
      "400:\tlearn: 0.0783932\ttest: 0.0784372\tbest: 0.0784372 (400)\ttotal: 4.79s\tremaining: 7.15s\n",
      "401:\tlearn: 0.0779174\ttest: 0.0779614\tbest: 0.0779614 (401)\ttotal: 4.8s\tremaining: 7.14s\n",
      "402:\tlearn: 0.0774551\ttest: 0.0774992\tbest: 0.0774992 (402)\ttotal: 4.81s\tremaining: 7.13s\n",
      "403:\tlearn: 0.0770459\ttest: 0.0770898\tbest: 0.0770898 (403)\ttotal: 4.82s\tremaining: 7.12s\n",
      "404:\tlearn: 0.0765906\ttest: 0.0766343\tbest: 0.0766343 (404)\ttotal: 4.83s\tremaining: 7.1s\n",
      "405:\tlearn: 0.0760422\ttest: 0.0760856\tbest: 0.0760856 (405)\ttotal: 4.85s\tremaining: 7.09s\n",
      "406:\tlearn: 0.0757133\ttest: 0.0757566\tbest: 0.0757566 (406)\ttotal: 4.86s\tremaining: 7.08s\n",
      "407:\tlearn: 0.0752915\ttest: 0.0753348\tbest: 0.0753348 (407)\ttotal: 4.87s\tremaining: 7.07s\n",
      "408:\tlearn: 0.0748557\ttest: 0.0748987\tbest: 0.0748987 (408)\ttotal: 4.88s\tremaining: 7.06s\n",
      "409:\tlearn: 0.0745953\ttest: 0.0746382\tbest: 0.0746382 (409)\ttotal: 4.89s\tremaining: 7.04s\n"
     ]
    },
    {
     "name": "stdout",
     "output_type": "stream",
     "text": [
      "410:\tlearn: 0.0742662\ttest: 0.0743086\tbest: 0.0743086 (410)\ttotal: 4.91s\tremaining: 7.03s\n",
      "411:\tlearn: 0.0737918\ttest: 0.0738340\tbest: 0.0738340 (411)\ttotal: 4.92s\tremaining: 7.02s\n",
      "412:\tlearn: 0.0734640\ttest: 0.0735063\tbest: 0.0735063 (412)\ttotal: 4.93s\tremaining: 7.01s\n",
      "413:\tlearn: 0.0730952\ttest: 0.0731370\tbest: 0.0731370 (413)\ttotal: 4.94s\tremaining: 6.99s\n",
      "414:\tlearn: 0.0727756\ttest: 0.0728170\tbest: 0.0728170 (414)\ttotal: 4.95s\tremaining: 6.98s\n",
      "415:\tlearn: 0.0724313\ttest: 0.0724726\tbest: 0.0724726 (415)\ttotal: 4.96s\tremaining: 6.97s\n",
      "416:\tlearn: 0.0719756\ttest: 0.0720169\tbest: 0.0720169 (416)\ttotal: 4.98s\tremaining: 6.96s\n",
      "417:\tlearn: 0.0716223\ttest: 0.0716636\tbest: 0.0716636 (417)\ttotal: 4.99s\tremaining: 6.95s\n",
      "418:\tlearn: 0.0712042\ttest: 0.0712451\tbest: 0.0712451 (418)\ttotal: 5s\tremaining: 6.93s\n",
      "419:\tlearn: 0.0708466\ttest: 0.0708875\tbest: 0.0708875 (419)\ttotal: 5.01s\tremaining: 6.92s\n",
      "420:\tlearn: 0.0704570\ttest: 0.0704981\tbest: 0.0704981 (420)\ttotal: 5.02s\tremaining: 6.91s\n",
      "421:\tlearn: 0.0700036\ttest: 0.0700448\tbest: 0.0700448 (421)\ttotal: 5.03s\tremaining: 6.89s\n",
      "422:\tlearn: 0.0696096\ttest: 0.0696506\tbest: 0.0696506 (422)\ttotal: 5.05s\tremaining: 6.88s\n",
      "423:\tlearn: 0.0692165\ttest: 0.0692577\tbest: 0.0692577 (423)\ttotal: 5.06s\tremaining: 6.87s\n",
      "424:\tlearn: 0.0688634\ttest: 0.0689046\tbest: 0.0689046 (424)\ttotal: 5.07s\tremaining: 6.86s\n",
      "425:\tlearn: 0.0685744\ttest: 0.0686159\tbest: 0.0686159 (425)\ttotal: 5.08s\tremaining: 6.85s\n",
      "426:\tlearn: 0.0681650\ttest: 0.0682063\tbest: 0.0682063 (426)\ttotal: 5.09s\tremaining: 6.83s\n",
      "427:\tlearn: 0.0678711\ttest: 0.0679127\tbest: 0.0679127 (427)\ttotal: 5.11s\tremaining: 6.82s\n",
      "428:\tlearn: 0.0675154\ttest: 0.0675569\tbest: 0.0675569 (428)\ttotal: 5.12s\tremaining: 6.81s\n",
      "429:\tlearn: 0.0671386\ttest: 0.0671801\tbest: 0.0671801 (429)\ttotal: 5.13s\tremaining: 6.8s\n",
      "430:\tlearn: 0.0667977\ttest: 0.0668388\tbest: 0.0668388 (430)\ttotal: 5.14s\tremaining: 6.79s\n",
      "431:\tlearn: 0.0665295\ttest: 0.0665704\tbest: 0.0665704 (431)\ttotal: 5.15s\tremaining: 6.78s\n",
      "432:\tlearn: 0.0661856\ttest: 0.0662263\tbest: 0.0662263 (432)\ttotal: 5.17s\tremaining: 6.76s\n",
      "433:\tlearn: 0.0658283\ttest: 0.0658690\tbest: 0.0658690 (433)\ttotal: 5.18s\tremaining: 6.75s\n",
      "434:\tlearn: 0.0654550\ttest: 0.0654956\tbest: 0.0654956 (434)\ttotal: 5.19s\tremaining: 6.74s\n",
      "435:\tlearn: 0.0650917\ttest: 0.0651327\tbest: 0.0651327 (435)\ttotal: 5.2s\tremaining: 6.73s\n",
      "436:\tlearn: 0.0647854\ttest: 0.0648262\tbest: 0.0648262 (436)\ttotal: 5.21s\tremaining: 6.72s\n",
      "437:\tlearn: 0.0644519\ttest: 0.0644927\tbest: 0.0644927 (437)\ttotal: 5.22s\tremaining: 6.7s\n",
      "438:\tlearn: 0.0640792\ttest: 0.0641205\tbest: 0.0641205 (438)\ttotal: 5.24s\tremaining: 6.69s\n",
      "439:\tlearn: 0.0638182\ttest: 0.0638593\tbest: 0.0638593 (439)\ttotal: 5.25s\tremaining: 6.68s\n",
      "440:\tlearn: 0.0634962\ttest: 0.0635373\tbest: 0.0635373 (440)\ttotal: 5.26s\tremaining: 6.67s\n",
      "441:\tlearn: 0.0632888\ttest: 0.0633298\tbest: 0.0633298 (441)\ttotal: 5.27s\tremaining: 6.66s\n",
      "442:\tlearn: 0.0628825\ttest: 0.0629235\tbest: 0.0629235 (442)\ttotal: 5.28s\tremaining: 6.64s\n",
      "443:\tlearn: 0.0625870\ttest: 0.0626277\tbest: 0.0626277 (443)\ttotal: 5.3s\tremaining: 6.63s\n",
      "444:\tlearn: 0.0623271\ttest: 0.0623676\tbest: 0.0623676 (444)\ttotal: 5.31s\tremaining: 6.62s\n",
      "445:\tlearn: 0.0619968\ttest: 0.0620373\tbest: 0.0620373 (445)\ttotal: 5.32s\tremaining: 6.61s\n",
      "446:\tlearn: 0.0615913\ttest: 0.0616321\tbest: 0.0616321 (446)\ttotal: 5.33s\tremaining: 6.6s\n",
      "447:\tlearn: 0.0613220\ttest: 0.0613629\tbest: 0.0613629 (447)\ttotal: 5.34s\tremaining: 6.58s\n",
      "448:\tlearn: 0.0609345\ttest: 0.0609749\tbest: 0.0609749 (448)\ttotal: 5.36s\tremaining: 6.57s\n",
      "449:\tlearn: 0.0606592\ttest: 0.0606995\tbest: 0.0606995 (449)\ttotal: 5.37s\tremaining: 6.56s\n",
      "450:\tlearn: 0.0603757\ttest: 0.0604162\tbest: 0.0604162 (450)\ttotal: 5.38s\tremaining: 6.55s\n",
      "451:\tlearn: 0.0601556\ttest: 0.0601960\tbest: 0.0601960 (451)\ttotal: 5.39s\tremaining: 6.54s\n",
      "452:\tlearn: 0.0599031\ttest: 0.0599436\tbest: 0.0599436 (452)\ttotal: 5.4s\tremaining: 6.52s\n",
      "453:\tlearn: 0.0595816\ttest: 0.0596218\tbest: 0.0596218 (453)\ttotal: 5.41s\tremaining: 6.51s\n",
      "454:\tlearn: 0.0592808\ttest: 0.0593210\tbest: 0.0593210 (454)\ttotal: 5.43s\tremaining: 6.5s\n",
      "455:\tlearn: 0.0589614\ttest: 0.0590011\tbest: 0.0590011 (455)\ttotal: 5.44s\tremaining: 6.49s\n",
      "456:\tlearn: 0.0586067\ttest: 0.0586466\tbest: 0.0586466 (456)\ttotal: 5.45s\tremaining: 6.47s\n",
      "457:\tlearn: 0.0582750\ttest: 0.0583148\tbest: 0.0583148 (457)\ttotal: 5.46s\tremaining: 6.46s\n",
      "458:\tlearn: 0.0579872\ttest: 0.0580266\tbest: 0.0580266 (458)\ttotal: 5.47s\tremaining: 6.45s\n",
      "459:\tlearn: 0.0578003\ttest: 0.0578395\tbest: 0.0578395 (459)\ttotal: 5.48s\tremaining: 6.44s\n",
      "460:\tlearn: 0.0575936\ttest: 0.0576328\tbest: 0.0576328 (460)\ttotal: 5.5s\tremaining: 6.43s\n",
      "461:\tlearn: 0.0573405\ttest: 0.0573798\tbest: 0.0573798 (461)\ttotal: 5.51s\tremaining: 6.41s\n",
      "462:\tlearn: 0.0570534\ttest: 0.0570929\tbest: 0.0570929 (462)\ttotal: 5.52s\tremaining: 6.4s\n",
      "463:\tlearn: 0.0567628\ttest: 0.0568022\tbest: 0.0568022 (463)\ttotal: 5.53s\tremaining: 6.39s\n",
      "464:\tlearn: 0.0565287\ttest: 0.0565676\tbest: 0.0565676 (464)\ttotal: 5.54s\tremaining: 6.38s\n",
      "465:\tlearn: 0.0562042\ttest: 0.0562429\tbest: 0.0562429 (465)\ttotal: 5.55s\tremaining: 6.36s\n",
      "466:\tlearn: 0.0559612\ttest: 0.0559998\tbest: 0.0559998 (466)\ttotal: 5.57s\tremaining: 6.35s\n",
      "467:\tlearn: 0.0557436\ttest: 0.0557821\tbest: 0.0557821 (467)\ttotal: 5.58s\tremaining: 6.34s\n",
      "468:\tlearn: 0.0554961\ttest: 0.0555345\tbest: 0.0555345 (468)\ttotal: 5.59s\tremaining: 6.33s\n",
      "469:\tlearn: 0.0552503\ttest: 0.0552887\tbest: 0.0552887 (469)\ttotal: 5.6s\tremaining: 6.32s\n",
      "470:\tlearn: 0.0549269\ttest: 0.0549649\tbest: 0.0549649 (470)\ttotal: 5.61s\tremaining: 6.3s\n",
      "471:\tlearn: 0.0546352\ttest: 0.0546727\tbest: 0.0546727 (471)\ttotal: 5.62s\tremaining: 6.29s\n",
      "472:\tlearn: 0.0543313\ttest: 0.0543688\tbest: 0.0543688 (472)\ttotal: 5.63s\tremaining: 6.28s\n",
      "473:\tlearn: 0.0540254\ttest: 0.0540631\tbest: 0.0540631 (473)\ttotal: 5.65s\tremaining: 6.27s\n",
      "474:\tlearn: 0.0537216\ttest: 0.0537592\tbest: 0.0537592 (474)\ttotal: 5.66s\tremaining: 6.25s\n",
      "475:\tlearn: 0.0534163\ttest: 0.0534542\tbest: 0.0534542 (475)\ttotal: 5.67s\tremaining: 6.24s\n",
      "476:\tlearn: 0.0532273\ttest: 0.0532652\tbest: 0.0532652 (476)\ttotal: 5.68s\tremaining: 6.23s\n",
      "477:\tlearn: 0.0529575\ttest: 0.0529954\tbest: 0.0529954 (477)\ttotal: 5.7s\tremaining: 6.22s\n",
      "478:\tlearn: 0.0526948\ttest: 0.0527331\tbest: 0.0527331 (478)\ttotal: 5.71s\tremaining: 6.21s\n",
      "479:\tlearn: 0.0524203\ttest: 0.0524583\tbest: 0.0524583 (479)\ttotal: 5.72s\tremaining: 6.19s\n",
      "480:\tlearn: 0.0521499\ttest: 0.0521880\tbest: 0.0521880 (480)\ttotal: 5.73s\tremaining: 6.18s\n",
      "481:\tlearn: 0.0519169\ttest: 0.0519549\tbest: 0.0519549 (481)\ttotal: 5.74s\tremaining: 6.17s\n",
      "482:\tlearn: 0.0517234\ttest: 0.0517610\tbest: 0.0517610 (482)\ttotal: 5.75s\tremaining: 6.16s\n",
      "483:\tlearn: 0.0514879\ttest: 0.0515254\tbest: 0.0515254 (483)\ttotal: 5.77s\tremaining: 6.15s\n",
      "484:\tlearn: 0.0512377\ttest: 0.0512752\tbest: 0.0512752 (484)\ttotal: 5.78s\tremaining: 6.13s\n",
      "485:\tlearn: 0.0509300\ttest: 0.0509678\tbest: 0.0509678 (485)\ttotal: 5.79s\tremaining: 6.12s\n",
      "486:\tlearn: 0.0507047\ttest: 0.0507424\tbest: 0.0507424 (486)\ttotal: 5.8s\tremaining: 6.11s\n",
      "487:\tlearn: 0.0504663\ttest: 0.0505037\tbest: 0.0505037 (487)\ttotal: 5.81s\tremaining: 6.1s\n",
      "488:\tlearn: 0.0502244\ttest: 0.0502613\tbest: 0.0502613 (488)\ttotal: 5.82s\tremaining: 6.08s\n",
      "489:\tlearn: 0.0500030\ttest: 0.0500400\tbest: 0.0500400 (489)\ttotal: 5.83s\tremaining: 6.07s\n",
      "490:\tlearn: 0.0497737\ttest: 0.0498104\tbest: 0.0498104 (490)\ttotal: 5.85s\tremaining: 6.06s\n",
      "491:\tlearn: 0.0495277\ttest: 0.0495647\tbest: 0.0495647 (491)\ttotal: 5.86s\tremaining: 6.05s\n",
      "492:\tlearn: 0.0493416\ttest: 0.0493784\tbest: 0.0493784 (492)\ttotal: 5.87s\tremaining: 6.04s\n",
      "493:\tlearn: 0.0491184\ttest: 0.0491551\tbest: 0.0491551 (493)\ttotal: 5.88s\tremaining: 6.03s\n",
      "494:\tlearn: 0.0488101\ttest: 0.0488465\tbest: 0.0488465 (494)\ttotal: 5.89s\tremaining: 6.01s\n",
      "495:\tlearn: 0.0486262\ttest: 0.0486624\tbest: 0.0486624 (495)\ttotal: 5.91s\tremaining: 6s\n",
      "496:\tlearn: 0.0483303\ttest: 0.0483659\tbest: 0.0483659 (496)\ttotal: 5.92s\tremaining: 5.99s\n",
      "497:\tlearn: 0.0481693\ttest: 0.0482050\tbest: 0.0482050 (497)\ttotal: 5.93s\tremaining: 5.98s\n",
      "498:\tlearn: 0.0479041\ttest: 0.0479393\tbest: 0.0479393 (498)\ttotal: 5.94s\tremaining: 5.96s\n",
      "499:\tlearn: 0.0476878\ttest: 0.0477230\tbest: 0.0477230 (499)\ttotal: 5.95s\tremaining: 5.95s\n",
      "500:\tlearn: 0.0474677\ttest: 0.0475031\tbest: 0.0475031 (500)\ttotal: 5.96s\tremaining: 5.94s\n",
      "501:\tlearn: 0.0472752\ttest: 0.0473106\tbest: 0.0473106 (501)\ttotal: 5.98s\tremaining: 5.93s\n",
      "502:\tlearn: 0.0470894\ttest: 0.0471247\tbest: 0.0471247 (502)\ttotal: 5.99s\tremaining: 5.92s\n",
      "503:\tlearn: 0.0468455\ttest: 0.0468810\tbest: 0.0468810 (503)\ttotal: 6s\tremaining: 5.9s\n",
      "504:\tlearn: 0.0465626\ttest: 0.0465982\tbest: 0.0465982 (504)\ttotal: 6.01s\tremaining: 5.89s\n",
      "505:\tlearn: 0.0463228\ttest: 0.0463587\tbest: 0.0463587 (505)\ttotal: 6.02s\tremaining: 5.88s\n",
      "506:\tlearn: 0.0460732\ttest: 0.0461088\tbest: 0.0461088 (506)\ttotal: 6.04s\tremaining: 5.87s\n",
      "507:\tlearn: 0.0458098\ttest: 0.0458453\tbest: 0.0458453 (507)\ttotal: 6.05s\tremaining: 5.86s\n",
      "508:\tlearn: 0.0455979\ttest: 0.0456331\tbest: 0.0456331 (508)\ttotal: 6.06s\tremaining: 5.84s\n",
      "509:\tlearn: 0.0454615\ttest: 0.0454966\tbest: 0.0454966 (509)\ttotal: 6.07s\tremaining: 5.83s\n",
      "510:\tlearn: 0.0451814\ttest: 0.0452163\tbest: 0.0452163 (510)\ttotal: 6.08s\tremaining: 5.82s\n",
      "511:\tlearn: 0.0449939\ttest: 0.0450288\tbest: 0.0450288 (511)\ttotal: 6.09s\tremaining: 5.81s\n",
      "512:\tlearn: 0.0447972\ttest: 0.0448324\tbest: 0.0448324 (512)\ttotal: 6.11s\tremaining: 5.8s\n",
      "513:\tlearn: 0.0445634\ttest: 0.0445982\tbest: 0.0445982 (513)\ttotal: 6.12s\tremaining: 5.78s\n",
      "514:\tlearn: 0.0443852\ttest: 0.0444199\tbest: 0.0444199 (514)\ttotal: 6.13s\tremaining: 5.77s\n"
     ]
    },
    {
     "name": "stdout",
     "output_type": "stream",
     "text": [
      "515:\tlearn: 0.0441657\ttest: 0.0442001\tbest: 0.0442001 (515)\ttotal: 6.14s\tremaining: 5.76s\n",
      "516:\tlearn: 0.0439821\ttest: 0.0440165\tbest: 0.0440165 (516)\ttotal: 6.15s\tremaining: 5.75s\n",
      "517:\tlearn: 0.0437260\ttest: 0.0437604\tbest: 0.0437604 (517)\ttotal: 6.17s\tremaining: 5.74s\n",
      "518:\tlearn: 0.0435496\ttest: 0.0435840\tbest: 0.0435840 (518)\ttotal: 6.18s\tremaining: 5.72s\n",
      "519:\tlearn: 0.0433302\ttest: 0.0433638\tbest: 0.0433638 (519)\ttotal: 6.19s\tremaining: 5.71s\n",
      "520:\tlearn: 0.0431951\ttest: 0.0432289\tbest: 0.0432289 (520)\ttotal: 6.2s\tremaining: 5.7s\n",
      "521:\tlearn: 0.0429906\ttest: 0.0430240\tbest: 0.0430240 (521)\ttotal: 6.21s\tremaining: 5.69s\n",
      "522:\tlearn: 0.0427923\ttest: 0.0428251\tbest: 0.0428251 (522)\ttotal: 6.22s\tremaining: 5.67s\n",
      "523:\tlearn: 0.0425560\ttest: 0.0425884\tbest: 0.0425884 (523)\ttotal: 6.24s\tremaining: 5.66s\n",
      "524:\tlearn: 0.0424184\ttest: 0.0424507\tbest: 0.0424507 (524)\ttotal: 6.25s\tremaining: 5.65s\n",
      "525:\tlearn: 0.0422484\ttest: 0.0422806\tbest: 0.0422806 (525)\ttotal: 6.26s\tremaining: 5.64s\n",
      "526:\tlearn: 0.0420650\ttest: 0.0420974\tbest: 0.0420974 (526)\ttotal: 6.27s\tremaining: 5.63s\n",
      "527:\tlearn: 0.0418873\ttest: 0.0419197\tbest: 0.0419197 (527)\ttotal: 6.28s\tremaining: 5.62s\n",
      "528:\tlearn: 0.0416736\ttest: 0.0417061\tbest: 0.0417061 (528)\ttotal: 6.29s\tremaining: 5.6s\n",
      "529:\tlearn: 0.0414724\ttest: 0.0415047\tbest: 0.0415047 (529)\ttotal: 6.3s\tremaining: 5.59s\n",
      "530:\tlearn: 0.0412817\ttest: 0.0413141\tbest: 0.0413141 (530)\ttotal: 6.32s\tremaining: 5.58s\n",
      "531:\tlearn: 0.0410525\ttest: 0.0410849\tbest: 0.0410849 (531)\ttotal: 6.33s\tremaining: 5.57s\n",
      "532:\tlearn: 0.0409374\ttest: 0.0409694\tbest: 0.0409694 (532)\ttotal: 6.34s\tremaining: 5.56s\n",
      "533:\tlearn: 0.0407530\ttest: 0.0407852\tbest: 0.0407852 (533)\ttotal: 6.35s\tremaining: 5.54s\n",
      "534:\tlearn: 0.0406018\ttest: 0.0406340\tbest: 0.0406340 (534)\ttotal: 6.37s\tremaining: 5.53s\n",
      "535:\tlearn: 0.0403841\ttest: 0.0404161\tbest: 0.0404161 (535)\ttotal: 6.38s\tremaining: 5.52s\n",
      "536:\tlearn: 0.0402371\ttest: 0.0402690\tbest: 0.0402690 (536)\ttotal: 6.39s\tremaining: 5.51s\n",
      "537:\tlearn: 0.0401127\ttest: 0.0401442\tbest: 0.0401442 (537)\ttotal: 6.4s\tremaining: 5.5s\n",
      "538:\tlearn: 0.0399699\ttest: 0.0400014\tbest: 0.0400014 (538)\ttotal: 6.41s\tremaining: 5.48s\n",
      "539:\tlearn: 0.0397818\ttest: 0.0398130\tbest: 0.0398130 (539)\ttotal: 6.42s\tremaining: 5.47s\n",
      "540:\tlearn: 0.0395836\ttest: 0.0396147\tbest: 0.0396147 (540)\ttotal: 6.44s\tremaining: 5.46s\n",
      "541:\tlearn: 0.0393769\ttest: 0.0394080\tbest: 0.0394080 (541)\ttotal: 6.45s\tremaining: 5.45s\n",
      "542:\tlearn: 0.0391948\ttest: 0.0392258\tbest: 0.0392258 (542)\ttotal: 6.46s\tremaining: 5.44s\n",
      "543:\tlearn: 0.0389549\ttest: 0.0389855\tbest: 0.0389855 (543)\ttotal: 6.47s\tremaining: 5.42s\n",
      "544:\tlearn: 0.0387701\ttest: 0.0388007\tbest: 0.0388007 (544)\ttotal: 6.48s\tremaining: 5.41s\n",
      "545:\tlearn: 0.0386289\ttest: 0.0386598\tbest: 0.0386598 (545)\ttotal: 6.5s\tremaining: 5.4s\n",
      "546:\tlearn: 0.0384774\ttest: 0.0385084\tbest: 0.0385084 (546)\ttotal: 6.51s\tremaining: 5.39s\n",
      "547:\tlearn: 0.0383058\ttest: 0.0383369\tbest: 0.0383369 (547)\ttotal: 6.52s\tremaining: 5.38s\n",
      "548:\tlearn: 0.0381924\ttest: 0.0382235\tbest: 0.0382235 (548)\ttotal: 6.53s\tremaining: 5.37s\n",
      "549:\tlearn: 0.0380385\ttest: 0.0380695\tbest: 0.0380695 (549)\ttotal: 6.54s\tremaining: 5.35s\n",
      "550:\tlearn: 0.0378998\ttest: 0.0379307\tbest: 0.0379307 (550)\ttotal: 6.55s\tremaining: 5.34s\n",
      "551:\tlearn: 0.0377040\ttest: 0.0377348\tbest: 0.0377348 (551)\ttotal: 6.57s\tremaining: 5.33s\n",
      "552:\tlearn: 0.0375522\ttest: 0.0375830\tbest: 0.0375830 (552)\ttotal: 6.58s\tremaining: 5.32s\n",
      "553:\tlearn: 0.0374032\ttest: 0.0374337\tbest: 0.0374337 (553)\ttotal: 6.59s\tremaining: 5.3s\n",
      "554:\tlearn: 0.0372342\ttest: 0.0372650\tbest: 0.0372650 (554)\ttotal: 6.6s\tremaining: 5.29s\n",
      "555:\tlearn: 0.0370898\ttest: 0.0371204\tbest: 0.0371204 (555)\ttotal: 6.61s\tremaining: 5.28s\n",
      "556:\tlearn: 0.0369346\ttest: 0.0369653\tbest: 0.0369653 (556)\ttotal: 6.63s\tremaining: 5.27s\n",
      "557:\tlearn: 0.0367728\ttest: 0.0368035\tbest: 0.0368035 (557)\ttotal: 6.64s\tremaining: 5.26s\n",
      "558:\tlearn: 0.0366331\ttest: 0.0366636\tbest: 0.0366636 (558)\ttotal: 6.65s\tremaining: 5.25s\n",
      "559:\tlearn: 0.0364303\ttest: 0.0364608\tbest: 0.0364608 (559)\ttotal: 6.66s\tremaining: 5.23s\n",
      "560:\tlearn: 0.0362613\ttest: 0.0362916\tbest: 0.0362916 (560)\ttotal: 6.67s\tremaining: 5.22s\n",
      "561:\tlearn: 0.0361396\ttest: 0.0361701\tbest: 0.0361701 (561)\ttotal: 6.68s\tremaining: 5.21s\n",
      "562:\tlearn: 0.0359288\ttest: 0.0359593\tbest: 0.0359593 (562)\ttotal: 6.7s\tremaining: 5.2s\n",
      "563:\tlearn: 0.0357456\ttest: 0.0357758\tbest: 0.0357758 (563)\ttotal: 6.71s\tremaining: 5.18s\n",
      "564:\tlearn: 0.0356138\ttest: 0.0356439\tbest: 0.0356439 (564)\ttotal: 6.72s\tremaining: 5.17s\n",
      "565:\tlearn: 0.0354727\ttest: 0.0355026\tbest: 0.0355026 (565)\ttotal: 6.73s\tremaining: 5.16s\n",
      "566:\tlearn: 0.0353063\ttest: 0.0353359\tbest: 0.0353359 (566)\ttotal: 6.74s\tremaining: 5.15s\n",
      "567:\tlearn: 0.0351606\ttest: 0.0351898\tbest: 0.0351898 (567)\ttotal: 6.76s\tremaining: 5.14s\n",
      "568:\tlearn: 0.0350023\ttest: 0.0350316\tbest: 0.0350316 (568)\ttotal: 6.77s\tremaining: 5.13s\n",
      "569:\tlearn: 0.0348247\ttest: 0.0348540\tbest: 0.0348540 (569)\ttotal: 6.78s\tremaining: 5.11s\n",
      "570:\tlearn: 0.0346662\ttest: 0.0346952\tbest: 0.0346952 (570)\ttotal: 6.79s\tremaining: 5.1s\n",
      "571:\tlearn: 0.0345022\ttest: 0.0345312\tbest: 0.0345312 (571)\ttotal: 6.8s\tremaining: 5.09s\n",
      "572:\tlearn: 0.0343810\ttest: 0.0344100\tbest: 0.0344100 (572)\ttotal: 6.81s\tremaining: 5.08s\n",
      "573:\tlearn: 0.0342182\ttest: 0.0342471\tbest: 0.0342471 (573)\ttotal: 6.83s\tremaining: 5.07s\n",
      "574:\tlearn: 0.0340765\ttest: 0.0341051\tbest: 0.0341051 (574)\ttotal: 6.84s\tremaining: 5.05s\n",
      "575:\tlearn: 0.0339316\ttest: 0.0339597\tbest: 0.0339597 (575)\ttotal: 6.85s\tremaining: 5.04s\n",
      "576:\tlearn: 0.0337944\ttest: 0.0338226\tbest: 0.0338226 (576)\ttotal: 6.86s\tremaining: 5.03s\n",
      "577:\tlearn: 0.0336393\ttest: 0.0336675\tbest: 0.0336675 (577)\ttotal: 6.87s\tremaining: 5.02s\n",
      "578:\tlearn: 0.0334910\ttest: 0.0335190\tbest: 0.0335190 (578)\ttotal: 6.88s\tremaining: 5s\n",
      "579:\tlearn: 0.0333880\ttest: 0.0334160\tbest: 0.0334160 (579)\ttotal: 6.89s\tremaining: 4.99s\n",
      "580:\tlearn: 0.0332185\ttest: 0.0332463\tbest: 0.0332463 (580)\ttotal: 6.91s\tremaining: 4.98s\n",
      "581:\tlearn: 0.0330796\ttest: 0.0331072\tbest: 0.0331072 (581)\ttotal: 6.92s\tremaining: 4.97s\n",
      "582:\tlearn: 0.0329386\ttest: 0.0329664\tbest: 0.0329664 (582)\ttotal: 6.93s\tremaining: 4.96s\n",
      "583:\tlearn: 0.0328205\ttest: 0.0328485\tbest: 0.0328485 (583)\ttotal: 6.94s\tremaining: 4.95s\n",
      "584:\tlearn: 0.0326680\ttest: 0.0326963\tbest: 0.0326963 (584)\ttotal: 6.96s\tremaining: 4.93s\n",
      "585:\tlearn: 0.0325334\ttest: 0.0325614\tbest: 0.0325614 (585)\ttotal: 6.97s\tremaining: 4.92s\n",
      "586:\tlearn: 0.0324077\ttest: 0.0324359\tbest: 0.0324359 (586)\ttotal: 6.98s\tremaining: 4.91s\n",
      "587:\tlearn: 0.0322763\ttest: 0.0323044\tbest: 0.0323044 (587)\ttotal: 6.99s\tremaining: 4.9s\n",
      "588:\tlearn: 0.0321342\ttest: 0.0321622\tbest: 0.0321622 (588)\ttotal: 7s\tremaining: 4.89s\n",
      "589:\tlearn: 0.0320182\ttest: 0.0320461\tbest: 0.0320461 (589)\ttotal: 7.01s\tremaining: 4.87s\n",
      "590:\tlearn: 0.0319033\ttest: 0.0319311\tbest: 0.0319311 (590)\ttotal: 7.03s\tremaining: 4.86s\n",
      "591:\tlearn: 0.0317682\ttest: 0.0317962\tbest: 0.0317962 (591)\ttotal: 7.04s\tremaining: 4.85s\n",
      "592:\tlearn: 0.0316279\ttest: 0.0316556\tbest: 0.0316556 (592)\ttotal: 7.05s\tremaining: 4.84s\n",
      "593:\tlearn: 0.0315329\ttest: 0.0315604\tbest: 0.0315604 (593)\ttotal: 7.06s\tremaining: 4.83s\n",
      "594:\tlearn: 0.0314162\ttest: 0.0314440\tbest: 0.0314440 (594)\ttotal: 7.07s\tremaining: 4.81s\n",
      "595:\tlearn: 0.0312950\ttest: 0.0313225\tbest: 0.0313225 (595)\ttotal: 7.08s\tremaining: 4.8s\n",
      "596:\tlearn: 0.0311251\ttest: 0.0311524\tbest: 0.0311524 (596)\ttotal: 7.1s\tremaining: 4.79s\n",
      "597:\tlearn: 0.0310088\ttest: 0.0310359\tbest: 0.0310359 (597)\ttotal: 7.11s\tremaining: 4.78s\n",
      "598:\tlearn: 0.0308911\ttest: 0.0309181\tbest: 0.0309181 (598)\ttotal: 7.12s\tremaining: 4.77s\n",
      "599:\tlearn: 0.0307722\ttest: 0.0307992\tbest: 0.0307992 (599)\ttotal: 7.13s\tremaining: 4.75s\n",
      "600:\tlearn: 0.0306164\ttest: 0.0306430\tbest: 0.0306430 (600)\ttotal: 7.14s\tremaining: 4.74s\n",
      "601:\tlearn: 0.0304550\ttest: 0.0304815\tbest: 0.0304815 (601)\ttotal: 7.15s\tremaining: 4.73s\n",
      "602:\tlearn: 0.0303628\ttest: 0.0303892\tbest: 0.0303892 (602)\ttotal: 7.17s\tremaining: 4.72s\n",
      "603:\tlearn: 0.0302497\ttest: 0.0302760\tbest: 0.0302760 (603)\ttotal: 7.18s\tremaining: 4.71s\n",
      "604:\tlearn: 0.0301224\ttest: 0.0301485\tbest: 0.0301485 (604)\ttotal: 7.19s\tremaining: 4.69s\n",
      "605:\tlearn: 0.0299854\ttest: 0.0300115\tbest: 0.0300115 (605)\ttotal: 7.2s\tremaining: 4.68s\n",
      "606:\tlearn: 0.0298620\ttest: 0.0298878\tbest: 0.0298878 (606)\ttotal: 7.21s\tremaining: 4.67s\n",
      "607:\tlearn: 0.0297216\ttest: 0.0297475\tbest: 0.0297475 (607)\ttotal: 7.22s\tremaining: 4.66s\n",
      "608:\tlearn: 0.0295871\ttest: 0.0296127\tbest: 0.0296127 (608)\ttotal: 7.24s\tremaining: 4.65s\n",
      "609:\tlearn: 0.0295023\ttest: 0.0295278\tbest: 0.0295278 (609)\ttotal: 7.25s\tremaining: 4.63s\n",
      "610:\tlearn: 0.0294216\ttest: 0.0294470\tbest: 0.0294470 (610)\ttotal: 7.26s\tremaining: 4.62s\n",
      "611:\tlearn: 0.0292656\ttest: 0.0292911\tbest: 0.0292911 (611)\ttotal: 7.27s\tremaining: 4.61s\n",
      "612:\tlearn: 0.0291533\ttest: 0.0291786\tbest: 0.0291786 (612)\ttotal: 7.28s\tremaining: 4.6s\n",
      "613:\tlearn: 0.0290310\ttest: 0.0290564\tbest: 0.0290564 (613)\ttotal: 7.29s\tremaining: 4.58s\n",
      "614:\tlearn: 0.0288803\ttest: 0.0289057\tbest: 0.0289057 (614)\ttotal: 7.31s\tremaining: 4.57s\n",
      "615:\tlearn: 0.0287949\ttest: 0.0288204\tbest: 0.0288204 (615)\ttotal: 7.32s\tremaining: 4.56s\n",
      "616:\tlearn: 0.0286876\ttest: 0.0287130\tbest: 0.0287130 (616)\ttotal: 7.33s\tremaining: 4.55s\n",
      "617:\tlearn: 0.0285546\ttest: 0.0285800\tbest: 0.0285800 (617)\ttotal: 7.34s\tremaining: 4.54s\n",
      "618:\tlearn: 0.0284179\ttest: 0.0284435\tbest: 0.0284435 (618)\ttotal: 7.35s\tremaining: 4.53s\n"
     ]
    },
    {
     "name": "stdout",
     "output_type": "stream",
     "text": [
      "619:\tlearn: 0.0283212\ttest: 0.0283469\tbest: 0.0283469 (619)\ttotal: 7.36s\tremaining: 4.51s\n",
      "620:\tlearn: 0.0282099\ttest: 0.0282356\tbest: 0.0282356 (620)\ttotal: 7.37s\tremaining: 4.5s\n",
      "621:\tlearn: 0.0280950\ttest: 0.0281206\tbest: 0.0281206 (621)\ttotal: 7.39s\tremaining: 4.49s\n",
      "622:\tlearn: 0.0279737\ttest: 0.0279990\tbest: 0.0279990 (622)\ttotal: 7.4s\tremaining: 4.48s\n",
      "623:\tlearn: 0.0278721\ttest: 0.0278974\tbest: 0.0278974 (623)\ttotal: 7.41s\tremaining: 4.47s\n",
      "624:\tlearn: 0.0277588\ttest: 0.0277840\tbest: 0.0277840 (624)\ttotal: 7.42s\tremaining: 4.45s\n",
      "625:\tlearn: 0.0276162\ttest: 0.0276413\tbest: 0.0276413 (625)\ttotal: 7.43s\tremaining: 4.44s\n",
      "626:\tlearn: 0.0274986\ttest: 0.0275239\tbest: 0.0275239 (626)\ttotal: 7.45s\tremaining: 4.43s\n",
      "627:\tlearn: 0.0274122\ttest: 0.0274375\tbest: 0.0274375 (627)\ttotal: 7.46s\tremaining: 4.42s\n",
      "628:\tlearn: 0.0272636\ttest: 0.0272887\tbest: 0.0272887 (628)\ttotal: 7.47s\tremaining: 4.41s\n",
      "629:\tlearn: 0.0271444\ttest: 0.0271693\tbest: 0.0271693 (629)\ttotal: 7.48s\tremaining: 4.39s\n",
      "630:\tlearn: 0.0270618\ttest: 0.0270867\tbest: 0.0270867 (630)\ttotal: 7.49s\tremaining: 4.38s\n",
      "631:\tlearn: 0.0269554\ttest: 0.0269800\tbest: 0.0269800 (631)\ttotal: 7.5s\tremaining: 4.37s\n",
      "632:\tlearn: 0.0268589\ttest: 0.0268834\tbest: 0.0268834 (632)\ttotal: 7.52s\tremaining: 4.36s\n",
      "633:\tlearn: 0.0267703\ttest: 0.0267948\tbest: 0.0267948 (633)\ttotal: 7.53s\tremaining: 4.34s\n",
      "634:\tlearn: 0.0266670\ttest: 0.0266913\tbest: 0.0266913 (634)\ttotal: 7.54s\tremaining: 4.33s\n",
      "635:\tlearn: 0.0265432\ttest: 0.0265675\tbest: 0.0265675 (635)\ttotal: 7.55s\tremaining: 4.32s\n",
      "636:\tlearn: 0.0264682\ttest: 0.0264925\tbest: 0.0264925 (636)\ttotal: 7.56s\tremaining: 4.31s\n",
      "637:\tlearn: 0.0263515\ttest: 0.0263759\tbest: 0.0263759 (637)\ttotal: 7.58s\tremaining: 4.3s\n",
      "638:\tlearn: 0.0262399\ttest: 0.0262642\tbest: 0.0262642 (638)\ttotal: 7.59s\tremaining: 4.29s\n",
      "639:\tlearn: 0.0261341\ttest: 0.0261582\tbest: 0.0261582 (639)\ttotal: 7.6s\tremaining: 4.27s\n",
      "640:\tlearn: 0.0260474\ttest: 0.0260715\tbest: 0.0260715 (640)\ttotal: 7.61s\tremaining: 4.26s\n",
      "641:\tlearn: 0.0259625\ttest: 0.0259865\tbest: 0.0259865 (641)\ttotal: 7.62s\tremaining: 4.25s\n",
      "642:\tlearn: 0.0258509\ttest: 0.0258749\tbest: 0.0258749 (642)\ttotal: 7.63s\tremaining: 4.24s\n",
      "643:\tlearn: 0.0257870\ttest: 0.0258108\tbest: 0.0258108 (643)\ttotal: 7.64s\tremaining: 4.23s\n",
      "644:\tlearn: 0.0256783\ttest: 0.0257019\tbest: 0.0257019 (644)\ttotal: 7.66s\tremaining: 4.21s\n",
      "645:\tlearn: 0.0255728\ttest: 0.0255963\tbest: 0.0255963 (645)\ttotal: 7.67s\tremaining: 4.2s\n",
      "646:\tlearn: 0.0254720\ttest: 0.0254955\tbest: 0.0254955 (646)\ttotal: 7.68s\tremaining: 4.19s\n",
      "647:\tlearn: 0.0253687\ttest: 0.0253923\tbest: 0.0253923 (647)\ttotal: 7.7s\tremaining: 4.18s\n",
      "648:\tlearn: 0.0252706\ttest: 0.0252941\tbest: 0.0252941 (648)\ttotal: 7.71s\tremaining: 4.17s\n",
      "649:\tlearn: 0.0251823\ttest: 0.0252057\tbest: 0.0252057 (649)\ttotal: 7.72s\tremaining: 4.16s\n",
      "650:\tlearn: 0.0250948\ttest: 0.0251179\tbest: 0.0251179 (650)\ttotal: 7.73s\tremaining: 4.14s\n",
      "651:\tlearn: 0.0249945\ttest: 0.0250176\tbest: 0.0250176 (651)\ttotal: 7.74s\tremaining: 4.13s\n",
      "652:\tlearn: 0.0249122\ttest: 0.0249351\tbest: 0.0249351 (652)\ttotal: 7.75s\tremaining: 4.12s\n",
      "653:\tlearn: 0.0248159\ttest: 0.0248389\tbest: 0.0248389 (653)\ttotal: 7.77s\tremaining: 4.11s\n",
      "654:\tlearn: 0.0247387\ttest: 0.0247616\tbest: 0.0247616 (654)\ttotal: 7.78s\tremaining: 4.1s\n",
      "655:\tlearn: 0.0246591\ttest: 0.0246821\tbest: 0.0246821 (655)\ttotal: 7.79s\tremaining: 4.08s\n",
      "656:\tlearn: 0.0245542\ttest: 0.0245770\tbest: 0.0245770 (656)\ttotal: 7.8s\tremaining: 4.07s\n",
      "657:\tlearn: 0.0244529\ttest: 0.0244756\tbest: 0.0244756 (657)\ttotal: 7.82s\tremaining: 4.06s\n",
      "658:\tlearn: 0.0243793\ttest: 0.0244019\tbest: 0.0244019 (658)\ttotal: 7.83s\tremaining: 4.05s\n",
      "659:\tlearn: 0.0242802\ttest: 0.0243026\tbest: 0.0243026 (659)\ttotal: 7.84s\tremaining: 4.04s\n",
      "660:\tlearn: 0.0241786\ttest: 0.0242012\tbest: 0.0242012 (660)\ttotal: 7.85s\tremaining: 4.03s\n",
      "661:\tlearn: 0.0240561\ttest: 0.0240789\tbest: 0.0240789 (661)\ttotal: 7.86s\tremaining: 4.01s\n",
      "662:\tlearn: 0.0239474\ttest: 0.0239697\tbest: 0.0239697 (662)\ttotal: 7.88s\tremaining: 4s\n",
      "663:\tlearn: 0.0238636\ttest: 0.0238860\tbest: 0.0238860 (663)\ttotal: 7.89s\tremaining: 3.99s\n",
      "664:\tlearn: 0.0237756\ttest: 0.0237980\tbest: 0.0237980 (664)\ttotal: 7.9s\tremaining: 3.98s\n",
      "665:\tlearn: 0.0236924\ttest: 0.0237147\tbest: 0.0237147 (665)\ttotal: 7.91s\tremaining: 3.97s\n",
      "666:\tlearn: 0.0235892\ttest: 0.0236114\tbest: 0.0236114 (666)\ttotal: 7.92s\tremaining: 3.96s\n",
      "667:\tlearn: 0.0235013\ttest: 0.0235236\tbest: 0.0235236 (667)\ttotal: 7.93s\tremaining: 3.94s\n",
      "668:\tlearn: 0.0234016\ttest: 0.0234236\tbest: 0.0234236 (668)\ttotal: 7.95s\tremaining: 3.93s\n",
      "669:\tlearn: 0.0233045\ttest: 0.0233266\tbest: 0.0233266 (669)\ttotal: 7.96s\tremaining: 3.92s\n",
      "670:\tlearn: 0.0231970\ttest: 0.0232190\tbest: 0.0232190 (670)\ttotal: 7.97s\tremaining: 3.91s\n",
      "671:\tlearn: 0.0231157\ttest: 0.0231375\tbest: 0.0231375 (671)\ttotal: 7.98s\tremaining: 3.9s\n",
      "672:\tlearn: 0.0230549\ttest: 0.0230766\tbest: 0.0230766 (672)\ttotal: 8s\tremaining: 3.88s\n",
      "673:\tlearn: 0.0229789\ttest: 0.0230006\tbest: 0.0230006 (673)\ttotal: 8.01s\tremaining: 3.87s\n",
      "674:\tlearn: 0.0228827\ttest: 0.0229041\tbest: 0.0229041 (674)\ttotal: 8.02s\tremaining: 3.86s\n",
      "675:\tlearn: 0.0227640\ttest: 0.0227855\tbest: 0.0227855 (675)\ttotal: 8.03s\tremaining: 3.85s\n",
      "676:\tlearn: 0.0226794\ttest: 0.0227010\tbest: 0.0227010 (676)\ttotal: 8.04s\tremaining: 3.84s\n",
      "677:\tlearn: 0.0225997\ttest: 0.0226211\tbest: 0.0226211 (677)\ttotal: 8.05s\tremaining: 3.83s\n",
      "678:\tlearn: 0.0225021\ttest: 0.0225235\tbest: 0.0225235 (678)\ttotal: 8.07s\tremaining: 3.81s\n",
      "679:\tlearn: 0.0224092\ttest: 0.0224305\tbest: 0.0224305 (679)\ttotal: 8.08s\tremaining: 3.8s\n",
      "680:\tlearn: 0.0223230\ttest: 0.0223440\tbest: 0.0223440 (680)\ttotal: 8.09s\tremaining: 3.79s\n",
      "681:\tlearn: 0.0222383\ttest: 0.0222593\tbest: 0.0222593 (681)\ttotal: 8.1s\tremaining: 3.78s\n",
      "682:\tlearn: 0.0221819\ttest: 0.0222026\tbest: 0.0222026 (682)\ttotal: 8.12s\tremaining: 3.77s\n",
      "683:\tlearn: 0.0220854\ttest: 0.0221061\tbest: 0.0221061 (683)\ttotal: 8.13s\tremaining: 3.75s\n",
      "684:\tlearn: 0.0220057\ttest: 0.0220264\tbest: 0.0220264 (684)\ttotal: 8.14s\tremaining: 3.74s\n",
      "685:\tlearn: 0.0219081\ttest: 0.0219288\tbest: 0.0219288 (685)\ttotal: 8.15s\tremaining: 3.73s\n",
      "686:\tlearn: 0.0218420\ttest: 0.0218629\tbest: 0.0218629 (686)\ttotal: 8.16s\tremaining: 3.72s\n",
      "687:\tlearn: 0.0217395\ttest: 0.0217602\tbest: 0.0217602 (687)\ttotal: 8.18s\tremaining: 3.71s\n",
      "688:\tlearn: 0.0216519\ttest: 0.0216726\tbest: 0.0216726 (688)\ttotal: 8.19s\tremaining: 3.69s\n",
      "689:\tlearn: 0.0215615\ttest: 0.0215822\tbest: 0.0215822 (689)\ttotal: 8.2s\tremaining: 3.68s\n",
      "690:\tlearn: 0.0214897\ttest: 0.0215104\tbest: 0.0215104 (690)\ttotal: 8.21s\tremaining: 3.67s\n",
      "691:\tlearn: 0.0214207\ttest: 0.0214414\tbest: 0.0214414 (691)\ttotal: 8.22s\tremaining: 3.66s\n",
      "692:\tlearn: 0.0213160\ttest: 0.0213367\tbest: 0.0213367 (692)\ttotal: 8.23s\tremaining: 3.65s\n",
      "693:\tlearn: 0.0212164\ttest: 0.0212368\tbest: 0.0212368 (693)\ttotal: 8.25s\tremaining: 3.64s\n",
      "694:\tlearn: 0.0211336\ttest: 0.0211538\tbest: 0.0211538 (694)\ttotal: 8.26s\tremaining: 3.62s\n",
      "695:\tlearn: 0.0210431\ttest: 0.0210634\tbest: 0.0210634 (695)\ttotal: 8.27s\tremaining: 3.61s\n",
      "696:\tlearn: 0.0209814\ttest: 0.0210015\tbest: 0.0210015 (696)\ttotal: 8.28s\tremaining: 3.6s\n",
      "697:\tlearn: 0.0208982\ttest: 0.0209180\tbest: 0.0209180 (697)\ttotal: 8.29s\tremaining: 3.59s\n",
      "698:\tlearn: 0.0208171\ttest: 0.0208370\tbest: 0.0208370 (698)\ttotal: 8.31s\tremaining: 3.58s\n",
      "699:\tlearn: 0.0207419\ttest: 0.0207616\tbest: 0.0207616 (699)\ttotal: 8.32s\tremaining: 3.56s\n",
      "700:\tlearn: 0.0206779\ttest: 0.0206976\tbest: 0.0206976 (700)\ttotal: 8.33s\tremaining: 3.55s\n",
      "701:\tlearn: 0.0205882\ttest: 0.0206078\tbest: 0.0206078 (701)\ttotal: 8.34s\tremaining: 3.54s\n",
      "702:\tlearn: 0.0205163\ttest: 0.0205359\tbest: 0.0205359 (702)\ttotal: 8.35s\tremaining: 3.53s\n",
      "703:\tlearn: 0.0204417\ttest: 0.0204613\tbest: 0.0204613 (703)\ttotal: 8.37s\tremaining: 3.52s\n",
      "704:\tlearn: 0.0203737\ttest: 0.0203933\tbest: 0.0203933 (704)\ttotal: 8.38s\tremaining: 3.5s\n",
      "705:\tlearn: 0.0203144\ttest: 0.0203342\tbest: 0.0203342 (705)\ttotal: 8.39s\tremaining: 3.49s\n",
      "706:\tlearn: 0.0202566\ttest: 0.0202762\tbest: 0.0202762 (706)\ttotal: 8.4s\tremaining: 3.48s\n",
      "707:\tlearn: 0.0201799\ttest: 0.0201995\tbest: 0.0201995 (707)\ttotal: 8.41s\tremaining: 3.47s\n",
      "708:\tlearn: 0.0201282\ttest: 0.0201478\tbest: 0.0201478 (708)\ttotal: 8.43s\tremaining: 3.46s\n",
      "709:\tlearn: 0.0200566\ttest: 0.0200760\tbest: 0.0200760 (709)\ttotal: 8.44s\tremaining: 3.45s\n",
      "710:\tlearn: 0.0199659\ttest: 0.0199853\tbest: 0.0199853 (710)\ttotal: 8.45s\tremaining: 3.44s\n",
      "711:\tlearn: 0.0198844\ttest: 0.0199037\tbest: 0.0199037 (711)\ttotal: 8.46s\tremaining: 3.42s\n",
      "712:\tlearn: 0.0197987\ttest: 0.0198182\tbest: 0.0198182 (712)\ttotal: 8.47s\tremaining: 3.41s\n",
      "713:\tlearn: 0.0197478\ttest: 0.0197673\tbest: 0.0197673 (713)\ttotal: 8.49s\tremaining: 3.4s\n",
      "714:\tlearn: 0.0196608\ttest: 0.0196804\tbest: 0.0196804 (714)\ttotal: 8.5s\tremaining: 3.39s\n",
      "715:\tlearn: 0.0195991\ttest: 0.0196185\tbest: 0.0196185 (715)\ttotal: 8.51s\tremaining: 3.38s\n",
      "716:\tlearn: 0.0195188\ttest: 0.0195382\tbest: 0.0195382 (716)\ttotal: 8.52s\tremaining: 3.36s\n",
      "717:\tlearn: 0.0194471\ttest: 0.0194663\tbest: 0.0194663 (717)\ttotal: 8.53s\tremaining: 3.35s\n",
      "718:\tlearn: 0.0193797\ttest: 0.0193987\tbest: 0.0193987 (718)\ttotal: 8.54s\tremaining: 3.34s\n",
      "719:\tlearn: 0.0193240\ttest: 0.0193429\tbest: 0.0193429 (719)\ttotal: 8.56s\tremaining: 3.33s\n",
      "720:\tlearn: 0.0192491\ttest: 0.0192679\tbest: 0.0192679 (720)\ttotal: 8.57s\tremaining: 3.31s\n",
      "721:\tlearn: 0.0191726\ttest: 0.0191912\tbest: 0.0191912 (721)\ttotal: 8.58s\tremaining: 3.3s\n"
     ]
    },
    {
     "name": "stdout",
     "output_type": "stream",
     "text": [
      "722:\tlearn: 0.0191147\ttest: 0.0191332\tbest: 0.0191332 (722)\ttotal: 8.59s\tremaining: 3.29s\n",
      "723:\tlearn: 0.0190566\ttest: 0.0190752\tbest: 0.0190752 (723)\ttotal: 8.6s\tremaining: 3.28s\n",
      "724:\tlearn: 0.0189887\ttest: 0.0190072\tbest: 0.0190072 (724)\ttotal: 8.62s\tremaining: 3.27s\n",
      "725:\tlearn: 0.0189293\ttest: 0.0189478\tbest: 0.0189478 (725)\ttotal: 8.63s\tremaining: 3.25s\n",
      "726:\tlearn: 0.0188534\ttest: 0.0188719\tbest: 0.0188719 (726)\ttotal: 8.64s\tremaining: 3.24s\n",
      "727:\tlearn: 0.0187800\ttest: 0.0187986\tbest: 0.0187986 (727)\ttotal: 8.65s\tremaining: 3.23s\n",
      "728:\tlearn: 0.0187079\ttest: 0.0187266\tbest: 0.0187266 (728)\ttotal: 8.66s\tremaining: 3.22s\n",
      "729:\tlearn: 0.0186433\ttest: 0.0186617\tbest: 0.0186617 (729)\ttotal: 8.67s\tremaining: 3.21s\n",
      "730:\tlearn: 0.0185851\ttest: 0.0186036\tbest: 0.0186036 (730)\ttotal: 8.69s\tremaining: 3.2s\n",
      "731:\tlearn: 0.0185236\ttest: 0.0185421\tbest: 0.0185421 (731)\ttotal: 8.7s\tremaining: 3.18s\n",
      "732:\tlearn: 0.0184634\ttest: 0.0184819\tbest: 0.0184819 (732)\ttotal: 8.71s\tremaining: 3.17s\n",
      "733:\tlearn: 0.0184003\ttest: 0.0184187\tbest: 0.0184187 (733)\ttotal: 8.72s\tremaining: 3.16s\n",
      "734:\tlearn: 0.0183280\ttest: 0.0183463\tbest: 0.0183463 (734)\ttotal: 8.73s\tremaining: 3.15s\n",
      "735:\tlearn: 0.0182531\ttest: 0.0182713\tbest: 0.0182713 (735)\ttotal: 8.74s\tremaining: 3.14s\n",
      "736:\tlearn: 0.0181911\ttest: 0.0182092\tbest: 0.0182092 (736)\ttotal: 8.76s\tremaining: 3.12s\n",
      "737:\tlearn: 0.0181417\ttest: 0.0181596\tbest: 0.0181596 (737)\ttotal: 8.77s\tremaining: 3.11s\n",
      "738:\tlearn: 0.0180858\ttest: 0.0181038\tbest: 0.0181038 (738)\ttotal: 8.78s\tremaining: 3.1s\n",
      "739:\tlearn: 0.0180128\ttest: 0.0180307\tbest: 0.0180307 (739)\ttotal: 8.79s\tremaining: 3.09s\n",
      "740:\tlearn: 0.0179537\ttest: 0.0179715\tbest: 0.0179715 (740)\ttotal: 8.8s\tremaining: 3.08s\n",
      "741:\tlearn: 0.0178807\ttest: 0.0178986\tbest: 0.0178986 (741)\ttotal: 8.81s\tremaining: 3.06s\n",
      "742:\tlearn: 0.0178392\ttest: 0.0178571\tbest: 0.0178571 (742)\ttotal: 8.82s\tremaining: 3.05s\n",
      "743:\tlearn: 0.0177690\ttest: 0.0177867\tbest: 0.0177867 (743)\ttotal: 8.84s\tremaining: 3.04s\n",
      "744:\tlearn: 0.0177186\ttest: 0.0177362\tbest: 0.0177362 (744)\ttotal: 8.85s\tremaining: 3.03s\n",
      "745:\tlearn: 0.0176669\ttest: 0.0176843\tbest: 0.0176843 (745)\ttotal: 8.86s\tremaining: 3.02s\n",
      "746:\tlearn: 0.0176015\ttest: 0.0176188\tbest: 0.0176188 (746)\ttotal: 8.87s\tremaining: 3s\n",
      "747:\tlearn: 0.0175540\ttest: 0.0175711\tbest: 0.0175711 (747)\ttotal: 8.88s\tremaining: 2.99s\n",
      "748:\tlearn: 0.0175068\ttest: 0.0175240\tbest: 0.0175240 (748)\ttotal: 8.89s\tremaining: 2.98s\n",
      "749:\tlearn: 0.0174603\ttest: 0.0174776\tbest: 0.0174776 (749)\ttotal: 8.91s\tremaining: 2.97s\n",
      "750:\tlearn: 0.0173958\ttest: 0.0174131\tbest: 0.0174131 (750)\ttotal: 8.92s\tremaining: 2.96s\n",
      "751:\tlearn: 0.0173472\ttest: 0.0173643\tbest: 0.0173643 (751)\ttotal: 8.93s\tremaining: 2.94s\n",
      "752:\tlearn: 0.0172985\ttest: 0.0173156\tbest: 0.0173156 (752)\ttotal: 8.94s\tremaining: 2.93s\n",
      "753:\tlearn: 0.0172501\ttest: 0.0172671\tbest: 0.0172671 (753)\ttotal: 8.95s\tremaining: 2.92s\n",
      "754:\tlearn: 0.0171983\ttest: 0.0172152\tbest: 0.0172152 (754)\ttotal: 8.96s\tremaining: 2.91s\n",
      "755:\tlearn: 0.0171304\ttest: 0.0171474\tbest: 0.0171474 (755)\ttotal: 8.98s\tremaining: 2.9s\n",
      "756:\tlearn: 0.0170683\ttest: 0.0170849\tbest: 0.0170849 (756)\ttotal: 8.99s\tremaining: 2.89s\n",
      "757:\tlearn: 0.0170137\ttest: 0.0170303\tbest: 0.0170303 (757)\ttotal: 9s\tremaining: 2.87s\n",
      "758:\tlearn: 0.0169641\ttest: 0.0169810\tbest: 0.0169810 (758)\ttotal: 9.01s\tremaining: 2.86s\n",
      "759:\tlearn: 0.0168815\ttest: 0.0168983\tbest: 0.0168983 (759)\ttotal: 9.03s\tremaining: 2.85s\n",
      "760:\tlearn: 0.0168342\ttest: 0.0168511\tbest: 0.0168511 (760)\ttotal: 9.04s\tremaining: 2.84s\n",
      "761:\tlearn: 0.0167672\ttest: 0.0167843\tbest: 0.0167843 (761)\ttotal: 9.05s\tremaining: 2.83s\n",
      "762:\tlearn: 0.0167117\ttest: 0.0167287\tbest: 0.0167287 (762)\ttotal: 9.06s\tremaining: 2.81s\n",
      "763:\tlearn: 0.0166615\ttest: 0.0166786\tbest: 0.0166786 (763)\ttotal: 9.07s\tremaining: 2.8s\n",
      "764:\tlearn: 0.0165883\ttest: 0.0166054\tbest: 0.0166054 (764)\ttotal: 9.09s\tremaining: 2.79s\n",
      "765:\tlearn: 0.0165514\ttest: 0.0165685\tbest: 0.0165685 (765)\ttotal: 9.1s\tremaining: 2.78s\n",
      "766:\tlearn: 0.0164803\ttest: 0.0164971\tbest: 0.0164971 (766)\ttotal: 9.11s\tremaining: 2.77s\n",
      "767:\tlearn: 0.0164201\ttest: 0.0164368\tbest: 0.0164368 (767)\ttotal: 9.12s\tremaining: 2.75s\n",
      "768:\tlearn: 0.0163663\ttest: 0.0163829\tbest: 0.0163829 (768)\ttotal: 9.13s\tremaining: 2.74s\n",
      "769:\tlearn: 0.0163021\ttest: 0.0163185\tbest: 0.0163185 (769)\ttotal: 9.15s\tremaining: 2.73s\n",
      "770:\tlearn: 0.0162641\ttest: 0.0162805\tbest: 0.0162805 (770)\ttotal: 9.16s\tremaining: 2.72s\n",
      "771:\tlearn: 0.0162308\ttest: 0.0162471\tbest: 0.0162471 (771)\ttotal: 9.17s\tremaining: 2.71s\n",
      "772:\tlearn: 0.0161925\ttest: 0.0162088\tbest: 0.0162088 (772)\ttotal: 9.18s\tremaining: 2.7s\n",
      "773:\tlearn: 0.0161563\ttest: 0.0161725\tbest: 0.0161725 (773)\ttotal: 9.19s\tremaining: 2.68s\n",
      "774:\tlearn: 0.0161102\ttest: 0.0161264\tbest: 0.0161264 (774)\ttotal: 9.21s\tremaining: 2.67s\n",
      "775:\tlearn: 0.0160656\ttest: 0.0160819\tbest: 0.0160819 (775)\ttotal: 9.22s\tremaining: 2.66s\n",
      "776:\tlearn: 0.0160216\ttest: 0.0160376\tbest: 0.0160376 (776)\ttotal: 9.23s\tremaining: 2.65s\n",
      "777:\tlearn: 0.0159742\ttest: 0.0159903\tbest: 0.0159903 (777)\ttotal: 9.24s\tremaining: 2.64s\n",
      "778:\tlearn: 0.0159184\ttest: 0.0159345\tbest: 0.0159345 (778)\ttotal: 9.25s\tremaining: 2.63s\n",
      "779:\tlearn: 0.0158749\ttest: 0.0158908\tbest: 0.0158908 (779)\ttotal: 9.27s\tremaining: 2.61s\n",
      "780:\tlearn: 0.0158203\ttest: 0.0158362\tbest: 0.0158362 (780)\ttotal: 9.28s\tremaining: 2.6s\n",
      "781:\tlearn: 0.0157713\ttest: 0.0157874\tbest: 0.0157874 (781)\ttotal: 9.29s\tremaining: 2.59s\n",
      "782:\tlearn: 0.0157199\ttest: 0.0157360\tbest: 0.0157360 (782)\ttotal: 9.3s\tremaining: 2.58s\n",
      "783:\tlearn: 0.0156589\ttest: 0.0156748\tbest: 0.0156748 (783)\ttotal: 9.31s\tremaining: 2.56s\n",
      "784:\tlearn: 0.0156276\ttest: 0.0156436\tbest: 0.0156436 (784)\ttotal: 9.32s\tremaining: 2.55s\n",
      "785:\tlearn: 0.0155839\ttest: 0.0155998\tbest: 0.0155998 (785)\ttotal: 9.34s\tremaining: 2.54s\n",
      "786:\tlearn: 0.0155341\ttest: 0.0155499\tbest: 0.0155499 (786)\ttotal: 9.35s\tremaining: 2.53s\n",
      "787:\tlearn: 0.0154792\ttest: 0.0154949\tbest: 0.0154949 (787)\ttotal: 9.36s\tremaining: 2.52s\n",
      "788:\tlearn: 0.0154393\ttest: 0.0154550\tbest: 0.0154550 (788)\ttotal: 9.37s\tremaining: 2.5s\n",
      "789:\tlearn: 0.0153851\ttest: 0.0154007\tbest: 0.0154007 (789)\ttotal: 9.38s\tremaining: 2.49s\n",
      "790:\tlearn: 0.0153507\ttest: 0.0153662\tbest: 0.0153662 (790)\ttotal: 9.39s\tremaining: 2.48s\n",
      "791:\tlearn: 0.0153106\ttest: 0.0153259\tbest: 0.0153259 (791)\ttotal: 9.4s\tremaining: 2.47s\n",
      "792:\tlearn: 0.0152573\ttest: 0.0152725\tbest: 0.0152725 (792)\ttotal: 9.42s\tremaining: 2.46s\n",
      "793:\tlearn: 0.0152234\ttest: 0.0152387\tbest: 0.0152387 (793)\ttotal: 9.43s\tremaining: 2.45s\n",
      "794:\tlearn: 0.0151730\ttest: 0.0151883\tbest: 0.0151883 (794)\ttotal: 9.44s\tremaining: 2.43s\n",
      "795:\tlearn: 0.0151334\ttest: 0.0151486\tbest: 0.0151486 (795)\ttotal: 9.45s\tremaining: 2.42s\n",
      "796:\tlearn: 0.0150872\ttest: 0.0151024\tbest: 0.0151024 (796)\ttotal: 9.46s\tremaining: 2.41s\n",
      "797:\tlearn: 0.0150343\ttest: 0.0150494\tbest: 0.0150494 (797)\ttotal: 9.47s\tremaining: 2.4s\n",
      "798:\tlearn: 0.0149805\ttest: 0.0149956\tbest: 0.0149956 (798)\ttotal: 9.49s\tremaining: 2.39s\n",
      "799:\tlearn: 0.0149304\ttest: 0.0149455\tbest: 0.0149455 (799)\ttotal: 9.5s\tremaining: 2.37s\n",
      "800:\tlearn: 0.0148835\ttest: 0.0148987\tbest: 0.0148987 (800)\ttotal: 9.51s\tremaining: 2.36s\n",
      "801:\tlearn: 0.0148383\ttest: 0.0148536\tbest: 0.0148536 (801)\ttotal: 9.52s\tremaining: 2.35s\n",
      "802:\tlearn: 0.0147874\ttest: 0.0148025\tbest: 0.0148025 (802)\ttotal: 9.53s\tremaining: 2.34s\n",
      "803:\tlearn: 0.0147546\ttest: 0.0147698\tbest: 0.0147698 (803)\ttotal: 9.54s\tremaining: 2.33s\n",
      "804:\tlearn: 0.0147168\ttest: 0.0147320\tbest: 0.0147320 (804)\ttotal: 9.56s\tremaining: 2.31s\n",
      "805:\tlearn: 0.0146742\ttest: 0.0146892\tbest: 0.0146892 (805)\ttotal: 9.57s\tremaining: 2.3s\n",
      "806:\tlearn: 0.0146262\ttest: 0.0146411\tbest: 0.0146411 (806)\ttotal: 9.58s\tremaining: 2.29s\n",
      "807:\tlearn: 0.0145733\ttest: 0.0145883\tbest: 0.0145883 (807)\ttotal: 9.59s\tremaining: 2.28s\n",
      "808:\tlearn: 0.0145185\ttest: 0.0145332\tbest: 0.0145332 (808)\ttotal: 9.6s\tremaining: 2.27s\n",
      "809:\tlearn: 0.0144656\ttest: 0.0144806\tbest: 0.0144806 (809)\ttotal: 9.62s\tremaining: 2.25s\n",
      "810:\tlearn: 0.0144204\ttest: 0.0144354\tbest: 0.0144354 (810)\ttotal: 9.63s\tremaining: 2.24s\n",
      "811:\tlearn: 0.0143931\ttest: 0.0144079\tbest: 0.0144079 (811)\ttotal: 9.64s\tremaining: 2.23s\n",
      "812:\tlearn: 0.0143552\ttest: 0.0143700\tbest: 0.0143700 (812)\ttotal: 9.65s\tremaining: 2.22s\n",
      "813:\tlearn: 0.0143205\ttest: 0.0143351\tbest: 0.0143351 (813)\ttotal: 9.66s\tremaining: 2.21s\n",
      "814:\tlearn: 0.0142761\ttest: 0.0142907\tbest: 0.0142907 (814)\ttotal: 9.67s\tremaining: 2.2s\n",
      "815:\tlearn: 0.0142373\ttest: 0.0142519\tbest: 0.0142519 (815)\ttotal: 9.69s\tremaining: 2.18s\n",
      "816:\tlearn: 0.0141908\ttest: 0.0142054\tbest: 0.0142054 (816)\ttotal: 9.7s\tremaining: 2.17s\n",
      "817:\tlearn: 0.0141419\ttest: 0.0141563\tbest: 0.0141563 (817)\ttotal: 9.71s\tremaining: 2.16s\n",
      "818:\tlearn: 0.0141043\ttest: 0.0141187\tbest: 0.0141187 (818)\ttotal: 9.72s\tremaining: 2.15s\n",
      "819:\tlearn: 0.0140540\ttest: 0.0140684\tbest: 0.0140684 (819)\ttotal: 9.73s\tremaining: 2.14s\n",
      "820:\tlearn: 0.0140099\ttest: 0.0140244\tbest: 0.0140244 (820)\ttotal: 9.75s\tremaining: 2.13s\n",
      "821:\tlearn: 0.0139750\ttest: 0.0139893\tbest: 0.0139893 (821)\ttotal: 9.76s\tremaining: 2.11s\n",
      "822:\tlearn: 0.0139256\ttest: 0.0139399\tbest: 0.0139399 (822)\ttotal: 9.77s\tremaining: 2.1s\n",
      "823:\tlearn: 0.0138756\ttest: 0.0138898\tbest: 0.0138898 (823)\ttotal: 9.78s\tremaining: 2.09s\n",
      "824:\tlearn: 0.0138409\ttest: 0.0138552\tbest: 0.0138552 (824)\ttotal: 9.79s\tremaining: 2.08s\n",
      "825:\tlearn: 0.0137954\ttest: 0.0138095\tbest: 0.0138095 (825)\ttotal: 9.8s\tremaining: 2.06s\n"
     ]
    },
    {
     "name": "stdout",
     "output_type": "stream",
     "text": [
      "826:\tlearn: 0.0137527\ttest: 0.0137667\tbest: 0.0137667 (826)\ttotal: 9.82s\tremaining: 2.05s\n",
      "827:\tlearn: 0.0137130\ttest: 0.0137269\tbest: 0.0137269 (827)\ttotal: 9.83s\tremaining: 2.04s\n",
      "828:\tlearn: 0.0136679\ttest: 0.0136820\tbest: 0.0136820 (828)\ttotal: 9.84s\tremaining: 2.03s\n",
      "829:\tlearn: 0.0136195\ttest: 0.0136332\tbest: 0.0136332 (829)\ttotal: 9.85s\tremaining: 2.02s\n",
      "830:\tlearn: 0.0135679\ttest: 0.0135815\tbest: 0.0135815 (830)\ttotal: 9.87s\tremaining: 2.01s\n",
      "831:\tlearn: 0.0135401\ttest: 0.0135537\tbest: 0.0135537 (831)\ttotal: 9.88s\tremaining: 1.99s\n",
      "832:\tlearn: 0.0134949\ttest: 0.0135085\tbest: 0.0135085 (832)\ttotal: 9.89s\tremaining: 1.98s\n",
      "833:\tlearn: 0.0134515\ttest: 0.0134651\tbest: 0.0134651 (833)\ttotal: 9.9s\tremaining: 1.97s\n",
      "834:\tlearn: 0.0134063\ttest: 0.0134200\tbest: 0.0134200 (834)\ttotal: 9.91s\tremaining: 1.96s\n",
      "835:\tlearn: 0.0133538\ttest: 0.0133674\tbest: 0.0133674 (835)\ttotal: 9.93s\tremaining: 1.95s\n",
      "836:\tlearn: 0.0133103\ttest: 0.0133239\tbest: 0.0133239 (836)\ttotal: 9.94s\tremaining: 1.94s\n",
      "837:\tlearn: 0.0132758\ttest: 0.0132893\tbest: 0.0132893 (837)\ttotal: 9.95s\tremaining: 1.92s\n",
      "838:\tlearn: 0.0132526\ttest: 0.0132662\tbest: 0.0132662 (838)\ttotal: 9.96s\tremaining: 1.91s\n",
      "839:\tlearn: 0.0132043\ttest: 0.0132179\tbest: 0.0132179 (839)\ttotal: 9.97s\tremaining: 1.9s\n",
      "840:\tlearn: 0.0131693\ttest: 0.0131827\tbest: 0.0131827 (840)\ttotal: 9.98s\tremaining: 1.89s\n",
      "841:\tlearn: 0.0131305\ttest: 0.0131439\tbest: 0.0131439 (841)\ttotal: 10s\tremaining: 1.88s\n",
      "842:\tlearn: 0.0130809\ttest: 0.0130942\tbest: 0.0130942 (842)\ttotal: 10s\tremaining: 1.86s\n",
      "843:\tlearn: 0.0130350\ttest: 0.0130484\tbest: 0.0130484 (843)\ttotal: 10s\tremaining: 1.85s\n",
      "844:\tlearn: 0.0130102\ttest: 0.0130238\tbest: 0.0130238 (844)\ttotal: 10s\tremaining: 1.84s\n",
      "845:\tlearn: 0.0129724\ttest: 0.0129859\tbest: 0.0129859 (845)\ttotal: 10s\tremaining: 1.83s\n",
      "846:\tlearn: 0.0129480\ttest: 0.0129615\tbest: 0.0129615 (846)\ttotal: 10.1s\tremaining: 1.82s\n",
      "847:\tlearn: 0.0129071\ttest: 0.0129208\tbest: 0.0129208 (847)\ttotal: 10.1s\tremaining: 1.8s\n",
      "848:\tlearn: 0.0128644\ttest: 0.0128779\tbest: 0.0128779 (848)\ttotal: 10.1s\tremaining: 1.79s\n",
      "849:\tlearn: 0.0128261\ttest: 0.0128396\tbest: 0.0128396 (849)\ttotal: 10.1s\tremaining: 1.78s\n",
      "850:\tlearn: 0.0127866\ttest: 0.0128001\tbest: 0.0128001 (850)\ttotal: 10.1s\tremaining: 1.77s\n",
      "851:\tlearn: 0.0127457\ttest: 0.0127592\tbest: 0.0127592 (851)\ttotal: 10.1s\tremaining: 1.76s\n",
      "852:\tlearn: 0.0127078\ttest: 0.0127213\tbest: 0.0127213 (852)\ttotal: 10.1s\tremaining: 1.74s\n",
      "853:\tlearn: 0.0126699\ttest: 0.0126834\tbest: 0.0126834 (853)\ttotal: 10.1s\tremaining: 1.73s\n",
      "854:\tlearn: 0.0126319\ttest: 0.0126453\tbest: 0.0126453 (854)\ttotal: 10.1s\tremaining: 1.72s\n",
      "855:\tlearn: 0.0125917\ttest: 0.0126051\tbest: 0.0126051 (855)\ttotal: 10.2s\tremaining: 1.71s\n",
      "856:\tlearn: 0.0125499\ttest: 0.0125633\tbest: 0.0125633 (856)\ttotal: 10.2s\tremaining: 1.7s\n",
      "857:\tlearn: 0.0125088\ttest: 0.0125222\tbest: 0.0125222 (857)\ttotal: 10.2s\tremaining: 1.69s\n",
      "858:\tlearn: 0.0124797\ttest: 0.0124933\tbest: 0.0124933 (858)\ttotal: 10.2s\tremaining: 1.67s\n",
      "859:\tlearn: 0.0124483\ttest: 0.0124617\tbest: 0.0124617 (859)\ttotal: 10.2s\tremaining: 1.66s\n",
      "860:\tlearn: 0.0124202\ttest: 0.0124337\tbest: 0.0124337 (860)\ttotal: 10.2s\tremaining: 1.65s\n",
      "861:\tlearn: 0.0123787\ttest: 0.0123921\tbest: 0.0123921 (861)\ttotal: 10.2s\tremaining: 1.64s\n",
      "862:\tlearn: 0.0123445\ttest: 0.0123579\tbest: 0.0123579 (862)\ttotal: 10.2s\tremaining: 1.63s\n",
      "863:\tlearn: 0.0123172\ttest: 0.0123305\tbest: 0.0123305 (863)\ttotal: 10.3s\tremaining: 1.61s\n",
      "864:\tlearn: 0.0122752\ttest: 0.0122884\tbest: 0.0122884 (864)\ttotal: 10.3s\tremaining: 1.6s\n",
      "865:\tlearn: 0.0122416\ttest: 0.0122548\tbest: 0.0122548 (865)\ttotal: 10.3s\tremaining: 1.59s\n",
      "866:\tlearn: 0.0122056\ttest: 0.0122187\tbest: 0.0122187 (866)\ttotal: 10.3s\tremaining: 1.58s\n",
      "867:\tlearn: 0.0121707\ttest: 0.0121839\tbest: 0.0121839 (867)\ttotal: 10.3s\tremaining: 1.57s\n",
      "868:\tlearn: 0.0121330\ttest: 0.0121462\tbest: 0.0121462 (868)\ttotal: 10.3s\tremaining: 1.55s\n",
      "869:\tlearn: 0.0120943\ttest: 0.0121075\tbest: 0.0121075 (869)\ttotal: 10.3s\tremaining: 1.54s\n",
      "870:\tlearn: 0.0120677\ttest: 0.0120808\tbest: 0.0120808 (870)\ttotal: 10.3s\tremaining: 1.53s\n",
      "871:\tlearn: 0.0120413\ttest: 0.0120543\tbest: 0.0120543 (871)\ttotal: 10.3s\tremaining: 1.52s\n",
      "872:\tlearn: 0.0120137\ttest: 0.0120267\tbest: 0.0120267 (872)\ttotal: 10.4s\tremaining: 1.51s\n",
      "873:\tlearn: 0.0119868\ttest: 0.0119997\tbest: 0.0119997 (873)\ttotal: 10.4s\tremaining: 1.49s\n",
      "874:\tlearn: 0.0119521\ttest: 0.0119650\tbest: 0.0119650 (874)\ttotal: 10.4s\tremaining: 1.48s\n",
      "875:\tlearn: 0.0119275\ttest: 0.0119404\tbest: 0.0119404 (875)\ttotal: 10.4s\tremaining: 1.47s\n",
      "876:\tlearn: 0.0118952\ttest: 0.0119080\tbest: 0.0119080 (876)\ttotal: 10.4s\tremaining: 1.46s\n",
      "877:\tlearn: 0.0118650\ttest: 0.0118778\tbest: 0.0118778 (877)\ttotal: 10.4s\tremaining: 1.45s\n",
      "878:\tlearn: 0.0118282\ttest: 0.0118408\tbest: 0.0118408 (878)\ttotal: 10.4s\tremaining: 1.44s\n",
      "879:\tlearn: 0.0117899\ttest: 0.0118025\tbest: 0.0118025 (879)\ttotal: 10.4s\tremaining: 1.42s\n",
      "880:\tlearn: 0.0117480\ttest: 0.0117605\tbest: 0.0117605 (880)\ttotal: 10.5s\tremaining: 1.41s\n",
      "881:\tlearn: 0.0117157\ttest: 0.0117283\tbest: 0.0117283 (881)\ttotal: 10.5s\tremaining: 1.4s\n",
      "882:\tlearn: 0.0116880\ttest: 0.0117007\tbest: 0.0117007 (882)\ttotal: 10.5s\tremaining: 1.39s\n",
      "883:\tlearn: 0.0116573\ttest: 0.0116700\tbest: 0.0116700 (883)\ttotal: 10.5s\tremaining: 1.38s\n",
      "884:\tlearn: 0.0116224\ttest: 0.0116350\tbest: 0.0116350 (884)\ttotal: 10.5s\tremaining: 1.36s\n",
      "885:\tlearn: 0.0115863\ttest: 0.0115989\tbest: 0.0115989 (885)\ttotal: 10.5s\tremaining: 1.35s\n",
      "886:\tlearn: 0.0115551\ttest: 0.0115677\tbest: 0.0115677 (886)\ttotal: 10.5s\tremaining: 1.34s\n",
      "887:\tlearn: 0.0115266\ttest: 0.0115390\tbest: 0.0115390 (887)\ttotal: 10.5s\tremaining: 1.33s\n",
      "888:\tlearn: 0.0114928\ttest: 0.0115053\tbest: 0.0115053 (888)\ttotal: 10.5s\tremaining: 1.32s\n",
      "889:\tlearn: 0.0114726\ttest: 0.0114849\tbest: 0.0114849 (889)\ttotal: 10.6s\tremaining: 1.3s\n",
      "890:\tlearn: 0.0114341\ttest: 0.0114464\tbest: 0.0114464 (890)\ttotal: 10.6s\tremaining: 1.29s\n",
      "891:\tlearn: 0.0114011\ttest: 0.0114134\tbest: 0.0114134 (891)\ttotal: 10.6s\tremaining: 1.28s\n",
      "892:\tlearn: 0.0113683\ttest: 0.0113805\tbest: 0.0113805 (892)\ttotal: 10.6s\tremaining: 1.27s\n",
      "893:\tlearn: 0.0113457\ttest: 0.0113578\tbest: 0.0113578 (893)\ttotal: 10.6s\tremaining: 1.26s\n",
      "894:\tlearn: 0.0113131\ttest: 0.0113253\tbest: 0.0113253 (894)\ttotal: 10.6s\tremaining: 1.25s\n",
      "895:\tlearn: 0.0112894\ttest: 0.0113016\tbest: 0.0113016 (895)\ttotal: 10.6s\tremaining: 1.23s\n",
      "896:\tlearn: 0.0112532\ttest: 0.0112654\tbest: 0.0112654 (896)\ttotal: 10.6s\tremaining: 1.22s\n",
      "897:\tlearn: 0.0112248\ttest: 0.0112371\tbest: 0.0112371 (897)\ttotal: 10.7s\tremaining: 1.21s\n",
      "898:\tlearn: 0.0111863\ttest: 0.0111986\tbest: 0.0111986 (898)\ttotal: 10.7s\tremaining: 1.2s\n",
      "899:\tlearn: 0.0111565\ttest: 0.0111686\tbest: 0.0111686 (899)\ttotal: 10.7s\tremaining: 1.19s\n",
      "900:\tlearn: 0.0111296\ttest: 0.0111417\tbest: 0.0111417 (900)\ttotal: 10.7s\tremaining: 1.17s\n",
      "901:\tlearn: 0.0111088\ttest: 0.0111208\tbest: 0.0111208 (901)\ttotal: 10.7s\tremaining: 1.16s\n",
      "902:\tlearn: 0.0110819\ttest: 0.0110939\tbest: 0.0110939 (902)\ttotal: 10.7s\tremaining: 1.15s\n",
      "903:\tlearn: 0.0110581\ttest: 0.0110701\tbest: 0.0110701 (903)\ttotal: 10.7s\tremaining: 1.14s\n",
      "904:\tlearn: 0.0110300\ttest: 0.0110419\tbest: 0.0110419 (904)\ttotal: 10.7s\tremaining: 1.13s\n",
      "905:\tlearn: 0.0110113\ttest: 0.0110232\tbest: 0.0110232 (905)\ttotal: 10.7s\tremaining: 1.11s\n",
      "906:\tlearn: 0.0109838\ttest: 0.0109956\tbest: 0.0109956 (906)\ttotal: 10.8s\tremaining: 1.1s\n",
      "907:\tlearn: 0.0109540\ttest: 0.0109658\tbest: 0.0109658 (907)\ttotal: 10.8s\tremaining: 1.09s\n",
      "908:\tlearn: 0.0109240\ttest: 0.0109357\tbest: 0.0109357 (908)\ttotal: 10.8s\tremaining: 1.08s\n",
      "909:\tlearn: 0.0108939\ttest: 0.0109056\tbest: 0.0109056 (909)\ttotal: 10.8s\tremaining: 1.07s\n",
      "910:\tlearn: 0.0108624\ttest: 0.0108741\tbest: 0.0108741 (910)\ttotal: 10.8s\tremaining: 1.05s\n",
      "911:\tlearn: 0.0108361\ttest: 0.0108477\tbest: 0.0108477 (911)\ttotal: 10.8s\tremaining: 1.04s\n",
      "912:\tlearn: 0.0108083\ttest: 0.0108198\tbest: 0.0108198 (912)\ttotal: 10.8s\tremaining: 1.03s\n",
      "913:\tlearn: 0.0107855\ttest: 0.0107971\tbest: 0.0107971 (913)\ttotal: 10.8s\tremaining: 1.02s\n",
      "914:\tlearn: 0.0107568\ttest: 0.0107682\tbest: 0.0107682 (914)\ttotal: 10.9s\tremaining: 1.01s\n",
      "915:\tlearn: 0.0107305\ttest: 0.0107418\tbest: 0.0107418 (915)\ttotal: 10.9s\tremaining: 996ms\n",
      "916:\tlearn: 0.0107052\ttest: 0.0107165\tbest: 0.0107165 (916)\ttotal: 10.9s\tremaining: 985ms\n",
      "917:\tlearn: 0.0106673\ttest: 0.0106787\tbest: 0.0106787 (917)\ttotal: 10.9s\tremaining: 973ms\n",
      "918:\tlearn: 0.0106391\ttest: 0.0106505\tbest: 0.0106505 (918)\ttotal: 10.9s\tremaining: 961ms\n",
      "919:\tlearn: 0.0106139\ttest: 0.0106253\tbest: 0.0106253 (919)\ttotal: 10.9s\tremaining: 949ms\n",
      "920:\tlearn: 0.0105952\ttest: 0.0106066\tbest: 0.0106066 (920)\ttotal: 10.9s\tremaining: 937ms\n",
      "921:\tlearn: 0.0105594\ttest: 0.0105707\tbest: 0.0105707 (921)\ttotal: 10.9s\tremaining: 925ms\n",
      "922:\tlearn: 0.0105314\ttest: 0.0105428\tbest: 0.0105428 (922)\ttotal: 10.9s\tremaining: 914ms\n",
      "923:\tlearn: 0.0105117\ttest: 0.0105231\tbest: 0.0105231 (923)\ttotal: 11s\tremaining: 902ms\n",
      "924:\tlearn: 0.0104876\ttest: 0.0104989\tbest: 0.0104989 (924)\ttotal: 11s\tremaining: 890ms\n",
      "925:\tlearn: 0.0104649\ttest: 0.0104762\tbest: 0.0104762 (925)\ttotal: 11s\tremaining: 878ms\n",
      "926:\tlearn: 0.0104333\ttest: 0.0104445\tbest: 0.0104445 (926)\ttotal: 11s\tremaining: 866ms\n",
      "927:\tlearn: 0.0104115\ttest: 0.0104226\tbest: 0.0104226 (927)\ttotal: 11s\tremaining: 854ms\n",
      "928:\tlearn: 0.0103778\ttest: 0.0103889\tbest: 0.0103889 (928)\ttotal: 11s\tremaining: 842ms\n",
      "929:\tlearn: 0.0103478\ttest: 0.0103588\tbest: 0.0103588 (929)\ttotal: 11s\tremaining: 830ms\n",
      "930:\tlearn: 0.0103292\ttest: 0.0103402\tbest: 0.0103402 (930)\ttotal: 11s\tremaining: 818ms\n"
     ]
    },
    {
     "name": "stdout",
     "output_type": "stream",
     "text": [
      "931:\tlearn: 0.0103037\ttest: 0.0103147\tbest: 0.0103147 (931)\ttotal: 11.1s\tremaining: 807ms\n",
      "932:\tlearn: 0.0102816\ttest: 0.0102925\tbest: 0.0102925 (932)\ttotal: 11.1s\tremaining: 795ms\n",
      "933:\tlearn: 0.0102612\ttest: 0.0102721\tbest: 0.0102721 (933)\ttotal: 11.1s\tremaining: 783ms\n",
      "934:\tlearn: 0.0102359\ttest: 0.0102468\tbest: 0.0102468 (934)\ttotal: 11.1s\tremaining: 771ms\n",
      "935:\tlearn: 0.0102122\ttest: 0.0102230\tbest: 0.0102230 (935)\ttotal: 11.1s\tremaining: 759ms\n",
      "936:\tlearn: 0.0101869\ttest: 0.0101977\tbest: 0.0101977 (936)\ttotal: 11.1s\tremaining: 747ms\n",
      "937:\tlearn: 0.0101645\ttest: 0.0101753\tbest: 0.0101753 (937)\ttotal: 11.1s\tremaining: 735ms\n",
      "938:\tlearn: 0.0101352\ttest: 0.0101460\tbest: 0.0101460 (938)\ttotal: 11.1s\tremaining: 724ms\n",
      "939:\tlearn: 0.0101042\ttest: 0.0101151\tbest: 0.0101151 (939)\ttotal: 11.1s\tremaining: 712ms\n",
      "940:\tlearn: 0.0100778\ttest: 0.0100886\tbest: 0.0100886 (940)\ttotal: 11.2s\tremaining: 700ms\n",
      "941:\tlearn: 0.0100591\ttest: 0.0100699\tbest: 0.0100699 (941)\ttotal: 11.2s\tremaining: 688ms\n",
      "942:\tlearn: 0.0100405\ttest: 0.0100513\tbest: 0.0100513 (942)\ttotal: 11.2s\tremaining: 676ms\n",
      "943:\tlearn: 0.0100142\ttest: 0.0100251\tbest: 0.0100251 (943)\ttotal: 11.2s\tremaining: 664ms\n",
      "944:\tlearn: 0.0099919\ttest: 0.0100028\tbest: 0.0100028 (944)\ttotal: 11.2s\tremaining: 652ms\n",
      "945:\tlearn: 0.0099642\ttest: 0.0099750\tbest: 0.0099750 (945)\ttotal: 11.2s\tremaining: 640ms\n",
      "946:\tlearn: 0.0099323\ttest: 0.0099430\tbest: 0.0099430 (946)\ttotal: 11.2s\tremaining: 629ms\n",
      "947:\tlearn: 0.0099067\ttest: 0.0099175\tbest: 0.0099175 (947)\ttotal: 11.2s\tremaining: 617ms\n",
      "948:\tlearn: 0.0098802\ttest: 0.0098909\tbest: 0.0098909 (948)\ttotal: 11.3s\tremaining: 605ms\n",
      "949:\tlearn: 0.0098584\ttest: 0.0098691\tbest: 0.0098691 (949)\ttotal: 11.3s\tremaining: 593ms\n",
      "950:\tlearn: 0.0098350\ttest: 0.0098456\tbest: 0.0098456 (950)\ttotal: 11.3s\tremaining: 581ms\n",
      "951:\tlearn: 0.0098083\ttest: 0.0098190\tbest: 0.0098190 (951)\ttotal: 11.3s\tremaining: 569ms\n",
      "952:\tlearn: 0.0097860\ttest: 0.0097966\tbest: 0.0097966 (952)\ttotal: 11.3s\tremaining: 557ms\n",
      "953:\tlearn: 0.0097658\ttest: 0.0097766\tbest: 0.0097766 (953)\ttotal: 11.3s\tremaining: 545ms\n",
      "954:\tlearn: 0.0097427\ttest: 0.0097533\tbest: 0.0097533 (954)\ttotal: 11.3s\tremaining: 534ms\n",
      "955:\tlearn: 0.0097278\ttest: 0.0097385\tbest: 0.0097385 (955)\ttotal: 11.3s\tremaining: 522ms\n",
      "956:\tlearn: 0.0097105\ttest: 0.0097211\tbest: 0.0097211 (956)\ttotal: 11.3s\tremaining: 510ms\n",
      "957:\tlearn: 0.0096877\ttest: 0.0096983\tbest: 0.0096983 (957)\ttotal: 11.4s\tremaining: 498ms\n",
      "958:\tlearn: 0.0096547\ttest: 0.0096653\tbest: 0.0096653 (958)\ttotal: 11.4s\tremaining: 486ms\n",
      "959:\tlearn: 0.0096260\ttest: 0.0096365\tbest: 0.0096365 (959)\ttotal: 11.4s\tremaining: 474ms\n",
      "960:\tlearn: 0.0096024\ttest: 0.0096129\tbest: 0.0096129 (960)\ttotal: 11.4s\tremaining: 462ms\n",
      "961:\tlearn: 0.0095805\ttest: 0.0095909\tbest: 0.0095909 (961)\ttotal: 11.4s\tremaining: 450ms\n",
      "962:\tlearn: 0.0095582\ttest: 0.0095686\tbest: 0.0095686 (962)\ttotal: 11.4s\tremaining: 439ms\n",
      "963:\tlearn: 0.0095347\ttest: 0.0095450\tbest: 0.0095450 (963)\ttotal: 11.4s\tremaining: 427ms\n",
      "964:\tlearn: 0.0095127\ttest: 0.0095231\tbest: 0.0095231 (964)\ttotal: 11.4s\tremaining: 415ms\n",
      "965:\tlearn: 0.0094983\ttest: 0.0095087\tbest: 0.0095087 (965)\ttotal: 11.4s\tremaining: 403ms\n",
      "966:\tlearn: 0.0094767\ttest: 0.0094870\tbest: 0.0094870 (966)\ttotal: 11.5s\tremaining: 391ms\n",
      "967:\tlearn: 0.0094504\ttest: 0.0094607\tbest: 0.0094607 (967)\ttotal: 11.5s\tremaining: 379ms\n",
      "968:\tlearn: 0.0094345\ttest: 0.0094448\tbest: 0.0094448 (968)\ttotal: 11.5s\tremaining: 367ms\n",
      "969:\tlearn: 0.0094151\ttest: 0.0094254\tbest: 0.0094254 (969)\ttotal: 11.5s\tremaining: 356ms\n",
      "970:\tlearn: 0.0093960\ttest: 0.0094064\tbest: 0.0094064 (970)\ttotal: 11.5s\tremaining: 344ms\n",
      "971:\tlearn: 0.0093727\ttest: 0.0093831\tbest: 0.0093831 (971)\ttotal: 11.5s\tremaining: 332ms\n",
      "972:\tlearn: 0.0093484\ttest: 0.0093588\tbest: 0.0093588 (972)\ttotal: 11.5s\tremaining: 320ms\n",
      "973:\tlearn: 0.0093248\ttest: 0.0093350\tbest: 0.0093350 (973)\ttotal: 11.5s\tremaining: 308ms\n",
      "974:\tlearn: 0.0093042\ttest: 0.0093144\tbest: 0.0093144 (974)\ttotal: 11.6s\tremaining: 296ms\n",
      "975:\tlearn: 0.0092810\ttest: 0.0092911\tbest: 0.0092911 (975)\ttotal: 11.6s\tremaining: 284ms\n",
      "976:\tlearn: 0.0092563\ttest: 0.0092665\tbest: 0.0092665 (976)\ttotal: 11.6s\tremaining: 273ms\n",
      "977:\tlearn: 0.0092344\ttest: 0.0092445\tbest: 0.0092445 (977)\ttotal: 11.6s\tremaining: 261ms\n",
      "978:\tlearn: 0.0092185\ttest: 0.0092285\tbest: 0.0092285 (978)\ttotal: 11.6s\tremaining: 249ms\n",
      "979:\tlearn: 0.0091943\ttest: 0.0092043\tbest: 0.0092043 (979)\ttotal: 11.6s\tremaining: 237ms\n",
      "980:\tlearn: 0.0091703\ttest: 0.0091803\tbest: 0.0091803 (980)\ttotal: 11.6s\tremaining: 225ms\n",
      "981:\tlearn: 0.0091484\ttest: 0.0091584\tbest: 0.0091584 (981)\ttotal: 11.6s\tremaining: 213ms\n",
      "982:\tlearn: 0.0091339\ttest: 0.0091440\tbest: 0.0091440 (982)\ttotal: 11.7s\tremaining: 201ms\n",
      "983:\tlearn: 0.0091125\ttest: 0.0091224\tbest: 0.0091224 (983)\ttotal: 11.7s\tremaining: 190ms\n",
      "984:\tlearn: 0.0090861\ttest: 0.0090960\tbest: 0.0090960 (984)\ttotal: 11.7s\tremaining: 178ms\n",
      "985:\tlearn: 0.0090658\ttest: 0.0090757\tbest: 0.0090757 (985)\ttotal: 11.7s\tremaining: 166ms\n",
      "986:\tlearn: 0.0090393\ttest: 0.0090493\tbest: 0.0090493 (986)\ttotal: 11.7s\tremaining: 154ms\n",
      "987:\tlearn: 0.0090169\ttest: 0.0090268\tbest: 0.0090268 (987)\ttotal: 11.7s\tremaining: 142ms\n",
      "988:\tlearn: 0.0089999\ttest: 0.0090097\tbest: 0.0090097 (988)\ttotal: 11.7s\tremaining: 130ms\n",
      "989:\tlearn: 0.0089833\ttest: 0.0089930\tbest: 0.0089930 (989)\ttotal: 11.7s\tremaining: 119ms\n",
      "990:\tlearn: 0.0089661\ttest: 0.0089759\tbest: 0.0089759 (990)\ttotal: 11.7s\tremaining: 107ms\n",
      "991:\tlearn: 0.0089490\ttest: 0.0089588\tbest: 0.0089588 (991)\ttotal: 11.8s\tremaining: 94.8ms\n",
      "992:\tlearn: 0.0089260\ttest: 0.0089358\tbest: 0.0089358 (992)\ttotal: 11.8s\tremaining: 83ms\n",
      "993:\tlearn: 0.0089058\ttest: 0.0089156\tbest: 0.0089156 (993)\ttotal: 11.8s\tremaining: 71.1ms\n",
      "994:\tlearn: 0.0088862\ttest: 0.0088960\tbest: 0.0088960 (994)\ttotal: 11.8s\tremaining: 59.3ms\n",
      "995:\tlearn: 0.0088674\ttest: 0.0088773\tbest: 0.0088773 (995)\ttotal: 11.8s\tremaining: 47.4ms\n",
      "996:\tlearn: 0.0088463\ttest: 0.0088561\tbest: 0.0088561 (996)\ttotal: 11.8s\tremaining: 35.6ms\n",
      "997:\tlearn: 0.0088185\ttest: 0.0088284\tbest: 0.0088284 (997)\ttotal: 11.8s\tremaining: 23.7ms\n",
      "998:\tlearn: 0.0088011\ttest: 0.0088110\tbest: 0.0088110 (998)\ttotal: 11.8s\tremaining: 11.8ms\n",
      "999:\tlearn: 0.0087744\ttest: 0.0087843\tbest: 0.0087843 (999)\ttotal: 11.8s\tremaining: 0us\n",
      "\n",
      "bestTest = 0.008784312114\n",
      "bestIteration = 999\n",
      "\n"
     ]
    },
    {
     "data": {
      "text/plain": [
       "array([[0.01268483, 0.98731517],\n",
       "       [0.00832655, 0.99167345],\n",
       "       [0.01071938, 0.98928062],\n",
       "       ...,\n",
       "       [0.01411076, 0.98588924],\n",
       "       [0.01761985, 0.98238015],\n",
       "       [0.99343418, 0.00656582]])"
      ]
     },
     "execution_count": 8,
     "metadata": {},
     "output_type": "execute_result"
    }
   ],
   "source": [
    "m = cb.CatBoostClassifier(objective=\"Logloss\", verbose=1, eval_metric=\"Logloss\")\n",
    "m.fit(X_test, y_test, eval_set=[(X_test, y_test)])\n",
    "pred_proba = m.predict_proba(X_test)\n",
    "pred_proba"
   ]
  },
  {
   "cell_type": "code",
   "execution_count": 14,
   "id": "f7ad61e3",
   "metadata": {},
   "outputs": [
    {
     "data": {
      "text/plain": [
       "0.10856780010472185"
      ]
     },
     "execution_count": 14,
     "metadata": {},
     "output_type": "execute_result"
    }
   ],
   "source": [
    "log_loss(y_test, pred_proba)"
   ]
  },
  {
   "cell_type": "code",
   "execution_count": 12,
   "id": "27a2ec18",
   "metadata": {},
   "outputs": [
    {
     "data": {
      "text/plain": [
       "make_scorer(log_loss, greater_is_better=False, needs_proba=True)"
      ]
     },
     "execution_count": 12,
     "metadata": {},
     "output_type": "execute_result"
    }
   ],
   "source": [
    "neg_log_loss = make_scorer(score_func=log_loss, greater_is_better=False, needs_proba=True)\n",
    "f"
   ]
  },
  {
   "cell_type": "code",
   "execution_count": 13,
   "id": "d7ab51eb",
   "metadata": {},
   "outputs": [
    {
     "data": {
      "text/plain": [
       "-0.10856780010472185"
      ]
     },
     "execution_count": 13,
     "metadata": {},
     "output_type": "execute_result"
    }
   ],
   "source": [
    "f(m, X_test, y_test)"
   ]
  },
  {
   "cell_type": "code",
   "execution_count": 7,
   "id": "27c9e585",
   "metadata": {},
   "outputs": [
    {
     "data": {
      "text/plain": [
       "datetime.datetime(2023, 4, 6, 16, 55, 51, 83959)"
      ]
     },
     "execution_count": 7,
     "metadata": {},
     "output_type": "execute_result"
    }
   ],
   "source": [
    "study.trials[0].datetime_start"
   ]
  },
  {
   "cell_type": "code",
   "execution_count": 12,
   "id": "078f3424",
   "metadata": {},
   "outputs": [
    {
     "data": {
      "text/plain": [
       "-0.45003056705495253"
      ]
     },
     "execution_count": 12,
     "metadata": {},
     "output_type": "execute_result"
    }
   ],
   "source": [
    "study.trials[0].value"
   ]
  },
  {
   "cell_type": "code",
   "execution_count": 19,
   "id": "1ffffd87",
   "metadata": {},
   "outputs": [
    {
     "data": {
      "text/plain": [
       "{'bootstrap_type': 'Bernoulli',\n",
       " 'colsample_bylevel': 0.06298201423587532,\n",
       " 'depth': 1,\n",
       " 'grow_policy': 'Depthwise',\n",
       " 'l2_leaf_reg': 1.533961499604723e-07,\n",
       " 'learning_rate': 0.2294443901890887,\n",
       " 'od_type': 'Iter',\n",
       " 'od_wait': 28,\n",
       " 'random_strength': 7.80784562417798e-08,\n",
       " 'subsample': 0.4850923023026483}"
      ]
     },
     "execution_count": 19,
     "metadata": {},
     "output_type": "execute_result"
    }
   ],
   "source": [
    "study.trials[0].params"
   ]
  },
  {
   "cell_type": "code",
   "execution_count": 18,
   "id": "d11c498d",
   "metadata": {},
   "outputs": [
    {
     "ename": "ValueError",
     "evalue": "`value` is supposed to be set for a complete trial.",
     "output_type": "error",
     "traceback": [
      "\u001b[0;31m---------------------------------------------------------------------------\u001b[0m",
      "\u001b[0;31mValueError\u001b[0m                                Traceback (most recent call last)",
      "Cell \u001b[0;32mIn[18], line 2\u001b[0m\n\u001b[1;32m      1\u001b[0m old_trials \u001b[38;5;241m=\u001b[39m study\u001b[38;5;241m.\u001b[39mget_trials(deepcopy\u001b[38;5;241m=\u001b[39m\u001b[38;5;28;01mFalse\u001b[39;00m)\n\u001b[0;32m----> 2\u001b[0m correct_trials \u001b[38;5;241m=\u001b[39m [\n\u001b[1;32m      3\u001b[0m     optuna\u001b[38;5;241m.\u001b[39mtrial\u001b[38;5;241m.\u001b[39mcreate_trial(\n\u001b[1;32m      4\u001b[0m         state\u001b[38;5;241m=\u001b[39moptuna\u001b[38;5;241m.\u001b[39mtrial\u001b[38;5;241m.\u001b[39mTrialState\u001b[38;5;241m.\u001b[39mCOMPLETE,\n\u001b[1;32m      5\u001b[0m         params\u001b[38;5;241m=\u001b[39mtrial\u001b[38;5;241m.\u001b[39mparams,\n\u001b[1;32m      6\u001b[0m         distributions\u001b[38;5;241m=\u001b[39mtrial\u001b[38;5;241m.\u001b[39mdistributions,\n\u001b[1;32m      7\u001b[0m         value\u001b[38;5;241m=\u001b[39mtrial\u001b[38;5;241m.\u001b[39mvalue\n\u001b[1;32m      8\u001b[0m     ) \u001b[38;5;28;01mfor\u001b[39;00m trial \u001b[38;5;129;01min\u001b[39;00m old_trials]\n\u001b[1;32m      9\u001b[0m new_study \u001b[38;5;241m=\u001b[39m optuna\u001b[38;5;241m.\u001b[39mcreate_study()\n\u001b[1;32m     10\u001b[0m new_study\u001b[38;5;241m.\u001b[39madd_trials(correct_trials)\n",
      "Cell \u001b[0;32mIn[18], line 3\u001b[0m, in \u001b[0;36m<listcomp>\u001b[0;34m(.0)\u001b[0m\n\u001b[1;32m      1\u001b[0m old_trials \u001b[38;5;241m=\u001b[39m study\u001b[38;5;241m.\u001b[39mget_trials(deepcopy\u001b[38;5;241m=\u001b[39m\u001b[38;5;28;01mFalse\u001b[39;00m)\n\u001b[1;32m      2\u001b[0m correct_trials \u001b[38;5;241m=\u001b[39m [\n\u001b[0;32m----> 3\u001b[0m     \u001b[43moptuna\u001b[49m\u001b[38;5;241;43m.\u001b[39;49m\u001b[43mtrial\u001b[49m\u001b[38;5;241;43m.\u001b[39;49m\u001b[43mcreate_trial\u001b[49m\u001b[43m(\u001b[49m\n\u001b[1;32m      4\u001b[0m \u001b[43m        \u001b[49m\u001b[43mstate\u001b[49m\u001b[38;5;241;43m=\u001b[39;49m\u001b[43moptuna\u001b[49m\u001b[38;5;241;43m.\u001b[39;49m\u001b[43mtrial\u001b[49m\u001b[38;5;241;43m.\u001b[39;49m\u001b[43mTrialState\u001b[49m\u001b[38;5;241;43m.\u001b[39;49m\u001b[43mCOMPLETE\u001b[49m\u001b[43m,\u001b[49m\n\u001b[1;32m      5\u001b[0m \u001b[43m        \u001b[49m\u001b[43mparams\u001b[49m\u001b[38;5;241;43m=\u001b[39;49m\u001b[43mtrial\u001b[49m\u001b[38;5;241;43m.\u001b[39;49m\u001b[43mparams\u001b[49m\u001b[43m,\u001b[49m\n\u001b[1;32m      6\u001b[0m \u001b[43m        \u001b[49m\u001b[43mdistributions\u001b[49m\u001b[38;5;241;43m=\u001b[39;49m\u001b[43mtrial\u001b[49m\u001b[38;5;241;43m.\u001b[39;49m\u001b[43mdistributions\u001b[49m\u001b[43m,\u001b[49m\n\u001b[1;32m      7\u001b[0m \u001b[43m        \u001b[49m\u001b[43mvalue\u001b[49m\u001b[38;5;241;43m=\u001b[39;49m\u001b[43mtrial\u001b[49m\u001b[38;5;241;43m.\u001b[39;49m\u001b[43mvalue\u001b[49m\n\u001b[1;32m      8\u001b[0m \u001b[43m    \u001b[49m\u001b[43m)\u001b[49m \u001b[38;5;28;01mfor\u001b[39;00m trial \u001b[38;5;129;01min\u001b[39;00m old_trials]\n\u001b[1;32m      9\u001b[0m new_study \u001b[38;5;241m=\u001b[39m optuna\u001b[38;5;241m.\u001b[39mcreate_study()\n\u001b[1;32m     10\u001b[0m new_study\u001b[38;5;241m.\u001b[39madd_trials(correct_trials)\n",
      "File \u001b[0;32m~/Dev/litmus/.env/lib/python3.10/site-packages/optuna/trial/_frozen.py:614\u001b[0m, in \u001b[0;36mcreate_trial\u001b[0;34m(state, value, values, params, distributions, user_attrs, system_attrs, intermediate_values)\u001b[0m\n\u001b[1;32m    597\u001b[0m     datetime_complete \u001b[38;5;241m=\u001b[39m \u001b[38;5;28;01mNone\u001b[39;00m\n\u001b[1;32m    599\u001b[0m trial \u001b[38;5;241m=\u001b[39m FrozenTrial(\n\u001b[1;32m    600\u001b[0m     number\u001b[38;5;241m=\u001b[39m\u001b[38;5;241m-\u001b[39m\u001b[38;5;241m1\u001b[39m,\n\u001b[1;32m    601\u001b[0m     trial_id\u001b[38;5;241m=\u001b[39m\u001b[38;5;241m-\u001b[39m\u001b[38;5;241m1\u001b[39m,\n\u001b[0;32m   (...)\u001b[0m\n\u001b[1;32m    611\u001b[0m     intermediate_values\u001b[38;5;241m=\u001b[39mintermediate_values,\n\u001b[1;32m    612\u001b[0m )\n\u001b[0;32m--> 614\u001b[0m \u001b[43mtrial\u001b[49m\u001b[38;5;241;43m.\u001b[39;49m\u001b[43m_validate\u001b[49m\u001b[43m(\u001b[49m\u001b[43m)\u001b[49m\n\u001b[1;32m    616\u001b[0m \u001b[38;5;28;01mreturn\u001b[39;00m trial\n",
      "File \u001b[0;32m~/Dev/litmus/.env/lib/python3.10/site-packages/optuna/trial/_frozen.py:331\u001b[0m, in \u001b[0;36mFrozenTrial._validate\u001b[0;34m(self)\u001b[0m\n\u001b[1;32m    326\u001b[0m         \u001b[38;5;28;01mraise\u001b[39;00m \u001b[38;5;167;01mValueError\u001b[39;00m(\n\u001b[1;32m    327\u001b[0m             \u001b[38;5;124m\"\u001b[39m\u001b[38;5;124m`datetime_complete` is supposed to be None for an unfinished trial.\u001b[39m\u001b[38;5;124m\"\u001b[39m\n\u001b[1;32m    328\u001b[0m         )\n\u001b[1;32m    330\u001b[0m \u001b[38;5;28;01mif\u001b[39;00m \u001b[38;5;28mself\u001b[39m\u001b[38;5;241m.\u001b[39mstate \u001b[38;5;241m==\u001b[39m TrialState\u001b[38;5;241m.\u001b[39mCOMPLETE \u001b[38;5;129;01mand\u001b[39;00m \u001b[38;5;28mself\u001b[39m\u001b[38;5;241m.\u001b[39m_values \u001b[38;5;129;01mis\u001b[39;00m \u001b[38;5;28;01mNone\u001b[39;00m:\n\u001b[0;32m--> 331\u001b[0m     \u001b[38;5;28;01mraise\u001b[39;00m \u001b[38;5;167;01mValueError\u001b[39;00m(\u001b[38;5;124m\"\u001b[39m\u001b[38;5;124m`value` is supposed to be set for a complete trial.\u001b[39m\u001b[38;5;124m\"\u001b[39m)\n\u001b[1;32m    333\u001b[0m \u001b[38;5;28;01mif\u001b[39;00m \u001b[38;5;28mset\u001b[39m(\u001b[38;5;28mself\u001b[39m\u001b[38;5;241m.\u001b[39mparams\u001b[38;5;241m.\u001b[39mkeys()) \u001b[38;5;241m!=\u001b[39m \u001b[38;5;28mset\u001b[39m(\u001b[38;5;28mself\u001b[39m\u001b[38;5;241m.\u001b[39mdistributions\u001b[38;5;241m.\u001b[39mkeys()):\n\u001b[1;32m    334\u001b[0m     \u001b[38;5;28;01mraise\u001b[39;00m \u001b[38;5;167;01mValueError\u001b[39;00m(\n\u001b[1;32m    335\u001b[0m         \u001b[38;5;124m\"\u001b[39m\u001b[38;5;124mInconsistent parameters \u001b[39m\u001b[38;5;132;01m{}\u001b[39;00m\u001b[38;5;124m and distributions \u001b[39m\u001b[38;5;132;01m{}\u001b[39;00m\u001b[38;5;124m.\u001b[39m\u001b[38;5;124m\"\u001b[39m\u001b[38;5;241m.\u001b[39mformat(\n\u001b[1;32m    336\u001b[0m             \u001b[38;5;28mset\u001b[39m(\u001b[38;5;28mself\u001b[39m\u001b[38;5;241m.\u001b[39mparams\u001b[38;5;241m.\u001b[39mkeys()), \u001b[38;5;28mset\u001b[39m(\u001b[38;5;28mself\u001b[39m\u001b[38;5;241m.\u001b[39mdistributions\u001b[38;5;241m.\u001b[39mkeys())\n\u001b[1;32m    337\u001b[0m         )\n\u001b[1;32m    338\u001b[0m     )\n",
      "\u001b[0;31mValueError\u001b[0m: `value` is supposed to be set for a complete trial."
     ]
    }
   ],
   "source": [
    "old_trials = study.get_trials(deepcopy=False)\n",
    "correct_trials = [\n",
    "    optuna.trial.create_trial(\n",
    "        state=optuna.trial.TrialState.COMPLETE,\n",
    "        params=trial.params,\n",
    "        distributions=trial.distributions,\n",
    "        value=trial.value\n",
    "    ) for trial in old_trials]\n",
    "new_study = optuna.create_study()\n",
    "new_study.add_trials(correct_trials)"
   ]
  },
  {
   "cell_type": "code",
   "execution_count": null,
   "id": "cd7e0886",
   "metadata": {},
   "outputs": [],
   "source": [
    "old_trials = study.get_trials(deepcopy=False)\n",
    "old_trials"
   ]
  },
  {
   "cell_type": "code",
   "execution_count": 12,
   "id": "998ae76b",
   "metadata": {},
   "outputs": [],
   "source": [
    "import datetime"
   ]
  },
  {
   "cell_type": "code",
   "execution_count": 13,
   "id": "e63652ed",
   "metadata": {},
   "outputs": [
    {
     "data": {
      "text/plain": [
       "datetime.datetime"
      ]
     },
     "execution_count": 13,
     "metadata": {},
     "output_type": "execute_result"
    }
   ],
   "source": [
    "datetime.datetime."
   ]
  },
  {
   "cell_type": "code",
   "execution_count": 23,
   "id": "ee78eb5f",
   "metadata": {},
   "outputs": [
    {
     "data": {
      "text/plain": [
       "FrozenTrial(number=1, state=TrialState.COMPLETE, values=[-0.6306997787474536], datetime_start=datetime.datetime(2023, 4, 6, 16, 55, 52, 297626), datetime_complete=datetime.datetime(2023, 4, 6, 16, 55, 57, 85356), params={'bootstrap_type': 'Bernoulli', 'colsample_bylevel': 0.011589924229601182, 'depth': 10, 'grow_policy': 'Depthwise', 'l2_leaf_reg': 1.2208460438070453e-07, 'learning_rate': 0.011996341480658446, 'od_type': 'IncToDec', 'od_wait': 10, 'random_strength': 0.00026098261562786524, 'subsample': 0.20131755529216386}, user_attrs={}, system_attrs={}, intermediate_values={0: 0.6931759164812252, 1: 0.6927834715637176, 2: 0.6920532670673256, 3: 0.6920988929155047, 4: 0.6912474474647206, 5: 0.6908674340739578, 6: 0.6906137746827155, 7: 0.6899512512444698, 8: 0.6895564088730054, 9: 0.6897786803638325, 10: 0.6897383347714497, 11: 0.6893570898028709, 12: 0.6897654689867644, 13: 0.68990459554715, 14: 0.6893726634439428, 15: 0.6895692757229482, 16: 0.689468312040408, 17: 0.6894220778263765, 18: 0.6881833597090826, 19: 0.6875747184895543, 20: 0.6873867445498749, 21: 0.6866703187169856, 22: 0.6860257235734937, 23: 0.6861154371914847, 24: 0.685758741610678, 25: 0.6853341437947214, 26: 0.6851506552918984, 27: 0.6850498679193985, 28: 0.6846555868828771, 29: 0.6843631745691686, 30: 0.6851186561960879, 31: 0.6856851139030871, 32: 0.6850649185217172, 33: 0.6845364347405974, 34: 0.6845302001313545, 35: 0.684307747488084, 36: 0.6836236139921461, 37: 0.6826150042307222, 38: 0.6816348094007609, 39: 0.6815281276647813, 40: 0.6817255307009132, 41: 0.6816285151146304, 42: 0.6817606728332444, 43: 0.6811492806012642, 44: 0.6801600855197358, 45: 0.6785943453061563, 46: 0.678351084055639, 47: 0.6779351380709243, 48: 0.6779692007216451, 49: 0.6779085538319568, 50: 0.6782530902726333, 51: 0.6776866090508826, 52: 0.6771854555353092, 53: 0.6766488428111543, 54: 0.6763410011303935, 55: 0.676404918164283, 56: 0.6755011910011711, 57: 0.6750603697230494, 58: 0.6745457347365336, 59: 0.6739184563762173, 60: 0.6743865166213098, 61: 0.6737122640732616, 62: 0.6733466671143074, 63: 0.672593497405329, 64: 0.6719068181725498, 65: 0.6721531470513014, 66: 0.6719942994949137, 67: 0.671641441599172, 68: 0.6711324049077253, 69: 0.6706765040874841, 70: 0.6703039378491116, 71: 0.6701910276845143, 72: 0.670980688368973, 73: 0.6707467130157628, 74: 0.6709391800760274, 75: 0.6699342084820751, 76: 0.6697029516576194, 77: 0.6695381902102293, 78: 0.6695285560666863, 79: 0.6693946607179087, 80: 0.6689306675856764, 81: 0.6682361330458014, 82: 0.6678763873328226, 83: 0.6670335393211544, 84: 0.6663621526689307, 85: 0.6657099722293656, 86: 0.6653166130296768, 87: 0.6654943999661745, 88: 0.6655798631525477, 89: 0.6650535675543214, 90: 0.6642032057392335, 91: 0.6640396680879758, 92: 0.6642000019003786, 93: 0.6643801092281059, 94: 0.6634348038741702, 95: 0.6631940513934033, 96: 0.66334110590053, 97: 0.6622508827833506, 98: 0.6621923957942386, 99: 0.6614847603405739, 100: 0.6616154610990225, 101: 0.6613842946687648, 102: 0.6611606424222227, 103: 0.6601086320885199, 104: 0.6597540039934122, 105: 0.6585824437340291, 106: 0.6577551619609489, 107: 0.6574549418120389, 108: 0.6570420444891207, 109: 0.6566352812243074, 110: 0.6557004013050967, 111: 0.6558956689153657, 112: 0.6556373659384734, 113: 0.6550221704554215, 114: 0.654700398207055, 115: 0.654280423445591, 116: 0.6546786690273535, 117: 0.6539105045442181, 118: 0.6533713183404535, 119: 0.6531833818398869, 120: 0.6533126581288531, 121: 0.6534663035434357, 122: 0.6525032781677443, 123: 0.6515354963075742, 124: 0.6514333966113961, 125: 0.650730569280837, 126: 0.6502835354430062, 127: 0.649610422215778, 128: 0.6498586100599144, 129: 0.6497915165072367, 130: 0.6488876609197318, 131: 0.6491973394361941, 132: 0.648526266295535, 133: 0.6483722823683684, 134: 0.6488246193313095, 135: 0.6487653406810483, 136: 0.6482173574967546, 137: 0.6473424391849134, 138: 0.6472852132695505, 139: 0.6468467546888386, 140: 0.6465111040599384, 141: 0.646311685124433, 142: 0.6461455249665129, 143: 0.6459505059483356, 144: 0.6457933773352008, 145: 0.6450597673870335, 146: 0.6454427345206616, 147: 0.6445492393391647, 148: 0.6448100742007842, 149: 0.6448064801008173, 150: 0.6437079557857649, 151: 0.6432391461145769, 152: 0.6430641694589965, 153: 0.6429322612358915, 154: 0.6425851479355924, 155: 0.642636153204809, 156: 0.6418657984534202, 157: 0.6419241787096124, 158: 0.6416783126769783, 159: 0.6415712476361507, 160: 0.6417947194677761, 161: 0.6416977376938352, 162: 0.6411637177596036, 163: 0.6403801024721575, 164: 0.6399047811270677, 165: 0.640109126542059, 166: 0.6393950721531021, 167: 0.638937661861185, 168: 0.6389292899001299, 169: 0.6392524899662664, 170: 0.6388714822620759, 171: 0.6384161508621109, 172: 0.6382645802242903, 173: 0.6379669210620422, 174: 0.6385216908448229, 175: 0.6378352658642549, 176: 0.6378269559531193, 177: 0.6374293480346378, 178: 0.6376007130643159, 179: 0.6379024856612985, 180: 0.6378243184509268, 181: 0.6374310646256094, 182: 0.6377037594134466, 183: 0.6375757642198273, 184: 0.6368683985816176, 185: 0.6370862059786833, 186: 0.6369572062564647, 187: 0.6351179146821205, 188: 0.6351713062566561, 189: 0.6347489614684753, 190: 0.6347289624449357, 191: 0.6344327972733932, 192: 0.6339712277924452, 193: 0.6338547017922891, 194: 0.6343229881262025, 195: 0.6348438775757241, 196: 0.6342795688304596, 197: 0.6333386159950938, 198: 0.6322715335610506, 199: 0.6324490321684898, 200: 0.632336236245687, 201: 0.6325871870061929, 202: 0.6321958405353435, 203: 0.6320954181453028, 204: 0.6321342465832205, 205: 0.6322288524898537, 206: 0.6323566351737885, 207: 0.6315334296075321, 208: 0.6317483770917959, 209: 0.631130728392735, 210: 0.6310254995287246, 211: 0.6306997787474533, 212: 0.6308225163783179, 213: 0.6311830786418194, 214: 0.6311554334898773, 215: 0.6308646939205259, 216: 0.6310803146828916, 217: 0.6313064435001409, 218: 0.6311616793854411, 219: 0.6307294939574508, 220: 0.6318420230978862, 221: 0.6318682893393293}, distributions={'bootstrap_type': CategoricalDistribution(choices=('Bayesian', 'Bernoulli', 'MVS')), 'colsample_bylevel': FloatDistribution(high=0.1, log=True, low=0.01, step=None), 'depth': IntDistribution(high=12, log=False, low=1, step=1), 'grow_policy': CategoricalDistribution(choices=('SymmetricTree', 'Depthwise', 'Lossguide')), 'l2_leaf_reg': FloatDistribution(high=100.0, log=True, low=1e-08, step=None), 'learning_rate': FloatDistribution(high=1.0, log=True, low=0.001, step=None), 'od_type': CategoricalDistribution(choices=('IncToDec', 'Iter')), 'od_wait': IntDistribution(high=50, log=False, low=10, step=1), 'random_strength': FloatDistribution(high=10.0, log=True, low=1e-08, step=None), 'subsample': FloatDistribution(high=1.0, log=True, low=0.1, step=None)}, trial_id=2, value=None)"
      ]
     },
     "execution_count": 23,
     "metadata": {},
     "output_type": "execute_result"
    }
   ],
   "source": [
    "study.trials[1]"
   ]
  },
  {
   "cell_type": "code",
   "execution_count": 18,
   "id": "b4032e4c",
   "metadata": {},
   "outputs": [],
   "source": [
    "num_trials = study.trials[-1].number\n",
    "num_trials_to_keep = 20"
   ]
  },
  {
   "cell_type": "code",
   "execution_count": 19,
   "id": "ed402422",
   "metadata": {},
   "outputs": [
    {
     "data": {
      "text/plain": [
       "[FrozenTrial(number=39, state=TrialState.COMPLETE, values=[-0.6511535966073816], datetime_start=datetime.datetime(2023, 4, 11, 9, 28, 8, 218626), datetime_complete=datetime.datetime(2023, 4, 11, 9, 28, 37, 132832), params={'bootstrap_type': 'Bayesian', 'colsample_bylevel': 0.024582970703969854, 'depth': 11, 'grow_policy': 'Lossguide', 'l2_leaf_reg': 93.70655010457759, 'learning_rate': 0.0010671445753259938, 'od_type': 'Iter', 'od_wait': 45, 'random_strength': 3.415251558759658e-08}, user_attrs={'mean_fit_time': 9.52130619684855, 'mean_score_time': 0.08929308255513509, 'mean_test_score': -0.6511535966073816, 'split0_test_score': -0.6507956278749639, 'split1_test_score': -0.6516396159526993, 'split2_test_score': -0.6510255459944815, 'std_fit_time': 0.07619737102926176, 'std_score_time': 0.004746037688996099, 'std_test_score': 0.00035625523475724553}, system_attrs={}, intermediate_values={}, distributions={'bootstrap_type': CategoricalDistribution(choices=('Bayesian', 'Bernoulli', 'MVS')), 'colsample_bylevel': FloatDistribution(high=0.1, log=True, low=0.01, step=None), 'depth': IntDistribution(high=12, log=False, low=1, step=1), 'grow_policy': CategoricalDistribution(choices=('SymmetricTree', 'Depthwise', 'Lossguide')), 'l2_leaf_reg': FloatDistribution(high=100.0, log=True, low=1e-08, step=None), 'learning_rate': FloatDistribution(high=1.0, log=True, low=0.001, step=None), 'od_type': CategoricalDistribution(choices=('IncToDec', 'Iter')), 'od_wait': IntDistribution(high=50, log=False, low=10, step=1), 'random_strength': FloatDistribution(high=10.0, log=True, low=1e-08, step=None)}, trial_id=100, value=None),\n",
       " FrozenTrial(number=40, state=TrialState.COMPLETE, values=[-0.5992858517784798], datetime_start=datetime.datetime(2023, 4, 11, 9, 28, 37, 154998), datetime_complete=datetime.datetime(2023, 4, 11, 9, 29, 5, 630483), params={'bootstrap_type': 'Bayesian', 'colsample_bylevel': 0.025271655034679888, 'depth': 9, 'grow_policy': 'Lossguide', 'l2_leaf_reg': 78.86480925339944, 'learning_rate': 0.002711761957783622, 'od_type': 'Iter', 'od_wait': 44, 'random_strength': 4.572303601353441e-08}, user_attrs={'mean_fit_time': 9.376335779825846, 'mean_score_time': 0.09084431330362956, 'mean_test_score': -0.5992858517784798, 'split0_test_score': -0.5986769097846172, 'split1_test_score': -0.599466967323284, 'split2_test_score': -0.5997136782275382, 'std_fit_time': 0.056370924430401564, 'std_score_time': 0.0010566962166373122, 'std_test_score': 0.00044220985326463705}, system_attrs={}, intermediate_values={}, distributions={'bootstrap_type': CategoricalDistribution(choices=('Bayesian', 'Bernoulli', 'MVS')), 'colsample_bylevel': FloatDistribution(high=0.1, log=True, low=0.01, step=None), 'depth': IntDistribution(high=12, log=False, low=1, step=1), 'grow_policy': CategoricalDistribution(choices=('SymmetricTree', 'Depthwise', 'Lossguide')), 'l2_leaf_reg': FloatDistribution(high=100.0, log=True, low=1e-08, step=None), 'learning_rate': FloatDistribution(high=1.0, log=True, low=0.001, step=None), 'od_type': CategoricalDistribution(choices=('IncToDec', 'Iter')), 'od_wait': IntDistribution(high=50, log=False, low=10, step=1), 'random_strength': FloatDistribution(high=10.0, log=True, low=1e-08, step=None)}, trial_id=101, value=None),\n",
       " FrozenTrial(number=41, state=TrialState.COMPLETE, values=[-0.637930286596304], datetime_start=datetime.datetime(2023, 4, 11, 9, 29, 5, 650576), datetime_complete=datetime.datetime(2023, 4, 11, 9, 29, 37, 210061), params={'bootstrap_type': 'Bayesian', 'colsample_bylevel': 0.035782457763539645, 'depth': 12, 'grow_policy': 'Lossguide', 'l2_leaf_reg': 5.856320541755137, 'learning_rate': 0.0010213923766462843, 'od_type': 'Iter', 'od_wait': 46, 'random_strength': 3.651032606216074e-08}, user_attrs={'mean_fit_time': 10.403226375579834, 'mean_score_time': 0.09169896443684895, 'mean_test_score': -0.637930286596304, 'split0_test_score': -0.6371977716269607, 'split1_test_score': -0.6389000252603273, 'split2_test_score': -0.6376930629016243, 'std_fit_time': 0.01804223989529802, 'std_score_time': 0.0005536187674045751, 'std_test_score': 0.0007149000718355044}, system_attrs={}, intermediate_values={}, distributions={'bootstrap_type': CategoricalDistribution(choices=('Bayesian', 'Bernoulli', 'MVS')), 'colsample_bylevel': FloatDistribution(high=0.1, log=True, low=0.01, step=None), 'depth': IntDistribution(high=12, log=False, low=1, step=1), 'grow_policy': CategoricalDistribution(choices=('SymmetricTree', 'Depthwise', 'Lossguide')), 'l2_leaf_reg': FloatDistribution(high=100.0, log=True, low=1e-08, step=None), 'learning_rate': FloatDistribution(high=1.0, log=True, low=0.001, step=None), 'od_type': CategoricalDistribution(choices=('IncToDec', 'Iter')), 'od_wait': IntDistribution(high=50, log=False, low=10, step=1), 'random_strength': FloatDistribution(high=10.0, log=True, low=1e-08, step=None)}, trial_id=102, value=None),\n",
       " FrozenTrial(number=42, state=TrialState.COMPLETE, values=[-0.6010851778904929], datetime_start=datetime.datetime(2023, 4, 11, 9, 29, 37, 230235), datetime_complete=datetime.datetime(2023, 4, 11, 9, 30, 5, 766723), params={'bootstrap_type': 'Bayesian', 'colsample_bylevel': 0.021450510343733305, 'depth': 10, 'grow_policy': 'Lossguide', 'l2_leaf_reg': 29.529333021800507, 'learning_rate': 0.002647349015457663, 'od_type': 'Iter', 'od_wait': 44, 'random_strength': 1.5643942516053942e-07}, user_attrs={'mean_fit_time': 9.396067301432291, 'mean_score_time': 0.09021735191345215, 'mean_test_score': -0.6010851778904929, 'split0_test_score': -0.6007070767388972, 'split1_test_score': -0.6034174375003498, 'split2_test_score': -0.5991310194322318, 'std_fit_time': 0.2873461231513256, 'std_score_time': 0.002967628153992086, 'std_test_score': 0.0017702288598371817}, system_attrs={}, intermediate_values={}, distributions={'bootstrap_type': CategoricalDistribution(choices=('Bayesian', 'Bernoulli', 'MVS')), 'colsample_bylevel': FloatDistribution(high=0.1, log=True, low=0.01, step=None), 'depth': IntDistribution(high=12, log=False, low=1, step=1), 'grow_policy': CategoricalDistribution(choices=('SymmetricTree', 'Depthwise', 'Lossguide')), 'l2_leaf_reg': FloatDistribution(high=100.0, log=True, low=1e-08, step=None), 'learning_rate': FloatDistribution(high=1.0, log=True, low=0.001, step=None), 'od_type': CategoricalDistribution(choices=('IncToDec', 'Iter')), 'od_wait': IntDistribution(high=50, log=False, low=10, step=1), 'random_strength': FloatDistribution(high=10.0, log=True, low=1e-08, step=None)}, trial_id=103, value=None),\n",
       " FrozenTrial(number=43, state=TrialState.COMPLETE, values=[-0.6001175758049757], datetime_start=datetime.datetime(2023, 4, 11, 9, 30, 5, 786108), datetime_complete=datetime.datetime(2023, 4, 11, 9, 30, 35, 599150), params={'bootstrap_type': 'Bayesian', 'colsample_bylevel': 0.027408977524418583, 'depth': 11, 'grow_policy': 'Lossguide', 'l2_leaf_reg': 27.207070823060224, 'learning_rate': 0.0023154494217907324, 'od_type': 'Iter', 'od_wait': 50, 'random_strength': 3.6051490079414415e-08}, user_attrs={'mean_fit_time': 9.819779316584269, 'mean_score_time': 0.09226298332214355, 'mean_test_score': -0.6001175758049757, 'split0_test_score': -0.5983269086086465, 'split1_test_score': -0.6018409850156918, 'split2_test_score': -0.6001848337905887, 'std_fit_time': 0.009066497986048363, 'std_score_time': 0.000313038600785927, 'std_test_score': 0.0014354037703981362}, system_attrs={}, intermediate_values={}, distributions={'bootstrap_type': CategoricalDistribution(choices=('Bayesian', 'Bernoulli', 'MVS')), 'colsample_bylevel': FloatDistribution(high=0.1, log=True, low=0.01, step=None), 'depth': IntDistribution(high=12, log=False, low=1, step=1), 'grow_policy': CategoricalDistribution(choices=('SymmetricTree', 'Depthwise', 'Lossguide')), 'l2_leaf_reg': FloatDistribution(high=100.0, log=True, low=1e-08, step=None), 'learning_rate': FloatDistribution(high=1.0, log=True, low=0.001, step=None), 'od_type': CategoricalDistribution(choices=('IncToDec', 'Iter')), 'od_wait': IntDistribution(high=50, log=False, low=10, step=1), 'random_strength': FloatDistribution(high=10.0, log=True, low=1e-08, step=None)}, trial_id=104, value=None),\n",
       " FrozenTrial(number=44, state=TrialState.COMPLETE, values=[-0.5240706739121755], datetime_start=datetime.datetime(2023, 4, 11, 9, 30, 35, 618435), datetime_complete=datetime.datetime(2023, 4, 11, 9, 31, 3, 159437), params={'bootstrap_type': 'Bayesian', 'colsample_bylevel': 0.01948897437395607, 'depth': 12, 'grow_policy': 'Lossguide', 'l2_leaf_reg': 5.002174826677729, 'learning_rate': 0.006891657657969101, 'od_type': 'Iter', 'od_wait': 43, 'random_strength': 1.5851318617158e-07}, user_attrs={'mean_fit_time': 9.066542069117228, 'mean_score_time': 0.08951401710510254, 'mean_test_score': -0.5240706739121755, 'split0_test_score': -0.5217447835271534, 'split1_test_score': -0.5264068665431302, 'split2_test_score': -0.5240603716662429, 'std_fit_time': 0.4244881065696638, 'std_score_time': 0.00398249258069766, 'std_test_score': 0.0019033013623996086}, system_attrs={}, intermediate_values={}, distributions={'bootstrap_type': CategoricalDistribution(choices=('Bayesian', 'Bernoulli', 'MVS')), 'colsample_bylevel': FloatDistribution(high=0.1, log=True, low=0.01, step=None), 'depth': IntDistribution(high=12, log=False, low=1, step=1), 'grow_policy': CategoricalDistribution(choices=('SymmetricTree', 'Depthwise', 'Lossguide')), 'l2_leaf_reg': FloatDistribution(high=100.0, log=True, low=1e-08, step=None), 'learning_rate': FloatDistribution(high=1.0, log=True, low=0.001, step=None), 'od_type': CategoricalDistribution(choices=('IncToDec', 'Iter')), 'od_wait': IntDistribution(high=50, log=False, low=10, step=1), 'random_strength': FloatDistribution(high=10.0, log=True, low=1e-08, step=None)}, trial_id=105, value=None),\n",
       " FrozenTrial(number=45, state=TrialState.COMPLETE, values=[-0.6309913314710466], datetime_start=datetime.datetime(2023, 4, 11, 9, 31, 3, 179401), datetime_complete=datetime.datetime(2023, 4, 11, 9, 31, 28, 983487), params={'bootstrap_type': 'Bayesian', 'colsample_bylevel': 0.032840100972816665, 'depth': 9, 'grow_policy': 'Lossguide', 'l2_leaf_reg': 96.04399333818702, 'learning_rate': 0.0014113771198625451, 'od_type': 'Iter', 'od_wait': 37, 'random_strength': 4.781392367026316e-08}, user_attrs={'mean_fit_time': 8.497061729431152, 'mean_score_time': 0.0817713737487793, 'mean_test_score': -0.6309913314710466, 'split0_test_score': -0.6301855314425844, 'split1_test_score': -0.6318289591398087, 'split2_test_score': -0.6309595038307467, 'std_fit_time': 0.1929609109827532, 'std_score_time': 0.0017835675074318765, 'std_test_score': 0.0006713039043614244}, system_attrs={}, intermediate_values={}, distributions={'bootstrap_type': CategoricalDistribution(choices=('Bayesian', 'Bernoulli', 'MVS')), 'colsample_bylevel': FloatDistribution(high=0.1, log=True, low=0.01, step=None), 'depth': IntDistribution(high=12, log=False, low=1, step=1), 'grow_policy': CategoricalDistribution(choices=('SymmetricTree', 'Depthwise', 'Lossguide')), 'l2_leaf_reg': FloatDistribution(high=100.0, log=True, low=1e-08, step=None), 'learning_rate': FloatDistribution(high=1.0, log=True, low=0.001, step=None), 'od_type': CategoricalDistribution(choices=('IncToDec', 'Iter')), 'od_wait': IntDistribution(high=50, log=False, low=10, step=1), 'random_strength': FloatDistribution(high=10.0, log=True, low=1e-08, step=None)}, trial_id=106, value=None),\n",
       " FrozenTrial(number=46, state=TrialState.COMPLETE, values=[-0.5613138065387975], datetime_start=datetime.datetime(2023, 4, 11, 9, 31, 28, 999630), datetime_complete=datetime.datetime(2023, 4, 11, 9, 32, 2, 11172), params={'bootstrap_type': 'Bayesian', 'colsample_bylevel': 0.03762290208618164, 'depth': 11, 'grow_policy': 'Lossguide', 'l2_leaf_reg': 11.887255428691468, 'learning_rate': 0.003085480196545107, 'od_type': 'Iter', 'od_wait': 48, 'random_strength': 3.9218789162046094e-07}, user_attrs={'mean_fit_time': 10.86006228129069, 'mean_score_time': 0.1189277172088623, 'mean_test_score': -0.5613138065387975, 'split0_test_score': -0.5581301795334375, 'split1_test_score': -0.5618384677819982, 'split2_test_score': -0.5639727723009569, 'std_fit_time': 3.0068878100419205, 'std_score_time': 0.047238470117639646, 'std_test_score': 0.002413907568909135}, system_attrs={}, intermediate_values={}, distributions={'bootstrap_type': CategoricalDistribution(choices=('Bayesian', 'Bernoulli', 'MVS')), 'colsample_bylevel': FloatDistribution(high=0.1, log=True, low=0.01, step=None), 'depth': IntDistribution(high=12, log=False, low=1, step=1), 'grow_policy': CategoricalDistribution(choices=('SymmetricTree', 'Depthwise', 'Lossguide')), 'l2_leaf_reg': FloatDistribution(high=100.0, log=True, low=1e-08, step=None), 'learning_rate': FloatDistribution(high=1.0, log=True, low=0.001, step=None), 'od_type': CategoricalDistribution(choices=('IncToDec', 'Iter')), 'od_wait': IntDistribution(high=50, log=False, low=10, step=1), 'random_strength': FloatDistribution(high=10.0, log=True, low=1e-08, step=None)}, trial_id=107, value=None),\n",
       " FrozenTrial(number=47, state=TrialState.COMPLETE, values=[-0.6285271232717554], datetime_start=datetime.datetime(2023, 4, 11, 9, 32, 2, 156097), datetime_complete=datetime.datetime(2023, 4, 11, 9, 32, 38, 139209), params={'bootstrap_type': 'Bayesian', 'colsample_bylevel': 0.025962281654393616, 'depth': 10, 'grow_policy': 'Lossguide', 'l2_leaf_reg': 3.117110322644136, 'learning_rate': 0.001445378718916295, 'od_type': 'Iter', 'od_wait': 46, 'random_strength': 1.8350084473424822e-08}, user_attrs={'mean_fit_time': 11.853623390197754, 'mean_score_time': 0.09155758221944173, 'mean_test_score': -0.6285271232717554, 'split0_test_score': -0.627319967717857, 'split1_test_score': -0.6296159307692601, 'split2_test_score': -0.6286454713281492, 'std_fit_time': 5.525582989186107, 'std_score_time': 0.008369059838525185, 'std_test_score': 0.0009410512845363273}, system_attrs={}, intermediate_values={}, distributions={'bootstrap_type': CategoricalDistribution(choices=('Bayesian', 'Bernoulli', 'MVS')), 'colsample_bylevel': FloatDistribution(high=0.1, log=True, low=0.01, step=None), 'depth': IntDistribution(high=12, log=False, low=1, step=1), 'grow_policy': CategoricalDistribution(choices=('SymmetricTree', 'Depthwise', 'Lossguide')), 'l2_leaf_reg': FloatDistribution(high=100.0, log=True, low=1e-08, step=None), 'learning_rate': FloatDistribution(high=1.0, log=True, low=0.001, step=None), 'od_type': CategoricalDistribution(choices=('IncToDec', 'Iter')), 'od_wait': IntDistribution(high=50, log=False, low=10, step=1), 'random_strength': FloatDistribution(high=10.0, log=True, low=1e-08, step=None)}, trial_id=108, value=None),\n",
       " FrozenTrial(number=48, state=TrialState.COMPLETE, values=[-0.4620349586588035], datetime_start=datetime.datetime(2023, 4, 11, 9, 32, 38, 225026), datetime_complete=datetime.datetime(2023, 4, 11, 9, 33, 2, 358188), params={'bootstrap_type': 'Bayesian', 'colsample_bylevel': 0.022407464723715752, 'depth': 12, 'grow_policy': 'Lossguide', 'l2_leaf_reg': 31.044983717874988, 'learning_rate': 0.012633254074805846, 'od_type': 'IncToDec', 'od_wait': 36, 'random_strength': 8.344549394838341e-08}, user_attrs={'mean_fit_time': 7.911995013554891, 'mean_score_time': 0.09573475519816081, 'mean_test_score': -0.4620349586588035, 'split0_test_score': -0.45865463681663615, 'split1_test_score': -0.4647508163041407, 'split2_test_score': -0.4626994228556335, 'std_fit_time': 0.46865172956024975, 'std_score_time': 0.013680251223631172, 'std_test_score': 0.0025327173269855978}, system_attrs={}, intermediate_values={}, distributions={'bootstrap_type': CategoricalDistribution(choices=('Bayesian', 'Bernoulli', 'MVS')), 'colsample_bylevel': FloatDistribution(high=0.1, log=True, low=0.01, step=None), 'depth': IntDistribution(high=12, log=False, low=1, step=1), 'grow_policy': CategoricalDistribution(choices=('SymmetricTree', 'Depthwise', 'Lossguide')), 'l2_leaf_reg': FloatDistribution(high=100.0, log=True, low=1e-08, step=None), 'learning_rate': FloatDistribution(high=1.0, log=True, low=0.001, step=None), 'od_type': CategoricalDistribution(choices=('IncToDec', 'Iter')), 'od_wait': IntDistribution(high=50, log=False, low=10, step=1), 'random_strength': FloatDistribution(high=10.0, log=True, low=1e-08, step=None)}, trial_id=109, value=None),\n",
       " FrozenTrial(number=49, state=TrialState.COMPLETE, values=[-0.6443201696903671], datetime_start=datetime.datetime(2023, 4, 11, 9, 33, 2, 382005), datetime_complete=datetime.datetime(2023, 4, 11, 9, 33, 26, 980781), params={'bootstrap_type': 'Bayesian', 'colsample_bylevel': 0.02803625172407267, 'depth': 11, 'grow_policy': 'Lossguide', 'l2_leaf_reg': 12.60593644178578, 'learning_rate': 0.001014455167431684, 'od_type': 'Iter', 'od_wait': 50, 'random_strength': 7.991256740866713e-08}, user_attrs={'mean_fit_time': 8.065684954325357, 'mean_score_time': 0.0889600118001302, 'mean_test_score': -0.6443201696903671, 'split0_test_score': -0.6442317320470458, 'split1_test_score': -0.6450836156058256, 'split2_test_score': -0.6436451614182299, 'std_fit_time': 0.3680975168646627, 'std_score_time': 0.003659649527848323, 'std_test_score': 0.0005905666911366129}, system_attrs={}, intermediate_values={}, distributions={'bootstrap_type': CategoricalDistribution(choices=('Bayesian', 'Bernoulli', 'MVS')), 'colsample_bylevel': FloatDistribution(high=0.1, log=True, low=0.01, step=None), 'depth': IntDistribution(high=12, log=False, low=1, step=1), 'grow_policy': CategoricalDistribution(choices=('SymmetricTree', 'Depthwise', 'Lossguide')), 'l2_leaf_reg': FloatDistribution(high=100.0, log=True, low=1e-08, step=None), 'learning_rate': FloatDistribution(high=1.0, log=True, low=0.001, step=None), 'od_type': CategoricalDistribution(choices=('IncToDec', 'Iter')), 'od_wait': IntDistribution(high=50, log=False, low=10, step=1), 'random_strength': FloatDistribution(high=10.0, log=True, low=1e-08, step=None)}, trial_id=110, value=None),\n",
       " FrozenTrial(number=50, state=TrialState.COMPLETE, values=[-0.6424540164227551], datetime_start=datetime.datetime(2023, 4, 11, 9, 33, 27, 5724), datetime_complete=datetime.datetime(2023, 4, 11, 9, 33, 49, 182944), params={'bootstrap_type': 'Bayesian', 'colsample_bylevel': 0.01934472790160018, 'depth': 10, 'grow_policy': 'Lossguide', 'l2_leaf_reg': 33.79907056461914, 'learning_rate': 0.001370253812919058, 'od_type': 'Iter', 'od_wait': 50, 'random_strength': 1.0136472747487416e-08}, user_attrs={'mean_fit_time': 7.263122002283732, 'mean_score_time': 0.09232894579569499, 'mean_test_score': -0.6424540164227551, 'split0_test_score': -0.642037827166522, 'split1_test_score': -0.643306052289151, 'split2_test_score': -0.6420181698125925, 'std_fit_time': 0.11394325854210507, 'std_score_time': 0.00489566548885587, 'std_test_score': 0.0006025337838990595}, system_attrs={}, intermediate_values={}, distributions={'bootstrap_type': CategoricalDistribution(choices=('Bayesian', 'Bernoulli', 'MVS')), 'colsample_bylevel': FloatDistribution(high=0.1, log=True, low=0.01, step=None), 'depth': IntDistribution(high=12, log=False, low=1, step=1), 'grow_policy': CategoricalDistribution(choices=('SymmetricTree', 'Depthwise', 'Lossguide')), 'l2_leaf_reg': FloatDistribution(high=100.0, log=True, low=1e-08, step=None), 'learning_rate': FloatDistribution(high=1.0, log=True, low=0.001, step=None), 'od_type': CategoricalDistribution(choices=('IncToDec', 'Iter')), 'od_wait': IntDistribution(high=50, log=False, low=10, step=1), 'random_strength': FloatDistribution(high=10.0, log=True, low=1e-08, step=None)}, trial_id=111, value=None),\n",
       " FrozenTrial(number=51, state=TrialState.COMPLETE, values=[-0.6712209756526497], datetime_start=datetime.datetime(2023, 4, 11, 9, 33, 49, 250222), datetime_complete=datetime.datetime(2023, 4, 11, 9, 33, 52, 217701), params={'bootstrap_type': 'Bernoulli', 'colsample_bylevel': 0.028973094844353432, 'depth': 1, 'grow_policy': 'Lossguide', 'l2_leaf_reg': 12.073217464634608, 'learning_rate': 0.0022227934409068616, 'od_type': 'Iter', 'od_wait': 47, 'random_strength': 1.5972104729924559e-07}, user_attrs={'mean_fit_time': 0.8662037054697672, 'mean_score_time': 0.08083033561706543, 'mean_test_score': -0.6712209756526497, 'split0_test_score': -0.6709176732220731, 'split1_test_score': -0.6719028171384814, 'split2_test_score': -0.6708424365973946, 'std_fit_time': 0.009615377084139771, 'std_score_time': 0.0013167463487560238, 'std_test_score': 0.00048311213072064476}, system_attrs={}, intermediate_values={}, distributions={'bootstrap_type': CategoricalDistribution(choices=('Bayesian', 'Bernoulli', 'MVS')), 'colsample_bylevel': FloatDistribution(high=0.1, log=True, low=0.01, step=None), 'depth': IntDistribution(high=12, log=False, low=1, step=1), 'grow_policy': CategoricalDistribution(choices=('SymmetricTree', 'Depthwise', 'Lossguide')), 'l2_leaf_reg': FloatDistribution(high=100.0, log=True, low=1e-08, step=None), 'learning_rate': FloatDistribution(high=1.0, log=True, low=0.001, step=None), 'od_type': CategoricalDistribution(choices=('IncToDec', 'Iter')), 'od_wait': IntDistribution(high=50, log=False, low=10, step=1), 'random_strength': FloatDistribution(high=10.0, log=True, low=1e-08, step=None)}, trial_id=112, value=None),\n",
       " FrozenTrial(number=52, state=TrialState.COMPLETE, values=[-0.6285262834764925], datetime_start=datetime.datetime(2023, 4, 11, 9, 33, 52, 235987), datetime_complete=datetime.datetime(2023, 4, 11, 9, 34, 16, 768133), params={'bootstrap_type': 'Bayesian', 'colsample_bylevel': 0.024486993734722684, 'depth': 11, 'grow_policy': 'Lossguide', 'l2_leaf_reg': 2.492772756642062, 'learning_rate': 0.0014882559353994662, 'od_type': 'Iter', 'od_wait': 48, 'random_strength': 2.691079074925587e-08}, user_attrs={'mean_fit_time': 8.049237251281738, 'mean_score_time': 0.09086370468139648, 'mean_test_score': -0.6285262834764925, 'split0_test_score': -0.6283898277065034, 'split1_test_score': -0.6292255344110116, 'split2_test_score': -0.6279634883119628, 'std_fit_time': 0.23699986877767448, 'std_score_time': 0.004887902539995975, 'std_test_score': 0.0005241852229276529}, system_attrs={}, intermediate_values={}, distributions={'bootstrap_type': CategoricalDistribution(choices=('Bayesian', 'Bernoulli', 'MVS')), 'colsample_bylevel': FloatDistribution(high=0.1, log=True, low=0.01, step=None), 'depth': IntDistribution(high=12, log=False, low=1, step=1), 'grow_policy': CategoricalDistribution(choices=('SymmetricTree', 'Depthwise', 'Lossguide')), 'l2_leaf_reg': FloatDistribution(high=100.0, log=True, low=1e-08, step=None), 'learning_rate': FloatDistribution(high=1.0, log=True, low=0.001, step=None), 'od_type': CategoricalDistribution(choices=('IncToDec', 'Iter')), 'od_wait': IntDistribution(high=50, log=False, low=10, step=1), 'random_strength': FloatDistribution(high=10.0, log=True, low=1e-08, step=None)}, trial_id=113, value=None),\n",
       " FrozenTrial(number=53, state=TrialState.COMPLETE, values=[-0.6025750474834582], datetime_start=datetime.datetime(2023, 4, 11, 9, 34, 17, 356781), datetime_complete=datetime.datetime(2023, 4, 11, 9, 34, 43, 607920), params={'bootstrap_type': 'Bayesian', 'colsample_bylevel': 0.03316586962544064, 'depth': 12, 'grow_policy': 'Lossguide', 'l2_leaf_reg': 45.33209742291283, 'learning_rate': 0.0020819319389645537, 'od_type': 'Iter', 'od_wait': 32, 'random_strength': 8.86738711061498e-08}, user_attrs={'mean_fit_time': 8.619324922561646, 'mean_score_time': 0.09227911631266277, 'mean_test_score': -0.6025750474834582, 'split0_test_score': -0.601884364893492, 'split1_test_score': -0.6042270208156925, 'split2_test_score': -0.60161375674119, 'std_fit_time': 0.07249186571931543, 'std_score_time': 0.005640552195815585, 'std_test_score': 0.0011733340276985926}, system_attrs={}, intermediate_values={}, distributions={'bootstrap_type': CategoricalDistribution(choices=('Bayesian', 'Bernoulli', 'MVS')), 'colsample_bylevel': FloatDistribution(high=0.1, log=True, low=0.01, step=None), 'depth': IntDistribution(high=12, log=False, low=1, step=1), 'grow_policy': CategoricalDistribution(choices=('SymmetricTree', 'Depthwise', 'Lossguide')), 'l2_leaf_reg': FloatDistribution(high=100.0, log=True, low=1e-08, step=None), 'learning_rate': FloatDistribution(high=1.0, log=True, low=0.001, step=None), 'od_type': CategoricalDistribution(choices=('IncToDec', 'Iter')), 'od_wait': IntDistribution(high=50, log=False, low=10, step=1), 'random_strength': FloatDistribution(high=10.0, log=True, low=1e-08, step=None)}, trial_id=114, value=None),\n",
       " FrozenTrial(number=54, state=TrialState.COMPLETE, values=[-0.6199078035526718], datetime_start=datetime.datetime(2023, 4, 11, 9, 34, 43, 639661), datetime_complete=datetime.datetime(2023, 4, 11, 9, 35, 9, 635305), params={'bootstrap_type': 'Bayesian', 'colsample_bylevel': 0.039182622179725755, 'depth': 10, 'grow_policy': 'Lossguide', 'l2_leaf_reg': 8.107144546455675, 'learning_rate': 0.0013669845831904125, 'od_type': 'IncToDec', 'od_wait': 42, 'random_strength': 7.800544708277526e-07}, user_attrs={'mean_fit_time': 8.552223920822144, 'mean_score_time': 0.08574795722961426, 'mean_test_score': -0.6199078035526718, 'split0_test_score': -0.6184361594791382, 'split1_test_score': -0.620662838990083, 'split2_test_score': -0.6206244121887942, 'std_fit_time': 0.2648487553873186, 'std_score_time': 0.0020736130039523256, 'std_test_score': 0.0010407277467039452}, system_attrs={}, intermediate_values={}, distributions={'bootstrap_type': CategoricalDistribution(choices=('Bayesian', 'Bernoulli', 'MVS')), 'colsample_bylevel': FloatDistribution(high=0.1, log=True, low=0.01, step=None), 'depth': IntDistribution(high=12, log=False, low=1, step=1), 'grow_policy': CategoricalDistribution(choices=('SymmetricTree', 'Depthwise', 'Lossguide')), 'l2_leaf_reg': FloatDistribution(high=100.0, log=True, low=1e-08, step=None), 'learning_rate': FloatDistribution(high=1.0, log=True, low=0.001, step=None), 'od_type': CategoricalDistribution(choices=('IncToDec', 'Iter')), 'od_wait': IntDistribution(high=50, log=False, low=10, step=1), 'random_strength': FloatDistribution(high=10.0, log=True, low=1e-08, step=None)}, trial_id=115, value=None),\n",
       " FrozenTrial(number=55, state=TrialState.COMPLETE, values=[-0.5669410529518556], datetime_start=datetime.datetime(2023, 4, 11, 9, 35, 9, 657121), datetime_complete=datetime.datetime(2023, 4, 11, 9, 35, 36, 482325), params={'bootstrap_type': 'Bernoulli', 'colsample_bylevel': 0.027209061157818678, 'depth': 9, 'grow_policy': 'Lossguide', 'l2_leaf_reg': 32.571024150142975, 'learning_rate': 0.0033293698480638652, 'od_type': 'Iter', 'od_wait': 45, 'random_strength': 2.8413150280960987e-08}, user_attrs={'mean_fit_time': 8.8265913327535, 'mean_score_time': 0.09174998601277669, 'mean_test_score': -0.5669410529518556, 'split0_test_score': -0.5624612274917014, 'split1_test_score': -0.5695409029085929, 'split2_test_score': -0.5688210284552726, 'std_fit_time': 0.74288324249508, 'std_score_time': 0.0012036798400034826, 'std_test_score': 0.0031813185863957603}, system_attrs={}, intermediate_values={}, distributions={'bootstrap_type': CategoricalDistribution(choices=('Bayesian', 'Bernoulli', 'MVS')), 'colsample_bylevel': FloatDistribution(high=0.1, log=True, low=0.01, step=None), 'depth': IntDistribution(high=12, log=False, low=1, step=1), 'grow_policy': CategoricalDistribution(choices=('SymmetricTree', 'Depthwise', 'Lossguide')), 'l2_leaf_reg': FloatDistribution(high=100.0, log=True, low=1e-08, step=None), 'learning_rate': FloatDistribution(high=1.0, log=True, low=0.001, step=None), 'od_type': CategoricalDistribution(choices=('IncToDec', 'Iter')), 'od_wait': IntDistribution(high=50, log=False, low=10, step=1), 'random_strength': FloatDistribution(high=10.0, log=True, low=1e-08, step=None)}, trial_id=116, value=None),\n",
       " FrozenTrial(number=56, state=TrialState.COMPLETE, values=[-0.4271223320841751], datetime_start=datetime.datetime(2023, 4, 11, 9, 35, 36, 502038), datetime_complete=datetime.datetime(2023, 4, 11, 9, 36, 4, 452897), params={'bootstrap_type': 'Bayesian', 'colsample_bylevel': 0.02268849283921295, 'depth': 10, 'grow_policy': 'Lossguide', 'l2_leaf_reg': 9.393690785460196, 'learning_rate': 0.016433998471879978, 'od_type': 'Iter', 'od_wait': 48, 'random_strength': 2.5855076581897606e-07}, user_attrs={'mean_fit_time': 9.20357871055603, 'mean_score_time': 0.09006921450297038, 'mean_test_score': -0.4271223320841751, 'split0_test_score': -0.4230231540605513, 'split1_test_score': -0.43274384939937083, 'split2_test_score': -0.42559999279260335, 'std_fit_time': 0.06273671764041726, 'std_score_time': 0.0037625660290775734, 'std_test_score': 0.0041118622834051275}, system_attrs={}, intermediate_values={}, distributions={'bootstrap_type': CategoricalDistribution(choices=('Bayesian', 'Bernoulli', 'MVS')), 'colsample_bylevel': FloatDistribution(high=0.1, log=True, low=0.01, step=None), 'depth': IntDistribution(high=12, log=False, low=1, step=1), 'grow_policy': CategoricalDistribution(choices=('SymmetricTree', 'Depthwise', 'Lossguide')), 'l2_leaf_reg': FloatDistribution(high=100.0, log=True, low=1e-08, step=None), 'learning_rate': FloatDistribution(high=1.0, log=True, low=0.001, step=None), 'od_type': CategoricalDistribution(choices=('IncToDec', 'Iter')), 'od_wait': IntDistribution(high=50, log=False, low=10, step=1), 'random_strength': FloatDistribution(high=10.0, log=True, low=1e-08, step=None)}, trial_id=117, value=None),\n",
       " FrozenTrial(number=57, state=TrialState.COMPLETE, values=[-0.5716107138416362], datetime_start=datetime.datetime(2023, 4, 11, 9, 36, 4, 470145), datetime_complete=datetime.datetime(2023, 4, 11, 9, 36, 35, 93771), params={'bootstrap_type': 'Bayesian', 'colsample_bylevel': 0.030984279213829395, 'depth': 11, 'grow_policy': 'Lossguide', 'l2_leaf_reg': 98.92411394882376, 'learning_rate': 0.003580102242672655, 'od_type': 'IncToDec', 'od_wait': 50, 'random_strength': 1.8237032934954446e-06}, user_attrs={'mean_fit_time': 10.090358336766561, 'mean_score_time': 0.09357357025146484, 'mean_test_score': -0.5716107138416362, 'split0_test_score': -0.5698057533292419, 'split1_test_score': -0.5737364376054657, 'split2_test_score': -0.5712899505902009, 'std_fit_time': 0.08590656884292948, 'std_score_time': 0.0002747422852339649, 'std_test_score': 0.0016206452454586714}, system_attrs={}, intermediate_values={}, distributions={'bootstrap_type': CategoricalDistribution(choices=('Bayesian', 'Bernoulli', 'MVS')), 'colsample_bylevel': FloatDistribution(high=0.1, log=True, low=0.01, step=None), 'depth': IntDistribution(high=12, log=False, low=1, step=1), 'grow_policy': CategoricalDistribution(choices=('SymmetricTree', 'Depthwise', 'Lossguide')), 'l2_leaf_reg': FloatDistribution(high=100.0, log=True, low=1e-08, step=None), 'learning_rate': FloatDistribution(high=1.0, log=True, low=0.001, step=None), 'od_type': CategoricalDistribution(choices=('IncToDec', 'Iter')), 'od_wait': IntDistribution(high=50, log=False, low=10, step=1), 'random_strength': FloatDistribution(high=10.0, log=True, low=1e-08, step=None)}, trial_id=118, value=None),\n",
       " FrozenTrial(number=58, state=TrialState.COMPLETE, values=[-0.6441049458705317], datetime_start=datetime.datetime(2023, 4, 11, 9, 36, 35, 111225), datetime_complete=datetime.datetime(2023, 4, 11, 9, 36, 59, 419198), params={'bootstrap_type': 'Bayesian', 'colsample_bylevel': 0.018229022536633683, 'depth': 10, 'grow_policy': 'Lossguide', 'l2_leaf_reg': 2.315414653533972, 'learning_rate': 0.0012847232065872172, 'od_type': 'Iter', 'od_wait': 46, 'random_strength': 7.652287494347732e-08}, user_attrs={'mean_fit_time': 7.993922630945842, 'mean_score_time': 0.08522248268127441, 'mean_test_score': -0.6441049458705317, 'split0_test_score': -0.6436755554982462, 'split1_test_score': -0.6444749105771329, 'split2_test_score': -0.6441643715362159, 'std_fit_time': 0.47883082426643997, 'std_score_time': 0.0041118914602510616, 'std_test_score': 0.00032902957601813683}, system_attrs={}, intermediate_values={}, distributions={'bootstrap_type': CategoricalDistribution(choices=('Bayesian', 'Bernoulli', 'MVS')), 'colsample_bylevel': FloatDistribution(high=0.1, log=True, low=0.01, step=None), 'depth': IntDistribution(high=12, log=False, low=1, step=1), 'grow_policy': CategoricalDistribution(choices=('SymmetricTree', 'Depthwise', 'Lossguide')), 'l2_leaf_reg': FloatDistribution(high=100.0, log=True, low=1e-08, step=None), 'learning_rate': FloatDistribution(high=1.0, log=True, low=0.001, step=None), 'od_type': CategoricalDistribution(choices=('IncToDec', 'Iter')), 'od_wait': IntDistribution(high=50, log=False, low=10, step=1), 'random_strength': FloatDistribution(high=10.0, log=True, low=1e-08, step=None)}, trial_id=119, value=None)]"
      ]
     },
     "execution_count": 19,
     "metadata": {},
     "output_type": "execute_result"
    }
   ],
   "source": [
    "[t for t in study.trials if t.number > num_trials - num_trials_to_keep]"
   ]
  },
  {
   "cell_type": "code",
   "execution_count": 33,
   "id": "8bbe8ca3",
   "metadata": {},
   "outputs": [
    {
     "name": "stderr",
     "output_type": "stream",
     "text": [
      "\u001b[32m[I 2023-04-13 21:36:02,429]\u001b[0m A new study created in RDB with name: Test10\u001b[0m\n"
     ]
    },
    {
     "name": "stdout",
     "output_type": "stream",
     "text": [
      "A new study created in RDB with name: Test10\n"
     ]
    }
   ],
   "source": [
    "from optuna.trial import TrialState\n",
    "\n",
    "num_trials = study.trials[-1].number\n",
    "num_trials_to_keep = 20\n",
    "\n",
    "trials_to_keep = [\n",
    "    optuna.trial.create_trial(\n",
    "        state=TrialState.COMPLETE,\n",
    "        params=t.params,\n",
    "        user_attrs=t.user_attrs,\n",
    "        system_attrs=t.system_attrs,\n",
    "        intermediate_values=t.intermediate_values,\n",
    "        distributions=t.distributions,\n",
    "        value=t.value\n",
    "    ) for t in study.trials if t.number > num_trials - num_trials_to_keep]\n",
    "\n",
    "# Delete study before recreating\n",
    "optuna.delete_study(study_name=study_name, storage=storage_name)\n",
    "\n",
    "new_study = optuna.create_study(\n",
    "    pruner=optuna.pruners.MedianPruner(n_warmup_steps=5), \n",
    "    direction=\"minimize\",\n",
    "    study_name=study_name, \n",
    "    storage=storage_name,\n",
    "    load_if_exists=True)\n",
    "new_study.add_trials(trials_to_keep)"
   ]
  },
  {
   "cell_type": "code",
   "execution_count": 34,
   "id": "f6abc75b",
   "metadata": {},
   "outputs": [
    {
     "name": "stderr",
     "output_type": "stream",
     "text": [
      "\u001b[32m[I 2023-04-13 21:36:19,260]\u001b[0m Using an existing study with name 'Test10' instead of creating a new one.\u001b[0m\n"
     ]
    },
    {
     "name": "stdout",
     "output_type": "stream",
     "text": [
      "Using an existing study with name 'Test10' instead of creating a new one.\n"
     ]
    }
   ],
   "source": [
    "study = optuna.create_study(\n",
    "    pruner=optuna.pruners.MedianPruner(n_warmup_steps=5), \n",
    "    direction=\"minimize\",\n",
    "    study_name=study_name, \n",
    "    storage=storage_name,\n",
    "    load_if_exists=True\n",
    "    )"
   ]
  },
  {
   "cell_type": "code",
   "execution_count": 37,
   "id": "f376b7c8",
   "metadata": {},
   "outputs": [
    {
     "data": {
      "text/plain": [
       "20"
      ]
     },
     "execution_count": 37,
     "metadata": {},
     "output_type": "execute_result"
    }
   ],
   "source": [
    "len(study.trials)"
   ]
  },
  {
   "cell_type": "code",
   "execution_count": null,
   "id": "e2143365",
   "metadata": {},
   "outputs": [],
   "source": [
    "study."
   ]
  }
 ],
 "metadata": {
  "kernelspec": {
   "display_name": ".env",
   "language": "python",
   "name": ".env"
  },
  "language_info": {
   "codemirror_mode": {
    "name": "ipython",
    "version": 3
   },
   "file_extension": ".py",
   "mimetype": "text/x-python",
   "name": "python",
   "nbconvert_exporter": "python",
   "pygments_lexer": "ipython3",
   "version": "3.10.9"
  }
 },
 "nbformat": 4,
 "nbformat_minor": 5
}
