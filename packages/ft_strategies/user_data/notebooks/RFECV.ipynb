{
 "cells": [
  {
   "cell_type": "code",
   "execution_count": 1,
   "id": "c22f9ce0",
   "metadata": {},
   "outputs": [],
   "source": [
    "import pandas as pd\n",
    "import numpy as np\n",
    "import tscv"
   ]
  },
  {
   "cell_type": "code",
   "execution_count": 4,
   "id": "68b35330",
   "metadata": {},
   "outputs": [],
   "source": [
    "from sklearn.datasets import make_classification\n",
    "\n",
    "X, y = make_classification(\n",
    "    n_samples=2000,\n",
    "    n_features=300,\n",
    "    n_informative=50,\n",
    "    n_redundant=100,\n",
    "    n_repeated=3,\n",
    "    n_classes=2,\n",
    "    n_clusters_per_class=1,\n",
    "    class_sep=0.8,\n",
    "    random_state=0,\n",
    ")"
   ]
  },
  {
   "cell_type": "code",
   "execution_count": 21,
   "id": "f1f26a52",
   "metadata": {},
   "outputs": [
    {
     "data": {
      "text/plain": [
       "array([[-3.25881317e+01,  1.70874235e+01, -1.29391499e+01, ...,\n",
       "        -8.51258792e-01, -1.53178446e+00, -1.50698396e-01],\n",
       "       [-1.03656424e+01,  4.33730298e+00,  2.42950813e+00, ...,\n",
       "        -1.15984265e+00, -2.33711722e+00, -2.14649610e+00],\n",
       "       [ 1.08179340e+01,  1.63839904e+00, -1.08745900e+01, ...,\n",
       "         6.16342485e-01,  4.74399400e-01, -2.22337845e-01],\n",
       "       ...,\n",
       "       [ 3.84771904e+00, -1.14674294e+00,  2.73913170e+01, ...,\n",
       "         2.75171720e-01,  1.30260629e+00, -2.19881855e-01],\n",
       "       [ 8.76114760e+00, -7.45586087e+00,  2.30390429e+01, ...,\n",
       "        -1.25665604e-01,  1.68971976e-02, -1.68873449e+00],\n",
       "       [ 2.43241546e+00, -1.84056652e+01, -4.06367385e+01, ...,\n",
       "        -4.14220196e-01, -3.28572357e-01, -8.74997555e-01]])"
      ]
     },
     "execution_count": 21,
     "metadata": {},
     "output_type": "execute_result"
    }
   ],
   "source": [
    "X"
   ]
  },
  {
   "cell_type": "code",
   "execution_count": 7,
   "id": "fe032d22",
   "metadata": {},
   "outputs": [],
   "source": [
    "from sklearn.feature_selection import RFECV\n",
    "from sklearn.model_selection import StratifiedKFold, TimeSeriesSplit\n",
    "from catboost import CatBoostClassifier\n",
    "\n",
    "min_features_to_select = 100\n",
    "clf = CatBoostClassifier(verbose=0)\n",
    "cv = tscv.GapKFold(n_splits=5, gap_before=200, gap_after=200)\n",
    "\n",
    "rfecv = RFECV(\n",
    "    estimator=clf,\n",
    "    step=0.25,\n",
    "    cv=cv,\n",
    "    scoring=\"neg_log_loss\",\n",
    "    verbose=100,\n",
    "    min_features_to_select=min_features_to_select\n",
    ")"
   ]
  },
  {
   "cell_type": "code",
   "execution_count": 17,
   "id": "dc3ad9c2",
   "metadata": {},
   "outputs": [],
   "source": [
    "weight_train = np.random.random(len(y))\n",
    "weight_train\n",
    "\n",
    "fit_params = {\"sample_weight\": weight_train}"
   ]
  },
  {
   "cell_type": "code",
   "execution_count": 20,
   "id": "4138ab33",
   "metadata": {},
   "outputs": [
    {
     "ename": "TypeError",
     "evalue": "RFECV.fit() got an unexpected keyword argument 'sample_weight'",
     "output_type": "error",
     "traceback": [
      "\u001b[0;31m---------------------------------------------------------------------------\u001b[0m",
      "\u001b[0;31mTypeError\u001b[0m                                 Traceback (most recent call last)",
      "Cell \u001b[0;32mIn[20], line 1\u001b[0m\n\u001b[0;32m----> 1\u001b[0m \u001b[43mrfecv\u001b[49m\u001b[38;5;241;43m.\u001b[39;49m\u001b[43mfit_transform\u001b[49m\u001b[43m(\u001b[49m\u001b[43mX\u001b[49m\u001b[43m,\u001b[49m\u001b[43m \u001b[49m\u001b[43my\u001b[49m\u001b[43m,\u001b[49m\u001b[43m \u001b[49m\u001b[38;5;241;43m*\u001b[39;49m\u001b[38;5;241;43m*\u001b[39;49m\u001b[43mfit_params\u001b[49m\u001b[43m)\u001b[49m\n",
      "File \u001b[0;32m~/Dev/litmus/.env/lib/python3.10/site-packages/sklearn/base.py:870\u001b[0m, in \u001b[0;36mTransformerMixin.fit_transform\u001b[0;34m(self, X, y, **fit_params)\u001b[0m\n\u001b[1;32m    867\u001b[0m     \u001b[38;5;28;01mreturn\u001b[39;00m \u001b[38;5;28mself\u001b[39m\u001b[38;5;241m.\u001b[39mfit(X, \u001b[38;5;241m*\u001b[39m\u001b[38;5;241m*\u001b[39mfit_params)\u001b[38;5;241m.\u001b[39mtransform(X)\n\u001b[1;32m    868\u001b[0m \u001b[38;5;28;01melse\u001b[39;00m:\n\u001b[1;32m    869\u001b[0m     \u001b[38;5;66;03m# fit method of arity 2 (supervised transformation)\u001b[39;00m\n\u001b[0;32m--> 870\u001b[0m     \u001b[38;5;28;01mreturn\u001b[39;00m \u001b[38;5;28;43mself\u001b[39;49m\u001b[38;5;241;43m.\u001b[39;49m\u001b[43mfit\u001b[49m\u001b[43m(\u001b[49m\u001b[43mX\u001b[49m\u001b[43m,\u001b[49m\u001b[43m \u001b[49m\u001b[43my\u001b[49m\u001b[43m,\u001b[49m\u001b[43m \u001b[49m\u001b[38;5;241;43m*\u001b[39;49m\u001b[38;5;241;43m*\u001b[39;49m\u001b[43mfit_params\u001b[49m\u001b[43m)\u001b[49m\u001b[38;5;241m.\u001b[39mtransform(X)\n",
      "\u001b[0;31mTypeError\u001b[0m: RFECV.fit() got an unexpected keyword argument 'sample_weight'"
     ]
    }
   ],
   "source": [
    "rfecv.fit_transform(X, y, **fit_params)"
   ]
  },
  {
   "cell_type": "code",
   "execution_count": 23,
   "id": "75655f24",
   "metadata": {},
   "outputs": [
    {
     "data": {
      "text/plain": [
       "array([ True, False,  True, False, False,  True, False, False, False,\n",
       "        True,  True,  True,  True, False,  True,  True, False, False,\n",
       "       False, False, False,  True,  True, False, False, False, False,\n",
       "       False, False, False, False, False,  True,  True,  True, False,\n",
       "        True, False, False, False, False,  True, False, False, False,\n",
       "        True, False, False, False,  True, False, False, False, False,\n",
       "       False, False, False,  True,  True,  True,  True, False,  True,\n",
       "        True, False, False, False, False, False,  True,  True, False,\n",
       "        True,  True, False, False, False, False, False,  True, False,\n",
       "        True, False,  True, False, False, False, False, False, False,\n",
       "        True, False, False,  True,  True,  True, False, False,  True,\n",
       "       False, False,  True, False,  True, False, False,  True, False,\n",
       "        True, False,  True,  True,  True, False, False, False,  True,\n",
       "       False, False,  True, False,  True, False, False, False, False,\n",
       "       False,  True,  True, False, False, False, False,  True, False,\n",
       "        True,  True, False, False,  True,  True,  True,  True, False,\n",
       "        True,  True, False,  True, False, False,  True,  True, False,\n",
       "       False, False, False, False, False, False, False, False,  True,\n",
       "       False,  True,  True, False, False,  True, False,  True,  True,\n",
       "        True, False, False,  True, False, False,  True,  True,  True,\n",
       "        True,  True,  True, False,  True, False, False,  True,  True,\n",
       "        True,  True,  True, False, False, False,  True, False, False,\n",
       "       False, False,  True, False,  True,  True, False, False,  True,\n",
       "        True, False,  True, False,  True, False, False, False,  True,\n",
       "       False, False, False,  True,  True, False, False,  True, False,\n",
       "        True,  True,  True, False,  True, False, False, False,  True,\n",
       "       False, False, False, False, False,  True, False, False,  True,\n",
       "        True, False, False,  True, False, False,  True, False,  True,\n",
       "        True, False, False,  True, False, False, False,  True, False,\n",
       "       False, False,  True, False, False,  True,  True, False,  True,\n",
       "        True,  True, False, False,  True, False, False, False, False,\n",
       "        True, False,  True, False, False, False, False,  True,  True,\n",
       "       False, False, False, False, False, False,  True,  True,  True,\n",
       "       False, False, False])"
      ]
     },
     "execution_count": 23,
     "metadata": {},
     "output_type": "execute_result"
    }
   ],
   "source": [
    "rfecv.get_support()"
   ]
  },
  {
   "cell_type": "code",
   "execution_count": 14,
   "id": "c844bd3a",
   "metadata": {},
   "outputs": [
    {
     "data": {
      "text/plain": [
       "array(['x0', 'x2', 'x5', 'x9', 'x10', 'x11', 'x12', 'x14', 'x15', 'x21',\n",
       "       'x22', 'x32', 'x33', 'x34', 'x36', 'x41', 'x45', 'x49', 'x57',\n",
       "       'x58', 'x59', 'x60', 'x62', 'x63', 'x69', 'x70', 'x72', 'x73',\n",
       "       'x79', 'x81', 'x83', 'x90', 'x93', 'x94', 'x95', 'x98', 'x101',\n",
       "       'x103', 'x106', 'x108', 'x110', 'x111', 'x112', 'x116', 'x119',\n",
       "       'x121', 'x127', 'x128', 'x133', 'x135', 'x136', 'x139', 'x140',\n",
       "       'x141', 'x142', 'x144', 'x145', 'x147', 'x150', 'x151', 'x161',\n",
       "       'x163', 'x164', 'x167', 'x169', 'x170', 'x171', 'x174', 'x177',\n",
       "       'x178', 'x179', 'x180', 'x181', 'x182', 'x184', 'x187', 'x188',\n",
       "       'x189', 'x190', 'x191', 'x195', 'x200', 'x202', 'x203', 'x206',\n",
       "       'x207', 'x209', 'x211', 'x215', 'x219', 'x220', 'x223', 'x225',\n",
       "       'x226', 'x227', 'x229', 'x233', 'x239', 'x242', 'x243', 'x246',\n",
       "       'x249', 'x251', 'x252', 'x255', 'x259', 'x263', 'x266', 'x267',\n",
       "       'x269', 'x270', 'x271', 'x274', 'x279', 'x281', 'x286', 'x287',\n",
       "       'x294', 'x295', 'x296'], dtype=object)"
      ]
     },
     "execution_count": 14,
     "metadata": {},
     "output_type": "execute_result"
    }
   ],
   "source": [
    "rfecv.get_feature_names_out()"
   ]
  },
  {
   "cell_type": "code",
   "execution_count": 11,
   "id": "9c182399",
   "metadata": {},
   "outputs": [
    {
     "data": {
      "text/plain": [
       "{'mean_test_score': array([-0.16224116, -0.15948638, -0.16098204, -0.1636009 , -0.16551487,\n",
       "        -0.16821978, -0.16792307, -0.16971655]),\n",
       " 'std_test_score': array([0.01651491, 0.0161541 , 0.01583374, 0.01776252, 0.01885396,\n",
       "        0.01680881, 0.01635067, 0.01737918]),\n",
       " 'split0_test_score': array([-0.13832247, -0.13465514, -0.13727295, -0.13362952, -0.13685932,\n",
       "        -0.14129542, -0.1418756 , -0.14068121]),\n",
       " 'split1_test_score': array([-0.15829394, -0.15736918, -0.15829914, -0.16324372, -0.16181221,\n",
       "        -0.16529728, -0.1683796 , -0.1705429 ]),\n",
       " 'split2_test_score': array([-0.18602491, -0.18141887, -0.182056  , -0.18471007, -0.18982308,\n",
       "        -0.19099321, -0.19054984, -0.19278182]),\n",
       " 'split3_test_score': array([-0.15423169, -0.15224533, -0.15301172, -0.15843744, -0.15690623,\n",
       "        -0.16352325, -0.16098853, -0.16450349]),\n",
       " 'split4_test_score': array([-0.17433281, -0.17174341, -0.17427039, -0.17798374, -0.18217352,\n",
       "        -0.17998975, -0.17782177, -0.18007336])}"
      ]
     },
     "execution_count": 11,
     "metadata": {},
     "output_type": "execute_result"
    }
   ],
   "source": [
    "rfecv.cv_results_"
   ]
  },
  {
   "cell_type": "code",
   "execution_count": 12,
   "id": "e8610797",
   "metadata": {},
   "outputs": [
    {
     "data": {
      "text/plain": [
       "array([1, 2, 1, 6, 4, 1, 3, 7, 3, 1, 1, 1, 1, 2, 1, 1, 3, 2, 4, 7, 5, 1,\n",
       "       1, 4, 2, 5, 3, 7, 4, 3, 6, 7, 1, 1, 1, 5, 1, 6, 4, 7, 5, 1, 6, 2,\n",
       "       2, 1, 2, 6, 3, 1, 4, 3, 4, 3, 5, 4, 7, 1, 1, 1, 1, 3, 1, 1, 5, 2,\n",
       "       5, 7, 3, 1, 1, 2, 1, 1, 3, 5, 6, 7, 6, 1, 7, 1, 2, 1, 4, 2, 2, 4,\n",
       "       2, 6, 1, 4, 6, 1, 1, 1, 6, 3, 1, 4, 7, 1, 3, 1, 3, 5, 1, 5, 1, 6,\n",
       "       1, 1, 1, 2, 4, 4, 1, 2, 3, 1, 6, 1, 2, 5, 2, 4, 5, 1, 1, 4, 7, 7,\n",
       "       2, 1, 7, 1, 1, 2, 6, 1, 1, 1, 1, 3, 1, 1, 7, 1, 2, 4, 1, 1, 3, 5,\n",
       "       5, 4, 7, 7, 2, 2, 7, 1, 6, 1, 1, 6, 3, 1, 7, 1, 1, 1, 5, 5, 1, 7,\n",
       "       2, 1, 1, 1, 1, 1, 1, 3, 1, 7, 3, 1, 1, 1, 1, 1, 4, 6, 4, 1, 4, 6,\n",
       "       4, 3, 1, 7, 1, 1, 2, 2, 1, 1, 4, 1, 6, 1, 6, 2, 5, 1, 6, 7, 5, 1,\n",
       "       1, 4, 5, 1, 3, 1, 1, 1, 4, 1, 7, 6, 6, 1, 6, 5, 4, 6, 3, 1, 7, 7,\n",
       "       1, 1, 6, 6, 1, 3, 3, 1, 5, 1, 1, 3, 2, 1, 7, 6, 4, 1, 4, 5, 7, 1,\n",
       "       5, 2, 1, 1, 7, 1, 1, 1, 5, 5, 1, 7, 2, 6, 3, 1, 5, 1, 6, 5, 3, 3,\n",
       "       1, 1, 4, 2, 5, 5, 7, 5, 1, 1, 1, 3, 4, 6])"
      ]
     },
     "execution_count": 12,
     "metadata": {},
     "output_type": "execute_result"
    }
   ],
   "source": [
    "rfecv.ranking_"
   ]
  },
  {
   "cell_type": "code",
   "execution_count": 15,
   "id": "62e224f3",
   "metadata": {},
   "outputs": [
    {
     "data": {
      "text/plain": [
       "(300, 120)"
      ]
     },
     "execution_count": 15,
     "metadata": {},
     "output_type": "execute_result"
    }
   ],
   "source": [
    "len(rfecv.ranking_), len(rfecv.get_feature_names_out())"
   ]
  },
  {
   "cell_type": "code",
   "execution_count": 66,
   "id": "5358f33b",
   "metadata": {},
   "outputs": [
    {
     "data": {
      "text/plain": [
       "array([[ 0.88661908,  1.42146609,  1.10345691, ...,  0.03404206,\n",
       "         0.23978821,  2.41669025],\n",
       "       [-0.06950958,  1.007678  ,  0.28973477, ..., -0.57177621,\n",
       "         1.5297184 ,  0.65710649],\n",
       "       [ 1.18707986, -0.15726531,  2.39808412, ...,  0.47989883,\n",
       "         0.65131619, -0.48580281],\n",
       "       ...,\n",
       "       [ 0.5187474 ,  0.26190761, -3.56036828, ...,  1.24963992,\n",
       "         1.31375189,  1.5736302 ],\n",
       "       [-0.72134957, -0.18112951, -0.395346  , ..., -0.21437854,\n",
       "         0.59573587,  0.35230313],\n",
       "       [ 0.47388275,  0.43178594, -1.97444937, ...,  0.12952139,\n",
       "        -0.85605538, -0.07904277]])"
      ]
     },
     "execution_count": 66,
     "metadata": {},
     "output_type": "execute_result"
    }
   ],
   "source": [
    "X"
   ]
  },
  {
   "cell_type": "code",
   "execution_count": 24,
   "id": "177beec4",
   "metadata": {},
   "outputs": [],
   "source": [
    "from datetime import datetime, timedelta"
   ]
  },
  {
   "cell_type": "code",
   "execution_count": 25,
   "id": "d7500b35",
   "metadata": {},
   "outputs": [
    {
     "data": {
      "text/plain": [
       "datetime.datetime(2023, 5, 24, 11, 18, 2, 579201)"
      ]
     },
     "execution_count": 25,
     "metadata": {},
     "output_type": "execute_result"
    }
   ],
   "source": [
    "n = datetime.now()\n",
    "n"
   ]
  },
  {
   "cell_type": "code",
   "execution_count": 26,
   "id": "9b0b086d",
   "metadata": {},
   "outputs": [],
   "source": [
    "d = timedelta(hours=6)"
   ]
  },
  {
   "cell_type": "code",
   "execution_count": 27,
   "id": "29643a56",
   "metadata": {},
   "outputs": [
    {
     "data": {
      "text/plain": [
       "datetime.datetime(2023, 5, 24, 17, 18, 2, 579201)"
      ]
     },
     "execution_count": 27,
     "metadata": {},
     "output_type": "execute_result"
    }
   ],
   "source": [
    "n + d"
   ]
  },
  {
   "cell_type": "code",
   "execution_count": 28,
   "id": "a3c66c1f",
   "metadata": {},
   "outputs": [
    {
     "data": {
      "text/plain": [
       "False"
      ]
     },
     "execution_count": 28,
     "metadata": {},
     "output_type": "execute_result"
    }
   ],
   "source": [
    "n > n + d"
   ]
  },
  {
   "cell_type": "code",
   "execution_count": 30,
   "id": "c117d476",
   "metadata": {},
   "outputs": [
    {
     "data": {
      "text/plain": [
       "<catboost.core.CatBoostClassifier at 0x16976f670>"
      ]
     },
     "execution_count": 30,
     "metadata": {},
     "output_type": "execute_result"
    }
   ],
   "source": [
    "params = {\"verbose\": 1}\n",
    "clf.set_params(**params)"
   ]
  },
  {
   "cell_type": "code",
   "execution_count": null,
   "id": "90330840",
   "metadata": {},
   "outputs": [],
   "source": []
  }
 ],
 "metadata": {
  "kernelspec": {
   "display_name": ".env",
   "language": "python",
   "name": ".env"
  },
  "language_info": {
   "codemirror_mode": {
    "name": "ipython",
    "version": 3
   },
   "file_extension": ".py",
   "mimetype": "text/x-python",
   "name": "python",
   "nbconvert_exporter": "python",
   "pygments_lexer": "ipython3",
   "version": "3.10.9"
  }
 },
 "nbformat": 4,
 "nbformat_minor": 5
}
