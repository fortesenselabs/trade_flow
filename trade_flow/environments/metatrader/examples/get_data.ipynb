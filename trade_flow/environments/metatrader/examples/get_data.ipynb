{
  "cells": [
    {
      "cell_type": "markdown",
      "metadata": {},
      "source": [
        "## Start MetaTrader 5 Docker Terminal"
      ]
    },
    {
      "cell_type": "code",
      "execution_count": null,
      "metadata": {},
      "outputs": [
        {
          "name": "stderr",
          "output_type": "stream",
          "text": [
            "/home/fortesenselabs/Tech/labs/Financial_Eng/Financial_Markets/lab/trade_flow/trade_flow/feed/__init__.py:19: UserWarning: Could not infer format, so each element will be parsed individually, falling back to `dateutil`. To ensure parsing is consistent and as-expected, please specify a format.\n",
            "  df = pd.read_csv(path, parse_dates=True, index_col=index_name)\n"
          ]
        }
      ],
      "source": [
        "import logging\n",
        "import time\n",
        "from typing import Optional\n",
        "from trade_flow.common.logging import Logger\n",
        "from packages.mt5any import (\n",
        "    DockerizedMT5TerminalConfig,\n",
        "    DockerizedMT5Terminal,\n",
        ")\n",
        "from packages.mt5any import MetaTrader5\n",
        "\n",
        "\n",
        "class MT5Exception(Exception):\n",
        "    \"\"\"Base exception class for MT5 errors.\"\"\"\n",
        "\n",
        "    pass\n",
        "\n",
        "\n",
        "class MT5InitializationError(MT5Exception):\n",
        "    \"\"\"Raised when there is an error initializing MT5 Trader.\"\"\"\n",
        "\n",
        "    pass\n",
        "\n",
        "\n",
        "class MT5:\n",
        "    \"\"\"\n",
        "    A class to interface with MetaTrader 5 for trading operations using Dockerized MT5 Terminals.\n",
        "\n",
        "    Attributes:\n",
        "        mt5_account_number (str): The MetaTrader 5 account number.\n",
        "        mt5_password (str): The password for the MT5 account.\n",
        "        mt5_server (str): The MT5 server name.\n",
        "        logger (Logger): Logger instance for logging events.\n",
        "        mt5_terminal (DockerizedMT5Terminal): Dockerized MT5 Terminal instance.\n",
        "        mt5 (MetaTrader5): MetaTrader 5 client interface.\n",
        "        initial_balance (float): The initial account balance.\n",
        "    \"\"\"\n",
        "\n",
        "    def __init__(\n",
        "        self,\n",
        "        account_number: str,\n",
        "        password: str,\n",
        "        server: str,\n",
        "        logger: Optional[Logger] = None,\n",
        "    ) -> None:\n",
        "        \"\"\"\n",
        "        Initialize the MT5 class with account credentials and configurations.\n",
        "\n",
        "        Args:\n",
        "            account_number (str): MetaTrader 5 account number.\n",
        "            password (str): MetaTrader 5 account password.\n",
        "            server (str): MetaTrader 5 server.\n",
        "            logger (Optional[Logger]): Logger instance for logging.\n",
        "        \"\"\"\n",
        "        self.mt5_account_number = account_number\n",
        "        self.mt5_password = password\n",
        "        self.mt5_server = server\n",
        "\n",
        "        # Set up logging\n",
        "        self.logger = logger or Logger(name=\"tft_logger\", log_level=logging.DEBUG, filename=\"TFT_model_experiments.log\")\n",
        "\n",
        "        # Set up MetaTrader 5 terminal and configuration\n",
        "        self.mt5_config = DockerizedMT5TerminalConfig(\n",
        "            account_number=self.mt5_account_number,\n",
        "            password=self.mt5_password,\n",
        "            server=self.mt5_server,\n",
        "            read_only_api=True,\n",
        "        )\n",
        "\n",
        "        # Initialize Dockerized MT5 Terminal\n",
        "        self.mt5_terminal = DockerizedMT5Terminal(config=self.mt5_config)\n",
        "        self._initialize_terminal()\n",
        "\n",
        "        # Initialize MetaTrader 5\n",
        "        self.mt5 = MetaTrader5()\n",
        "        self._initialize_mt5()\n",
        "        self.logger.debug(f\"Terminal Info: {self.mt5.terminal_info()._asdict()}\")\n",
        "\n",
        "        # Get account information\n",
        "        self.account_info = self.mt5.account_info()._asdict()\n",
        "        self.logger.debug(f\"Account Info: {self.account_info}\")\n",
        "\n",
        "        self.initial_balance = self.account_info[\"balance\"]\n",
        "\n",
        "        # Log account info\n",
        "        self.logger.info(f\"Account Balance: {self.initial_balance}\")\n",
        "        self.logger.info(f\"Equity: {self.account_info['equity']}\")\n",
        "        self.logger.info(f\"Currency: {self.account_info['currency']}\")\n",
        "        self.logger.info(f\"Margin: {self.account_info['margin']}\")\n",
        "        self.logger.info(f\"Server: {self.account_info['server']}\")\n",
        "        self.logger.info(f\"Name: {self.account_info['name']}\")\n",
        "\n",
        "    def _initialize_terminal(self) -> None:\n",
        "        \"\"\"Initialize and safely start the Dockerized MT5 Terminal.\"\"\"\n",
        "        try:\n",
        "            self.mt5_terminal.safe_start()\n",
        "            time.sleep(5)\n",
        "\n",
        "            self.logger.info(f\"MetaTrader 5 Terminal started for account {self.mt5_account_number}\")\n",
        "        except Exception as e:\n",
        "            self.logger.error(f\"Error initializing Dockerized MT5 Terminal: {e}\")\n",
        "            raise MT5InitializationError(\"Failed to start Dockerized MT5 Terminal\")\n",
        "\n",
        "    def _initialize_mt5(self) -> None:\n",
        "        \"\"\"Initialize the MetaTrader 5 client.\"\"\"\n",
        "        try:\n",
        "            if not self.mt5.initialize():\n",
        "                raise RuntimeError(\"MetaTrader 5 initialization failed\")\n",
        "\n",
        "            # if not self.mt5.login(self.mt5_account_number, self.mt5_password, self.mt5_server):\n",
        "            #     raise RuntimeError(\"MetaTrader 5 login failed\")\n",
        "        except Exception as e:\n",
        "            self.logger.error(f\"Error initializing MetaTrader 5: {e}\")\n",
        "            raise MT5InitializationError(\"Failed to initialize MetaTrader 5\")\n"
      ]
    },
    {
      "cell_type": "code",
      "execution_count": null,
      "metadata": {},
      "outputs": [
        {
          "name": "stdout",
          "output_type": "stream",
          "text": [
            "[TradeFlow] 35308 - 2024-10-18, 09:04:48 AM  \u001b[32m [INFO] DockerizedMT5Terminal: Ensuring terminal is running\u001b[0m\n",
            "[TradeFlow] 35308 - 2024-10-18, 09:04:48 AM  \u001b[32m [INFO] DockerizedMT5Terminal: status=<ContainerStatus.READY: 6>, using existing container\u001b[0m\n",
            "[TradeFlow] 35308 - 2024-10-18, 09:04:53 AM  \u001b[32m [INFO] tft_logger: MetaTrader 5 Terminal started for account 30565290\u001b[0m\n",
            "[TradeFlow] 35308 - 2024-10-18, 09:04:53 AM  \u001b[36m [DEBUG] tft_logger: Terminal Info: {'community_account': False, 'community_connection': False, 'connected': True, 'dlls_allowed': False, 'trade_allowed': True, 'tradeapi_disabled': False, 'email_enabled': False, 'ftp_enabled': False, 'notifications_enabled': False, 'mqid': True, 'build': 4490, 'maxbars': 100000, 'codepage': 0, 'ping_last': 131835, 'community_balance': 0.0, 'retransmission': 0.0018427405237068566, 'company': 'MetaQuotes Ltd.', 'name': 'MetaTrader 5', 'language': 'English', 'path': 'C:\\\\Program Files\\\\MetaTrader 5', 'data_path': 'C:\\\\Program Files\\\\MetaTrader 5', 'commondata_path': 'C:\\\\users\\\\root\\\\AppData\\\\Roaming\\\\MetaQuotes\\\\Terminal\\\\Common'}\u001b[0m\n",
            "[TradeFlow] 35308 - 2024-10-18, 09:04:53 AM  \u001b[36m [DEBUG] tft_logger: Account Info: {'login': 30565290, 'trade_mode': 0, 'leverage': 500, 'limit_orders': 50, 'margin_so_mode': 0, 'trade_allowed': True, 'trade_expert': True, 'margin_mode': 2, 'currency_digits': 2, 'fifo_close': False, 'balance': 23709.97, 'credit': 0.0, 'profit': 0.0, 'equity': 23709.97, 'margin': 0.0, 'margin_free': 23709.97, 'margin_level': 0.0, 'margin_so_call': 100.0, 'margin_so_so': 50.0, 'margin_initial': 0.0, 'margin_maintenance': 0.0, 'assets': 0.0, 'liabilities': 0.0, 'commission_blocked': 0.0, 'name': 'Samuel Ojietohamen', 'server': 'Deriv-Demo', 'currency': 'USD', 'company': 'Deriv.com Limited'}\u001b[0m\n",
            "[TradeFlow] 35308 - 2024-10-18, 09:04:53 AM  \u001b[32m [INFO] tft_logger: Account Balance: 23709.97\u001b[0m\n",
            "[TradeFlow] 35308 - 2024-10-18, 09:04:53 AM  \u001b[32m [INFO] tft_logger: Equity: 23709.97\u001b[0m\n",
            "[TradeFlow] 35308 - 2024-10-18, 09:04:53 AM  \u001b[32m [INFO] tft_logger: Currency: USD\u001b[0m\n",
            "[TradeFlow] 35308 - 2024-10-18, 09:04:53 AM  \u001b[32m [INFO] tft_logger: Margin: 0.0\u001b[0m\n",
            "[TradeFlow] 35308 - 2024-10-18, 09:04:53 AM  \u001b[32m [INFO] tft_logger: Server: Deriv-Demo\u001b[0m\n",
            "[TradeFlow] 35308 - 2024-10-18, 09:04:53 AM  \u001b[32m [INFO] tft_logger: Name: Samuel Ojietohamen\u001b[0m\n"
          ]
        }
      ],
      "source": [
        "import os \n",
        "from dotenv import load_dotenv\n",
        "\n",
        "load_dotenv()\n",
        "\n",
        "mt5_venue = MT5(\n",
        "    account_number=os.getenv(\"MT5_ACCOUNT_NUMBER\"),\n",
        "    password=os.getenv(\"MT5_PASSWORD\"),\n",
        "    server=os.getenv(\"MT5_SERVER\"),\n",
        ")\n"
      ]
    },
    {
      "cell_type": "code",
      "execution_count": null,
      "metadata": {},
      "outputs": [
        {
          "data": {
            "text/plain": [
              "<__main__.MT5 at 0x7f3769062510>"
            ]
          },
          "metadata": {},
          "output_type": "display_data"
        }
      ],
      "source": [
        "mt5_venue"
      ]
    },
    {
      "cell_type": "markdown",
      "metadata": {},
      "source": [
        "## Imports"
      ]
    },
    {
      "cell_type": "code",
      "execution_count": null,
      "metadata": {},
      "outputs": [
        {
          "name": "stderr",
          "output_type": "stream",
          "text": [
            "/home/fortesenselabs/Tech/labs/Financial_Eng/Financial_Markets/lab/trade_flow/trade_flow/feed/__init__.py:19: UserWarning: Could not infer format, so each element will be parsed individually, falling back to `dateutil`. To ensure parsing is consistent and as-expected, please specify a format.\n",
            "  df = pd.read_csv(path, parse_dates=True, index_col=index_name)\n"
          ]
        }
      ],
      "source": [
        "from typing import List, Tuple\n",
        "from datetime import datetime\n",
        "from trade_flow.environments import metatrader\n",
        "from trade_flow.environments.metatrader import Timeframe, FOREX_DATA_PATH, STOCKS_DATA_PATH, CRYPTO_DATA_PATH, MIXED_DATA_PATH"
      ]
    },
    {
      "cell_type": "code",
      "execution_count": 2,
      "metadata": {},
      "outputs": [],
      "source": [
        "def get_data(symbols: List[str] = [\"EURUSD\", \"GBPCAD\", \"USDJPY\"], \n",
        "             time_range: Tuple[datetime, datetime] = (datetime(2011, 1, 1), datetime(2012, 12, 31)),\n",
        "             timeframe: Timeframe = Timeframe.D1, \n",
        "             filename: str = FOREX_DATA_PATH):\n",
        "    \n",
        "    mt_sim = metatrader.Simulator()\n",
        "    mt_sim.download_data(symbols, time_range, timeframe)\n",
        "    mt_sim.save_symbols(filename)\n"
      ]
    },
    {
      "cell_type": "code",
      "execution_count": 3,
      "metadata": {},
      "outputs": [],
      "source": [
        "# Define the time range for the data download\n",
        "start_date = datetime(2016, 1, 1)\n",
        "end_date = datetime(2020, 12, 31)\n",
        "time_range = (start_date, end_date)"
      ]
    },
    {
      "cell_type": "code",
      "execution_count": 4,
      "metadata": {},
      "outputs": [],
      "source": [
        "# forex\n",
        "get_data([\"EURUSD\", \"GBPCAD\", \"USDJPY\"], time_range, Timeframe.D1, FOREX_DATA_PATH)"
      ]
    },
    {
      "cell_type": "code",
      "execution_count": 5,
      "metadata": {},
      "outputs": [],
      "source": [
        "# stocks\n",
        "get_data([\"GOOG\", \"AAPL\", \"TSLA\", \"MSFT\"], time_range, Timeframe.D1, STOCKS_DATA_PATH)"
      ]
    },
    {
      "cell_type": "code",
      "execution_count": 6,
      "metadata": {},
      "outputs": [],
      "source": [
        "# crypto\n",
        "get_data([\"BTCUSD\", \"ETHUSD\", \"BCHUSD\"], time_range, Timeframe.D1, CRYPTO_DATA_PATH)"
      ]
    },
    {
      "cell_type": "code",
      "execution_count": 7,
      "metadata": {},
      "outputs": [],
      "source": [
        "# mixed \n",
        "get_data([\"EURUSD\", \"USDCAD\", \"GOOG\", \"AAPL\", \"BTCUSD\", \"ETHUSD\"], time_range, Timeframe.D1, MIXED_DATA_PATH)"
      ]
    }
  ],
  "metadata": {
    "accelerator": "GPU",
    "colab": {
      "collapsed_sections": [],
      "name": "p3.ipynb",
      "provenance": []
    },
    "kernelspec": {
      "display_name": "algo_trading",
      "language": "python",
      "name": "python3"
    },
    "language_info": {
      "codemirror_mode": {
        "name": "ipython",
        "version": 3
      },
      "file_extension": ".py",
      "mimetype": "text/x-python",
      "name": "python",
      "nbconvert_exporter": "python",
      "pygments_lexer": "ipython3",
      "version": "3.11.10"
    }
  },
  "nbformat": 4,
  "nbformat_minor": 0
}
