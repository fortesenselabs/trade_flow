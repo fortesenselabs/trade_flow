{
  "cells": [
    {
      "cell_type": "markdown",
      "metadata": {},
      "source": [
        "### Imports"
      ]
    },
    {
      "cell_type": "code",
      "execution_count": 1,
      "metadata": {
        "tags": []
      },
      "outputs": [
        {
          "name": "stderr",
          "output_type": "stream",
          "text": [
            "/home/fortesenselabs/Tech/labs/Financial_Eng/Financial_Markets/lab/trade_flow/trade_flow/feed/__init__.py:19: UserWarning: Could not infer format, so each element will be parsed individually, falling back to `dateutil`. To ensure parsing is consistent and as-expected, please specify a format.\n",
            "  df = pd.read_csv(path, parse_dates=True, index_col=index_name)\n"
          ]
        }
      ],
      "source": [
        "from typing import List, Tuple\n",
        "from datetime import datetime\n",
        "from trade_flow.environments import metatrader\n",
        "from trade_flow.environments.metatrader import Timeframe, FOREX_DATA_PATH, STOCKS_DATA_PATH, CRYPTO_DATA_PATH, MIXED_DATA_PATH"
      ]
    },
    {
      "cell_type": "code",
      "execution_count": 2,
      "metadata": {},
      "outputs": [],
      "source": [
        "def get_data(symbols: List[str] = [\"EURUSD\", \"GBPCAD\", \"USDJPY\"], \n",
        "             time_range: Tuple[datetime, datetime] = (datetime(2011, 1, 1), datetime(2012, 12, 31)),\n",
        "             timeframe: Timeframe = Timeframe.D1, \n",
        "             filename: str = FOREX_DATA_PATH):\n",
        "    \n",
        "    mt_sim = metatrader.Simulator()\n",
        "    mt_sim.download_data(symbols, time_range, timeframe)\n",
        "    mt_sim.save_symbols(filename)\n"
      ]
    },
    {
      "cell_type": "code",
      "execution_count": 3,
      "metadata": {},
      "outputs": [],
      "source": [
        "# Define the time range for the data download\n",
        "start_date = datetime(2016, 1, 1)\n",
        "end_date = datetime(2020, 12, 31)\n",
        "time_range = (start_date, end_date)"
      ]
    },
    {
      "cell_type": "code",
      "execution_count": 4,
      "metadata": {},
      "outputs": [],
      "source": [
        "# forex\n",
        "get_data([\"EURUSD\", \"GBPCAD\", \"USDJPY\"], time_range, Timeframe.D1, FOREX_DATA_PATH)"
      ]
    },
    {
      "cell_type": "code",
      "execution_count": 5,
      "metadata": {},
      "outputs": [],
      "source": [
        "# stocks\n",
        "get_data([\"GOOG\", \"AAPL\", \"TSLA\", \"MSFT\"], time_range, Timeframe.D1, STOCKS_DATA_PATH)"
      ]
    },
    {
      "cell_type": "code",
      "execution_count": 6,
      "metadata": {},
      "outputs": [],
      "source": [
        "# crypto\n",
        "get_data([\"BTCUSD\", \"ETHUSD\", \"BCHUSD\"], time_range, Timeframe.D1, CRYPTO_DATA_PATH)"
      ]
    },
    {
      "cell_type": "code",
      "execution_count": 7,
      "metadata": {},
      "outputs": [],
      "source": [
        "# mixed \n",
        "get_data([\"EURUSD\", \"USDCAD\", \"GOOG\", \"AAPL\", \"BTCUSD\", \"ETHUSD\"], time_range, Timeframe.D1, MIXED_DATA_PATH)"
      ]
    }
  ],
  "metadata": {
    "accelerator": "GPU",
    "colab": {
      "collapsed_sections": [],
      "name": "p3.ipynb",
      "provenance": []
    },
    "kernelspec": {
      "display_name": "algo_trading",
      "language": "python",
      "name": "python3"
    },
    "language_info": {
      "codemirror_mode": {
        "name": "ipython",
        "version": 3
      },
      "file_extension": ".py",
      "mimetype": "text/x-python",
      "name": "python",
      "nbconvert_exporter": "python",
      "pygments_lexer": "ipython3",
      "version": "3.11.10"
    }
  },
  "nbformat": 4,
  "nbformat_minor": 0
}
